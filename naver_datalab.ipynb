{
 "cells": [
  {
   "cell_type": "code",
   "execution_count": 2,
   "metadata": {},
   "outputs": [
    {
     "name": "stdout",
     "output_type": "stream",
     "text": [
      "{\"startDate\":\"2016-01-01\",\"endDate\":\"2020-09-30\",\"timeUnit\":\"month\",\"results\":[{\"title\":\"경제\",\"keywords\":[\"경제\"],\"data\":[{\"period\":\"2016-01-01\",\"ratio\":35.97307},{\"period\":\"2016-02-01\",\"ratio\":32.22267},{\"period\":\"2016-03-01\",\"ratio\":41.7722},{\"period\":\"2016-04-01\",\"ratio\":35.81074},{\"period\":\"2016-05-01\",\"ratio\":38.99718},{\"period\":\"2016-06-01\",\"ratio\":39.79344},{\"period\":\"2016-07-01\",\"ratio\":29.43925},{\"period\":\"2016-08-01\",\"ratio\":29.45465},{\"period\":\"2016-09-01\",\"ratio\":31.11294},{\"period\":\"2016-10-01\",\"ratio\":34.91652},{\"period\":\"2016-11-01\",\"ratio\":37.87626},{\"period\":\"2016-12-01\",\"ratio\":33.00214},{\"period\":\"2017-01-01\",\"ratio\":28.66538},{\"period\":\"2017-02-01\",\"ratio\":24.89539},{\"period\":\"2017-03-01\",\"ratio\":38.44022},{\"period\":\"2017-04-01\",\"ratio\":31.02198},{\"period\":\"2017-05-01\",\"ratio\":37.16396},{\"period\":\"2017-06-01\",\"ratio\":34.34556},{\"period\":\"2017-07-01\",\"ratio\":27.78936},{\"period\":\"2017-08-01\",\"ratio\":30.0368},{\"period\":\"2017-09-01\",\"ratio\":35.97307},{\"period\":\"2017-10-01\",\"ratio\":34.61145},{\"period\":\"2017-11-01\",\"ratio\":36.04444},{\"period\":\"2017-12-01\",\"ratio\":30.92822},{\"period\":\"2018-01-01\",\"ratio\":28.12241},{\"period\":\"2018-02-01\",\"ratio\":25.47474},{\"period\":\"2018-03-01\",\"ratio\":39.8872},{\"period\":\"2018-04-01\",\"ratio\":37.62857},{\"period\":\"2018-05-01\",\"ratio\":43.82652},{\"period\":\"2018-06-01\",\"ratio\":51.6282},{\"period\":\"2018-07-01\",\"ratio\":48.90216},{\"period\":\"2018-08-01\",\"ratio\":47.81483},{\"period\":\"2018-09-01\",\"ratio\":45.26791},{\"period\":\"2018-10-01\",\"ratio\":63.6113},{\"period\":\"2018-11-01\",\"ratio\":55.36321},{\"period\":\"2018-12-01\",\"ratio\":48.22765},{\"period\":\"2019-01-01\",\"ratio\":46.02499},{\"period\":\"2019-02-01\",\"ratio\":34.30918},{\"period\":\"2019-03-01\",\"ratio\":51.84651},{\"period\":\"2019-04-01\",\"ratio\":58.09205},{\"period\":\"2019-05-01\",\"ratio\":58.69379},{\"period\":\"2019-06-01\",\"ratio\":49.72221},{\"period\":\"2019-07-01\",\"ratio\":51.57922},{\"period\":\"2019-08-01\",\"ratio\":70.50756},{\"period\":\"2019-09-01\",\"ratio\":46.34825},{\"period\":\"2019-10-01\",\"ratio\":47.1627},{\"period\":\"2019-11-01\",\"ratio\":40.51134},{\"period\":\"2019-12-01\",\"ratio\":34.86054},{\"period\":\"2020-01-01\",\"ratio\":33.28901},{\"period\":\"2020-02-01\",\"ratio\":42.33336},{\"period\":\"2020-03-01\",\"ratio\":100},{\"period\":\"2020-04-01\",\"ratio\":72.11827},{\"period\":\"2020-05-01\",\"ratio\":51.8745},{\"period\":\"2020-06-01\",\"ratio\":55.75504},{\"period\":\"2020-07-01\",\"ratio\":48.52152},{\"period\":\"2020-08-01\",\"ratio\":47.24947},{\"period\":\"2020-09-01\",\"ratio\":51.65339}]}]}\n"
     ]
    }
   ],
   "source": [
    "import os\n",
    "import sys\n",
    "import urllib.request\n",
    "\n",
    "client_id = \"YOUR_CLIENT_ID\"\n",
    "client_secret = \"YOUR_CLIENT_SECRET\"\n",
    "\n",
    "url = \"https://openapi.naver.com/v1/datalab/search\";\n",
    "body = \"{\\\"startDate\\\":\\\"2016-01-01\\\",\\\"endDate\\\":\\\"2020-09-30\\\",\\\"timeUnit\\\":\\\"month\\\",\\\"keywordGroups\\\":[{\\\"groupName\\\":\\\"경제\\\",\\\"keywords\\\":[\\\"경제\\\"]}]}\";\n",
    "\n",
    "request = urllib.request.Request(url)\n",
    "request.add_header(\"X-Naver-Client-Id\",client_id)\n",
    "request.add_header(\"X-Naver-Client-Secret\",client_secret)\n",
    "request.add_header(\"Content-Type\",\"application/json\")\n",
    "response = urllib.request.urlopen(request, data=body.encode(\"utf-8\"))\n",
    "rescode = response.getcode()\n",
    "if(rescode==200):\n",
    "    response_body = response.read()\n",
    "    scrapped = response_body.decode('utf-8')\n",
    "else:\n",
    "    print(\"Error Code:\" + rescode)"
   ]
  },
  {
   "cell_type": "code",
   "execution_count": 21,
   "metadata": {
    "scrolled": true
   },
   "outputs": [
    {
     "name": "stdout",
     "output_type": "stream",
     "text": [
      "[{'period': '2016-01-01', 'ratio': 35.97307}, {'period': '2016-02-01', 'ratio': 32.22267}, {'period': '2016-03-01', 'ratio': 41.7722}, {'period': '2016-04-01', 'ratio': 35.81074}, {'period': '2016-05-01', 'ratio': 38.99718}, {'period': '2016-06-01', 'ratio': 39.79344}, {'period': '2016-07-01', 'ratio': 29.43925}, {'period': '2016-08-01', 'ratio': 29.45465}, {'period': '2016-09-01', 'ratio': 31.11294}, {'period': '2016-10-01', 'ratio': 34.91652}, {'period': '2016-11-01', 'ratio': 37.87626}, {'period': '2016-12-01', 'ratio': 33.00214}, {'period': '2017-01-01', 'ratio': 28.66538}, {'period': '2017-02-01', 'ratio': 24.89539}, {'period': '2017-03-01', 'ratio': 38.44022}, {'period': '2017-04-01', 'ratio': 31.02198}, {'period': '2017-05-01', 'ratio': 37.16396}, {'period': '2017-06-01', 'ratio': 34.34556}, {'period': '2017-07-01', 'ratio': 27.78936}, {'period': '2017-08-01', 'ratio': 30.0368}, {'period': '2017-09-01', 'ratio': 35.97307}, {'period': '2017-10-01', 'ratio': 34.61145}, {'period': '2017-11-01', 'ratio': 36.04444}, {'period': '2017-12-01', 'ratio': 30.92822}, {'period': '2018-01-01', 'ratio': 28.12241}, {'period': '2018-02-01', 'ratio': 25.47474}, {'period': '2018-03-01', 'ratio': 39.8872}, {'period': '2018-04-01', 'ratio': 37.62857}, {'period': '2018-05-01', 'ratio': 43.82652}, {'period': '2018-06-01', 'ratio': 51.6282}, {'period': '2018-07-01', 'ratio': 48.90216}, {'period': '2018-08-01', 'ratio': 47.81483}, {'period': '2018-09-01', 'ratio': 45.26791}, {'period': '2018-10-01', 'ratio': 63.6113}, {'period': '2018-11-01', 'ratio': 55.36321}, {'period': '2018-12-01', 'ratio': 48.22765}, {'period': '2019-01-01', 'ratio': 46.02499}, {'period': '2019-02-01', 'ratio': 34.30918}, {'period': '2019-03-01', 'ratio': 51.84651}, {'period': '2019-04-01', 'ratio': 58.09205}, {'period': '2019-05-01', 'ratio': 58.69379}, {'period': '2019-06-01', 'ratio': 49.72221}, {'period': '2019-07-01', 'ratio': 51.57922}, {'period': '2019-08-01', 'ratio': 70.50756}, {'period': '2019-09-01', 'ratio': 46.34825}, {'period': '2019-10-01', 'ratio': 47.1627}, {'period': '2019-11-01', 'ratio': 40.51134}, {'period': '2019-12-01', 'ratio': 34.86054}, {'period': '2020-01-01', 'ratio': 33.28901}, {'period': '2020-02-01', 'ratio': 42.33336}, {'period': '2020-03-01', 'ratio': 100}, {'period': '2020-04-01', 'ratio': 72.11827}, {'period': '2020-05-01', 'ratio': 51.8745}, {'period': '2020-06-01', 'ratio': 55.75504}, {'period': '2020-07-01', 'ratio': 48.52152}, {'period': '2020-08-01', 'ratio': 47.24947}, {'period': '2020-09-01', 'ratio': 51.65339}]\n"
     ]
    }
   ],
   "source": [
    "import json\n",
    "jsonResult = json.loads(scrapped)\n",
    "print(jsonResult['results'][0]['data'])"
   ]
  }
 ],
 "metadata": {
  "kernelspec": {
   "display_name": "Python 3",
   "language": "python",
   "name": "python3"
  },
  "language_info": {
   "codemirror_mode": {
    "name": "ipython",
    "version": 3
   },
   "file_extension": ".py",
   "mimetype": "text/x-python",
   "name": "python",
   "nbconvert_exporter": "python",
   "pygments_lexer": "ipython3",
   "version": "3.8.3"
  }
 },
 "nbformat": 4,
 "nbformat_minor": 4
}
