{
 "metadata": {
  "language_info": {
   "codemirror_mode": {
    "name": "ipython",
    "version": 3
   },
   "file_extension": ".py",
   "mimetype": "text/x-python",
   "name": "python",
   "nbconvert_exporter": "python",
   "pygments_lexer": "ipython3",
   "version": "3.8.3-final"
  },
  "orig_nbformat": 2,
  "kernelspec": {
   "name": "python3",
   "display_name": "Python 3"
  }
 },
 "nbformat": 4,
 "nbformat_minor": 2,
 "cells": [
  {
   "cell_type": "code",
   "execution_count": 68,
   "metadata": {},
   "outputs": [],
   "source": [
    "import pandas as pd\n",
    "from sklearn.model_selection import train_test_split\n",
    "import pymysql\n",
    "import numpy as np\n",
    "from sklearn.linear_model import LinearRegression\n",
    "import matplotlib.pyplot as plt"
   ]
  },
  {
   "source": [
    "## data load"
   ],
   "cell_type": "markdown",
   "metadata": {}
  },
  {
   "source": [
    "### DB 연동"
   ],
   "cell_type": "markdown",
   "metadata": {}
  },
  {
   "cell_type": "code",
   "execution_count": 2,
   "metadata": {},
   "outputs": [
    {
     "output_type": "stream",
     "name": "stdout",
     "text": [
      "[{'Database': 'information_schema'}, {'Database': 'CLI'}, {'Database': 'MusicBank'}, {'Database': 'mysql'}, {'Database': 'mytestdb'}, {'Database': 'performance_schema'}, {'Database': 'sys'}]\n"
     ]
    },
    {
     "output_type": "execute_result",
     "data": {
      "text/plain": [
       "0"
      ]
     },
     "metadata": {},
     "execution_count": 2
    }
   ],
   "source": [
    "conn = pymysql.connect(host = \"127.0.0.1\", user = [USER], passwd = [PASSWORD], db = [DATABASE], cursorclass = pymysql.cursors.DictCursor)\n",
    "cur = conn.cursor()\n",
    "\n",
    "cur.execute(\"show databases\")\n",
    "print(cur.fetchall())\n",
    "cur.execute(\"use [DATABASE]\")"
   ]
  },
  {
   "source": [
    "### table date loading"
   ],
   "cell_type": "markdown",
   "metadata": {}
  },
  {
   "cell_type": "code",
   "execution_count": 3,
   "metadata": {},
   "outputs": [
    {
     "output_type": "execute_result",
     "data": {
      "text/plain": [
       "     year  month  day  keyword1  keyword2  keyword3  keyword4  keyword5\n",
       "0    2015      9    7       737       399       273       236       135\n",
       "1    2015      9   14       701       513       274       147       226\n",
       "2    2015      9   21       575       267       231       216       111\n",
       "3    2015      9   28       480       248       173       129        79\n",
       "4    2015     10    5       576       262       204        87       109\n",
       "..    ...    ...  ...       ...       ...       ...       ...       ...\n",
       "264  2020      9   28       489        90       114        95        78\n",
       "265  2020     10    5       816       183       177       109        78\n",
       "266  2020     10   12       857       199       176       112        91\n",
       "267  2020     10   19       911       155       143        95       129\n",
       "268  2020     10   26       991       198       178       187       114\n",
       "\n",
       "[269 rows x 8 columns]"
      ],
      "text/html": "<div>\n<style scoped>\n    .dataframe tbody tr th:only-of-type {\n        vertical-align: middle;\n    }\n\n    .dataframe tbody tr th {\n        vertical-align: top;\n    }\n\n    .dataframe thead th {\n        text-align: right;\n    }\n</style>\n<table border=\"1\" class=\"dataframe\">\n  <thead>\n    <tr style=\"text-align: right;\">\n      <th></th>\n      <th>year</th>\n      <th>month</th>\n      <th>day</th>\n      <th>keyword1</th>\n      <th>keyword2</th>\n      <th>keyword3</th>\n      <th>keyword4</th>\n      <th>keyword5</th>\n    </tr>\n  </thead>\n  <tbody>\n    <tr>\n      <th>0</th>\n      <td>2015</td>\n      <td>9</td>\n      <td>7</td>\n      <td>737</td>\n      <td>399</td>\n      <td>273</td>\n      <td>236</td>\n      <td>135</td>\n    </tr>\n    <tr>\n      <th>1</th>\n      <td>2015</td>\n      <td>9</td>\n      <td>14</td>\n      <td>701</td>\n      <td>513</td>\n      <td>274</td>\n      <td>147</td>\n      <td>226</td>\n    </tr>\n    <tr>\n      <th>2</th>\n      <td>2015</td>\n      <td>9</td>\n      <td>21</td>\n      <td>575</td>\n      <td>267</td>\n      <td>231</td>\n      <td>216</td>\n      <td>111</td>\n    </tr>\n    <tr>\n      <th>3</th>\n      <td>2015</td>\n      <td>9</td>\n      <td>28</td>\n      <td>480</td>\n      <td>248</td>\n      <td>173</td>\n      <td>129</td>\n      <td>79</td>\n    </tr>\n    <tr>\n      <th>4</th>\n      <td>2015</td>\n      <td>10</td>\n      <td>5</td>\n      <td>576</td>\n      <td>262</td>\n      <td>204</td>\n      <td>87</td>\n      <td>109</td>\n    </tr>\n    <tr>\n      <th>...</th>\n      <td>...</td>\n      <td>...</td>\n      <td>...</td>\n      <td>...</td>\n      <td>...</td>\n      <td>...</td>\n      <td>...</td>\n      <td>...</td>\n    </tr>\n    <tr>\n      <th>264</th>\n      <td>2020</td>\n      <td>9</td>\n      <td>28</td>\n      <td>489</td>\n      <td>90</td>\n      <td>114</td>\n      <td>95</td>\n      <td>78</td>\n    </tr>\n    <tr>\n      <th>265</th>\n      <td>2020</td>\n      <td>10</td>\n      <td>5</td>\n      <td>816</td>\n      <td>183</td>\n      <td>177</td>\n      <td>109</td>\n      <td>78</td>\n    </tr>\n    <tr>\n      <th>266</th>\n      <td>2020</td>\n      <td>10</td>\n      <td>12</td>\n      <td>857</td>\n      <td>199</td>\n      <td>176</td>\n      <td>112</td>\n      <td>91</td>\n    </tr>\n    <tr>\n      <th>267</th>\n      <td>2020</td>\n      <td>10</td>\n      <td>19</td>\n      <td>911</td>\n      <td>155</td>\n      <td>143</td>\n      <td>95</td>\n      <td>129</td>\n    </tr>\n    <tr>\n      <th>268</th>\n      <td>2020</td>\n      <td>10</td>\n      <td>26</td>\n      <td>991</td>\n      <td>198</td>\n      <td>178</td>\n      <td>187</td>\n      <td>114</td>\n    </tr>\n  </tbody>\n</table>\n<p>269 rows × 8 columns</p>\n</div>"
     },
     "metadata": {},
     "execution_count": 3
    }
   ],
   "source": [
    "query = \"\"\" \n",
    "select * from news_counting ;\n",
    "\"\"\"\n",
    "cur.execute(query)\n",
    "news_df = pd.DataFrame(list(cur.fetchall())).drop(['id'], axis=1)\n",
    "news_df"
   ]
  },
  {
   "cell_type": "code",
   "execution_count": 4,
   "metadata": {},
   "outputs": [
    {
     "output_type": "execute_result",
     "data": {
      "text/plain": [
       "     year  month  day  google     naver\n",
       "17   2016      1    4    53.0  26.05846\n",
       "18   2016      1   11    58.0  25.16599\n",
       "19   2016      1   18    74.0  27.38639\n",
       "20   2016      1   25    59.0  24.72622\n",
       "21   2016      2    1    63.0  23.01888\n",
       "..    ...    ...  ...     ...       ...\n",
       "264  2020      9   28    63.0  25.29102\n",
       "265  2020     10    5    81.0  28.63240\n",
       "266  2020     10   12    82.0  26.85177\n",
       "267  2020     10   19    93.0  27.25273\n",
       "268  2020     10   26    90.0  30.24489\n",
       "\n",
       "[252 rows x 5 columns]"
      ],
      "text/html": "<div>\n<style scoped>\n    .dataframe tbody tr th:only-of-type {\n        vertical-align: middle;\n    }\n\n    .dataframe tbody tr th {\n        vertical-align: top;\n    }\n\n    .dataframe thead th {\n        text-align: right;\n    }\n</style>\n<table border=\"1\" class=\"dataframe\">\n  <thead>\n    <tr style=\"text-align: right;\">\n      <th></th>\n      <th>year</th>\n      <th>month</th>\n      <th>day</th>\n      <th>google</th>\n      <th>naver</th>\n    </tr>\n  </thead>\n  <tbody>\n    <tr>\n      <th>17</th>\n      <td>2016</td>\n      <td>1</td>\n      <td>4</td>\n      <td>53.0</td>\n      <td>26.05846</td>\n    </tr>\n    <tr>\n      <th>18</th>\n      <td>2016</td>\n      <td>1</td>\n      <td>11</td>\n      <td>58.0</td>\n      <td>25.16599</td>\n    </tr>\n    <tr>\n      <th>19</th>\n      <td>2016</td>\n      <td>1</td>\n      <td>18</td>\n      <td>74.0</td>\n      <td>27.38639</td>\n    </tr>\n    <tr>\n      <th>20</th>\n      <td>2016</td>\n      <td>1</td>\n      <td>25</td>\n      <td>59.0</td>\n      <td>24.72622</td>\n    </tr>\n    <tr>\n      <th>21</th>\n      <td>2016</td>\n      <td>2</td>\n      <td>1</td>\n      <td>63.0</td>\n      <td>23.01888</td>\n    </tr>\n    <tr>\n      <th>...</th>\n      <td>...</td>\n      <td>...</td>\n      <td>...</td>\n      <td>...</td>\n      <td>...</td>\n    </tr>\n    <tr>\n      <th>264</th>\n      <td>2020</td>\n      <td>9</td>\n      <td>28</td>\n      <td>63.0</td>\n      <td>25.29102</td>\n    </tr>\n    <tr>\n      <th>265</th>\n      <td>2020</td>\n      <td>10</td>\n      <td>5</td>\n      <td>81.0</td>\n      <td>28.63240</td>\n    </tr>\n    <tr>\n      <th>266</th>\n      <td>2020</td>\n      <td>10</td>\n      <td>12</td>\n      <td>82.0</td>\n      <td>26.85177</td>\n    </tr>\n    <tr>\n      <th>267</th>\n      <td>2020</td>\n      <td>10</td>\n      <td>19</td>\n      <td>93.0</td>\n      <td>27.25273</td>\n    </tr>\n    <tr>\n      <th>268</th>\n      <td>2020</td>\n      <td>10</td>\n      <td>26</td>\n      <td>90.0</td>\n      <td>30.24489</td>\n    </tr>\n  </tbody>\n</table>\n<p>252 rows × 5 columns</p>\n</div>"
     },
     "metadata": {},
     "execution_count": 4
    }
   ],
   "source": [
    "query = \"\"\" \n",
    "select * from portal_trends_ratio ;\n",
    "\"\"\"\n",
    "cur.execute(query)\n",
    "portal_df = pd.DataFrame(list(cur.fetchall()))\n",
    "portal_df = portal_df[['year', 'month', 'day', 'google', 'naver']][17:]\n",
    "\n",
    "# 카카오변수 제외, 구글/네이버를 활용하기위해 네이버변수가 값을 갖는 2016년 1월부터 데이터 사용\n",
    "portal_df\n"
   ]
  },
  {
   "cell_type": "code",
   "execution_count": null,
   "metadata": {},
   "outputs": [],
   "source": [
    "## response y: CCSI(소비자심리지수)\n",
    "query = \"\"\" \n",
    "select * from ccsi ;\n",
    "\"\"\"\n",
    "cur.execute(query)\n",
    "conn.close()\n",
    "cur.close()\n",
    "ccsi = pd.DataFrame(list(cur.fetchall()))[4:].reset_index(drop = True)\n",
    "# X와 기간을 맞춤\n",
    "ccsi "
   ]
  },
  {
   "source": [
    "## X, y dataframe\n",
    "response: CCSI, predictors: keyword1~5, google, naver"
   ],
   "cell_type": "markdown",
   "metadata": {}
  },
  {
   "cell_type": "code",
   "execution_count": 50,
   "metadata": {},
   "outputs": [
    {
     "output_type": "execute_result",
     "data": {
      "text/plain": [
       "     year  month  day  keyword1  keyword2  keyword3  keyword4  keyword5  \\\n",
       "0    2016      1    4       825       419       437       986       168   \n",
       "1    2016      1   11       770       348       351       626       182   \n",
       "2    2016      1   18       918       422       441       445       147   \n",
       "3    2016      1   25      1067       425       567       383       148   \n",
       "4    2016      2    1       899       341       485       289       110   \n",
       "..    ...    ...  ...       ...       ...       ...       ...       ...   \n",
       "247  2020      9   28       489        90       114        95        78   \n",
       "248  2020     10    5       816       183       177       109        78   \n",
       "249  2020     10   12       857       199       176       112        91   \n",
       "250  2020     10   19       911       155       143        95       129   \n",
       "251  2020     10   26       991       198       178       187       114   \n",
       "\n",
       "     google     naver  \n",
       "0      53.0  26.05846  \n",
       "1      58.0  25.16599  \n",
       "2      74.0  27.38639  \n",
       "3      59.0  24.72622  \n",
       "4      63.0  23.01888  \n",
       "..      ...       ...  \n",
       "247    63.0  25.29102  \n",
       "248    81.0  28.63240  \n",
       "249    82.0  26.85177  \n",
       "250    93.0  27.25273  \n",
       "251    90.0  30.24489  \n",
       "\n",
       "[252 rows x 10 columns]"
      ],
      "text/html": "<div>\n<style scoped>\n    .dataframe tbody tr th:only-of-type {\n        vertical-align: middle;\n    }\n\n    .dataframe tbody tr th {\n        vertical-align: top;\n    }\n\n    .dataframe thead th {\n        text-align: right;\n    }\n</style>\n<table border=\"1\" class=\"dataframe\">\n  <thead>\n    <tr style=\"text-align: right;\">\n      <th></th>\n      <th>year</th>\n      <th>month</th>\n      <th>day</th>\n      <th>keyword1</th>\n      <th>keyword2</th>\n      <th>keyword3</th>\n      <th>keyword4</th>\n      <th>keyword5</th>\n      <th>google</th>\n      <th>naver</th>\n    </tr>\n  </thead>\n  <tbody>\n    <tr>\n      <th>0</th>\n      <td>2016</td>\n      <td>1</td>\n      <td>4</td>\n      <td>825</td>\n      <td>419</td>\n      <td>437</td>\n      <td>986</td>\n      <td>168</td>\n      <td>53.0</td>\n      <td>26.05846</td>\n    </tr>\n    <tr>\n      <th>1</th>\n      <td>2016</td>\n      <td>1</td>\n      <td>11</td>\n      <td>770</td>\n      <td>348</td>\n      <td>351</td>\n      <td>626</td>\n      <td>182</td>\n      <td>58.0</td>\n      <td>25.16599</td>\n    </tr>\n    <tr>\n      <th>2</th>\n      <td>2016</td>\n      <td>1</td>\n      <td>18</td>\n      <td>918</td>\n      <td>422</td>\n      <td>441</td>\n      <td>445</td>\n      <td>147</td>\n      <td>74.0</td>\n      <td>27.38639</td>\n    </tr>\n    <tr>\n      <th>3</th>\n      <td>2016</td>\n      <td>1</td>\n      <td>25</td>\n      <td>1067</td>\n      <td>425</td>\n      <td>567</td>\n      <td>383</td>\n      <td>148</td>\n      <td>59.0</td>\n      <td>24.72622</td>\n    </tr>\n    <tr>\n      <th>4</th>\n      <td>2016</td>\n      <td>2</td>\n      <td>1</td>\n      <td>899</td>\n      <td>341</td>\n      <td>485</td>\n      <td>289</td>\n      <td>110</td>\n      <td>63.0</td>\n      <td>23.01888</td>\n    </tr>\n    <tr>\n      <th>...</th>\n      <td>...</td>\n      <td>...</td>\n      <td>...</td>\n      <td>...</td>\n      <td>...</td>\n      <td>...</td>\n      <td>...</td>\n      <td>...</td>\n      <td>...</td>\n      <td>...</td>\n    </tr>\n    <tr>\n      <th>247</th>\n      <td>2020</td>\n      <td>9</td>\n      <td>28</td>\n      <td>489</td>\n      <td>90</td>\n      <td>114</td>\n      <td>95</td>\n      <td>78</td>\n      <td>63.0</td>\n      <td>25.29102</td>\n    </tr>\n    <tr>\n      <th>248</th>\n      <td>2020</td>\n      <td>10</td>\n      <td>5</td>\n      <td>816</td>\n      <td>183</td>\n      <td>177</td>\n      <td>109</td>\n      <td>78</td>\n      <td>81.0</td>\n      <td>28.63240</td>\n    </tr>\n    <tr>\n      <th>249</th>\n      <td>2020</td>\n      <td>10</td>\n      <td>12</td>\n      <td>857</td>\n      <td>199</td>\n      <td>176</td>\n      <td>112</td>\n      <td>91</td>\n      <td>82.0</td>\n      <td>26.85177</td>\n    </tr>\n    <tr>\n      <th>250</th>\n      <td>2020</td>\n      <td>10</td>\n      <td>19</td>\n      <td>911</td>\n      <td>155</td>\n      <td>143</td>\n      <td>95</td>\n      <td>129</td>\n      <td>93.0</td>\n      <td>27.25273</td>\n    </tr>\n    <tr>\n      <th>251</th>\n      <td>2020</td>\n      <td>10</td>\n      <td>26</td>\n      <td>991</td>\n      <td>198</td>\n      <td>178</td>\n      <td>187</td>\n      <td>114</td>\n      <td>90.0</td>\n      <td>30.24489</td>\n    </tr>\n  </tbody>\n</table>\n<p>252 rows × 10 columns</p>\n</div>"
     },
     "metadata": {},
     "execution_count": 50
    }
   ],
   "source": [
    "# predictors X: 뉴스카운팅, 포털트렌드 변수\n",
    "predictors = pd.merge(news_df, portal_df)\n",
    "predictors"
   ]
  },
  {
   "cell_type": "code",
   "execution_count": 51,
   "metadata": {},
   "outputs": [],
   "source": [
    "def isLastWeekOfThisMonth(X, index):\n",
    "    if(index == (len(X) - 1)):\n",
    "        return True\n",
    "    if ( X.iloc[index].month != X.iloc[index + 1].month ):\n",
    "        return True\n",
    "    return False\n"
   ]
  },
  {
   "cell_type": "code",
   "execution_count": 52,
   "metadata": {},
   "outputs": [],
   "source": [
    "\"\"\"\n",
    "같은 달의 주차별 데이터들을 저장하는 list를 초기화하는 function\n",
    "\"\"\"\n",
    "def initializeStacks():\n",
    "    global keyword1_stack, keyword2_stack, keyword3_stack, keyword4_stack, keyword5_stack, google_stack, naver_stack\n",
    "    keyword1_stack = []\n",
    "    keyword2_stack = []\n",
    "    keyword3_stack = []\n",
    "    keyword4_stack = []\n",
    "    keyword5_stack = []\n",
    "    google_stack = []\n",
    "    naver_stack = []\n"
   ]
  },
  {
   "cell_type": "code",
   "execution_count": 55,
   "metadata": {},
   "outputs": [],
   "source": [
    "\"\"\"\n",
    "달의 마지막 주차이면, 해당 달의 데이터들의 평균값들을 하나의 record로 갖는 dataframe 생성\n",
    "\"\"\"\n",
    "def getXdataframe(X):\n",
    "    initializeStacks()\n",
    "    X_monthly = pd.DataFrame()\n",
    "    for i in range(len(X)):\n",
    "        keyword1_stack.append(X.iloc[i].keyword1)\n",
    "        keyword2_stack.append(X.iloc[i].keyword2)\n",
    "        keyword3_stack.append(X.iloc[i].keyword3)\n",
    "        keyword4_stack.append(X.iloc[i].keyword4)\n",
    "        keyword5_stack.append(X.iloc[i].keyword5)\n",
    "        google_stack.append(X.iloc[i].google)\n",
    "        naver_stack.append(X.iloc[i].naver)\n",
    "\n",
    "        if ( isLastWeekOfThisMonth(X, i) ):\n",
    "            \n",
    "            # 달의 마지막 주차이면, 해당 달의 데이터들의 평균값을 저장. \n",
    "            keyword1 = np.mean(keyword1_stack)\n",
    "            keyword2 = np.mean(keyword2_stack)\n",
    "            keyword3 = np.mean(keyword3_stack)\n",
    "            keyword4 = np.mean(keyword4_stack)\n",
    "            keyword5 = np.mean(keyword5_stack)\n",
    "            google = np.mean(google_stack)\n",
    "            naver = np.mean(naver_stack)\n",
    "            \n",
    "            record = pd.Series([int(X.iloc[i].year), int(X.iloc[i].month), keyword1, keyword2, keyword3, keyword4, keyword5, google, naver])\n",
    "            row_df = pd.DataFrame([record])\n",
    "            X_monthly = pd.concat([X_monthly, row_df], ignore_index=True)\n",
    "            initializeStacks()\n",
    "    return X_monthly\n"
   ]
  },
  {
   "cell_type": "code",
   "execution_count": 57,
   "metadata": {},
   "outputs": [],
   "source": [
    "def cleanXdataframe(X):\n",
    "    X.rename(columns={0: 'year', 1: 'month', 2: 'keyword1', 3: 'keyword2', 4: 'keyword3', 5: 'keyword4', 6: 'keyword5', 7: 'google', 8: 'naver'}, inplace = True)\n",
    "    return X.astype({\"year\": int, \"month\": int})\n"
   ]
  },
  {
   "cell_type": "code",
   "execution_count": 58,
   "metadata": {},
   "outputs": [
    {
     "output_type": "execute_result",
     "data": {
      "text/plain": [
       "    year  month  keyword1  keyword2  keyword3  keyword4  keyword5  google  \\\n",
       "0   2016      1    895.00    403.50    449.00    610.00    161.25   61.00   \n",
       "1   2016      2    811.80    396.60    359.20    341.60    124.40   60.00   \n",
       "2   2016      3    667.25    267.00    293.00     98.50    107.50   67.75   \n",
       "3   2016      4    718.25    258.25    367.00    142.25    116.75   69.00   \n",
       "4   2016      5    656.80    290.40    387.40    106.20    131.00   69.80   \n",
       "5   2016      6    780.50    366.50    353.50    302.00    100.50   66.00   \n",
       "6   2016      7    715.75    263.50    332.75    120.00     73.00   54.25   \n",
       "7   2016      8    629.20    207.80    300.00     99.00     82.20   47.00   \n",
       "8   2016      9    591.75    211.75    280.75    160.75     87.75   57.00   \n",
       "9   2016     10    703.00    260.60    279.80    201.40    136.60   67.00   \n",
       "10  2016     11    659.50    296.50    285.00    213.25    146.50   70.50   \n",
       "11  2016     12    778.75    333.00    444.00    118.75    174.00   56.75   \n",
       "12  2017      1    798.00    268.80    466.40    103.60    178.00   52.80   \n",
       "13  2017      2    661.00    260.00    442.50     92.25    118.25   54.50   \n",
       "14  2017      3    569.50    206.75    318.75     83.50    124.25   68.25   \n",
       "15  2017      4    509.75    200.75    284.00     80.25     95.25   64.25   \n",
       "16  2017      5    432.00    160.80    200.00     75.00    102.20   62.60   \n",
       "17  2017      6    378.25    175.25    181.00     92.50     93.75   59.75   \n",
       "18  2017      7    381.00    183.20    182.20     89.80     90.40   50.00   \n",
       "19  2017      8    340.25    163.50    144.00     83.50     81.75   51.75   \n",
       "20  2017      9    389.75    194.25    132.25     76.75    110.75   60.00   \n",
       "21  2017     10    299.80    182.40    115.80     64.80    123.00   60.00   \n",
       "22  2017     11    350.00    217.25    147.50     85.00    174.25   68.75   \n",
       "23  2017     12    366.75    172.25    182.75    113.00     90.75   60.25   \n",
       "24  2018      1    424.00    217.80    181.00    204.20    113.60   53.00   \n",
       "25  2018      2    398.00    209.25    161.25    230.25     96.25   51.00   \n",
       "26  2018      3    427.25    190.75    160.00    144.75     99.75   63.75   \n",
       "27  2018      4    441.00    164.60    155.00    142.00     72.80   65.40   \n",
       "28  2018      5    504.50    225.50    160.75    124.00    108.00   66.50   \n",
       "29  2018      6    486.25    211.50    143.50    104.00     79.75   65.75   \n",
       "30  2018      7    562.80    208.60    169.20    138.80     93.00   58.80   \n",
       "31  2018      8    544.50    332.25    189.00    247.75    168.25   60.50   \n",
       "32  2018      9    541.25    284.00    191.75    134.50    158.25   62.00   \n",
       "33  2018     10    607.80    340.60    196.40    338.60    168.80   71.60   \n",
       "34  2018     11    720.50    310.75    237.50    217.75    195.75   74.50   \n",
       "35  2018     12    846.20    263.60    306.20    181.20    135.20   68.20   \n",
       "36  2019      1    855.75    305.50    276.50    105.25    137.25   65.75   \n",
       "37  2019      2    623.00    218.50    203.75     76.75     93.50   55.25   \n",
       "38  2019      3    772.25    247.25    214.00    126.25     96.75   66.75   \n",
       "39  2019      4    737.40    257.80    203.00     93.20    113.40   70.60   \n",
       "40  2019      5    658.00    240.00    202.25    151.75    103.00   79.75   \n",
       "41  2019      6    626.25    201.50    212.00    139.75    121.00   71.50   \n",
       "42  2019      7    641.40    284.20    188.80    202.40    120.20   77.80   \n",
       "43  2019      8    815.25    369.50    218.25    272.25    131.50   75.75   \n",
       "44  2019      9    781.60    224.00    234.20    107.40     93.20   74.20   \n",
       "45  2019     10    725.25    252.00    225.50    129.50    107.75   77.00   \n",
       "46  2019     11    679.75    263.75    210.25     82.00    120.50   75.50   \n",
       "47  2019     12    635.20    233.20    242.20     93.00    153.80   61.80   \n",
       "48  2020      1    573.25    197.00    222.50     99.25    110.75   60.00   \n",
       "49  2020      2   1110.75    214.25    231.75    253.25    101.75   64.75   \n",
       "50  2020      3   1948.60   1067.40    311.80    899.80    297.60   85.40   \n",
       "51  2020      4   1737.75    730.50    264.75    464.75    342.00   84.75   \n",
       "52  2020      5   1587.00    497.50    214.25    235.50    266.50   84.75   \n",
       "53  2020      6   1266.80    371.80    208.20    231.00    208.60   91.00   \n",
       "54  2020      7   1108.00    301.50    175.75    154.00    224.25   76.75   \n",
       "55  2020      8    890.00    234.40    164.80    180.20    128.60   77.00   \n",
       "56  2020      9    853.25    206.00    177.25    220.00    122.00   77.00   \n",
       "57  2020     10    893.75    183.75    168.50    125.75    103.00   86.50   \n",
       "\n",
       "        naver  \n",
       "0   25.834265  \n",
       "1   24.908160  \n",
       "2   28.296107  \n",
       "3   25.843962  \n",
       "4   26.812964  \n",
       "5   28.625933  \n",
       "6   20.520387  \n",
       "7   20.491502  \n",
       "8   22.192158  \n",
       "9   24.995252  \n",
       "10  26.970332  \n",
       "11  22.695520  \n",
       "12  20.062940  \n",
       "13  19.313180  \n",
       "14  27.323873  \n",
       "15  22.461625  \n",
       "16  25.531598  \n",
       "17  24.191595  \n",
       "18  19.261010  \n",
       "19  21.673705  \n",
       "20  26.063848  \n",
       "21  24.341634  \n",
       "22  25.856900  \n",
       "23  21.365435  \n",
       "24  19.566260  \n",
       "25  19.557855  \n",
       "26  28.800545  \n",
       "27  26.737946  \n",
       "28  32.220613  \n",
       "29  37.074238  \n",
       "30  33.126666  \n",
       "31  33.946275  \n",
       "32  32.982663  \n",
       "33  43.822534  \n",
       "34  39.445540  \n",
       "35  33.468134  \n",
       "36  30.521898  \n",
       "37  26.590925  \n",
       "38  37.422387  \n",
       "39  40.146586  \n",
       "40  41.966667  \n",
       "41  36.099845  \n",
       "42  36.520648  \n",
       "43  49.451362  \n",
       "44  32.499780  \n",
       "45  33.225183  \n",
       "46  29.126060  \n",
       "47  24.001892  \n",
       "48  23.154688  \n",
       "49  32.321935  \n",
       "50  67.922736  \n",
       "51  49.555913  \n",
       "52  36.870520  \n",
       "53  39.395528  \n",
       "54  32.617267  \n",
       "55  34.671030  \n",
       "56  34.499220  \n",
       "57  28.245447  "
      ],
      "text/html": "<div>\n<style scoped>\n    .dataframe tbody tr th:only-of-type {\n        vertical-align: middle;\n    }\n\n    .dataframe tbody tr th {\n        vertical-align: top;\n    }\n\n    .dataframe thead th {\n        text-align: right;\n    }\n</style>\n<table border=\"1\" class=\"dataframe\">\n  <thead>\n    <tr style=\"text-align: right;\">\n      <th></th>\n      <th>year</th>\n      <th>month</th>\n      <th>keyword1</th>\n      <th>keyword2</th>\n      <th>keyword3</th>\n      <th>keyword4</th>\n      <th>keyword5</th>\n      <th>google</th>\n      <th>naver</th>\n    </tr>\n  </thead>\n  <tbody>\n    <tr>\n      <th>0</th>\n      <td>2016</td>\n      <td>1</td>\n      <td>895.00</td>\n      <td>403.50</td>\n      <td>449.00</td>\n      <td>610.00</td>\n      <td>161.25</td>\n      <td>61.00</td>\n      <td>25.834265</td>\n    </tr>\n    <tr>\n      <th>1</th>\n      <td>2016</td>\n      <td>2</td>\n      <td>811.80</td>\n      <td>396.60</td>\n      <td>359.20</td>\n      <td>341.60</td>\n      <td>124.40</td>\n      <td>60.00</td>\n      <td>24.908160</td>\n    </tr>\n    <tr>\n      <th>2</th>\n      <td>2016</td>\n      <td>3</td>\n      <td>667.25</td>\n      <td>267.00</td>\n      <td>293.00</td>\n      <td>98.50</td>\n      <td>107.50</td>\n      <td>67.75</td>\n      <td>28.296107</td>\n    </tr>\n    <tr>\n      <th>3</th>\n      <td>2016</td>\n      <td>4</td>\n      <td>718.25</td>\n      <td>258.25</td>\n      <td>367.00</td>\n      <td>142.25</td>\n      <td>116.75</td>\n      <td>69.00</td>\n      <td>25.843962</td>\n    </tr>\n    <tr>\n      <th>4</th>\n      <td>2016</td>\n      <td>5</td>\n      <td>656.80</td>\n      <td>290.40</td>\n      <td>387.40</td>\n      <td>106.20</td>\n      <td>131.00</td>\n      <td>69.80</td>\n      <td>26.812964</td>\n    </tr>\n    <tr>\n      <th>5</th>\n      <td>2016</td>\n      <td>6</td>\n      <td>780.50</td>\n      <td>366.50</td>\n      <td>353.50</td>\n      <td>302.00</td>\n      <td>100.50</td>\n      <td>66.00</td>\n      <td>28.625933</td>\n    </tr>\n    <tr>\n      <th>6</th>\n      <td>2016</td>\n      <td>7</td>\n      <td>715.75</td>\n      <td>263.50</td>\n      <td>332.75</td>\n      <td>120.00</td>\n      <td>73.00</td>\n      <td>54.25</td>\n      <td>20.520387</td>\n    </tr>\n    <tr>\n      <th>7</th>\n      <td>2016</td>\n      <td>8</td>\n      <td>629.20</td>\n      <td>207.80</td>\n      <td>300.00</td>\n      <td>99.00</td>\n      <td>82.20</td>\n      <td>47.00</td>\n      <td>20.491502</td>\n    </tr>\n    <tr>\n      <th>8</th>\n      <td>2016</td>\n      <td>9</td>\n      <td>591.75</td>\n      <td>211.75</td>\n      <td>280.75</td>\n      <td>160.75</td>\n      <td>87.75</td>\n      <td>57.00</td>\n      <td>22.192158</td>\n    </tr>\n    <tr>\n      <th>9</th>\n      <td>2016</td>\n      <td>10</td>\n      <td>703.00</td>\n      <td>260.60</td>\n      <td>279.80</td>\n      <td>201.40</td>\n      <td>136.60</td>\n      <td>67.00</td>\n      <td>24.995252</td>\n    </tr>\n    <tr>\n      <th>10</th>\n      <td>2016</td>\n      <td>11</td>\n      <td>659.50</td>\n      <td>296.50</td>\n      <td>285.00</td>\n      <td>213.25</td>\n      <td>146.50</td>\n      <td>70.50</td>\n      <td>26.970332</td>\n    </tr>\n    <tr>\n      <th>11</th>\n      <td>2016</td>\n      <td>12</td>\n      <td>778.75</td>\n      <td>333.00</td>\n      <td>444.00</td>\n      <td>118.75</td>\n      <td>174.00</td>\n      <td>56.75</td>\n      <td>22.695520</td>\n    </tr>\n    <tr>\n      <th>12</th>\n      <td>2017</td>\n      <td>1</td>\n      <td>798.00</td>\n      <td>268.80</td>\n      <td>466.40</td>\n      <td>103.60</td>\n      <td>178.00</td>\n      <td>52.80</td>\n      <td>20.062940</td>\n    </tr>\n    <tr>\n      <th>13</th>\n      <td>2017</td>\n      <td>2</td>\n      <td>661.00</td>\n      <td>260.00</td>\n      <td>442.50</td>\n      <td>92.25</td>\n      <td>118.25</td>\n      <td>54.50</td>\n      <td>19.313180</td>\n    </tr>\n    <tr>\n      <th>14</th>\n      <td>2017</td>\n      <td>3</td>\n      <td>569.50</td>\n      <td>206.75</td>\n      <td>318.75</td>\n      <td>83.50</td>\n      <td>124.25</td>\n      <td>68.25</td>\n      <td>27.323873</td>\n    </tr>\n    <tr>\n      <th>15</th>\n      <td>2017</td>\n      <td>4</td>\n      <td>509.75</td>\n      <td>200.75</td>\n      <td>284.00</td>\n      <td>80.25</td>\n      <td>95.25</td>\n      <td>64.25</td>\n      <td>22.461625</td>\n    </tr>\n    <tr>\n      <th>16</th>\n      <td>2017</td>\n      <td>5</td>\n      <td>432.00</td>\n      <td>160.80</td>\n      <td>200.00</td>\n      <td>75.00</td>\n      <td>102.20</td>\n      <td>62.60</td>\n      <td>25.531598</td>\n    </tr>\n    <tr>\n      <th>17</th>\n      <td>2017</td>\n      <td>6</td>\n      <td>378.25</td>\n      <td>175.25</td>\n      <td>181.00</td>\n      <td>92.50</td>\n      <td>93.75</td>\n      <td>59.75</td>\n      <td>24.191595</td>\n    </tr>\n    <tr>\n      <th>18</th>\n      <td>2017</td>\n      <td>7</td>\n      <td>381.00</td>\n      <td>183.20</td>\n      <td>182.20</td>\n      <td>89.80</td>\n      <td>90.40</td>\n      <td>50.00</td>\n      <td>19.261010</td>\n    </tr>\n    <tr>\n      <th>19</th>\n      <td>2017</td>\n      <td>8</td>\n      <td>340.25</td>\n      <td>163.50</td>\n      <td>144.00</td>\n      <td>83.50</td>\n      <td>81.75</td>\n      <td>51.75</td>\n      <td>21.673705</td>\n    </tr>\n    <tr>\n      <th>20</th>\n      <td>2017</td>\n      <td>9</td>\n      <td>389.75</td>\n      <td>194.25</td>\n      <td>132.25</td>\n      <td>76.75</td>\n      <td>110.75</td>\n      <td>60.00</td>\n      <td>26.063848</td>\n    </tr>\n    <tr>\n      <th>21</th>\n      <td>2017</td>\n      <td>10</td>\n      <td>299.80</td>\n      <td>182.40</td>\n      <td>115.80</td>\n      <td>64.80</td>\n      <td>123.00</td>\n      <td>60.00</td>\n      <td>24.341634</td>\n    </tr>\n    <tr>\n      <th>22</th>\n      <td>2017</td>\n      <td>11</td>\n      <td>350.00</td>\n      <td>217.25</td>\n      <td>147.50</td>\n      <td>85.00</td>\n      <td>174.25</td>\n      <td>68.75</td>\n      <td>25.856900</td>\n    </tr>\n    <tr>\n      <th>23</th>\n      <td>2017</td>\n      <td>12</td>\n      <td>366.75</td>\n      <td>172.25</td>\n      <td>182.75</td>\n      <td>113.00</td>\n      <td>90.75</td>\n      <td>60.25</td>\n      <td>21.365435</td>\n    </tr>\n    <tr>\n      <th>24</th>\n      <td>2018</td>\n      <td>1</td>\n      <td>424.00</td>\n      <td>217.80</td>\n      <td>181.00</td>\n      <td>204.20</td>\n      <td>113.60</td>\n      <td>53.00</td>\n      <td>19.566260</td>\n    </tr>\n    <tr>\n      <th>25</th>\n      <td>2018</td>\n      <td>2</td>\n      <td>398.00</td>\n      <td>209.25</td>\n      <td>161.25</td>\n      <td>230.25</td>\n      <td>96.25</td>\n      <td>51.00</td>\n      <td>19.557855</td>\n    </tr>\n    <tr>\n      <th>26</th>\n      <td>2018</td>\n      <td>3</td>\n      <td>427.25</td>\n      <td>190.75</td>\n      <td>160.00</td>\n      <td>144.75</td>\n      <td>99.75</td>\n      <td>63.75</td>\n      <td>28.800545</td>\n    </tr>\n    <tr>\n      <th>27</th>\n      <td>2018</td>\n      <td>4</td>\n      <td>441.00</td>\n      <td>164.60</td>\n      <td>155.00</td>\n      <td>142.00</td>\n      <td>72.80</td>\n      <td>65.40</td>\n      <td>26.737946</td>\n    </tr>\n    <tr>\n      <th>28</th>\n      <td>2018</td>\n      <td>5</td>\n      <td>504.50</td>\n      <td>225.50</td>\n      <td>160.75</td>\n      <td>124.00</td>\n      <td>108.00</td>\n      <td>66.50</td>\n      <td>32.220613</td>\n    </tr>\n    <tr>\n      <th>29</th>\n      <td>2018</td>\n      <td>6</td>\n      <td>486.25</td>\n      <td>211.50</td>\n      <td>143.50</td>\n      <td>104.00</td>\n      <td>79.75</td>\n      <td>65.75</td>\n      <td>37.074238</td>\n    </tr>\n    <tr>\n      <th>30</th>\n      <td>2018</td>\n      <td>7</td>\n      <td>562.80</td>\n      <td>208.60</td>\n      <td>169.20</td>\n      <td>138.80</td>\n      <td>93.00</td>\n      <td>58.80</td>\n      <td>33.126666</td>\n    </tr>\n    <tr>\n      <th>31</th>\n      <td>2018</td>\n      <td>8</td>\n      <td>544.50</td>\n      <td>332.25</td>\n      <td>189.00</td>\n      <td>247.75</td>\n      <td>168.25</td>\n      <td>60.50</td>\n      <td>33.946275</td>\n    </tr>\n    <tr>\n      <th>32</th>\n      <td>2018</td>\n      <td>9</td>\n      <td>541.25</td>\n      <td>284.00</td>\n      <td>191.75</td>\n      <td>134.50</td>\n      <td>158.25</td>\n      <td>62.00</td>\n      <td>32.982663</td>\n    </tr>\n    <tr>\n      <th>33</th>\n      <td>2018</td>\n      <td>10</td>\n      <td>607.80</td>\n      <td>340.60</td>\n      <td>196.40</td>\n      <td>338.60</td>\n      <td>168.80</td>\n      <td>71.60</td>\n      <td>43.822534</td>\n    </tr>\n    <tr>\n      <th>34</th>\n      <td>2018</td>\n      <td>11</td>\n      <td>720.50</td>\n      <td>310.75</td>\n      <td>237.50</td>\n      <td>217.75</td>\n      <td>195.75</td>\n      <td>74.50</td>\n      <td>39.445540</td>\n    </tr>\n    <tr>\n      <th>35</th>\n      <td>2018</td>\n      <td>12</td>\n      <td>846.20</td>\n      <td>263.60</td>\n      <td>306.20</td>\n      <td>181.20</td>\n      <td>135.20</td>\n      <td>68.20</td>\n      <td>33.468134</td>\n    </tr>\n    <tr>\n      <th>36</th>\n      <td>2019</td>\n      <td>1</td>\n      <td>855.75</td>\n      <td>305.50</td>\n      <td>276.50</td>\n      <td>105.25</td>\n      <td>137.25</td>\n      <td>65.75</td>\n      <td>30.521898</td>\n    </tr>\n    <tr>\n      <th>37</th>\n      <td>2019</td>\n      <td>2</td>\n      <td>623.00</td>\n      <td>218.50</td>\n      <td>203.75</td>\n      <td>76.75</td>\n      <td>93.50</td>\n      <td>55.25</td>\n      <td>26.590925</td>\n    </tr>\n    <tr>\n      <th>38</th>\n      <td>2019</td>\n      <td>3</td>\n      <td>772.25</td>\n      <td>247.25</td>\n      <td>214.00</td>\n      <td>126.25</td>\n      <td>96.75</td>\n      <td>66.75</td>\n      <td>37.422387</td>\n    </tr>\n    <tr>\n      <th>39</th>\n      <td>2019</td>\n      <td>4</td>\n      <td>737.40</td>\n      <td>257.80</td>\n      <td>203.00</td>\n      <td>93.20</td>\n      <td>113.40</td>\n      <td>70.60</td>\n      <td>40.146586</td>\n    </tr>\n    <tr>\n      <th>40</th>\n      <td>2019</td>\n      <td>5</td>\n      <td>658.00</td>\n      <td>240.00</td>\n      <td>202.25</td>\n      <td>151.75</td>\n      <td>103.00</td>\n      <td>79.75</td>\n      <td>41.966667</td>\n    </tr>\n    <tr>\n      <th>41</th>\n      <td>2019</td>\n      <td>6</td>\n      <td>626.25</td>\n      <td>201.50</td>\n      <td>212.00</td>\n      <td>139.75</td>\n      <td>121.00</td>\n      <td>71.50</td>\n      <td>36.099845</td>\n    </tr>\n    <tr>\n      <th>42</th>\n      <td>2019</td>\n      <td>7</td>\n      <td>641.40</td>\n      <td>284.20</td>\n      <td>188.80</td>\n      <td>202.40</td>\n      <td>120.20</td>\n      <td>77.80</td>\n      <td>36.520648</td>\n    </tr>\n    <tr>\n      <th>43</th>\n      <td>2019</td>\n      <td>8</td>\n      <td>815.25</td>\n      <td>369.50</td>\n      <td>218.25</td>\n      <td>272.25</td>\n      <td>131.50</td>\n      <td>75.75</td>\n      <td>49.451362</td>\n    </tr>\n    <tr>\n      <th>44</th>\n      <td>2019</td>\n      <td>9</td>\n      <td>781.60</td>\n      <td>224.00</td>\n      <td>234.20</td>\n      <td>107.40</td>\n      <td>93.20</td>\n      <td>74.20</td>\n      <td>32.499780</td>\n    </tr>\n    <tr>\n      <th>45</th>\n      <td>2019</td>\n      <td>10</td>\n      <td>725.25</td>\n      <td>252.00</td>\n      <td>225.50</td>\n      <td>129.50</td>\n      <td>107.75</td>\n      <td>77.00</td>\n      <td>33.225183</td>\n    </tr>\n    <tr>\n      <th>46</th>\n      <td>2019</td>\n      <td>11</td>\n      <td>679.75</td>\n      <td>263.75</td>\n      <td>210.25</td>\n      <td>82.00</td>\n      <td>120.50</td>\n      <td>75.50</td>\n      <td>29.126060</td>\n    </tr>\n    <tr>\n      <th>47</th>\n      <td>2019</td>\n      <td>12</td>\n      <td>635.20</td>\n      <td>233.20</td>\n      <td>242.20</td>\n      <td>93.00</td>\n      <td>153.80</td>\n      <td>61.80</td>\n      <td>24.001892</td>\n    </tr>\n    <tr>\n      <th>48</th>\n      <td>2020</td>\n      <td>1</td>\n      <td>573.25</td>\n      <td>197.00</td>\n      <td>222.50</td>\n      <td>99.25</td>\n      <td>110.75</td>\n      <td>60.00</td>\n      <td>23.154688</td>\n    </tr>\n    <tr>\n      <th>49</th>\n      <td>2020</td>\n      <td>2</td>\n      <td>1110.75</td>\n      <td>214.25</td>\n      <td>231.75</td>\n      <td>253.25</td>\n      <td>101.75</td>\n      <td>64.75</td>\n      <td>32.321935</td>\n    </tr>\n    <tr>\n      <th>50</th>\n      <td>2020</td>\n      <td>3</td>\n      <td>1948.60</td>\n      <td>1067.40</td>\n      <td>311.80</td>\n      <td>899.80</td>\n      <td>297.60</td>\n      <td>85.40</td>\n      <td>67.922736</td>\n    </tr>\n    <tr>\n      <th>51</th>\n      <td>2020</td>\n      <td>4</td>\n      <td>1737.75</td>\n      <td>730.50</td>\n      <td>264.75</td>\n      <td>464.75</td>\n      <td>342.00</td>\n      <td>84.75</td>\n      <td>49.555913</td>\n    </tr>\n    <tr>\n      <th>52</th>\n      <td>2020</td>\n      <td>5</td>\n      <td>1587.00</td>\n      <td>497.50</td>\n      <td>214.25</td>\n      <td>235.50</td>\n      <td>266.50</td>\n      <td>84.75</td>\n      <td>36.870520</td>\n    </tr>\n    <tr>\n      <th>53</th>\n      <td>2020</td>\n      <td>6</td>\n      <td>1266.80</td>\n      <td>371.80</td>\n      <td>208.20</td>\n      <td>231.00</td>\n      <td>208.60</td>\n      <td>91.00</td>\n      <td>39.395528</td>\n    </tr>\n    <tr>\n      <th>54</th>\n      <td>2020</td>\n      <td>7</td>\n      <td>1108.00</td>\n      <td>301.50</td>\n      <td>175.75</td>\n      <td>154.00</td>\n      <td>224.25</td>\n      <td>76.75</td>\n      <td>32.617267</td>\n    </tr>\n    <tr>\n      <th>55</th>\n      <td>2020</td>\n      <td>8</td>\n      <td>890.00</td>\n      <td>234.40</td>\n      <td>164.80</td>\n      <td>180.20</td>\n      <td>128.60</td>\n      <td>77.00</td>\n      <td>34.671030</td>\n    </tr>\n    <tr>\n      <th>56</th>\n      <td>2020</td>\n      <td>9</td>\n      <td>853.25</td>\n      <td>206.00</td>\n      <td>177.25</td>\n      <td>220.00</td>\n      <td>122.00</td>\n      <td>77.00</td>\n      <td>34.499220</td>\n    </tr>\n    <tr>\n      <th>57</th>\n      <td>2020</td>\n      <td>10</td>\n      <td>893.75</td>\n      <td>183.75</td>\n      <td>168.50</td>\n      <td>125.75</td>\n      <td>103.00</td>\n      <td>86.50</td>\n      <td>28.245447</td>\n    </tr>\n  </tbody>\n</table>\n</div>"
     },
     "metadata": {},
     "execution_count": 58
    }
   ],
   "source": [
    "X = getXdataframe(predictors)\n",
    "X = cleanXdataframe(X)\n",
    "X"
   ]
  },
  {
   "source": [
    "### split train and test"
   ],
   "cell_type": "markdown",
   "metadata": {}
  },
  {
   "cell_type": "code",
   "execution_count": 60,
   "metadata": {},
   "outputs": [],
   "source": [
    "df = pd.merge(X_monthly, ccsi)\n",
    "X = df[['keyword1', 'keyword2', 'keyword3', 'keyword4', 'keyword5', 'google', 'naver']]\n",
    "y = df[['ccsi']]"
   ]
  },
  {
   "cell_type": "code",
   "execution_count": 62,
   "metadata": {},
   "outputs": [
    {
     "output_type": "execute_result",
     "data": {
      "text/plain": [
       "   keyword1  keyword2  keyword3  keyword4  keyword5  google      naver\n",
       "0    895.00    403.50     449.0    610.00    161.25   61.00  25.834265\n",
       "1    811.80    396.60     359.2    341.60    124.40   60.00  24.908160\n",
       "2    667.25    267.00     293.0     98.50    107.50   67.75  28.296107\n",
       "3    718.25    258.25     367.0    142.25    116.75   69.00  25.843962\n",
       "4    656.80    290.40     387.4    106.20    131.00   69.80  26.812964"
      ],
      "text/html": "<div>\n<style scoped>\n    .dataframe tbody tr th:only-of-type {\n        vertical-align: middle;\n    }\n\n    .dataframe tbody tr th {\n        vertical-align: top;\n    }\n\n    .dataframe thead th {\n        text-align: right;\n    }\n</style>\n<table border=\"1\" class=\"dataframe\">\n  <thead>\n    <tr style=\"text-align: right;\">\n      <th></th>\n      <th>keyword1</th>\n      <th>keyword2</th>\n      <th>keyword3</th>\n      <th>keyword4</th>\n      <th>keyword5</th>\n      <th>google</th>\n      <th>naver</th>\n    </tr>\n  </thead>\n  <tbody>\n    <tr>\n      <th>0</th>\n      <td>895.00</td>\n      <td>403.50</td>\n      <td>449.0</td>\n      <td>610.00</td>\n      <td>161.25</td>\n      <td>61.00</td>\n      <td>25.834265</td>\n    </tr>\n    <tr>\n      <th>1</th>\n      <td>811.80</td>\n      <td>396.60</td>\n      <td>359.2</td>\n      <td>341.60</td>\n      <td>124.40</td>\n      <td>60.00</td>\n      <td>24.908160</td>\n    </tr>\n    <tr>\n      <th>2</th>\n      <td>667.25</td>\n      <td>267.00</td>\n      <td>293.0</td>\n      <td>98.50</td>\n      <td>107.50</td>\n      <td>67.75</td>\n      <td>28.296107</td>\n    </tr>\n    <tr>\n      <th>3</th>\n      <td>718.25</td>\n      <td>258.25</td>\n      <td>367.0</td>\n      <td>142.25</td>\n      <td>116.75</td>\n      <td>69.00</td>\n      <td>25.843962</td>\n    </tr>\n    <tr>\n      <th>4</th>\n      <td>656.80</td>\n      <td>290.40</td>\n      <td>387.4</td>\n      <td>106.20</td>\n      <td>131.00</td>\n      <td>69.80</td>\n      <td>26.812964</td>\n    </tr>\n  </tbody>\n</table>\n</div>"
     },
     "metadata": {},
     "execution_count": 62
    }
   ],
   "source": [
    "X.head()"
   ]
  },
  {
   "cell_type": "code",
   "execution_count": 63,
   "metadata": {},
   "outputs": [
    {
     "output_type": "execute_result",
     "data": {
      "text/plain": [
       "    ccsi\n",
       "0   99.5\n",
       "1   97.2\n",
       "2   99.5\n",
       "3  101.1\n",
       "4   98.6"
      ],
      "text/html": "<div>\n<style scoped>\n    .dataframe tbody tr th:only-of-type {\n        vertical-align: middle;\n    }\n\n    .dataframe tbody tr th {\n        vertical-align: top;\n    }\n\n    .dataframe thead th {\n        text-align: right;\n    }\n</style>\n<table border=\"1\" class=\"dataframe\">\n  <thead>\n    <tr style=\"text-align: right;\">\n      <th></th>\n      <th>ccsi</th>\n    </tr>\n  </thead>\n  <tbody>\n    <tr>\n      <th>0</th>\n      <td>99.5</td>\n    </tr>\n    <tr>\n      <th>1</th>\n      <td>97.2</td>\n    </tr>\n    <tr>\n      <th>2</th>\n      <td>99.5</td>\n    </tr>\n    <tr>\n      <th>3</th>\n      <td>101.1</td>\n    </tr>\n    <tr>\n      <th>4</th>\n      <td>98.6</td>\n    </tr>\n  </tbody>\n</table>\n</div>"
     },
     "metadata": {},
     "execution_count": 63
    }
   ],
   "source": [
    "y.head()"
   ]
  },
  {
   "cell_type": "code",
   "execution_count": 78,
   "metadata": {},
   "outputs": [],
   "source": [
    "X_train, X_test, y_train, y_test = train_test_split(X, y, train_size=0.8, test_size=0.2)"
   ]
  },
  {
   "source": [
    "### multi linear regression"
   ],
   "cell_type": "markdown",
   "metadata": {}
  },
  {
   "cell_type": "code",
   "execution_count": 79,
   "metadata": {},
   "outputs": [
    {
     "output_type": "execute_result",
     "data": {
      "text/plain": [
       "LinearRegression()"
      ]
     },
     "metadata": {},
     "execution_count": 79
    }
   ],
   "source": [
    "mlr = LinearRegression()\n",
    "mlr.fit(X_train, y_train) "
   ]
  },
  {
   "cell_type": "code",
   "execution_count": 80,
   "metadata": {},
   "outputs": [],
   "source": [
    "y_predict = mlr.predict(X_test)"
   ]
  },
  {
   "cell_type": "code",
   "execution_count": 81,
   "metadata": {},
   "outputs": [
    {
     "output_type": "display_data",
     "data": {
      "text/plain": "<Figure size 432x288 with 1 Axes>",
      "image/svg+xml": "<?xml version=\"1.0\" encoding=\"utf-8\" standalone=\"no\"?>\n<!DOCTYPE svg PUBLIC \"-//W3C//DTD SVG 1.1//EN\"\n  \"http://www.w3.org/Graphics/SVG/1.1/DTD/svg11.dtd\">\n<!-- Created with matplotlib (https://matplotlib.org/) -->\n<svg height=\"277.314375pt\" version=\"1.1\" viewBox=\"0 0 388.965625 277.314375\" width=\"388.965625pt\" xmlns=\"http://www.w3.org/2000/svg\" xmlns:xlink=\"http://www.w3.org/1999/xlink\">\n <defs>\n  <style type=\"text/css\">\n*{stroke-linecap:butt;stroke-linejoin:round;}\n  </style>\n </defs>\n <g id=\"figure_1\">\n  <g id=\"patch_1\">\n   <path d=\"M 0 277.314375 \nL 388.965625 277.314375 \nL 388.965625 0 \nL 0 0 \nz\n\" style=\"fill:none;\"/>\n  </g>\n  <g id=\"axes_1\">\n   <g id=\"patch_2\">\n    <path d=\"M 46.965625 239.758125 \nL 381.765625 239.758125 \nL 381.765625 22.318125 \nL 46.965625 22.318125 \nz\n\" style=\"fill:#ffffff;\"/>\n   </g>\n   <g id=\"PathCollection_1\">\n    <defs>\n     <path d=\"M 0 3 \nC 0.795609 3 1.55874 2.683901 2.12132 2.12132 \nC 2.683901 1.55874 3 0.795609 3 0 \nC 3 -0.795609 2.683901 -1.55874 2.12132 -2.12132 \nC 1.55874 -2.683901 0.795609 -3 0 -3 \nC -0.795609 -3 -1.55874 -2.683901 -2.12132 -2.12132 \nC -2.683901 -1.55874 -3 -0.795609 -3 0 \nC -3 0.795609 -2.683901 1.55874 -2.12132 2.12132 \nC -1.55874 2.683901 -0.795609 3 0 3 \nz\n\" id=\"mcffd87e5ba\" style=\"stroke:#1f77b4;stroke-opacity:0.4;\"/>\n    </defs>\n    <g clip-path=\"url(#p3ed1bf97e2)\">\n     <use style=\"fill:#1f77b4;fill-opacity:0.4;stroke:#1f77b4;stroke-opacity:0.4;\" x=\"274.044769\" xlink:href=\"#mcffd87e5ba\" y=\"133.413879\"/>\n     <use style=\"fill:#1f77b4;fill-opacity:0.4;stroke:#1f77b4;stroke-opacity:0.4;\" x=\"260.119636\" xlink:href=\"#mcffd87e5ba\" y=\"142.470152\"/>\n     <use style=\"fill:#1f77b4;fill-opacity:0.4;stroke:#1f77b4;stroke-opacity:0.4;\" x=\"191.48862\" xlink:href=\"#mcffd87e5ba\" y=\"199.746111\"/>\n     <use style=\"fill:#1f77b4;fill-opacity:0.4;stroke:#1f77b4;stroke-opacity:0.4;\" x=\"348.6437\" xlink:href=\"#mcffd87e5ba\" y=\"105.213953\"/>\n     <use style=\"fill:#1f77b4;fill-opacity:0.4;stroke:#1f77b4;stroke-opacity:0.4;\" x=\"226.301454\" xlink:href=\"#mcffd87e5ba\" y=\"156.692877\"/>\n     <use style=\"fill:#1f77b4;fill-opacity:0.4;stroke:#1f77b4;stroke-opacity:0.4;\" x=\"262.108941\" xlink:href=\"#mcffd87e5ba\" y=\"229.315169\"/>\n     <use style=\"fill:#1f77b4;fill-opacity:0.4;stroke:#1f77b4;stroke-opacity:0.4;\" x=\"268.076855\" xlink:href=\"#mcffd87e5ba\" y=\"128.821913\"/>\n     <use style=\"fill:#1f77b4;fill-opacity:0.4;stroke:#1f77b4;stroke-opacity:0.4;\" x=\"366.547443\" xlink:href=\"#mcffd87e5ba\" y=\"32.201761\"/>\n     <use style=\"fill:#1f77b4;fill-opacity:0.4;stroke:#1f77b4;stroke-opacity:0.4;\" x=\"62.183807\" xlink:href=\"#mcffd87e5ba\" y=\"229.874489\"/>\n     <use style=\"fill:#1f77b4;fill-opacity:0.4;stroke:#1f77b4;stroke-opacity:0.4;\" x=\"280.012684\" xlink:href=\"#mcffd87e5ba\" y=\"134.334824\"/>\n     <use style=\"fill:#1f77b4;fill-opacity:0.4;stroke:#1f77b4;stroke-opacity:0.4;\" x=\"257.135678\" xlink:href=\"#mcffd87e5ba\" y=\"112.533014\"/>\n     <use style=\"fill:#1f77b4;fill-opacity:0.4;stroke:#1f77b4;stroke-opacity:0.4;\" x=\"243.210545\" xlink:href=\"#mcffd87e5ba\" y=\"171.748552\"/>\n    </g>\n   </g>\n   <g id=\"matplotlib.axis_1\">\n    <g id=\"xtick_1\">\n     <g id=\"line2d_1\">\n      <defs>\n       <path d=\"M 0 0 \nL 0 3.5 \n\" id=\"m4d4625e9bc\" style=\"stroke:#000000;stroke-width:0.8;\"/>\n      </defs>\n      <g>\n       <use style=\"stroke:#000000;stroke-width:0.8;\" x=\"68.151721\" xlink:href=\"#m4d4625e9bc\" y=\"239.758125\"/>\n      </g>\n     </g>\n     <g id=\"text_1\">\n      <!-- 80 -->\n      <defs>\n       <path d=\"M 31.78125 34.625 \nQ 24.75 34.625 20.71875 30.859375 \nQ 16.703125 27.09375 16.703125 20.515625 \nQ 16.703125 13.921875 20.71875 10.15625 \nQ 24.75 6.390625 31.78125 6.390625 \nQ 38.8125 6.390625 42.859375 10.171875 \nQ 46.921875 13.96875 46.921875 20.515625 \nQ 46.921875 27.09375 42.890625 30.859375 \nQ 38.875 34.625 31.78125 34.625 \nz\nM 21.921875 38.8125 \nQ 15.578125 40.375 12.03125 44.71875 \nQ 8.5 49.078125 8.5 55.328125 \nQ 8.5 64.0625 14.71875 69.140625 \nQ 20.953125 74.21875 31.78125 74.21875 \nQ 42.671875 74.21875 48.875 69.140625 \nQ 55.078125 64.0625 55.078125 55.328125 \nQ 55.078125 49.078125 51.53125 44.71875 \nQ 48 40.375 41.703125 38.8125 \nQ 48.828125 37.15625 52.796875 32.3125 \nQ 56.78125 27.484375 56.78125 20.515625 \nQ 56.78125 9.90625 50.3125 4.234375 \nQ 43.84375 -1.421875 31.78125 -1.421875 \nQ 19.734375 -1.421875 13.25 4.234375 \nQ 6.78125 9.90625 6.78125 20.515625 \nQ 6.78125 27.484375 10.78125 32.3125 \nQ 14.796875 37.15625 21.921875 38.8125 \nz\nM 18.3125 54.390625 \nQ 18.3125 48.734375 21.84375 45.5625 \nQ 25.390625 42.390625 31.78125 42.390625 \nQ 38.140625 42.390625 41.71875 45.5625 \nQ 45.3125 48.734375 45.3125 54.390625 \nQ 45.3125 60.0625 41.71875 63.234375 \nQ 38.140625 66.40625 31.78125 66.40625 \nQ 25.390625 66.40625 21.84375 63.234375 \nQ 18.3125 60.0625 18.3125 54.390625 \nz\n\" id=\"DejaVuSans-56\"/>\n       <path d=\"M 31.78125 66.40625 \nQ 24.171875 66.40625 20.328125 58.90625 \nQ 16.5 51.421875 16.5 36.375 \nQ 16.5 21.390625 20.328125 13.890625 \nQ 24.171875 6.390625 31.78125 6.390625 \nQ 39.453125 6.390625 43.28125 13.890625 \nQ 47.125 21.390625 47.125 36.375 \nQ 47.125 51.421875 43.28125 58.90625 \nQ 39.453125 66.40625 31.78125 66.40625 \nz\nM 31.78125 74.21875 \nQ 44.046875 74.21875 50.515625 64.515625 \nQ 56.984375 54.828125 56.984375 36.375 \nQ 56.984375 17.96875 50.515625 8.265625 \nQ 44.046875 -1.421875 31.78125 -1.421875 \nQ 19.53125 -1.421875 13.0625 8.265625 \nQ 6.59375 17.96875 6.59375 36.375 \nQ 6.59375 54.828125 13.0625 64.515625 \nQ 19.53125 74.21875 31.78125 74.21875 \nz\n\" id=\"DejaVuSans-48\"/>\n      </defs>\n      <g transform=\"translate(61.789221 254.356562)scale(0.1 -0.1)\">\n       <use xlink:href=\"#DejaVuSans-56\"/>\n       <use x=\"63.623047\" xlink:href=\"#DejaVuSans-48\"/>\n      </g>\n     </g>\n    </g>\n    <g id=\"xtick_2\">\n     <g id=\"line2d_2\">\n      <g>\n       <use style=\"stroke:#000000;stroke-width:0.8;\" x=\"117.884342\" xlink:href=\"#m4d4625e9bc\" y=\"239.758125\"/>\n      </g>\n     </g>\n     <g id=\"text_2\">\n      <!-- 85 -->\n      <defs>\n       <path d=\"M 10.796875 72.90625 \nL 49.515625 72.90625 \nL 49.515625 64.59375 \nL 19.828125 64.59375 \nL 19.828125 46.734375 \nQ 21.96875 47.46875 24.109375 47.828125 \nQ 26.265625 48.1875 28.421875 48.1875 \nQ 40.625 48.1875 47.75 41.5 \nQ 54.890625 34.8125 54.890625 23.390625 \nQ 54.890625 11.625 47.5625 5.09375 \nQ 40.234375 -1.421875 26.90625 -1.421875 \nQ 22.3125 -1.421875 17.546875 -0.640625 \nQ 12.796875 0.140625 7.71875 1.703125 \nL 7.71875 11.625 \nQ 12.109375 9.234375 16.796875 8.0625 \nQ 21.484375 6.890625 26.703125 6.890625 \nQ 35.15625 6.890625 40.078125 11.328125 \nQ 45.015625 15.765625 45.015625 23.390625 \nQ 45.015625 31 40.078125 35.4375 \nQ 35.15625 39.890625 26.703125 39.890625 \nQ 22.75 39.890625 18.8125 39.015625 \nQ 14.890625 38.140625 10.796875 36.28125 \nz\n\" id=\"DejaVuSans-53\"/>\n      </defs>\n      <g transform=\"translate(111.521842 254.356562)scale(0.1 -0.1)\">\n       <use xlink:href=\"#DejaVuSans-56\"/>\n       <use x=\"63.623047\" xlink:href=\"#DejaVuSans-53\"/>\n      </g>\n     </g>\n    </g>\n    <g id=\"xtick_3\">\n     <g id=\"line2d_3\">\n      <g>\n       <use style=\"stroke:#000000;stroke-width:0.8;\" x=\"167.616962\" xlink:href=\"#m4d4625e9bc\" y=\"239.758125\"/>\n      </g>\n     </g>\n     <g id=\"text_3\">\n      <!-- 90 -->\n      <defs>\n       <path d=\"M 10.984375 1.515625 \nL 10.984375 10.5 \nQ 14.703125 8.734375 18.5 7.8125 \nQ 22.3125 6.890625 25.984375 6.890625 \nQ 35.75 6.890625 40.890625 13.453125 \nQ 46.046875 20.015625 46.78125 33.40625 \nQ 43.953125 29.203125 39.59375 26.953125 \nQ 35.25 24.703125 29.984375 24.703125 \nQ 19.046875 24.703125 12.671875 31.3125 \nQ 6.296875 37.9375 6.296875 49.421875 \nQ 6.296875 60.640625 12.9375 67.421875 \nQ 19.578125 74.21875 30.609375 74.21875 \nQ 43.265625 74.21875 49.921875 64.515625 \nQ 56.59375 54.828125 56.59375 36.375 \nQ 56.59375 19.140625 48.40625 8.859375 \nQ 40.234375 -1.421875 26.421875 -1.421875 \nQ 22.703125 -1.421875 18.890625 -0.6875 \nQ 15.09375 0.046875 10.984375 1.515625 \nz\nM 30.609375 32.421875 \nQ 37.25 32.421875 41.125 36.953125 \nQ 45.015625 41.5 45.015625 49.421875 \nQ 45.015625 57.28125 41.125 61.84375 \nQ 37.25 66.40625 30.609375 66.40625 \nQ 23.96875 66.40625 20.09375 61.84375 \nQ 16.21875 57.28125 16.21875 49.421875 \nQ 16.21875 41.5 20.09375 36.953125 \nQ 23.96875 32.421875 30.609375 32.421875 \nz\n\" id=\"DejaVuSans-57\"/>\n      </defs>\n      <g transform=\"translate(161.254462 254.356562)scale(0.1 -0.1)\">\n       <use xlink:href=\"#DejaVuSans-57\"/>\n       <use x=\"63.623047\" xlink:href=\"#DejaVuSans-48\"/>\n      </g>\n     </g>\n    </g>\n    <g id=\"xtick_4\">\n     <g id=\"line2d_4\">\n      <g>\n       <use style=\"stroke:#000000;stroke-width:0.8;\" x=\"217.349582\" xlink:href=\"#m4d4625e9bc\" y=\"239.758125\"/>\n      </g>\n     </g>\n     <g id=\"text_4\">\n      <!-- 95 -->\n      <g transform=\"translate(210.987082 254.356562)scale(0.1 -0.1)\">\n       <use xlink:href=\"#DejaVuSans-57\"/>\n       <use x=\"63.623047\" xlink:href=\"#DejaVuSans-53\"/>\n      </g>\n     </g>\n    </g>\n    <g id=\"xtick_5\">\n     <g id=\"line2d_5\">\n      <g>\n       <use style=\"stroke:#000000;stroke-width:0.8;\" x=\"267.082203\" xlink:href=\"#m4d4625e9bc\" y=\"239.758125\"/>\n      </g>\n     </g>\n     <g id=\"text_5\">\n      <!-- 100 -->\n      <defs>\n       <path d=\"M 12.40625 8.296875 \nL 28.515625 8.296875 \nL 28.515625 63.921875 \nL 10.984375 60.40625 \nL 10.984375 69.390625 \nL 28.421875 72.90625 \nL 38.28125 72.90625 \nL 38.28125 8.296875 \nL 54.390625 8.296875 \nL 54.390625 0 \nL 12.40625 0 \nz\n\" id=\"DejaVuSans-49\"/>\n      </defs>\n      <g transform=\"translate(257.538453 254.356562)scale(0.1 -0.1)\">\n       <use xlink:href=\"#DejaVuSans-49\"/>\n       <use x=\"63.623047\" xlink:href=\"#DejaVuSans-48\"/>\n       <use x=\"127.246094\" xlink:href=\"#DejaVuSans-48\"/>\n      </g>\n     </g>\n    </g>\n    <g id=\"xtick_6\">\n     <g id=\"line2d_6\">\n      <g>\n       <use style=\"stroke:#000000;stroke-width:0.8;\" x=\"316.814823\" xlink:href=\"#m4d4625e9bc\" y=\"239.758125\"/>\n      </g>\n     </g>\n     <g id=\"text_6\">\n      <!-- 105 -->\n      <g transform=\"translate(307.271073 254.356562)scale(0.1 -0.1)\">\n       <use xlink:href=\"#DejaVuSans-49\"/>\n       <use x=\"63.623047\" xlink:href=\"#DejaVuSans-48\"/>\n       <use x=\"127.246094\" xlink:href=\"#DejaVuSans-53\"/>\n      </g>\n     </g>\n    </g>\n    <g id=\"xtick_7\">\n     <g id=\"line2d_7\">\n      <g>\n       <use style=\"stroke:#000000;stroke-width:0.8;\" x=\"366.547443\" xlink:href=\"#m4d4625e9bc\" y=\"239.758125\"/>\n      </g>\n     </g>\n     <g id=\"text_7\">\n      <!-- 110 -->\n      <g transform=\"translate(357.003693 254.356562)scale(0.1 -0.1)\">\n       <use xlink:href=\"#DejaVuSans-49\"/>\n       <use x=\"63.623047\" xlink:href=\"#DejaVuSans-49\"/>\n       <use x=\"127.246094\" xlink:href=\"#DejaVuSans-48\"/>\n      </g>\n     </g>\n    </g>\n    <g id=\"text_8\">\n     <!-- Actual Rent -->\n     <defs>\n      <path d=\"M 34.1875 63.1875 \nL 20.796875 26.90625 \nL 47.609375 26.90625 \nz\nM 28.609375 72.90625 \nL 39.796875 72.90625 \nL 67.578125 0 \nL 57.328125 0 \nL 50.6875 18.703125 \nL 17.828125 18.703125 \nL 11.1875 0 \nL 0.78125 0 \nz\n\" id=\"DejaVuSans-65\"/>\n      <path d=\"M 48.78125 52.59375 \nL 48.78125 44.1875 \nQ 44.96875 46.296875 41.140625 47.34375 \nQ 37.3125 48.390625 33.40625 48.390625 \nQ 24.65625 48.390625 19.8125 42.84375 \nQ 14.984375 37.3125 14.984375 27.296875 \nQ 14.984375 17.28125 19.8125 11.734375 \nQ 24.65625 6.203125 33.40625 6.203125 \nQ 37.3125 6.203125 41.140625 7.25 \nQ 44.96875 8.296875 48.78125 10.40625 \nL 48.78125 2.09375 \nQ 45.015625 0.34375 40.984375 -0.53125 \nQ 36.96875 -1.421875 32.421875 -1.421875 \nQ 20.0625 -1.421875 12.78125 6.34375 \nQ 5.515625 14.109375 5.515625 27.296875 \nQ 5.515625 40.671875 12.859375 48.328125 \nQ 20.21875 56 33.015625 56 \nQ 37.15625 56 41.109375 55.140625 \nQ 45.0625 54.296875 48.78125 52.59375 \nz\n\" id=\"DejaVuSans-99\"/>\n      <path d=\"M 18.3125 70.21875 \nL 18.3125 54.6875 \nL 36.8125 54.6875 \nL 36.8125 47.703125 \nL 18.3125 47.703125 \nL 18.3125 18.015625 \nQ 18.3125 11.328125 20.140625 9.421875 \nQ 21.96875 7.515625 27.59375 7.515625 \nL 36.8125 7.515625 \nL 36.8125 0 \nL 27.59375 0 \nQ 17.1875 0 13.234375 3.875 \nQ 9.28125 7.765625 9.28125 18.015625 \nL 9.28125 47.703125 \nL 2.6875 47.703125 \nL 2.6875 54.6875 \nL 9.28125 54.6875 \nL 9.28125 70.21875 \nz\n\" id=\"DejaVuSans-116\"/>\n      <path d=\"M 8.5 21.578125 \nL 8.5 54.6875 \nL 17.484375 54.6875 \nL 17.484375 21.921875 \nQ 17.484375 14.15625 20.5 10.265625 \nQ 23.53125 6.390625 29.59375 6.390625 \nQ 36.859375 6.390625 41.078125 11.03125 \nQ 45.3125 15.671875 45.3125 23.6875 \nL 45.3125 54.6875 \nL 54.296875 54.6875 \nL 54.296875 0 \nL 45.3125 0 \nL 45.3125 8.40625 \nQ 42.046875 3.421875 37.71875 1 \nQ 33.40625 -1.421875 27.6875 -1.421875 \nQ 18.265625 -1.421875 13.375 4.4375 \nQ 8.5 10.296875 8.5 21.578125 \nz\nM 31.109375 56 \nz\n\" id=\"DejaVuSans-117\"/>\n      <path d=\"M 34.28125 27.484375 \nQ 23.390625 27.484375 19.1875 25 \nQ 14.984375 22.515625 14.984375 16.5 \nQ 14.984375 11.71875 18.140625 8.90625 \nQ 21.296875 6.109375 26.703125 6.109375 \nQ 34.1875 6.109375 38.703125 11.40625 \nQ 43.21875 16.703125 43.21875 25.484375 \nL 43.21875 27.484375 \nz\nM 52.203125 31.203125 \nL 52.203125 0 \nL 43.21875 0 \nL 43.21875 8.296875 \nQ 40.140625 3.328125 35.546875 0.953125 \nQ 30.953125 -1.421875 24.3125 -1.421875 \nQ 15.921875 -1.421875 10.953125 3.296875 \nQ 6 8.015625 6 15.921875 \nQ 6 25.140625 12.171875 29.828125 \nQ 18.359375 34.515625 30.609375 34.515625 \nL 43.21875 34.515625 \nL 43.21875 35.40625 \nQ 43.21875 41.609375 39.140625 45 \nQ 35.0625 48.390625 27.6875 48.390625 \nQ 23 48.390625 18.546875 47.265625 \nQ 14.109375 46.140625 10.015625 43.890625 \nL 10.015625 52.203125 \nQ 14.9375 54.109375 19.578125 55.046875 \nQ 24.21875 56 28.609375 56 \nQ 40.484375 56 46.34375 49.84375 \nQ 52.203125 43.703125 52.203125 31.203125 \nz\n\" id=\"DejaVuSans-97\"/>\n      <path d=\"M 9.421875 75.984375 \nL 18.40625 75.984375 \nL 18.40625 0 \nL 9.421875 0 \nz\n\" id=\"DejaVuSans-108\"/>\n      <path id=\"DejaVuSans-32\"/>\n      <path d=\"M 44.390625 34.1875 \nQ 47.5625 33.109375 50.5625 29.59375 \nQ 53.5625 26.078125 56.59375 19.921875 \nL 66.609375 0 \nL 56 0 \nL 46.6875 18.703125 \nQ 43.0625 26.03125 39.671875 28.421875 \nQ 36.28125 30.8125 30.421875 30.8125 \nL 19.671875 30.8125 \nL 19.671875 0 \nL 9.8125 0 \nL 9.8125 72.90625 \nL 32.078125 72.90625 \nQ 44.578125 72.90625 50.734375 67.671875 \nQ 56.890625 62.453125 56.890625 51.90625 \nQ 56.890625 45.015625 53.6875 40.46875 \nQ 50.484375 35.9375 44.390625 34.1875 \nz\nM 19.671875 64.796875 \nL 19.671875 38.921875 \nL 32.078125 38.921875 \nQ 39.203125 38.921875 42.84375 42.21875 \nQ 46.484375 45.515625 46.484375 51.90625 \nQ 46.484375 58.296875 42.84375 61.546875 \nQ 39.203125 64.796875 32.078125 64.796875 \nz\n\" id=\"DejaVuSans-82\"/>\n      <path d=\"M 56.203125 29.59375 \nL 56.203125 25.203125 \nL 14.890625 25.203125 \nQ 15.484375 15.921875 20.484375 11.0625 \nQ 25.484375 6.203125 34.421875 6.203125 \nQ 39.59375 6.203125 44.453125 7.46875 \nQ 49.3125 8.734375 54.109375 11.28125 \nL 54.109375 2.78125 \nQ 49.265625 0.734375 44.1875 -0.34375 \nQ 39.109375 -1.421875 33.890625 -1.421875 \nQ 20.796875 -1.421875 13.15625 6.1875 \nQ 5.515625 13.8125 5.515625 26.8125 \nQ 5.515625 40.234375 12.765625 48.109375 \nQ 20.015625 56 32.328125 56 \nQ 43.359375 56 49.78125 48.890625 \nQ 56.203125 41.796875 56.203125 29.59375 \nz\nM 47.21875 32.234375 \nQ 47.125 39.59375 43.09375 43.984375 \nQ 39.0625 48.390625 32.421875 48.390625 \nQ 24.90625 48.390625 20.390625 44.140625 \nQ 15.875 39.890625 15.1875 32.171875 \nz\n\" id=\"DejaVuSans-101\"/>\n      <path d=\"M 54.890625 33.015625 \nL 54.890625 0 \nL 45.90625 0 \nL 45.90625 32.71875 \nQ 45.90625 40.484375 42.875 44.328125 \nQ 39.84375 48.1875 33.796875 48.1875 \nQ 26.515625 48.1875 22.3125 43.546875 \nQ 18.109375 38.921875 18.109375 30.90625 \nL 18.109375 0 \nL 9.078125 0 \nL 9.078125 54.6875 \nL 18.109375 54.6875 \nL 18.109375 46.1875 \nQ 21.34375 51.125 25.703125 53.5625 \nQ 30.078125 56 35.796875 56 \nQ 45.21875 56 50.046875 50.171875 \nQ 54.890625 44.34375 54.890625 33.015625 \nz\n\" id=\"DejaVuSans-110\"/>\n     </defs>\n     <g transform=\"translate(185.657813 268.034687)scale(0.1 -0.1)\">\n      <use xlink:href=\"#DejaVuSans-65\"/>\n      <use x=\"66.658203\" xlink:href=\"#DejaVuSans-99\"/>\n      <use x=\"121.638672\" xlink:href=\"#DejaVuSans-116\"/>\n      <use x=\"160.847656\" xlink:href=\"#DejaVuSans-117\"/>\n      <use x=\"224.226562\" xlink:href=\"#DejaVuSans-97\"/>\n      <use x=\"285.505859\" xlink:href=\"#DejaVuSans-108\"/>\n      <use x=\"313.289062\" xlink:href=\"#DejaVuSans-32\"/>\n      <use x=\"345.076172\" xlink:href=\"#DejaVuSans-82\"/>\n      <use x=\"410.058594\" xlink:href=\"#DejaVuSans-101\"/>\n      <use x=\"471.582031\" xlink:href=\"#DejaVuSans-110\"/>\n      <use x=\"534.960938\" xlink:href=\"#DejaVuSans-116\"/>\n     </g>\n    </g>\n   </g>\n   <g id=\"matplotlib.axis_2\">\n    <g id=\"ytick_1\">\n     <g id=\"line2d_8\">\n      <defs>\n       <path d=\"M 0 0 \nL -3.5 0 \n\" id=\"m3dc45f5d92\" style=\"stroke:#000000;stroke-width:0.8;\"/>\n      </defs>\n      <g>\n       <use style=\"stroke:#000000;stroke-width:0.8;\" x=\"46.965625\" xlink:href=\"#m3dc45f5d92\" y=\"222.990194\"/>\n      </g>\n     </g>\n     <g id=\"text_9\">\n      <!-- 96 -->\n      <defs>\n       <path d=\"M 33.015625 40.375 \nQ 26.375 40.375 22.484375 35.828125 \nQ 18.609375 31.296875 18.609375 23.390625 \nQ 18.609375 15.53125 22.484375 10.953125 \nQ 26.375 6.390625 33.015625 6.390625 \nQ 39.65625 6.390625 43.53125 10.953125 \nQ 47.40625 15.53125 47.40625 23.390625 \nQ 47.40625 31.296875 43.53125 35.828125 \nQ 39.65625 40.375 33.015625 40.375 \nz\nM 52.59375 71.296875 \nL 52.59375 62.3125 \nQ 48.875 64.0625 45.09375 64.984375 \nQ 41.3125 65.921875 37.59375 65.921875 \nQ 27.828125 65.921875 22.671875 59.328125 \nQ 17.53125 52.734375 16.796875 39.40625 \nQ 19.671875 43.65625 24.015625 45.921875 \nQ 28.375 48.1875 33.59375 48.1875 \nQ 44.578125 48.1875 50.953125 41.515625 \nQ 57.328125 34.859375 57.328125 23.390625 \nQ 57.328125 12.15625 50.6875 5.359375 \nQ 44.046875 -1.421875 33.015625 -1.421875 \nQ 20.359375 -1.421875 13.671875 8.265625 \nQ 6.984375 17.96875 6.984375 36.375 \nQ 6.984375 53.65625 15.1875 63.9375 \nQ 23.390625 74.21875 37.203125 74.21875 \nQ 40.921875 74.21875 44.703125 73.484375 \nQ 48.484375 72.75 52.59375 71.296875 \nz\n\" id=\"DejaVuSans-54\"/>\n      </defs>\n      <g transform=\"translate(27.240625 226.789413)scale(0.1 -0.1)\">\n       <use xlink:href=\"#DejaVuSans-57\"/>\n       <use x=\"63.623047\" xlink:href=\"#DejaVuSans-54\"/>\n      </g>\n     </g>\n    </g>\n    <g id=\"ytick_2\">\n     <g id=\"line2d_9\">\n      <g>\n       <use style=\"stroke:#000000;stroke-width:0.8;\" x=\"46.965625\" xlink:href=\"#m3dc45f5d92\" y=\"198.151072\"/>\n      </g>\n     </g>\n     <g id=\"text_10\">\n      <!-- 98 -->\n      <g transform=\"translate(27.240625 201.950291)scale(0.1 -0.1)\">\n       <use xlink:href=\"#DejaVuSans-57\"/>\n       <use x=\"63.623047\" xlink:href=\"#DejaVuSans-56\"/>\n      </g>\n     </g>\n    </g>\n    <g id=\"ytick_3\">\n     <g id=\"line2d_10\">\n      <g>\n       <use style=\"stroke:#000000;stroke-width:0.8;\" x=\"46.965625\" xlink:href=\"#m3dc45f5d92\" y=\"173.311951\"/>\n      </g>\n     </g>\n     <g id=\"text_11\">\n      <!-- 100 -->\n      <g transform=\"translate(20.878125 177.11117)scale(0.1 -0.1)\">\n       <use xlink:href=\"#DejaVuSans-49\"/>\n       <use x=\"63.623047\" xlink:href=\"#DejaVuSans-48\"/>\n       <use x=\"127.246094\" xlink:href=\"#DejaVuSans-48\"/>\n      </g>\n     </g>\n    </g>\n    <g id=\"ytick_4\">\n     <g id=\"line2d_11\">\n      <g>\n       <use style=\"stroke:#000000;stroke-width:0.8;\" x=\"46.965625\" xlink:href=\"#m3dc45f5d92\" y=\"148.472829\"/>\n      </g>\n     </g>\n     <g id=\"text_12\">\n      <!-- 102 -->\n      <defs>\n       <path d=\"M 19.1875 8.296875 \nL 53.609375 8.296875 \nL 53.609375 0 \nL 7.328125 0 \nL 7.328125 8.296875 \nQ 12.9375 14.109375 22.625 23.890625 \nQ 32.328125 33.6875 34.8125 36.53125 \nQ 39.546875 41.84375 41.421875 45.53125 \nQ 43.3125 49.21875 43.3125 52.78125 \nQ 43.3125 58.59375 39.234375 62.25 \nQ 35.15625 65.921875 28.609375 65.921875 \nQ 23.96875 65.921875 18.8125 64.3125 \nQ 13.671875 62.703125 7.8125 59.421875 \nL 7.8125 69.390625 \nQ 13.765625 71.78125 18.9375 73 \nQ 24.125 74.21875 28.421875 74.21875 \nQ 39.75 74.21875 46.484375 68.546875 \nQ 53.21875 62.890625 53.21875 53.421875 \nQ 53.21875 48.921875 51.53125 44.890625 \nQ 49.859375 40.875 45.40625 35.40625 \nQ 44.1875 33.984375 37.640625 27.21875 \nQ 31.109375 20.453125 19.1875 8.296875 \nz\n\" id=\"DejaVuSans-50\"/>\n      </defs>\n      <g transform=\"translate(20.878125 152.272048)scale(0.1 -0.1)\">\n       <use xlink:href=\"#DejaVuSans-49\"/>\n       <use x=\"63.623047\" xlink:href=\"#DejaVuSans-48\"/>\n       <use x=\"127.246094\" xlink:href=\"#DejaVuSans-50\"/>\n      </g>\n     </g>\n    </g>\n    <g id=\"ytick_5\">\n     <g id=\"line2d_12\">\n      <g>\n       <use style=\"stroke:#000000;stroke-width:0.8;\" x=\"46.965625\" xlink:href=\"#m3dc45f5d92\" y=\"123.633708\"/>\n      </g>\n     </g>\n     <g id=\"text_13\">\n      <!-- 104 -->\n      <defs>\n       <path d=\"M 37.796875 64.3125 \nL 12.890625 25.390625 \nL 37.796875 25.390625 \nz\nM 35.203125 72.90625 \nL 47.609375 72.90625 \nL 47.609375 25.390625 \nL 58.015625 25.390625 \nL 58.015625 17.1875 \nL 47.609375 17.1875 \nL 47.609375 0 \nL 37.796875 0 \nL 37.796875 17.1875 \nL 4.890625 17.1875 \nL 4.890625 26.703125 \nz\n\" id=\"DejaVuSans-52\"/>\n      </defs>\n      <g transform=\"translate(20.878125 127.432926)scale(0.1 -0.1)\">\n       <use xlink:href=\"#DejaVuSans-49\"/>\n       <use x=\"63.623047\" xlink:href=\"#DejaVuSans-48\"/>\n       <use x=\"127.246094\" xlink:href=\"#DejaVuSans-52\"/>\n      </g>\n     </g>\n    </g>\n    <g id=\"ytick_6\">\n     <g id=\"line2d_13\">\n      <g>\n       <use style=\"stroke:#000000;stroke-width:0.8;\" x=\"46.965625\" xlink:href=\"#m3dc45f5d92\" y=\"98.794586\"/>\n      </g>\n     </g>\n     <g id=\"text_14\">\n      <!-- 106 -->\n      <g transform=\"translate(20.878125 102.593805)scale(0.1 -0.1)\">\n       <use xlink:href=\"#DejaVuSans-49\"/>\n       <use x=\"63.623047\" xlink:href=\"#DejaVuSans-48\"/>\n       <use x=\"127.246094\" xlink:href=\"#DejaVuSans-54\"/>\n      </g>\n     </g>\n    </g>\n    <g id=\"ytick_7\">\n     <g id=\"line2d_14\">\n      <g>\n       <use style=\"stroke:#000000;stroke-width:0.8;\" x=\"46.965625\" xlink:href=\"#m3dc45f5d92\" y=\"73.955464\"/>\n      </g>\n     </g>\n     <g id=\"text_15\">\n      <!-- 108 -->\n      <g transform=\"translate(20.878125 77.754683)scale(0.1 -0.1)\">\n       <use xlink:href=\"#DejaVuSans-49\"/>\n       <use x=\"63.623047\" xlink:href=\"#DejaVuSans-48\"/>\n       <use x=\"127.246094\" xlink:href=\"#DejaVuSans-56\"/>\n      </g>\n     </g>\n    </g>\n    <g id=\"ytick_8\">\n     <g id=\"line2d_15\">\n      <g>\n       <use style=\"stroke:#000000;stroke-width:0.8;\" x=\"46.965625\" xlink:href=\"#m3dc45f5d92\" y=\"49.116343\"/>\n      </g>\n     </g>\n     <g id=\"text_16\">\n      <!-- 110 -->\n      <g transform=\"translate(20.878125 52.915561)scale(0.1 -0.1)\">\n       <use xlink:href=\"#DejaVuSans-49\"/>\n       <use x=\"63.623047\" xlink:href=\"#DejaVuSans-49\"/>\n       <use x=\"127.246094\" xlink:href=\"#DejaVuSans-48\"/>\n      </g>\n     </g>\n    </g>\n    <g id=\"ytick_9\">\n     <g id=\"line2d_16\">\n      <g>\n       <use style=\"stroke:#000000;stroke-width:0.8;\" x=\"46.965625\" xlink:href=\"#m3dc45f5d92\" y=\"24.277221\"/>\n      </g>\n     </g>\n     <g id=\"text_17\">\n      <!-- 112 -->\n      <g transform=\"translate(20.878125 28.07644)scale(0.1 -0.1)\">\n       <use xlink:href=\"#DejaVuSans-49\"/>\n       <use x=\"63.623047\" xlink:href=\"#DejaVuSans-49\"/>\n       <use x=\"127.246094\" xlink:href=\"#DejaVuSans-50\"/>\n      </g>\n     </g>\n    </g>\n    <g id=\"text_18\">\n     <!-- Predicted Rent -->\n     <defs>\n      <path d=\"M 19.671875 64.796875 \nL 19.671875 37.40625 \nL 32.078125 37.40625 \nQ 38.96875 37.40625 42.71875 40.96875 \nQ 46.484375 44.53125 46.484375 51.125 \nQ 46.484375 57.671875 42.71875 61.234375 \nQ 38.96875 64.796875 32.078125 64.796875 \nz\nM 9.8125 72.90625 \nL 32.078125 72.90625 \nQ 44.34375 72.90625 50.609375 67.359375 \nQ 56.890625 61.8125 56.890625 51.125 \nQ 56.890625 40.328125 50.609375 34.8125 \nQ 44.34375 29.296875 32.078125 29.296875 \nL 19.671875 29.296875 \nL 19.671875 0 \nL 9.8125 0 \nz\n\" id=\"DejaVuSans-80\"/>\n      <path d=\"M 41.109375 46.296875 \nQ 39.59375 47.171875 37.8125 47.578125 \nQ 36.03125 48 33.890625 48 \nQ 26.265625 48 22.1875 43.046875 \nQ 18.109375 38.09375 18.109375 28.8125 \nL 18.109375 0 \nL 9.078125 0 \nL 9.078125 54.6875 \nL 18.109375 54.6875 \nL 18.109375 46.1875 \nQ 20.953125 51.171875 25.484375 53.578125 \nQ 30.03125 56 36.53125 56 \nQ 37.453125 56 38.578125 55.875 \nQ 39.703125 55.765625 41.0625 55.515625 \nz\n\" id=\"DejaVuSans-114\"/>\n      <path d=\"M 45.40625 46.390625 \nL 45.40625 75.984375 \nL 54.390625 75.984375 \nL 54.390625 0 \nL 45.40625 0 \nL 45.40625 8.203125 \nQ 42.578125 3.328125 38.25 0.953125 \nQ 33.9375 -1.421875 27.875 -1.421875 \nQ 17.96875 -1.421875 11.734375 6.484375 \nQ 5.515625 14.40625 5.515625 27.296875 \nQ 5.515625 40.1875 11.734375 48.09375 \nQ 17.96875 56 27.875 56 \nQ 33.9375 56 38.25 53.625 \nQ 42.578125 51.265625 45.40625 46.390625 \nz\nM 14.796875 27.296875 \nQ 14.796875 17.390625 18.875 11.75 \nQ 22.953125 6.109375 30.078125 6.109375 \nQ 37.203125 6.109375 41.296875 11.75 \nQ 45.40625 17.390625 45.40625 27.296875 \nQ 45.40625 37.203125 41.296875 42.84375 \nQ 37.203125 48.484375 30.078125 48.484375 \nQ 22.953125 48.484375 18.875 42.84375 \nQ 14.796875 37.203125 14.796875 27.296875 \nz\n\" id=\"DejaVuSans-100\"/>\n      <path d=\"M 9.421875 54.6875 \nL 18.40625 54.6875 \nL 18.40625 0 \nL 9.421875 0 \nz\nM 9.421875 75.984375 \nL 18.40625 75.984375 \nL 18.40625 64.59375 \nL 9.421875 64.59375 \nz\n\" id=\"DejaVuSans-105\"/>\n     </defs>\n     <g transform=\"translate(14.798438 167.552187)rotate(-90)scale(0.1 -0.1)\">\n      <use xlink:href=\"#DejaVuSans-80\"/>\n      <use x=\"58.552734\" xlink:href=\"#DejaVuSans-114\"/>\n      <use x=\"97.416016\" xlink:href=\"#DejaVuSans-101\"/>\n      <use x=\"158.939453\" xlink:href=\"#DejaVuSans-100\"/>\n      <use x=\"222.416016\" xlink:href=\"#DejaVuSans-105\"/>\n      <use x=\"250.199219\" xlink:href=\"#DejaVuSans-99\"/>\n      <use x=\"305.179688\" xlink:href=\"#DejaVuSans-116\"/>\n      <use x=\"344.388672\" xlink:href=\"#DejaVuSans-101\"/>\n      <use x=\"405.912109\" xlink:href=\"#DejaVuSans-100\"/>\n      <use x=\"469.388672\" xlink:href=\"#DejaVuSans-32\"/>\n      <use x=\"501.175781\" xlink:href=\"#DejaVuSans-82\"/>\n      <use x=\"566.158203\" xlink:href=\"#DejaVuSans-101\"/>\n      <use x=\"627.681641\" xlink:href=\"#DejaVuSans-110\"/>\n      <use x=\"691.060547\" xlink:href=\"#DejaVuSans-116\"/>\n     </g>\n    </g>\n   </g>\n   <g id=\"patch_3\">\n    <path d=\"M 46.965625 239.758125 \nL 46.965625 22.318125 \n\" style=\"fill:none;stroke:#000000;stroke-linecap:square;stroke-linejoin:miter;stroke-width:0.8;\"/>\n   </g>\n   <g id=\"patch_4\">\n    <path d=\"M 381.765625 239.758125 \nL 381.765625 22.318125 \n\" style=\"fill:none;stroke:#000000;stroke-linecap:square;stroke-linejoin:miter;stroke-width:0.8;\"/>\n   </g>\n   <g id=\"patch_5\">\n    <path d=\"M 46.965625 239.758125 \nL 381.765625 239.758125 \n\" style=\"fill:none;stroke:#000000;stroke-linecap:square;stroke-linejoin:miter;stroke-width:0.8;\"/>\n   </g>\n   <g id=\"patch_6\">\n    <path d=\"M 46.965625 22.318125 \nL 381.765625 22.318125 \n\" style=\"fill:none;stroke:#000000;stroke-linecap:square;stroke-linejoin:miter;stroke-width:0.8;\"/>\n   </g>\n   <g id=\"text_19\">\n    <!-- MULTIPLE LINEAR REGRESSION -->\n    <defs>\n     <path d=\"M 9.8125 72.90625 \nL 24.515625 72.90625 \nL 43.109375 23.296875 \nL 61.8125 72.90625 \nL 76.515625 72.90625 \nL 76.515625 0 \nL 66.890625 0 \nL 66.890625 64.015625 \nL 48.09375 14.015625 \nL 38.1875 14.015625 \nL 19.390625 64.015625 \nL 19.390625 0 \nL 9.8125 0 \nz\n\" id=\"DejaVuSans-77\"/>\n     <path d=\"M 8.6875 72.90625 \nL 18.609375 72.90625 \nL 18.609375 28.609375 \nQ 18.609375 16.890625 22.84375 11.734375 \nQ 27.09375 6.59375 36.625 6.59375 \nQ 46.09375 6.59375 50.34375 11.734375 \nQ 54.59375 16.890625 54.59375 28.609375 \nL 54.59375 72.90625 \nL 64.5 72.90625 \nL 64.5 27.390625 \nQ 64.5 13.140625 57.4375 5.859375 \nQ 50.390625 -1.421875 36.625 -1.421875 \nQ 22.796875 -1.421875 15.734375 5.859375 \nQ 8.6875 13.140625 8.6875 27.390625 \nz\n\" id=\"DejaVuSans-85\"/>\n     <path d=\"M 9.8125 72.90625 \nL 19.671875 72.90625 \nL 19.671875 8.296875 \nL 55.171875 8.296875 \nL 55.171875 0 \nL 9.8125 0 \nz\n\" id=\"DejaVuSans-76\"/>\n     <path d=\"M -0.296875 72.90625 \nL 61.375 72.90625 \nL 61.375 64.59375 \nL 35.5 64.59375 \nL 35.5 0 \nL 25.59375 0 \nL 25.59375 64.59375 \nL -0.296875 64.59375 \nz\n\" id=\"DejaVuSans-84\"/>\n     <path d=\"M 9.8125 72.90625 \nL 19.671875 72.90625 \nL 19.671875 0 \nL 9.8125 0 \nz\n\" id=\"DejaVuSans-73\"/>\n     <path d=\"M 9.8125 72.90625 \nL 55.90625 72.90625 \nL 55.90625 64.59375 \nL 19.671875 64.59375 \nL 19.671875 43.015625 \nL 54.390625 43.015625 \nL 54.390625 34.71875 \nL 19.671875 34.71875 \nL 19.671875 8.296875 \nL 56.78125 8.296875 \nL 56.78125 0 \nL 9.8125 0 \nz\n\" id=\"DejaVuSans-69\"/>\n     <path d=\"M 9.8125 72.90625 \nL 23.09375 72.90625 \nL 55.421875 11.921875 \nL 55.421875 72.90625 \nL 64.984375 72.90625 \nL 64.984375 0 \nL 51.703125 0 \nL 19.390625 60.984375 \nL 19.390625 0 \nL 9.8125 0 \nz\n\" id=\"DejaVuSans-78\"/>\n     <path d=\"M 59.515625 10.40625 \nL 59.515625 29.984375 \nL 43.40625 29.984375 \nL 43.40625 38.09375 \nL 69.28125 38.09375 \nL 69.28125 6.78125 \nQ 63.578125 2.734375 56.6875 0.65625 \nQ 49.8125 -1.421875 42 -1.421875 \nQ 24.90625 -1.421875 15.25 8.5625 \nQ 5.609375 18.5625 5.609375 36.375 \nQ 5.609375 54.25 15.25 64.234375 \nQ 24.90625 74.21875 42 74.21875 \nQ 49.125 74.21875 55.546875 72.453125 \nQ 61.96875 70.703125 67.390625 67.28125 \nL 67.390625 56.78125 \nQ 61.921875 61.421875 55.765625 63.765625 \nQ 49.609375 66.109375 42.828125 66.109375 \nQ 29.4375 66.109375 22.71875 58.640625 \nQ 16.015625 51.171875 16.015625 36.375 \nQ 16.015625 21.625 22.71875 14.15625 \nQ 29.4375 6.6875 42.828125 6.6875 \nQ 48.046875 6.6875 52.140625 7.59375 \nQ 56.25 8.5 59.515625 10.40625 \nz\n\" id=\"DejaVuSans-71\"/>\n     <path d=\"M 53.515625 70.515625 \nL 53.515625 60.890625 \nQ 47.90625 63.578125 42.921875 64.890625 \nQ 37.9375 66.21875 33.296875 66.21875 \nQ 25.25 66.21875 20.875 63.09375 \nQ 16.5 59.96875 16.5 54.203125 \nQ 16.5 49.359375 19.40625 46.890625 \nQ 22.3125 44.4375 30.421875 42.921875 \nL 36.375 41.703125 \nQ 47.40625 39.59375 52.65625 34.296875 \nQ 57.90625 29 57.90625 20.125 \nQ 57.90625 9.515625 50.796875 4.046875 \nQ 43.703125 -1.421875 29.984375 -1.421875 \nQ 24.8125 -1.421875 18.96875 -0.25 \nQ 13.140625 0.921875 6.890625 3.21875 \nL 6.890625 13.375 \nQ 12.890625 10.015625 18.65625 8.296875 \nQ 24.421875 6.59375 29.984375 6.59375 \nQ 38.421875 6.59375 43.015625 9.90625 \nQ 47.609375 13.234375 47.609375 19.390625 \nQ 47.609375 24.75 44.3125 27.78125 \nQ 41.015625 30.8125 33.5 32.328125 \nL 27.484375 33.5 \nQ 16.453125 35.6875 11.515625 40.375 \nQ 6.59375 45.0625 6.59375 53.421875 \nQ 6.59375 63.09375 13.40625 68.65625 \nQ 20.21875 74.21875 32.171875 74.21875 \nQ 37.3125 74.21875 42.625 73.28125 \nQ 47.953125 72.359375 53.515625 70.515625 \nz\n\" id=\"DejaVuSans-83\"/>\n     <path d=\"M 39.40625 66.21875 \nQ 28.65625 66.21875 22.328125 58.203125 \nQ 16.015625 50.203125 16.015625 36.375 \nQ 16.015625 22.609375 22.328125 14.59375 \nQ 28.65625 6.59375 39.40625 6.59375 \nQ 50.140625 6.59375 56.421875 14.59375 \nQ 62.703125 22.609375 62.703125 36.375 \nQ 62.703125 50.203125 56.421875 58.203125 \nQ 50.140625 66.21875 39.40625 66.21875 \nz\nM 39.40625 74.21875 \nQ 54.734375 74.21875 63.90625 63.9375 \nQ 73.09375 53.65625 73.09375 36.375 \nQ 73.09375 19.140625 63.90625 8.859375 \nQ 54.734375 -1.421875 39.40625 -1.421875 \nQ 24.03125 -1.421875 14.8125 8.828125 \nQ 5.609375 19.09375 5.609375 36.375 \nQ 5.609375 53.65625 14.8125 63.9375 \nQ 24.03125 74.21875 39.40625 74.21875 \nz\n\" id=\"DejaVuSans-79\"/>\n    </defs>\n    <g transform=\"translate(121.4425 16.318125)scale(0.12 -0.12)\">\n     <use xlink:href=\"#DejaVuSans-77\"/>\n     <use x=\"86.279297\" xlink:href=\"#DejaVuSans-85\"/>\n     <use x=\"159.472656\" xlink:href=\"#DejaVuSans-76\"/>\n     <use x=\"201.435547\" xlink:href=\"#DejaVuSans-84\"/>\n     <use x=\"262.519531\" xlink:href=\"#DejaVuSans-73\"/>\n     <use x=\"292.011719\" xlink:href=\"#DejaVuSans-80\"/>\n     <use x=\"352.314453\" xlink:href=\"#DejaVuSans-76\"/>\n     <use x=\"408.027344\" xlink:href=\"#DejaVuSans-69\"/>\n     <use x=\"471.210938\" xlink:href=\"#DejaVuSans-32\"/>\n     <use x=\"502.998047\" xlink:href=\"#DejaVuSans-76\"/>\n     <use x=\"558.710938\" xlink:href=\"#DejaVuSans-73\"/>\n     <use x=\"588.203125\" xlink:href=\"#DejaVuSans-78\"/>\n     <use x=\"663.007812\" xlink:href=\"#DejaVuSans-69\"/>\n     <use x=\"726.191406\" xlink:href=\"#DejaVuSans-65\"/>\n     <use x=\"794.599609\" xlink:href=\"#DejaVuSans-82\"/>\n     <use x=\"864.082031\" xlink:href=\"#DejaVuSans-32\"/>\n     <use x=\"895.869141\" xlink:href=\"#DejaVuSans-82\"/>\n     <use x=\"965.351562\" xlink:href=\"#DejaVuSans-69\"/>\n     <use x=\"1028.535156\" xlink:href=\"#DejaVuSans-71\"/>\n     <use x=\"1106.025391\" xlink:href=\"#DejaVuSans-82\"/>\n     <use x=\"1175.507812\" xlink:href=\"#DejaVuSans-69\"/>\n     <use x=\"1238.691406\" xlink:href=\"#DejaVuSans-83\"/>\n     <use x=\"1302.167969\" xlink:href=\"#DejaVuSans-83\"/>\n     <use x=\"1365.644531\" xlink:href=\"#DejaVuSans-73\"/>\n     <use x=\"1395.136719\" xlink:href=\"#DejaVuSans-79\"/>\n     <use x=\"1473.847656\" xlink:href=\"#DejaVuSans-78\"/>\n    </g>\n   </g>\n  </g>\n </g>\n <defs>\n  <clipPath id=\"p3ed1bf97e2\">\n   <rect height=\"217.44\" width=\"334.8\" x=\"46.965625\" y=\"22.318125\"/>\n  </clipPath>\n </defs>\n</svg>\n",
      "image/png": "[encoded data removed]"
     },
     "metadata": {
      "needs_background": "light"
     }
    }
   ],
   "source": [
    "plt.scatter(y_test, y_predict, alpha=0.4)\n",
    "plt.xlabel(\"Actual Rent\")\n",
    "plt.ylabel(\"Predicted Rent\")\n",
    "plt.title(\"MULTIPLE LINEAR REGRESSION\")\n",
    "plt.show()"
   ]
  },
  {
   "cell_type": "code",
   "execution_count": 82,
   "metadata": {},
   "outputs": [
    {
     "output_type": "stream",
     "name": "stdout",
     "text": [
      "[[-0.0238983   0.01616599 -0.01993463  0.00703688 -0.03759444 -0.10845262\n  -0.0303749 ]]\n"
     ]
    }
   ],
   "source": [
    "print(mlr.coef_) #회귀모델의 계수"
   ]
  },
  {
   "cell_type": "code",
   "execution_count": 83,
   "metadata": {},
   "outputs": [
    {
     "output_type": "stream",
     "name": "stdout",
     "text": [
      "0.9165312111514448\n"
     ]
    }
   ],
   "source": [
    "print(mlr.score(X_train, y_train)) #모델의 결정계수\n",
    "# 91%를 해당변수들로 설명할 수 있다.(train, test split 분할 고정하지않아서 값이 변함.)"
   ]
  }
 ]
}