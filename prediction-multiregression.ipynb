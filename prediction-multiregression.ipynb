{
 "metadata": {
  "language_info": {
   "codemirror_mode": {
    "name": "ipython",
    "version": 3
   },
   "file_extension": ".py",
   "mimetype": "text/x-python",
   "name": "python",
   "nbconvert_exporter": "python",
   "pygments_lexer": "ipython3",
   "version": "3.8.3-final"
  },
  "orig_nbformat": 2,
  "kernelspec": {
   "name": "python3",
   "display_name": "Python 3"
  }
 },
 "nbformat": 4,
 "nbformat_minor": 2,
 "cells": [
  {
   "cell_type": "code",
   "execution_count": 1,
   "metadata": {},
   "outputs": [],
   "source": [
    "import pandas as pd\n",
    "from sklearn.model_selection import train_test_split\n",
    "import pymysql\n",
    "import numpy as np\n",
    "from sklearn.linear_model import LinearRegression\n",
    "from sklearn.metrics import mean_squared_error\n",
    "import matplotlib.pyplot as plt"
   ]
  },
  {
   "source": [
    "## data load"
   ],
   "cell_type": "markdown",
   "metadata": {}
  },
  {
   "source": [
    "### DB 연동"
   ],
   "cell_type": "markdown",
   "metadata": {}
  },
  {
   "cell_type": "code",
   "execution_count": 2,
   "metadata": {},
   "outputs": [
    {
     "output_type": "stream",
     "name": "stdout",
     "text": [
      "[{'Database': 'information_schema'}, {'Database': 'CLI'}, {'Database': 'MusicBank'}, {'Database': 'mysql'}, {'Database': 'mytestdb'}, {'Database': 'performance_schema'}, {'Database': 'sys'}]\n"
     ]
    },
    {
     "output_type": "execute_result",
     "data": {
      "text/plain": [
       "0"
      ]
     },
     "metadata": {},
     "execution_count": 2
    }
   ],
   "source": [
    "# conn = pymysql.connect(host = \"127.0.0.1\", user = [USER], passwd = [PASSWORD], db = [DATABASE], cursorclass = pymysql.cursors.DictCursor)\n",
    "# cur = conn.cursor()\n",
    "\n",
    "conn = pymysql.connect(host = \"127.0.0.1\", user = 'root', passwd = 'yshs0310', db = 'CLI', cursorclass = pymysql.cursors.DictCursor)\n",
    "cur = conn.cursor()\n",
    "\n",
    "cur.execute(\"show databases\")\n",
    "print(cur.fetchall())\n",
    "cur.execute(\"use CLI\")"
   ]
  },
  {
   "source": [
    "### table date loading"
   ],
   "cell_type": "markdown",
   "metadata": {}
  },
  {
   "cell_type": "code",
   "execution_count": 3,
   "metadata": {},
   "outputs": [
    {
     "output_type": "execute_result",
     "data": {
      "text/plain": [
       "     year  month  day  keyword1  keyword2  keyword3  keyword4  keyword5\n",
       "0    2015      9    7       737       399       273       236       135\n",
       "1    2015      9   14       701       513       274       147       226\n",
       "2    2015      9   21       575       267       231       216       111\n",
       "3    2015      9   28       480       248       173       129        79\n",
       "4    2015     10    5       576       262       204        87       109\n",
       "..    ...    ...  ...       ...       ...       ...       ...       ...\n",
       "264  2020      9   28       489        90       114        95        78\n",
       "265  2020     10    5       816       183       177       109        78\n",
       "266  2020     10   12       857       199       176       112        91\n",
       "267  2020     10   19       911       155       143        95       129\n",
       "268  2020     10   26       991       198       178       187       114\n",
       "\n",
       "[269 rows x 8 columns]"
      ],
      "text/html": "<div>\n<style scoped>\n    .dataframe tbody tr th:only-of-type {\n        vertical-align: middle;\n    }\n\n    .dataframe tbody tr th {\n        vertical-align: top;\n    }\n\n    .dataframe thead th {\n        text-align: right;\n    }\n</style>\n<table border=\"1\" class=\"dataframe\">\n  <thead>\n    <tr style=\"text-align: right;\">\n      <th></th>\n      <th>year</th>\n      <th>month</th>\n      <th>day</th>\n      <th>keyword1</th>\n      <th>keyword2</th>\n      <th>keyword3</th>\n      <th>keyword4</th>\n      <th>keyword5</th>\n    </tr>\n  </thead>\n  <tbody>\n    <tr>\n      <th>0</th>\n      <td>2015</td>\n      <td>9</td>\n      <td>7</td>\n      <td>737</td>\n      <td>399</td>\n      <td>273</td>\n      <td>236</td>\n      <td>135</td>\n    </tr>\n    <tr>\n      <th>1</th>\n      <td>2015</td>\n      <td>9</td>\n      <td>14</td>\n      <td>701</td>\n      <td>513</td>\n      <td>274</td>\n      <td>147</td>\n      <td>226</td>\n    </tr>\n    <tr>\n      <th>2</th>\n      <td>2015</td>\n      <td>9</td>\n      <td>21</td>\n      <td>575</td>\n      <td>267</td>\n      <td>231</td>\n      <td>216</td>\n      <td>111</td>\n    </tr>\n    <tr>\n      <th>3</th>\n      <td>2015</td>\n      <td>9</td>\n      <td>28</td>\n      <td>480</td>\n      <td>248</td>\n      <td>173</td>\n      <td>129</td>\n      <td>79</td>\n    </tr>\n    <tr>\n      <th>4</th>\n      <td>2015</td>\n      <td>10</td>\n      <td>5</td>\n      <td>576</td>\n      <td>262</td>\n      <td>204</td>\n      <td>87</td>\n      <td>109</td>\n    </tr>\n    <tr>\n      <th>...</th>\n      <td>...</td>\n      <td>...</td>\n      <td>...</td>\n      <td>...</td>\n      <td>...</td>\n      <td>...</td>\n      <td>...</td>\n      <td>...</td>\n    </tr>\n    <tr>\n      <th>264</th>\n      <td>2020</td>\n      <td>9</td>\n      <td>28</td>\n      <td>489</td>\n      <td>90</td>\n      <td>114</td>\n      <td>95</td>\n      <td>78</td>\n    </tr>\n    <tr>\n      <th>265</th>\n      <td>2020</td>\n      <td>10</td>\n      <td>5</td>\n      <td>816</td>\n      <td>183</td>\n      <td>177</td>\n      <td>109</td>\n      <td>78</td>\n    </tr>\n    <tr>\n      <th>266</th>\n      <td>2020</td>\n      <td>10</td>\n      <td>12</td>\n      <td>857</td>\n      <td>199</td>\n      <td>176</td>\n      <td>112</td>\n      <td>91</td>\n    </tr>\n    <tr>\n      <th>267</th>\n      <td>2020</td>\n      <td>10</td>\n      <td>19</td>\n      <td>911</td>\n      <td>155</td>\n      <td>143</td>\n      <td>95</td>\n      <td>129</td>\n    </tr>\n    <tr>\n      <th>268</th>\n      <td>2020</td>\n      <td>10</td>\n      <td>26</td>\n      <td>991</td>\n      <td>198</td>\n      <td>178</td>\n      <td>187</td>\n      <td>114</td>\n    </tr>\n  </tbody>\n</table>\n<p>269 rows × 8 columns</p>\n</div>"
     },
     "metadata": {},
     "execution_count": 3
    }
   ],
   "source": [
    "query = \"\"\" \n",
    "select * from news_counting ;\n",
    "\"\"\"\n",
    "cur.execute(query)\n",
    "news_df = pd.DataFrame(list(cur.fetchall())).drop(['id'], axis=1)\n",
    "news_df"
   ]
  },
  {
   "cell_type": "code",
   "execution_count": 4,
   "metadata": {},
   "outputs": [
    {
     "output_type": "execute_result",
     "data": {
      "text/plain": [
       "     year  month  day  google     naver\n",
       "17   2016      1    4    53.0  26.05846\n",
       "18   2016      1   11    58.0  25.16599\n",
       "19   2016      1   18    74.0  27.38639\n",
       "20   2016      1   25    59.0  24.72622\n",
       "21   2016      2    1    63.0  23.01888\n",
       "..    ...    ...  ...     ...       ...\n",
       "264  2020      9   28    63.0  25.29102\n",
       "265  2020     10    5    81.0  28.63240\n",
       "266  2020     10   12    82.0  26.85177\n",
       "267  2020     10   19    93.0  27.25273\n",
       "268  2020     10   26    90.0  30.24489\n",
       "\n",
       "[252 rows x 5 columns]"
      ],
      "text/html": "<div>\n<style scoped>\n    .dataframe tbody tr th:only-of-type {\n        vertical-align: middle;\n    }\n\n    .dataframe tbody tr th {\n        vertical-align: top;\n    }\n\n    .dataframe thead th {\n        text-align: right;\n    }\n</style>\n<table border=\"1\" class=\"dataframe\">\n  <thead>\n    <tr style=\"text-align: right;\">\n      <th></th>\n      <th>year</th>\n      <th>month</th>\n      <th>day</th>\n      <th>google</th>\n      <th>naver</th>\n    </tr>\n  </thead>\n  <tbody>\n    <tr>\n      <th>17</th>\n      <td>2016</td>\n      <td>1</td>\n      <td>4</td>\n      <td>53.0</td>\n      <td>26.05846</td>\n    </tr>\n    <tr>\n      <th>18</th>\n      <td>2016</td>\n      <td>1</td>\n      <td>11</td>\n      <td>58.0</td>\n      <td>25.16599</td>\n    </tr>\n    <tr>\n      <th>19</th>\n      <td>2016</td>\n      <td>1</td>\n      <td>18</td>\n      <td>74.0</td>\n      <td>27.38639</td>\n    </tr>\n    <tr>\n      <th>20</th>\n      <td>2016</td>\n      <td>1</td>\n      <td>25</td>\n      <td>59.0</td>\n      <td>24.72622</td>\n    </tr>\n    <tr>\n      <th>21</th>\n      <td>2016</td>\n      <td>2</td>\n      <td>1</td>\n      <td>63.0</td>\n      <td>23.01888</td>\n    </tr>\n    <tr>\n      <th>...</th>\n      <td>...</td>\n      <td>...</td>\n      <td>...</td>\n      <td>...</td>\n      <td>...</td>\n    </tr>\n    <tr>\n      <th>264</th>\n      <td>2020</td>\n      <td>9</td>\n      <td>28</td>\n      <td>63.0</td>\n      <td>25.29102</td>\n    </tr>\n    <tr>\n      <th>265</th>\n      <td>2020</td>\n      <td>10</td>\n      <td>5</td>\n      <td>81.0</td>\n      <td>28.63240</td>\n    </tr>\n    <tr>\n      <th>266</th>\n      <td>2020</td>\n      <td>10</td>\n      <td>12</td>\n      <td>82.0</td>\n      <td>26.85177</td>\n    </tr>\n    <tr>\n      <th>267</th>\n      <td>2020</td>\n      <td>10</td>\n      <td>19</td>\n      <td>93.0</td>\n      <td>27.25273</td>\n    </tr>\n    <tr>\n      <th>268</th>\n      <td>2020</td>\n      <td>10</td>\n      <td>26</td>\n      <td>90.0</td>\n      <td>30.24489</td>\n    </tr>\n  </tbody>\n</table>\n<p>252 rows × 5 columns</p>\n</div>"
     },
     "metadata": {},
     "execution_count": 4
    }
   ],
   "source": [
    "query = \"\"\" \n",
    "select * from portal_trends_ratio ;\n",
    "\"\"\"\n",
    "cur.execute(query)\n",
    "portal_df = pd.DataFrame(list(cur.fetchall()))\n",
    "portal_df = portal_df[['year', 'month', 'day', 'google', 'naver']][17:]\n",
    "\n",
    "# 카카오변수 제외, 구글/네이버를 활용하기위해 네이버변수가 값을 갖는 2016년 1월부터 데이터 사용\n",
    "portal_df\n"
   ]
  },
  {
   "cell_type": "code",
   "execution_count": 5,
   "metadata": {},
   "outputs": [
    {
     "output_type": "execute_result",
     "data": {
      "text/plain": [
       "    id  year  month   ccsi\n",
       "0    5  2016      1   99.5\n",
       "1    6  2016      2   97.2\n",
       "2    7  2016      3   99.5\n",
       "3    8  2016      4  101.1\n",
       "4    9  2016      5   98.6\n",
       "5   10  2016      6   98.2\n",
       "6   11  2016      7  100.5\n",
       "7   12  2016      8  101.4\n",
       "8   13  2016      9  101.3\n",
       "9   14  2016     10  101.6\n",
       "10  15  2016     11   94.9\n",
       "11  16  2016     12   93.2\n",
       "12  17  2017      1   92.3\n",
       "13  18  2017      2   93.5\n",
       "14  19  2017      3   96.0\n",
       "15  20  2017      4  100.7\n",
       "16  21  2017      5  107.9\n",
       "17  22  2017      6  111.2\n",
       "18  23  2017      7  111.3\n",
       "19  24  2017      8  110.0\n",
       "20  25  2017      9  107.6\n",
       "21  26  2017     10  109.2\n",
       "22  27  2017     11  112.4\n",
       "23  28  2017     12  111.0\n",
       "24  29  2018      1  110.3\n",
       "25  30  2018      2  108.4\n",
       "26  31  2018      3  108.3\n",
       "27  32  2018      4  107.3\n",
       "28  33  2018      5  108.2\n",
       "29  34  2018      6  105.6\n",
       "30  35  2018      7  100.9\n",
       "31  36  2018      8   99.0\n",
       "32  37  2018      9  100.1\n",
       "33  38  2018     10   99.3\n",
       "34  39  2018     11   95.7\n",
       "35  40  2018     12   96.9\n",
       "36  41  2019      1   97.5\n",
       "37  42  2019      2   99.6\n",
       "38  43  2019      3   99.8\n",
       "39  44  2019      4  101.7\n",
       "40  45  2019      5   97.9\n",
       "41  46  2019      6   97.6\n",
       "42  47  2019      7   95.9\n",
       "43  48  2019      8   92.4\n",
       "44  49  2019      9   97.0\n",
       "45  50  2019     10   98.6\n",
       "46  51  2019     11  101.0\n",
       "47  52  2019     12  100.5\n",
       "48  53  2020      1  104.2\n",
       "49  54  2020      2   96.9\n",
       "50  55  2020      3   78.4\n",
       "51  56  2020      4   70.8\n",
       "52  57  2020      5   77.6\n",
       "53  58  2020      6   81.8\n",
       "54  59  2020      7   84.2\n",
       "55  60  2020      8   88.2\n",
       "56  61  2020      9   79.4\n",
       "57  62  2020     10   91.6"
      ],
      "text/html": "<div>\n<style scoped>\n    .dataframe tbody tr th:only-of-type {\n        vertical-align: middle;\n    }\n\n    .dataframe tbody tr th {\n        vertical-align: top;\n    }\n\n    .dataframe thead th {\n        text-align: right;\n    }\n</style>\n<table border=\"1\" class=\"dataframe\">\n  <thead>\n    <tr style=\"text-align: right;\">\n      <th></th>\n      <th>id</th>\n      <th>year</th>\n      <th>month</th>\n      <th>ccsi</th>\n    </tr>\n  </thead>\n  <tbody>\n    <tr>\n      <th>0</th>\n      <td>5</td>\n      <td>2016</td>\n      <td>1</td>\n      <td>99.5</td>\n    </tr>\n    <tr>\n      <th>1</th>\n      <td>6</td>\n      <td>2016</td>\n      <td>2</td>\n      <td>97.2</td>\n    </tr>\n    <tr>\n      <th>2</th>\n      <td>7</td>\n      <td>2016</td>\n      <td>3</td>\n      <td>99.5</td>\n    </tr>\n    <tr>\n      <th>3</th>\n      <td>8</td>\n      <td>2016</td>\n      <td>4</td>\n      <td>101.1</td>\n    </tr>\n    <tr>\n      <th>4</th>\n      <td>9</td>\n      <td>2016</td>\n      <td>5</td>\n      <td>98.6</td>\n    </tr>\n    <tr>\n      <th>5</th>\n      <td>10</td>\n      <td>2016</td>\n      <td>6</td>\n      <td>98.2</td>\n    </tr>\n    <tr>\n      <th>6</th>\n      <td>11</td>\n      <td>2016</td>\n      <td>7</td>\n      <td>100.5</td>\n    </tr>\n    <tr>\n      <th>7</th>\n      <td>12</td>\n      <td>2016</td>\n      <td>8</td>\n      <td>101.4</td>\n    </tr>\n    <tr>\n      <th>8</th>\n      <td>13</td>\n      <td>2016</td>\n      <td>9</td>\n      <td>101.3</td>\n    </tr>\n    <tr>\n      <th>9</th>\n      <td>14</td>\n      <td>2016</td>\n      <td>10</td>\n      <td>101.6</td>\n    </tr>\n    <tr>\n      <th>10</th>\n      <td>15</td>\n      <td>2016</td>\n      <td>11</td>\n      <td>94.9</td>\n    </tr>\n    <tr>\n      <th>11</th>\n      <td>16</td>\n      <td>2016</td>\n      <td>12</td>\n      <td>93.2</td>\n    </tr>\n    <tr>\n      <th>12</th>\n      <td>17</td>\n      <td>2017</td>\n      <td>1</td>\n      <td>92.3</td>\n    </tr>\n    <tr>\n      <th>13</th>\n      <td>18</td>\n      <td>2017</td>\n      <td>2</td>\n      <td>93.5</td>\n    </tr>\n    <tr>\n      <th>14</th>\n      <td>19</td>\n      <td>2017</td>\n      <td>3</td>\n      <td>96.0</td>\n    </tr>\n    <tr>\n      <th>15</th>\n      <td>20</td>\n      <td>2017</td>\n      <td>4</td>\n      <td>100.7</td>\n    </tr>\n    <tr>\n      <th>16</th>\n      <td>21</td>\n      <td>2017</td>\n      <td>5</td>\n      <td>107.9</td>\n    </tr>\n    <tr>\n      <th>17</th>\n      <td>22</td>\n      <td>2017</td>\n      <td>6</td>\n      <td>111.2</td>\n    </tr>\n    <tr>\n      <th>18</th>\n      <td>23</td>\n      <td>2017</td>\n      <td>7</td>\n      <td>111.3</td>\n    </tr>\n    <tr>\n      <th>19</th>\n      <td>24</td>\n      <td>2017</td>\n      <td>8</td>\n      <td>110.0</td>\n    </tr>\n    <tr>\n      <th>20</th>\n      <td>25</td>\n      <td>2017</td>\n      <td>9</td>\n      <td>107.6</td>\n    </tr>\n    <tr>\n      <th>21</th>\n      <td>26</td>\n      <td>2017</td>\n      <td>10</td>\n      <td>109.2</td>\n    </tr>\n    <tr>\n      <th>22</th>\n      <td>27</td>\n      <td>2017</td>\n      <td>11</td>\n      <td>112.4</td>\n    </tr>\n    <tr>\n      <th>23</th>\n      <td>28</td>\n      <td>2017</td>\n      <td>12</td>\n      <td>111.0</td>\n    </tr>\n    <tr>\n      <th>24</th>\n      <td>29</td>\n      <td>2018</td>\n      <td>1</td>\n      <td>110.3</td>\n    </tr>\n    <tr>\n      <th>25</th>\n      <td>30</td>\n      <td>2018</td>\n      <td>2</td>\n      <td>108.4</td>\n    </tr>\n    <tr>\n      <th>26</th>\n      <td>31</td>\n      <td>2018</td>\n      <td>3</td>\n      <td>108.3</td>\n    </tr>\n    <tr>\n      <th>27</th>\n      <td>32</td>\n      <td>2018</td>\n      <td>4</td>\n      <td>107.3</td>\n    </tr>\n    <tr>\n      <th>28</th>\n      <td>33</td>\n      <td>2018</td>\n      <td>5</td>\n      <td>108.2</td>\n    </tr>\n    <tr>\n      <th>29</th>\n      <td>34</td>\n      <td>2018</td>\n      <td>6</td>\n      <td>105.6</td>\n    </tr>\n    <tr>\n      <th>30</th>\n      <td>35</td>\n      <td>2018</td>\n      <td>7</td>\n      <td>100.9</td>\n    </tr>\n    <tr>\n      <th>31</th>\n      <td>36</td>\n      <td>2018</td>\n      <td>8</td>\n      <td>99.0</td>\n    </tr>\n    <tr>\n      <th>32</th>\n      <td>37</td>\n      <td>2018</td>\n      <td>9</td>\n      <td>100.1</td>\n    </tr>\n    <tr>\n      <th>33</th>\n      <td>38</td>\n      <td>2018</td>\n      <td>10</td>\n      <td>99.3</td>\n    </tr>\n    <tr>\n      <th>34</th>\n      <td>39</td>\n      <td>2018</td>\n      <td>11</td>\n      <td>95.7</td>\n    </tr>\n    <tr>\n      <th>35</th>\n      <td>40</td>\n      <td>2018</td>\n      <td>12</td>\n      <td>96.9</td>\n    </tr>\n    <tr>\n      <th>36</th>\n      <td>41</td>\n      <td>2019</td>\n      <td>1</td>\n      <td>97.5</td>\n    </tr>\n    <tr>\n      <th>37</th>\n      <td>42</td>\n      <td>2019</td>\n      <td>2</td>\n      <td>99.6</td>\n    </tr>\n    <tr>\n      <th>38</th>\n      <td>43</td>\n      <td>2019</td>\n      <td>3</td>\n      <td>99.8</td>\n    </tr>\n    <tr>\n      <th>39</th>\n      <td>44</td>\n      <td>2019</td>\n      <td>4</td>\n      <td>101.7</td>\n    </tr>\n    <tr>\n      <th>40</th>\n      <td>45</td>\n      <td>2019</td>\n      <td>5</td>\n      <td>97.9</td>\n    </tr>\n    <tr>\n      <th>41</th>\n      <td>46</td>\n      <td>2019</td>\n      <td>6</td>\n      <td>97.6</td>\n    </tr>\n    <tr>\n      <th>42</th>\n      <td>47</td>\n      <td>2019</td>\n      <td>7</td>\n      <td>95.9</td>\n    </tr>\n    <tr>\n      <th>43</th>\n      <td>48</td>\n      <td>2019</td>\n      <td>8</td>\n      <td>92.4</td>\n    </tr>\n    <tr>\n      <th>44</th>\n      <td>49</td>\n      <td>2019</td>\n      <td>9</td>\n      <td>97.0</td>\n    </tr>\n    <tr>\n      <th>45</th>\n      <td>50</td>\n      <td>2019</td>\n      <td>10</td>\n      <td>98.6</td>\n    </tr>\n    <tr>\n      <th>46</th>\n      <td>51</td>\n      <td>2019</td>\n      <td>11</td>\n      <td>101.0</td>\n    </tr>\n    <tr>\n      <th>47</th>\n      <td>52</td>\n      <td>2019</td>\n      <td>12</td>\n      <td>100.5</td>\n    </tr>\n    <tr>\n      <th>48</th>\n      <td>53</td>\n      <td>2020</td>\n      <td>1</td>\n      <td>104.2</td>\n    </tr>\n    <tr>\n      <th>49</th>\n      <td>54</td>\n      <td>2020</td>\n      <td>2</td>\n      <td>96.9</td>\n    </tr>\n    <tr>\n      <th>50</th>\n      <td>55</td>\n      <td>2020</td>\n      <td>3</td>\n      <td>78.4</td>\n    </tr>\n    <tr>\n      <th>51</th>\n      <td>56</td>\n      <td>2020</td>\n      <td>4</td>\n      <td>70.8</td>\n    </tr>\n    <tr>\n      <th>52</th>\n      <td>57</td>\n      <td>2020</td>\n      <td>5</td>\n      <td>77.6</td>\n    </tr>\n    <tr>\n      <th>53</th>\n      <td>58</td>\n      <td>2020</td>\n      <td>6</td>\n      <td>81.8</td>\n    </tr>\n    <tr>\n      <th>54</th>\n      <td>59</td>\n      <td>2020</td>\n      <td>7</td>\n      <td>84.2</td>\n    </tr>\n    <tr>\n      <th>55</th>\n      <td>60</td>\n      <td>2020</td>\n      <td>8</td>\n      <td>88.2</td>\n    </tr>\n    <tr>\n      <th>56</th>\n      <td>61</td>\n      <td>2020</td>\n      <td>9</td>\n      <td>79.4</td>\n    </tr>\n    <tr>\n      <th>57</th>\n      <td>62</td>\n      <td>2020</td>\n      <td>10</td>\n      <td>91.6</td>\n    </tr>\n  </tbody>\n</table>\n</div>"
     },
     "metadata": {},
     "execution_count": 5
    }
   ],
   "source": [
    "## response y: CCSI(소비자심리지수)\n",
    "query = \"\"\" \n",
    "select * from ccsi ;\n",
    "\"\"\"\n",
    "cur.execute(query)\n",
    "conn.close()\n",
    "cur.close()\n",
    "ccsi = pd.DataFrame(list(cur.fetchall()))[4:].reset_index(drop = True)\n",
    "# X와 기간을 맞춤\n",
    "ccsi "
   ]
  },
  {
   "source": [
    "## X, y dataframe\n",
    "response: CCSI, predictors: keyword1~5, google, naver"
   ],
   "cell_type": "markdown",
   "metadata": {}
  },
  {
   "cell_type": "code",
   "execution_count": 48,
   "metadata": {},
   "outputs": [
    {
     "output_type": "execute_result",
     "data": {
      "text/plain": [
       "     year  month  day  keyword1  keyword2  keyword3  keyword4  keyword5  \\\n",
       "0    2016      1    4       825       419       437       986       168   \n",
       "1    2016      1   11       770       348       351       626       182   \n",
       "2    2016      1   18       918       422       441       445       147   \n",
       "3    2016      1   25      1067       425       567       383       148   \n",
       "4    2016      2    1       899       341       485       289       110   \n",
       "..    ...    ...  ...       ...       ...       ...       ...       ...   \n",
       "247  2020      9   28       489        90       114        95        78   \n",
       "248  2020     10    5       816       183       177       109        78   \n",
       "249  2020     10   12       857       199       176       112        91   \n",
       "250  2020     10   19       911       155       143        95       129   \n",
       "251  2020     10   26       991       198       178       187       114   \n",
       "\n",
       "     google     naver  \n",
       "0      53.0  26.05846  \n",
       "1      58.0  25.16599  \n",
       "2      74.0  27.38639  \n",
       "3      59.0  24.72622  \n",
       "4      63.0  23.01888  \n",
       "..      ...       ...  \n",
       "247    63.0  25.29102  \n",
       "248    81.0  28.63240  \n",
       "249    82.0  26.85177  \n",
       "250    93.0  27.25273  \n",
       "251    90.0  30.24489  \n",
       "\n",
       "[252 rows x 10 columns]"
      ],
      "text/html": "<div>\n<style scoped>\n    .dataframe tbody tr th:only-of-type {\n        vertical-align: middle;\n    }\n\n    .dataframe tbody tr th {\n        vertical-align: top;\n    }\n\n    .dataframe thead th {\n        text-align: right;\n    }\n</style>\n<table border=\"1\" class=\"dataframe\">\n  <thead>\n    <tr style=\"text-align: right;\">\n      <th></th>\n      <th>year</th>\n      <th>month</th>\n      <th>day</th>\n      <th>keyword1</th>\n      <th>keyword2</th>\n      <th>keyword3</th>\n      <th>keyword4</th>\n      <th>keyword5</th>\n      <th>google</th>\n      <th>naver</th>\n    </tr>\n  </thead>\n  <tbody>\n    <tr>\n      <th>0</th>\n      <td>2016</td>\n      <td>1</td>\n      <td>4</td>\n      <td>825</td>\n      <td>419</td>\n      <td>437</td>\n      <td>986</td>\n      <td>168</td>\n      <td>53.0</td>\n      <td>26.05846</td>\n    </tr>\n    <tr>\n      <th>1</th>\n      <td>2016</td>\n      <td>1</td>\n      <td>11</td>\n      <td>770</td>\n      <td>348</td>\n      <td>351</td>\n      <td>626</td>\n      <td>182</td>\n      <td>58.0</td>\n      <td>25.16599</td>\n    </tr>\n    <tr>\n      <th>2</th>\n      <td>2016</td>\n      <td>1</td>\n      <td>18</td>\n      <td>918</td>\n      <td>422</td>\n      <td>441</td>\n      <td>445</td>\n      <td>147</td>\n      <td>74.0</td>\n      <td>27.38639</td>\n    </tr>\n    <tr>\n      <th>3</th>\n      <td>2016</td>\n      <td>1</td>\n      <td>25</td>\n      <td>1067</td>\n      <td>425</td>\n      <td>567</td>\n      <td>383</td>\n      <td>148</td>\n      <td>59.0</td>\n      <td>24.72622</td>\n    </tr>\n    <tr>\n      <th>4</th>\n      <td>2016</td>\n      <td>2</td>\n      <td>1</td>\n      <td>899</td>\n      <td>341</td>\n      <td>485</td>\n      <td>289</td>\n      <td>110</td>\n      <td>63.0</td>\n      <td>23.01888</td>\n    </tr>\n    <tr>\n      <th>...</th>\n      <td>...</td>\n      <td>...</td>\n      <td>...</td>\n      <td>...</td>\n      <td>...</td>\n      <td>...</td>\n      <td>...</td>\n      <td>...</td>\n      <td>...</td>\n      <td>...</td>\n    </tr>\n    <tr>\n      <th>247</th>\n      <td>2020</td>\n      <td>9</td>\n      <td>28</td>\n      <td>489</td>\n      <td>90</td>\n      <td>114</td>\n      <td>95</td>\n      <td>78</td>\n      <td>63.0</td>\n      <td>25.29102</td>\n    </tr>\n    <tr>\n      <th>248</th>\n      <td>2020</td>\n      <td>10</td>\n      <td>5</td>\n      <td>816</td>\n      <td>183</td>\n      <td>177</td>\n      <td>109</td>\n      <td>78</td>\n      <td>81.0</td>\n      <td>28.63240</td>\n    </tr>\n    <tr>\n      <th>249</th>\n      <td>2020</td>\n      <td>10</td>\n      <td>12</td>\n      <td>857</td>\n      <td>199</td>\n      <td>176</td>\n      <td>112</td>\n      <td>91</td>\n      <td>82.0</td>\n      <td>26.85177</td>\n    </tr>\n    <tr>\n      <th>250</th>\n      <td>2020</td>\n      <td>10</td>\n      <td>19</td>\n      <td>911</td>\n      <td>155</td>\n      <td>143</td>\n      <td>95</td>\n      <td>129</td>\n      <td>93.0</td>\n      <td>27.25273</td>\n    </tr>\n    <tr>\n      <th>251</th>\n      <td>2020</td>\n      <td>10</td>\n      <td>26</td>\n      <td>991</td>\n      <td>198</td>\n      <td>178</td>\n      <td>187</td>\n      <td>114</td>\n      <td>90.0</td>\n      <td>30.24489</td>\n    </tr>\n  </tbody>\n</table>\n<p>252 rows × 10 columns</p>\n</div>"
     },
     "metadata": {},
     "execution_count": 48
    }
   ],
   "source": [
    "# predictors X: 뉴스카운팅, 포털트렌드 변수\n",
    "predictors = pd.merge(news_df, portal_df)\n",
    "predictors"
   ]
  },
  {
   "cell_type": "code",
   "execution_count": 49,
   "metadata": {},
   "outputs": [],
   "source": [
    "def isLastWeekOfThisMonth(X, index):\n",
    "    if(index == (len(X) - 1)):\n",
    "        return True\n",
    "    if ( X.iloc[index].month != X.iloc[index + 1].month ):\n",
    "        return True\n",
    "    return False\n"
   ]
  },
  {
   "cell_type": "code",
   "execution_count": 50,
   "metadata": {},
   "outputs": [],
   "source": [
    "\"\"\"\n",
    "같은 달의 주차별 데이터들을 저장하는 list를 초기화하는 function\n",
    "\"\"\"\n",
    "def initializeStacks():\n",
    "    global keyword1_stack, keyword2_stack, keyword3_stack, keyword4_stack, keyword5_stack, google_stack, naver_stack\n",
    "    keyword1_stack = []\n",
    "    keyword2_stack = []\n",
    "    keyword3_stack = []\n",
    "    keyword4_stack = []\n",
    "    keyword5_stack = []\n",
    "    google_stack = []\n",
    "    naver_stack = []\n"
   ]
  },
  {
   "cell_type": "code",
   "execution_count": 51,
   "metadata": {},
   "outputs": [],
   "source": [
    "\"\"\"\n",
    "달의 마지막 주차이면, 해당 달의 데이터들의 평균값들을 하나의 record로 갖는 dataframe 생성\n",
    "\"\"\"\n",
    "def getXdataframe(X):\n",
    "    initializeStacks()\n",
    "    X_monthly = pd.DataFrame()\n",
    "    for i in range(len(X)):\n",
    "        keyword1_stack.append(X.iloc[i].keyword1)\n",
    "        keyword2_stack.append(X.iloc[i].keyword2)\n",
    "        keyword3_stack.append(X.iloc[i].keyword3)\n",
    "        keyword4_stack.append(X.iloc[i].keyword4)\n",
    "        keyword5_stack.append(X.iloc[i].keyword5)\n",
    "        google_stack.append(X.iloc[i].google)\n",
    "        naver_stack.append(X.iloc[i].naver)\n",
    "\n",
    "        if ( isLastWeekOfThisMonth(X, i) ):\n",
    "            \n",
    "            # 달의 마지막 주차이면, 해당 달의 데이터들의 평균값을 저장. \n",
    "            keyword1 = np.mean(keyword1_stack)\n",
    "            keyword2 = np.mean(keyword2_stack)\n",
    "            keyword3 = np.mean(keyword3_stack)\n",
    "            keyword4 = np.mean(keyword4_stack)\n",
    "            keyword5 = np.mean(keyword5_stack)\n",
    "            google = np.mean(google_stack)\n",
    "            naver = np.mean(naver_stack)\n",
    "            \n",
    "            record = pd.Series([int(X.iloc[i].year), int(X.iloc[i].month), keyword1, keyword2, keyword3, keyword4, keyword5, google, naver])\n",
    "            row_df = pd.DataFrame([record])\n",
    "            X_monthly = pd.concat([X_monthly, row_df], ignore_index=True)\n",
    "            initializeStacks()\n",
    "    return X_monthly\n"
   ]
  },
  {
   "cell_type": "code",
   "execution_count": 52,
   "metadata": {},
   "outputs": [],
   "source": [
    "def cleanXdataframe(X):\n",
    "    X.rename(columns={0: 'year', 1: 'month', 2: 'keyword1', 3: 'keyword2', 4: 'keyword3', 5: 'keyword4', 6: 'keyword5', 7: 'google', 8: 'naver'}, inplace = True)\n",
    "    return X.astype({\"year\": int, \"month\": int})\n"
   ]
  },
  {
   "cell_type": "code",
   "execution_count": 53,
   "metadata": {},
   "outputs": [
    {
     "output_type": "execute_result",
     "data": {
      "text/plain": [
       "   year  month  keyword1  keyword2  keyword3  keyword4  keyword5  google  \\\n",
       "0  2016      1    895.00    403.50     449.0    610.00    161.25   61.00   \n",
       "1  2016      2    811.80    396.60     359.2    341.60    124.40   60.00   \n",
       "2  2016      3    667.25    267.00     293.0     98.50    107.50   67.75   \n",
       "3  2016      4    718.25    258.25     367.0    142.25    116.75   69.00   \n",
       "4  2016      5    656.80    290.40     387.4    106.20    131.00   69.80   \n",
       "\n",
       "       naver  \n",
       "0  25.834265  \n",
       "1  24.908160  \n",
       "2  28.296107  \n",
       "3  25.843962  \n",
       "4  26.812964  "
      ],
      "text/html": "<div>\n<style scoped>\n    .dataframe tbody tr th:only-of-type {\n        vertical-align: middle;\n    }\n\n    .dataframe tbody tr th {\n        vertical-align: top;\n    }\n\n    .dataframe thead th {\n        text-align: right;\n    }\n</style>\n<table border=\"1\" class=\"dataframe\">\n  <thead>\n    <tr style=\"text-align: right;\">\n      <th></th>\n      <th>year</th>\n      <th>month</th>\n      <th>keyword1</th>\n      <th>keyword2</th>\n      <th>keyword3</th>\n      <th>keyword4</th>\n      <th>keyword5</th>\n      <th>google</th>\n      <th>naver</th>\n    </tr>\n  </thead>\n  <tbody>\n    <tr>\n      <th>0</th>\n      <td>2016</td>\n      <td>1</td>\n      <td>895.00</td>\n      <td>403.50</td>\n      <td>449.0</td>\n      <td>610.00</td>\n      <td>161.25</td>\n      <td>61.00</td>\n      <td>25.834265</td>\n    </tr>\n    <tr>\n      <th>1</th>\n      <td>2016</td>\n      <td>2</td>\n      <td>811.80</td>\n      <td>396.60</td>\n      <td>359.2</td>\n      <td>341.60</td>\n      <td>124.40</td>\n      <td>60.00</td>\n      <td>24.908160</td>\n    </tr>\n    <tr>\n      <th>2</th>\n      <td>2016</td>\n      <td>3</td>\n      <td>667.25</td>\n      <td>267.00</td>\n      <td>293.0</td>\n      <td>98.50</td>\n      <td>107.50</td>\n      <td>67.75</td>\n      <td>28.296107</td>\n    </tr>\n    <tr>\n      <th>3</th>\n      <td>2016</td>\n      <td>4</td>\n      <td>718.25</td>\n      <td>258.25</td>\n      <td>367.0</td>\n      <td>142.25</td>\n      <td>116.75</td>\n      <td>69.00</td>\n      <td>25.843962</td>\n    </tr>\n    <tr>\n      <th>4</th>\n      <td>2016</td>\n      <td>5</td>\n      <td>656.80</td>\n      <td>290.40</td>\n      <td>387.4</td>\n      <td>106.20</td>\n      <td>131.00</td>\n      <td>69.80</td>\n      <td>26.812964</td>\n    </tr>\n  </tbody>\n</table>\n</div>"
     },
     "metadata": {},
     "execution_count": 53
    }
   ],
   "source": [
    "X_df = getXdataframe(predictors)\n",
    "X_df = cleanXdataframe(X_df)\n",
    "X_df.head()"
   ]
  },
  {
   "source": [
    "### split train and test"
   ],
   "cell_type": "markdown",
   "metadata": {}
  },
  {
   "cell_type": "code",
   "execution_count": 54,
   "metadata": {},
   "outputs": [],
   "source": [
    "df = pd.merge(X_df, ccsi)\n",
    "X = df[['keyword1', 'keyword2', 'keyword3', 'keyword4', 'keyword5', 'google', 'naver']]\n",
    "y = df[['ccsi']]"
   ]
  },
  {
   "cell_type": "code",
   "execution_count": 55,
   "metadata": {},
   "outputs": [
    {
     "output_type": "execute_result",
     "data": {
      "text/plain": [
       "   keyword1  keyword2  keyword3  keyword4  keyword5  google      naver\n",
       "0    895.00    403.50     449.0    610.00    161.25   61.00  25.834265\n",
       "1    811.80    396.60     359.2    341.60    124.40   60.00  24.908160\n",
       "2    667.25    267.00     293.0     98.50    107.50   67.75  28.296107\n",
       "3    718.25    258.25     367.0    142.25    116.75   69.00  25.843962\n",
       "4    656.80    290.40     387.4    106.20    131.00   69.80  26.812964"
      ],
      "text/html": "<div>\n<style scoped>\n    .dataframe tbody tr th:only-of-type {\n        vertical-align: middle;\n    }\n\n    .dataframe tbody tr th {\n        vertical-align: top;\n    }\n\n    .dataframe thead th {\n        text-align: right;\n    }\n</style>\n<table border=\"1\" class=\"dataframe\">\n  <thead>\n    <tr style=\"text-align: right;\">\n      <th></th>\n      <th>keyword1</th>\n      <th>keyword2</th>\n      <th>keyword3</th>\n      <th>keyword4</th>\n      <th>keyword5</th>\n      <th>google</th>\n      <th>naver</th>\n    </tr>\n  </thead>\n  <tbody>\n    <tr>\n      <th>0</th>\n      <td>895.00</td>\n      <td>403.50</td>\n      <td>449.0</td>\n      <td>610.00</td>\n      <td>161.25</td>\n      <td>61.00</td>\n      <td>25.834265</td>\n    </tr>\n    <tr>\n      <th>1</th>\n      <td>811.80</td>\n      <td>396.60</td>\n      <td>359.2</td>\n      <td>341.60</td>\n      <td>124.40</td>\n      <td>60.00</td>\n      <td>24.908160</td>\n    </tr>\n    <tr>\n      <th>2</th>\n      <td>667.25</td>\n      <td>267.00</td>\n      <td>293.0</td>\n      <td>98.50</td>\n      <td>107.50</td>\n      <td>67.75</td>\n      <td>28.296107</td>\n    </tr>\n    <tr>\n      <th>3</th>\n      <td>718.25</td>\n      <td>258.25</td>\n      <td>367.0</td>\n      <td>142.25</td>\n      <td>116.75</td>\n      <td>69.00</td>\n      <td>25.843962</td>\n    </tr>\n    <tr>\n      <th>4</th>\n      <td>656.80</td>\n      <td>290.40</td>\n      <td>387.4</td>\n      <td>106.20</td>\n      <td>131.00</td>\n      <td>69.80</td>\n      <td>26.812964</td>\n    </tr>\n  </tbody>\n</table>\n</div>"
     },
     "metadata": {},
     "execution_count": 55
    }
   ],
   "source": [
    "X.head()"
   ]
  },
  {
   "cell_type": "code",
   "execution_count": 56,
   "metadata": {},
   "outputs": [
    {
     "output_type": "execute_result",
     "data": {
      "text/plain": [
       "    ccsi\n",
       "0   99.5\n",
       "1   97.2\n",
       "2   99.5\n",
       "3  101.1\n",
       "4   98.6"
      ],
      "text/html": "<div>\n<style scoped>\n    .dataframe tbody tr th:only-of-type {\n        vertical-align: middle;\n    }\n\n    .dataframe tbody tr th {\n        vertical-align: top;\n    }\n\n    .dataframe thead th {\n        text-align: right;\n    }\n</style>\n<table border=\"1\" class=\"dataframe\">\n  <thead>\n    <tr style=\"text-align: right;\">\n      <th></th>\n      <th>ccsi</th>\n    </tr>\n  </thead>\n  <tbody>\n    <tr>\n      <th>0</th>\n      <td>99.5</td>\n    </tr>\n    <tr>\n      <th>1</th>\n      <td>97.2</td>\n    </tr>\n    <tr>\n      <th>2</th>\n      <td>99.5</td>\n    </tr>\n    <tr>\n      <th>3</th>\n      <td>101.1</td>\n    </tr>\n    <tr>\n      <th>4</th>\n      <td>98.6</td>\n    </tr>\n  </tbody>\n</table>\n</div>"
     },
     "metadata": {},
     "execution_count": 56
    }
   ],
   "source": [
    "y.head()"
   ]
  },
  {
   "cell_type": "code",
   "execution_count": 57,
   "metadata": {},
   "outputs": [],
   "source": [
    "X_train, X_test, y_train, y_test = train_test_split(X, y, train_size=0.8, test_size=0.2)"
   ]
  },
  {
   "source": [
    "### multi linear regression"
   ],
   "cell_type": "markdown",
   "metadata": {}
  },
  {
   "cell_type": "code",
   "execution_count": 58,
   "metadata": {},
   "outputs": [
    {
     "output_type": "execute_result",
     "data": {
      "text/plain": [
       "LinearRegression()"
      ]
     },
     "metadata": {},
     "execution_count": 58
    }
   ],
   "source": [
    "mlr = LinearRegression()\n",
    "mlr.fit(X_train, y_train) # 모델 적합"
   ]
  },
  {
   "cell_type": "code",
   "execution_count": 59,
   "metadata": {},
   "outputs": [
    {
     "output_type": "stream",
     "name": "stdout",
     "text": [
      "Intercept: \n [125.47708567]\nCoefficients: \n [[-0.02791339  0.04748649 -0.02182758 -0.00851242 -0.04911434  0.01544935\n  -0.27275036]]\n"
     ]
    }
   ],
   "source": [
    "print('Intercept: \\n', mlr.intercept_) \n",
    "print('Coefficients: \\n', mlr.coef_) # 계수"
   ]
  },
  {
   "cell_type": "code",
   "execution_count": 60,
   "metadata": {},
   "outputs": [],
   "source": [
    "y_pred = mlr.predict(X_test) # test set을 넣어서 얻은 예측값"
   ]
  },
  {
   "cell_type": "code",
   "execution_count": 61,
   "metadata": {},
   "outputs": [
    {
     "output_type": "display_data",
     "data": {
      "text/plain": "<Figure size 432x288 with 1 Axes>",
      "image/svg+xml": "<?xml version=\"1.0\" encoding=\"utf-8\" standalone=\"no\"?>\n<!DOCTYPE svg PUBLIC \"-//W3C//DTD SVG 1.1//EN\"\n  \"http://www.w3.org/Graphics/SVG/1.1/DTD/svg11.dtd\">\n<!-- Created with matplotlib (https://matplotlib.org/) -->\n<svg height=\"277.314375pt\" version=\"1.1\" viewBox=\"0 0 388.965625 277.314375\" width=\"388.965625pt\" xmlns=\"http://www.w3.org/2000/svg\" xmlns:xlink=\"http://www.w3.org/1999/xlink\">\n <defs>\n  <style type=\"text/css\">\n*{stroke-linecap:butt;stroke-linejoin:round;}\n  </style>\n </defs>\n <g id=\"figure_1\">\n  <g id=\"patch_1\">\n   <path d=\"M 0 277.314375 \nL 388.965625 277.314375 \nL 388.965625 0 \nL 0 0 \nz\n\" style=\"fill:none;\"/>\n  </g>\n  <g id=\"axes_1\">\n   <g id=\"patch_2\">\n    <path d=\"M 46.965625 239.758125 \nL 381.765625 239.758125 \nL 381.765625 22.318125 \nL 46.965625 22.318125 \nz\n\" style=\"fill:#ffffff;\"/>\n   </g>\n   <g id=\"PathCollection_1\">\n    <defs>\n     <path d=\"M 0 3 \nC 0.795609 3 1.55874 2.683901 2.12132 2.12132 \nC 2.683901 1.55874 3 0.795609 3 0 \nC 3 -0.795609 2.683901 -1.55874 2.12132 -2.12132 \nC 1.55874 -2.683901 0.795609 -3 0 -3 \nC -0.795609 -3 -1.55874 -2.683901 -2.12132 -2.12132 \nC -2.683901 -1.55874 -3 -0.795609 -3 0 \nC -3 0.795609 -2.683901 1.55874 -2.12132 2.12132 \nC -1.55874 2.683901 -0.795609 3 0 3 \nz\n\" id=\"md81ee65a13\" style=\"stroke:#1f77b4;stroke-opacity:0.4;\"/>\n    </defs>\n    <g clip-path=\"url(#pb8dbd07804)\">\n     <use style=\"fill:#1f77b4;fill-opacity:0.4;stroke:#1f77b4;stroke-opacity:0.4;\" x=\"339.952562\" xlink:href=\"#md81ee65a13\" y=\"221.017131\"/>\n     <use style=\"fill:#1f77b4;fill-opacity:0.4;stroke:#1f77b4;stroke-opacity:0.4;\" x=\"260.16792\" xlink:href=\"#md81ee65a13\" y=\"32.201761\"/>\n     <use style=\"fill:#1f77b4;fill-opacity:0.4;stroke:#1f77b4;stroke-opacity:0.4;\" x=\"234.558035\" xlink:href=\"#md81ee65a13\" y=\"45.126897\"/>\n     <use style=\"fill:#1f77b4;fill-opacity:0.4;stroke:#1f77b4;stroke-opacity:0.4;\" x=\"201.068185\" xlink:href=\"#md81ee65a13\" y=\"97.953737\"/>\n     <use style=\"fill:#1f77b4;fill-opacity:0.4;stroke:#1f77b4;stroke-opacity:0.4;\" x=\"62.183807\" xlink:href=\"#md81ee65a13\" y=\"170.06939\"/>\n     <use style=\"fill:#1f77b4;fill-opacity:0.4;stroke:#1f77b4;stroke-opacity:0.4;\" x=\"366.547443\" xlink:href=\"#md81ee65a13\" y=\"130.489907\"/>\n     <use style=\"fill:#1f77b4;fill-opacity:0.4;stroke:#1f77b4;stroke-opacity:0.4;\" x=\"222.738087\" xlink:href=\"#md81ee65a13\" y=\"165.016427\"/>\n     <use style=\"fill:#1f77b4;fill-opacity:0.4;stroke:#1f77b4;stroke-opacity:0.4;\" x=\"263.122907\" xlink:href=\"#md81ee65a13\" y=\"116.51634\"/>\n     <use style=\"fill:#1f77b4;fill-opacity:0.4;stroke:#1f77b4;stroke-opacity:0.4;\" x=\"270.017876\" xlink:href=\"#md81ee65a13\" y=\"73.832176\"/>\n     <use style=\"fill:#1f77b4;fill-opacity:0.4;stroke:#1f77b4;stroke-opacity:0.4;\" x=\"241.453004\" xlink:href=\"#md81ee65a13\" y=\"42.720784\"/>\n     <use style=\"fill:#1f77b4;fill-opacity:0.4;stroke:#1f77b4;stroke-opacity:0.4;\" x=\"260.16792\" xlink:href=\"#md81ee65a13\" y=\"90.106186\"/>\n     <use style=\"fill:#1f77b4;fill-opacity:0.4;stroke:#1f77b4;stroke-opacity:0.4;\" x=\"281.837823\" xlink:href=\"#md81ee65a13\" y=\"229.874489\"/>\n    </g>\n   </g>\n   <g id=\"matplotlib.axis_1\">\n    <g id=\"xtick_1\">\n     <g id=\"line2d_1\">\n      <defs>\n       <path d=\"M 0 0 \nL 0 3.5 \n\" id=\"me82c9de91d\" style=\"stroke:#000000;stroke-width:0.8;\"/>\n      </defs>\n      <g>\n       <use style=\"stroke:#000000;stroke-width:0.8;\" x=\"68.09378\" xlink:href=\"#me82c9de91d\" y=\"239.758125\"/>\n      </g>\n     </g>\n     <g id=\"text_1\">\n      <!-- 80 -->\n      <defs>\n       <path d=\"M 31.78125 34.625 \nQ 24.75 34.625 20.71875 30.859375 \nQ 16.703125 27.09375 16.703125 20.515625 \nQ 16.703125 13.921875 20.71875 10.15625 \nQ 24.75 6.390625 31.78125 6.390625 \nQ 38.8125 6.390625 42.859375 10.171875 \nQ 46.921875 13.96875 46.921875 20.515625 \nQ 46.921875 27.09375 42.890625 30.859375 \nQ 38.875 34.625 31.78125 34.625 \nz\nM 21.921875 38.8125 \nQ 15.578125 40.375 12.03125 44.71875 \nQ 8.5 49.078125 8.5 55.328125 \nQ 8.5 64.0625 14.71875 69.140625 \nQ 20.953125 74.21875 31.78125 74.21875 \nQ 42.671875 74.21875 48.875 69.140625 \nQ 55.078125 64.0625 55.078125 55.328125 \nQ 55.078125 49.078125 51.53125 44.71875 \nQ 48 40.375 41.703125 38.8125 \nQ 48.828125 37.15625 52.796875 32.3125 \nQ 56.78125 27.484375 56.78125 20.515625 \nQ 56.78125 9.90625 50.3125 4.234375 \nQ 43.84375 -1.421875 31.78125 -1.421875 \nQ 19.734375 -1.421875 13.25 4.234375 \nQ 6.78125 9.90625 6.78125 20.515625 \nQ 6.78125 27.484375 10.78125 32.3125 \nQ 14.796875 37.15625 21.921875 38.8125 \nz\nM 18.3125 54.390625 \nQ 18.3125 48.734375 21.84375 45.5625 \nQ 25.390625 42.390625 31.78125 42.390625 \nQ 38.140625 42.390625 41.71875 45.5625 \nQ 45.3125 48.734375 45.3125 54.390625 \nQ 45.3125 60.0625 41.71875 63.234375 \nQ 38.140625 66.40625 31.78125 66.40625 \nQ 25.390625 66.40625 21.84375 63.234375 \nQ 18.3125 60.0625 18.3125 54.390625 \nz\n\" id=\"DejaVuSans-56\"/>\n       <path d=\"M 31.78125 66.40625 \nQ 24.171875 66.40625 20.328125 58.90625 \nQ 16.5 51.421875 16.5 36.375 \nQ 16.5 21.390625 20.328125 13.890625 \nQ 24.171875 6.390625 31.78125 6.390625 \nQ 39.453125 6.390625 43.28125 13.890625 \nQ 47.125 21.390625 47.125 36.375 \nQ 47.125 51.421875 43.28125 58.90625 \nQ 39.453125 66.40625 31.78125 66.40625 \nz\nM 31.78125 74.21875 \nQ 44.046875 74.21875 50.515625 64.515625 \nQ 56.984375 54.828125 56.984375 36.375 \nQ 56.984375 17.96875 50.515625 8.265625 \nQ 44.046875 -1.421875 31.78125 -1.421875 \nQ 19.53125 -1.421875 13.0625 8.265625 \nQ 6.59375 17.96875 6.59375 36.375 \nQ 6.59375 54.828125 13.0625 64.515625 \nQ 19.53125 74.21875 31.78125 74.21875 \nz\n\" id=\"DejaVuSans-48\"/>\n      </defs>\n      <g transform=\"translate(61.73128 254.356562)scale(0.1 -0.1)\">\n       <use xlink:href=\"#DejaVuSans-56\"/>\n       <use x=\"63.623047\" xlink:href=\"#DejaVuSans-48\"/>\n      </g>\n     </g>\n    </g>\n    <g id=\"xtick_2\">\n     <g id=\"line2d_2\">\n      <g>\n       <use style=\"stroke:#000000;stroke-width:0.8;\" x=\"117.34356\" xlink:href=\"#me82c9de91d\" y=\"239.758125\"/>\n      </g>\n     </g>\n     <g id=\"text_2\">\n      <!-- 85 -->\n      <defs>\n       <path d=\"M 10.796875 72.90625 \nL 49.515625 72.90625 \nL 49.515625 64.59375 \nL 19.828125 64.59375 \nL 19.828125 46.734375 \nQ 21.96875 47.46875 24.109375 47.828125 \nQ 26.265625 48.1875 28.421875 48.1875 \nQ 40.625 48.1875 47.75 41.5 \nQ 54.890625 34.8125 54.890625 23.390625 \nQ 54.890625 11.625 47.5625 5.09375 \nQ 40.234375 -1.421875 26.90625 -1.421875 \nQ 22.3125 -1.421875 17.546875 -0.640625 \nQ 12.796875 0.140625 7.71875 1.703125 \nL 7.71875 11.625 \nQ 12.109375 9.234375 16.796875 8.0625 \nQ 21.484375 6.890625 26.703125 6.890625 \nQ 35.15625 6.890625 40.078125 11.328125 \nQ 45.015625 15.765625 45.015625 23.390625 \nQ 45.015625 31 40.078125 35.4375 \nQ 35.15625 39.890625 26.703125 39.890625 \nQ 22.75 39.890625 18.8125 39.015625 \nQ 14.890625 38.140625 10.796875 36.28125 \nz\n\" id=\"DejaVuSans-53\"/>\n      </defs>\n      <g transform=\"translate(110.98106 254.356562)scale(0.1 -0.1)\">\n       <use xlink:href=\"#DejaVuSans-56\"/>\n       <use x=\"63.623047\" xlink:href=\"#DejaVuSans-53\"/>\n      </g>\n     </g>\n    </g>\n    <g id=\"xtick_3\">\n     <g id=\"line2d_3\">\n      <g>\n       <use style=\"stroke:#000000;stroke-width:0.8;\" x=\"166.593339\" xlink:href=\"#me82c9de91d\" y=\"239.758125\"/>\n      </g>\n     </g>\n     <g id=\"text_3\">\n      <!-- 90 -->\n      <defs>\n       <path d=\"M 10.984375 1.515625 \nL 10.984375 10.5 \nQ 14.703125 8.734375 18.5 7.8125 \nQ 22.3125 6.890625 25.984375 6.890625 \nQ 35.75 6.890625 40.890625 13.453125 \nQ 46.046875 20.015625 46.78125 33.40625 \nQ 43.953125 29.203125 39.59375 26.953125 \nQ 35.25 24.703125 29.984375 24.703125 \nQ 19.046875 24.703125 12.671875 31.3125 \nQ 6.296875 37.9375 6.296875 49.421875 \nQ 6.296875 60.640625 12.9375 67.421875 \nQ 19.578125 74.21875 30.609375 74.21875 \nQ 43.265625 74.21875 49.921875 64.515625 \nQ 56.59375 54.828125 56.59375 36.375 \nQ 56.59375 19.140625 48.40625 8.859375 \nQ 40.234375 -1.421875 26.421875 -1.421875 \nQ 22.703125 -1.421875 18.890625 -0.6875 \nQ 15.09375 0.046875 10.984375 1.515625 \nz\nM 30.609375 32.421875 \nQ 37.25 32.421875 41.125 36.953125 \nQ 45.015625 41.5 45.015625 49.421875 \nQ 45.015625 57.28125 41.125 61.84375 \nQ 37.25 66.40625 30.609375 66.40625 \nQ 23.96875 66.40625 20.09375 61.84375 \nQ 16.21875 57.28125 16.21875 49.421875 \nQ 16.21875 41.5 20.09375 36.953125 \nQ 23.96875 32.421875 30.609375 32.421875 \nz\n\" id=\"DejaVuSans-57\"/>\n      </defs>\n      <g transform=\"translate(160.230839 254.356562)scale(0.1 -0.1)\">\n       <use xlink:href=\"#DejaVuSans-57\"/>\n       <use x=\"63.623047\" xlink:href=\"#DejaVuSans-48\"/>\n      </g>\n     </g>\n    </g>\n    <g id=\"xtick_4\">\n     <g id=\"line2d_4\">\n      <g>\n       <use style=\"stroke:#000000;stroke-width:0.8;\" x=\"215.843118\" xlink:href=\"#me82c9de91d\" y=\"239.758125\"/>\n      </g>\n     </g>\n     <g id=\"text_4\">\n      <!-- 95 -->\n      <g transform=\"translate(209.480618 254.356562)scale(0.1 -0.1)\">\n       <use xlink:href=\"#DejaVuSans-57\"/>\n       <use x=\"63.623047\" xlink:href=\"#DejaVuSans-53\"/>\n      </g>\n     </g>\n    </g>\n    <g id=\"xtick_5\">\n     <g id=\"line2d_5\">\n      <g>\n       <use style=\"stroke:#000000;stroke-width:0.8;\" x=\"265.092898\" xlink:href=\"#me82c9de91d\" y=\"239.758125\"/>\n      </g>\n     </g>\n     <g id=\"text_5\">\n      <!-- 100 -->\n      <defs>\n       <path d=\"M 12.40625 8.296875 \nL 28.515625 8.296875 \nL 28.515625 63.921875 \nL 10.984375 60.40625 \nL 10.984375 69.390625 \nL 28.421875 72.90625 \nL 38.28125 72.90625 \nL 38.28125 8.296875 \nL 54.390625 8.296875 \nL 54.390625 0 \nL 12.40625 0 \nz\n\" id=\"DejaVuSans-49\"/>\n      </defs>\n      <g transform=\"translate(255.549148 254.356562)scale(0.1 -0.1)\">\n       <use xlink:href=\"#DejaVuSans-49\"/>\n       <use x=\"63.623047\" xlink:href=\"#DejaVuSans-48\"/>\n       <use x=\"127.246094\" xlink:href=\"#DejaVuSans-48\"/>\n      </g>\n     </g>\n    </g>\n    <g id=\"xtick_6\">\n     <g id=\"line2d_6\">\n      <g>\n       <use style=\"stroke:#000000;stroke-width:0.8;\" x=\"314.342677\" xlink:href=\"#me82c9de91d\" y=\"239.758125\"/>\n      </g>\n     </g>\n     <g id=\"text_6\">\n      <!-- 105 -->\n      <g transform=\"translate(304.798927 254.356562)scale(0.1 -0.1)\">\n       <use xlink:href=\"#DejaVuSans-49\"/>\n       <use x=\"63.623047\" xlink:href=\"#DejaVuSans-48\"/>\n       <use x=\"127.246094\" xlink:href=\"#DejaVuSans-53\"/>\n      </g>\n     </g>\n    </g>\n    <g id=\"xtick_7\">\n     <g id=\"line2d_7\">\n      <g>\n       <use style=\"stroke:#000000;stroke-width:0.8;\" x=\"363.592456\" xlink:href=\"#me82c9de91d\" y=\"239.758125\"/>\n      </g>\n     </g>\n     <g id=\"text_7\">\n      <!-- 110 -->\n      <g transform=\"translate(354.048706 254.356562)scale(0.1 -0.1)\">\n       <use xlink:href=\"#DejaVuSans-49\"/>\n       <use x=\"63.623047\" xlink:href=\"#DejaVuSans-49\"/>\n       <use x=\"127.246094\" xlink:href=\"#DejaVuSans-48\"/>\n      </g>\n     </g>\n    </g>\n    <g id=\"text_8\">\n     <!-- Actual Rent -->\n     <defs>\n      <path d=\"M 34.1875 63.1875 \nL 20.796875 26.90625 \nL 47.609375 26.90625 \nz\nM 28.609375 72.90625 \nL 39.796875 72.90625 \nL 67.578125 0 \nL 57.328125 0 \nL 50.6875 18.703125 \nL 17.828125 18.703125 \nL 11.1875 0 \nL 0.78125 0 \nz\n\" id=\"DejaVuSans-65\"/>\n      <path d=\"M 48.78125 52.59375 \nL 48.78125 44.1875 \nQ 44.96875 46.296875 41.140625 47.34375 \nQ 37.3125 48.390625 33.40625 48.390625 \nQ 24.65625 48.390625 19.8125 42.84375 \nQ 14.984375 37.3125 14.984375 27.296875 \nQ 14.984375 17.28125 19.8125 11.734375 \nQ 24.65625 6.203125 33.40625 6.203125 \nQ 37.3125 6.203125 41.140625 7.25 \nQ 44.96875 8.296875 48.78125 10.40625 \nL 48.78125 2.09375 \nQ 45.015625 0.34375 40.984375 -0.53125 \nQ 36.96875 -1.421875 32.421875 -1.421875 \nQ 20.0625 -1.421875 12.78125 6.34375 \nQ 5.515625 14.109375 5.515625 27.296875 \nQ 5.515625 40.671875 12.859375 48.328125 \nQ 20.21875 56 33.015625 56 \nQ 37.15625 56 41.109375 55.140625 \nQ 45.0625 54.296875 48.78125 52.59375 \nz\n\" id=\"DejaVuSans-99\"/>\n      <path d=\"M 18.3125 70.21875 \nL 18.3125 54.6875 \nL 36.8125 54.6875 \nL 36.8125 47.703125 \nL 18.3125 47.703125 \nL 18.3125 18.015625 \nQ 18.3125 11.328125 20.140625 9.421875 \nQ 21.96875 7.515625 27.59375 7.515625 \nL 36.8125 7.515625 \nL 36.8125 0 \nL 27.59375 0 \nQ 17.1875 0 13.234375 3.875 \nQ 9.28125 7.765625 9.28125 18.015625 \nL 9.28125 47.703125 \nL 2.6875 47.703125 \nL 2.6875 54.6875 \nL 9.28125 54.6875 \nL 9.28125 70.21875 \nz\n\" id=\"DejaVuSans-116\"/>\n      <path d=\"M 8.5 21.578125 \nL 8.5 54.6875 \nL 17.484375 54.6875 \nL 17.484375 21.921875 \nQ 17.484375 14.15625 20.5 10.265625 \nQ 23.53125 6.390625 29.59375 6.390625 \nQ 36.859375 6.390625 41.078125 11.03125 \nQ 45.3125 15.671875 45.3125 23.6875 \nL 45.3125 54.6875 \nL 54.296875 54.6875 \nL 54.296875 0 \nL 45.3125 0 \nL 45.3125 8.40625 \nQ 42.046875 3.421875 37.71875 1 \nQ 33.40625 -1.421875 27.6875 -1.421875 \nQ 18.265625 -1.421875 13.375 4.4375 \nQ 8.5 10.296875 8.5 21.578125 \nz\nM 31.109375 56 \nz\n\" id=\"DejaVuSans-117\"/>\n      <path d=\"M 34.28125 27.484375 \nQ 23.390625 27.484375 19.1875 25 \nQ 14.984375 22.515625 14.984375 16.5 \nQ 14.984375 11.71875 18.140625 8.90625 \nQ 21.296875 6.109375 26.703125 6.109375 \nQ 34.1875 6.109375 38.703125 11.40625 \nQ 43.21875 16.703125 43.21875 25.484375 \nL 43.21875 27.484375 \nz\nM 52.203125 31.203125 \nL 52.203125 0 \nL 43.21875 0 \nL 43.21875 8.296875 \nQ 40.140625 3.328125 35.546875 0.953125 \nQ 30.953125 -1.421875 24.3125 -1.421875 \nQ 15.921875 -1.421875 10.953125 3.296875 \nQ 6 8.015625 6 15.921875 \nQ 6 25.140625 12.171875 29.828125 \nQ 18.359375 34.515625 30.609375 34.515625 \nL 43.21875 34.515625 \nL 43.21875 35.40625 \nQ 43.21875 41.609375 39.140625 45 \nQ 35.0625 48.390625 27.6875 48.390625 \nQ 23 48.390625 18.546875 47.265625 \nQ 14.109375 46.140625 10.015625 43.890625 \nL 10.015625 52.203125 \nQ 14.9375 54.109375 19.578125 55.046875 \nQ 24.21875 56 28.609375 56 \nQ 40.484375 56 46.34375 49.84375 \nQ 52.203125 43.703125 52.203125 31.203125 \nz\n\" id=\"DejaVuSans-97\"/>\n      <path d=\"M 9.421875 75.984375 \nL 18.40625 75.984375 \nL 18.40625 0 \nL 9.421875 0 \nz\n\" id=\"DejaVuSans-108\"/>\n      <path id=\"DejaVuSans-32\"/>\n      <path d=\"M 44.390625 34.1875 \nQ 47.5625 33.109375 50.5625 29.59375 \nQ 53.5625 26.078125 56.59375 19.921875 \nL 66.609375 0 \nL 56 0 \nL 46.6875 18.703125 \nQ 43.0625 26.03125 39.671875 28.421875 \nQ 36.28125 30.8125 30.421875 30.8125 \nL 19.671875 30.8125 \nL 19.671875 0 \nL 9.8125 0 \nL 9.8125 72.90625 \nL 32.078125 72.90625 \nQ 44.578125 72.90625 50.734375 67.671875 \nQ 56.890625 62.453125 56.890625 51.90625 \nQ 56.890625 45.015625 53.6875 40.46875 \nQ 50.484375 35.9375 44.390625 34.1875 \nz\nM 19.671875 64.796875 \nL 19.671875 38.921875 \nL 32.078125 38.921875 \nQ 39.203125 38.921875 42.84375 42.21875 \nQ 46.484375 45.515625 46.484375 51.90625 \nQ 46.484375 58.296875 42.84375 61.546875 \nQ 39.203125 64.796875 32.078125 64.796875 \nz\n\" id=\"DejaVuSans-82\"/>\n      <path d=\"M 56.203125 29.59375 \nL 56.203125 25.203125 \nL 14.890625 25.203125 \nQ 15.484375 15.921875 20.484375 11.0625 \nQ 25.484375 6.203125 34.421875 6.203125 \nQ 39.59375 6.203125 44.453125 7.46875 \nQ 49.3125 8.734375 54.109375 11.28125 \nL 54.109375 2.78125 \nQ 49.265625 0.734375 44.1875 -0.34375 \nQ 39.109375 -1.421875 33.890625 -1.421875 \nQ 20.796875 -1.421875 13.15625 6.1875 \nQ 5.515625 13.8125 5.515625 26.8125 \nQ 5.515625 40.234375 12.765625 48.109375 \nQ 20.015625 56 32.328125 56 \nQ 43.359375 56 49.78125 48.890625 \nQ 56.203125 41.796875 56.203125 29.59375 \nz\nM 47.21875 32.234375 \nQ 47.125 39.59375 43.09375 43.984375 \nQ 39.0625 48.390625 32.421875 48.390625 \nQ 24.90625 48.390625 20.390625 44.140625 \nQ 15.875 39.890625 15.1875 32.171875 \nz\n\" id=\"DejaVuSans-101\"/>\n      <path d=\"M 54.890625 33.015625 \nL 54.890625 0 \nL 45.90625 0 \nL 45.90625 32.71875 \nQ 45.90625 40.484375 42.875 44.328125 \nQ 39.84375 48.1875 33.796875 48.1875 \nQ 26.515625 48.1875 22.3125 43.546875 \nQ 18.109375 38.921875 18.109375 30.90625 \nL 18.109375 0 \nL 9.078125 0 \nL 9.078125 54.6875 \nL 18.109375 54.6875 \nL 18.109375 46.1875 \nQ 21.34375 51.125 25.703125 53.5625 \nQ 30.078125 56 35.796875 56 \nQ 45.21875 56 50.046875 50.171875 \nQ 54.890625 44.34375 54.890625 33.015625 \nz\n\" id=\"DejaVuSans-110\"/>\n     </defs>\n     <g transform=\"translate(185.657813 268.034687)scale(0.1 -0.1)\">\n      <use xlink:href=\"#DejaVuSans-65\"/>\n      <use x=\"66.658203\" xlink:href=\"#DejaVuSans-99\"/>\n      <use x=\"121.638672\" xlink:href=\"#DejaVuSans-116\"/>\n      <use x=\"160.847656\" xlink:href=\"#DejaVuSans-117\"/>\n      <use x=\"224.226562\" xlink:href=\"#DejaVuSans-97\"/>\n      <use x=\"285.505859\" xlink:href=\"#DejaVuSans-108\"/>\n      <use x=\"313.289062\" xlink:href=\"#DejaVuSans-32\"/>\n      <use x=\"345.076172\" xlink:href=\"#DejaVuSans-82\"/>\n      <use x=\"410.058594\" xlink:href=\"#DejaVuSans-101\"/>\n      <use x=\"471.582031\" xlink:href=\"#DejaVuSans-110\"/>\n      <use x=\"534.960938\" xlink:href=\"#DejaVuSans-116\"/>\n     </g>\n    </g>\n   </g>\n   <g id=\"matplotlib.axis_2\">\n    <g id=\"ytick_1\">\n     <g id=\"line2d_8\">\n      <defs>\n       <path d=\"M 0 0 \nL -3.5 0 \n\" id=\"m1d0beb7c04\" style=\"stroke:#000000;stroke-width:0.8;\"/>\n      </defs>\n      <g>\n       <use style=\"stroke:#000000;stroke-width:0.8;\" x=\"46.965625\" xlink:href=\"#m1d0beb7c04\" y=\"218.157717\"/>\n      </g>\n     </g>\n     <g id=\"text_9\">\n      <!-- 75 -->\n      <defs>\n       <path d=\"M 8.203125 72.90625 \nL 55.078125 72.90625 \nL 55.078125 68.703125 \nL 28.609375 0 \nL 18.3125 0 \nL 43.21875 64.59375 \nL 8.203125 64.59375 \nz\n\" id=\"DejaVuSans-55\"/>\n      </defs>\n      <g transform=\"translate(27.240625 221.956936)scale(0.1 -0.1)\">\n       <use xlink:href=\"#DejaVuSans-55\"/>\n       <use x=\"63.623047\" xlink:href=\"#DejaVuSans-53\"/>\n      </g>\n     </g>\n    </g>\n    <g id=\"ytick_2\">\n     <g id=\"line2d_9\">\n      <g>\n       <use style=\"stroke:#000000;stroke-width:0.8;\" x=\"46.965625\" xlink:href=\"#m1d0beb7c04\" y=\"191.956545\"/>\n      </g>\n     </g>\n     <g id=\"text_10\">\n      <!-- 80 -->\n      <g transform=\"translate(27.240625 195.755763)scale(0.1 -0.1)\">\n       <use xlink:href=\"#DejaVuSans-56\"/>\n       <use x=\"63.623047\" xlink:href=\"#DejaVuSans-48\"/>\n      </g>\n     </g>\n    </g>\n    <g id=\"ytick_3\">\n     <g id=\"line2d_10\">\n      <g>\n       <use style=\"stroke:#000000;stroke-width:0.8;\" x=\"46.965625\" xlink:href=\"#m1d0beb7c04\" y=\"165.755372\"/>\n      </g>\n     </g>\n     <g id=\"text_11\">\n      <!-- 85 -->\n      <g transform=\"translate(27.240625 169.554591)scale(0.1 -0.1)\">\n       <use xlink:href=\"#DejaVuSans-56\"/>\n       <use x=\"63.623047\" xlink:href=\"#DejaVuSans-53\"/>\n      </g>\n     </g>\n    </g>\n    <g id=\"ytick_4\">\n     <g id=\"line2d_11\">\n      <g>\n       <use style=\"stroke:#000000;stroke-width:0.8;\" x=\"46.965625\" xlink:href=\"#m1d0beb7c04\" y=\"139.5542\"/>\n      </g>\n     </g>\n     <g id=\"text_12\">\n      <!-- 90 -->\n      <g transform=\"translate(27.240625 143.353419)scale(0.1 -0.1)\">\n       <use xlink:href=\"#DejaVuSans-57\"/>\n       <use x=\"63.623047\" xlink:href=\"#DejaVuSans-48\"/>\n      </g>\n     </g>\n    </g>\n    <g id=\"ytick_5\">\n     <g id=\"line2d_12\">\n      <g>\n       <use style=\"stroke:#000000;stroke-width:0.8;\" x=\"46.965625\" xlink:href=\"#m1d0beb7c04\" y=\"113.353027\"/>\n      </g>\n     </g>\n     <g id=\"text_13\">\n      <!-- 95 -->\n      <g transform=\"translate(27.240625 117.152246)scale(0.1 -0.1)\">\n       <use xlink:href=\"#DejaVuSans-57\"/>\n       <use x=\"63.623047\" xlink:href=\"#DejaVuSans-53\"/>\n      </g>\n     </g>\n    </g>\n    <g id=\"ytick_6\">\n     <g id=\"line2d_13\">\n      <g>\n       <use style=\"stroke:#000000;stroke-width:0.8;\" x=\"46.965625\" xlink:href=\"#m1d0beb7c04\" y=\"87.151855\"/>\n      </g>\n     </g>\n     <g id=\"text_14\">\n      <!-- 100 -->\n      <g transform=\"translate(20.878125 90.951074)scale(0.1 -0.1)\">\n       <use xlink:href=\"#DejaVuSans-49\"/>\n       <use x=\"63.623047\" xlink:href=\"#DejaVuSans-48\"/>\n       <use x=\"127.246094\" xlink:href=\"#DejaVuSans-48\"/>\n      </g>\n     </g>\n    </g>\n    <g id=\"ytick_7\">\n     <g id=\"line2d_14\">\n      <g>\n       <use style=\"stroke:#000000;stroke-width:0.8;\" x=\"46.965625\" xlink:href=\"#m1d0beb7c04\" y=\"60.950683\"/>\n      </g>\n     </g>\n     <g id=\"text_15\">\n      <!-- 105 -->\n      <g transform=\"translate(20.878125 64.749901)scale(0.1 -0.1)\">\n       <use xlink:href=\"#DejaVuSans-49\"/>\n       <use x=\"63.623047\" xlink:href=\"#DejaVuSans-48\"/>\n       <use x=\"127.246094\" xlink:href=\"#DejaVuSans-53\"/>\n      </g>\n     </g>\n    </g>\n    <g id=\"ytick_8\">\n     <g id=\"line2d_15\">\n      <g>\n       <use style=\"stroke:#000000;stroke-width:0.8;\" x=\"46.965625\" xlink:href=\"#m1d0beb7c04\" y=\"34.74951\"/>\n      </g>\n     </g>\n     <g id=\"text_16\">\n      <!-- 110 -->\n      <g transform=\"translate(20.878125 38.548729)scale(0.1 -0.1)\">\n       <use xlink:href=\"#DejaVuSans-49\"/>\n       <use x=\"63.623047\" xlink:href=\"#DejaVuSans-49\"/>\n       <use x=\"127.246094\" xlink:href=\"#DejaVuSans-48\"/>\n      </g>\n     </g>\n    </g>\n    <g id=\"text_17\">\n     <!-- Predicted Rent -->\n     <defs>\n      <path d=\"M 19.671875 64.796875 \nL 19.671875 37.40625 \nL 32.078125 37.40625 \nQ 38.96875 37.40625 42.71875 40.96875 \nQ 46.484375 44.53125 46.484375 51.125 \nQ 46.484375 57.671875 42.71875 61.234375 \nQ 38.96875 64.796875 32.078125 64.796875 \nz\nM 9.8125 72.90625 \nL 32.078125 72.90625 \nQ 44.34375 72.90625 50.609375 67.359375 \nQ 56.890625 61.8125 56.890625 51.125 \nQ 56.890625 40.328125 50.609375 34.8125 \nQ 44.34375 29.296875 32.078125 29.296875 \nL 19.671875 29.296875 \nL 19.671875 0 \nL 9.8125 0 \nz\n\" id=\"DejaVuSans-80\"/>\n      <path d=\"M 41.109375 46.296875 \nQ 39.59375 47.171875 37.8125 47.578125 \nQ 36.03125 48 33.890625 48 \nQ 26.265625 48 22.1875 43.046875 \nQ 18.109375 38.09375 18.109375 28.8125 \nL 18.109375 0 \nL 9.078125 0 \nL 9.078125 54.6875 \nL 18.109375 54.6875 \nL 18.109375 46.1875 \nQ 20.953125 51.171875 25.484375 53.578125 \nQ 30.03125 56 36.53125 56 \nQ 37.453125 56 38.578125 55.875 \nQ 39.703125 55.765625 41.0625 55.515625 \nz\n\" id=\"DejaVuSans-114\"/>\n      <path d=\"M 45.40625 46.390625 \nL 45.40625 75.984375 \nL 54.390625 75.984375 \nL 54.390625 0 \nL 45.40625 0 \nL 45.40625 8.203125 \nQ 42.578125 3.328125 38.25 0.953125 \nQ 33.9375 -1.421875 27.875 -1.421875 \nQ 17.96875 -1.421875 11.734375 6.484375 \nQ 5.515625 14.40625 5.515625 27.296875 \nQ 5.515625 40.1875 11.734375 48.09375 \nQ 17.96875 56 27.875 56 \nQ 33.9375 56 38.25 53.625 \nQ 42.578125 51.265625 45.40625 46.390625 \nz\nM 14.796875 27.296875 \nQ 14.796875 17.390625 18.875 11.75 \nQ 22.953125 6.109375 30.078125 6.109375 \nQ 37.203125 6.109375 41.296875 11.75 \nQ 45.40625 17.390625 45.40625 27.296875 \nQ 45.40625 37.203125 41.296875 42.84375 \nQ 37.203125 48.484375 30.078125 48.484375 \nQ 22.953125 48.484375 18.875 42.84375 \nQ 14.796875 37.203125 14.796875 27.296875 \nz\n\" id=\"DejaVuSans-100\"/>\n      <path d=\"M 9.421875 54.6875 \nL 18.40625 54.6875 \nL 18.40625 0 \nL 9.421875 0 \nz\nM 9.421875 75.984375 \nL 18.40625 75.984375 \nL 18.40625 64.59375 \nL 9.421875 64.59375 \nz\n\" id=\"DejaVuSans-105\"/>\n     </defs>\n     <g transform=\"translate(14.798438 167.552187)rotate(-90)scale(0.1 -0.1)\">\n      <use xlink:href=\"#DejaVuSans-80\"/>\n      <use x=\"58.552734\" xlink:href=\"#DejaVuSans-114\"/>\n      <use x=\"97.416016\" xlink:href=\"#DejaVuSans-101\"/>\n      <use x=\"158.939453\" xlink:href=\"#DejaVuSans-100\"/>\n      <use x=\"222.416016\" xlink:href=\"#DejaVuSans-105\"/>\n      <use x=\"250.199219\" xlink:href=\"#DejaVuSans-99\"/>\n      <use x=\"305.179688\" xlink:href=\"#DejaVuSans-116\"/>\n      <use x=\"344.388672\" xlink:href=\"#DejaVuSans-101\"/>\n      <use x=\"405.912109\" xlink:href=\"#DejaVuSans-100\"/>\n      <use x=\"469.388672\" xlink:href=\"#DejaVuSans-32\"/>\n      <use x=\"501.175781\" xlink:href=\"#DejaVuSans-82\"/>\n      <use x=\"566.158203\" xlink:href=\"#DejaVuSans-101\"/>\n      <use x=\"627.681641\" xlink:href=\"#DejaVuSans-110\"/>\n      <use x=\"691.060547\" xlink:href=\"#DejaVuSans-116\"/>\n     </g>\n    </g>\n   </g>\n   <g id=\"patch_3\">\n    <path d=\"M 46.965625 239.758125 \nL 46.965625 22.318125 \n\" style=\"fill:none;stroke:#000000;stroke-linecap:square;stroke-linejoin:miter;stroke-width:0.8;\"/>\n   </g>\n   <g id=\"patch_4\">\n    <path d=\"M 381.765625 239.758125 \nL 381.765625 22.318125 \n\" style=\"fill:none;stroke:#000000;stroke-linecap:square;stroke-linejoin:miter;stroke-width:0.8;\"/>\n   </g>\n   <g id=\"patch_5\">\n    <path d=\"M 46.965625 239.758125 \nL 381.765625 239.758125 \n\" style=\"fill:none;stroke:#000000;stroke-linecap:square;stroke-linejoin:miter;stroke-width:0.8;\"/>\n   </g>\n   <g id=\"patch_6\">\n    <path d=\"M 46.965625 22.318125 \nL 381.765625 22.318125 \n\" style=\"fill:none;stroke:#000000;stroke-linecap:square;stroke-linejoin:miter;stroke-width:0.8;\"/>\n   </g>\n   <g id=\"text_18\">\n    <!-- MULTIPLE LINEAR REGRESSION -->\n    <defs>\n     <path d=\"M 9.8125 72.90625 \nL 24.515625 72.90625 \nL 43.109375 23.296875 \nL 61.8125 72.90625 \nL 76.515625 72.90625 \nL 76.515625 0 \nL 66.890625 0 \nL 66.890625 64.015625 \nL 48.09375 14.015625 \nL 38.1875 14.015625 \nL 19.390625 64.015625 \nL 19.390625 0 \nL 9.8125 0 \nz\n\" id=\"DejaVuSans-77\"/>\n     <path d=\"M 8.6875 72.90625 \nL 18.609375 72.90625 \nL 18.609375 28.609375 \nQ 18.609375 16.890625 22.84375 11.734375 \nQ 27.09375 6.59375 36.625 6.59375 \nQ 46.09375 6.59375 50.34375 11.734375 \nQ 54.59375 16.890625 54.59375 28.609375 \nL 54.59375 72.90625 \nL 64.5 72.90625 \nL 64.5 27.390625 \nQ 64.5 13.140625 57.4375 5.859375 \nQ 50.390625 -1.421875 36.625 -1.421875 \nQ 22.796875 -1.421875 15.734375 5.859375 \nQ 8.6875 13.140625 8.6875 27.390625 \nz\n\" id=\"DejaVuSans-85\"/>\n     <path d=\"M 9.8125 72.90625 \nL 19.671875 72.90625 \nL 19.671875 8.296875 \nL 55.171875 8.296875 \nL 55.171875 0 \nL 9.8125 0 \nz\n\" id=\"DejaVuSans-76\"/>\n     <path d=\"M -0.296875 72.90625 \nL 61.375 72.90625 \nL 61.375 64.59375 \nL 35.5 64.59375 \nL 35.5 0 \nL 25.59375 0 \nL 25.59375 64.59375 \nL -0.296875 64.59375 \nz\n\" id=\"DejaVuSans-84\"/>\n     <path d=\"M 9.8125 72.90625 \nL 19.671875 72.90625 \nL 19.671875 0 \nL 9.8125 0 \nz\n\" id=\"DejaVuSans-73\"/>\n     <path d=\"M 9.8125 72.90625 \nL 55.90625 72.90625 \nL 55.90625 64.59375 \nL 19.671875 64.59375 \nL 19.671875 43.015625 \nL 54.390625 43.015625 \nL 54.390625 34.71875 \nL 19.671875 34.71875 \nL 19.671875 8.296875 \nL 56.78125 8.296875 \nL 56.78125 0 \nL 9.8125 0 \nz\n\" id=\"DejaVuSans-69\"/>\n     <path d=\"M 9.8125 72.90625 \nL 23.09375 72.90625 \nL 55.421875 11.921875 \nL 55.421875 72.90625 \nL 64.984375 72.90625 \nL 64.984375 0 \nL 51.703125 0 \nL 19.390625 60.984375 \nL 19.390625 0 \nL 9.8125 0 \nz\n\" id=\"DejaVuSans-78\"/>\n     <path d=\"M 59.515625 10.40625 \nL 59.515625 29.984375 \nL 43.40625 29.984375 \nL 43.40625 38.09375 \nL 69.28125 38.09375 \nL 69.28125 6.78125 \nQ 63.578125 2.734375 56.6875 0.65625 \nQ 49.8125 -1.421875 42 -1.421875 \nQ 24.90625 -1.421875 15.25 8.5625 \nQ 5.609375 18.5625 5.609375 36.375 \nQ 5.609375 54.25 15.25 64.234375 \nQ 24.90625 74.21875 42 74.21875 \nQ 49.125 74.21875 55.546875 72.453125 \nQ 61.96875 70.703125 67.390625 67.28125 \nL 67.390625 56.78125 \nQ 61.921875 61.421875 55.765625 63.765625 \nQ 49.609375 66.109375 42.828125 66.109375 \nQ 29.4375 66.109375 22.71875 58.640625 \nQ 16.015625 51.171875 16.015625 36.375 \nQ 16.015625 21.625 22.71875 14.15625 \nQ 29.4375 6.6875 42.828125 6.6875 \nQ 48.046875 6.6875 52.140625 7.59375 \nQ 56.25 8.5 59.515625 10.40625 \nz\n\" id=\"DejaVuSans-71\"/>\n     <path d=\"M 53.515625 70.515625 \nL 53.515625 60.890625 \nQ 47.90625 63.578125 42.921875 64.890625 \nQ 37.9375 66.21875 33.296875 66.21875 \nQ 25.25 66.21875 20.875 63.09375 \nQ 16.5 59.96875 16.5 54.203125 \nQ 16.5 49.359375 19.40625 46.890625 \nQ 22.3125 44.4375 30.421875 42.921875 \nL 36.375 41.703125 \nQ 47.40625 39.59375 52.65625 34.296875 \nQ 57.90625 29 57.90625 20.125 \nQ 57.90625 9.515625 50.796875 4.046875 \nQ 43.703125 -1.421875 29.984375 -1.421875 \nQ 24.8125 -1.421875 18.96875 -0.25 \nQ 13.140625 0.921875 6.890625 3.21875 \nL 6.890625 13.375 \nQ 12.890625 10.015625 18.65625 8.296875 \nQ 24.421875 6.59375 29.984375 6.59375 \nQ 38.421875 6.59375 43.015625 9.90625 \nQ 47.609375 13.234375 47.609375 19.390625 \nQ 47.609375 24.75 44.3125 27.78125 \nQ 41.015625 30.8125 33.5 32.328125 \nL 27.484375 33.5 \nQ 16.453125 35.6875 11.515625 40.375 \nQ 6.59375 45.0625 6.59375 53.421875 \nQ 6.59375 63.09375 13.40625 68.65625 \nQ 20.21875 74.21875 32.171875 74.21875 \nQ 37.3125 74.21875 42.625 73.28125 \nQ 47.953125 72.359375 53.515625 70.515625 \nz\n\" id=\"DejaVuSans-83\"/>\n     <path d=\"M 39.40625 66.21875 \nQ 28.65625 66.21875 22.328125 58.203125 \nQ 16.015625 50.203125 16.015625 36.375 \nQ 16.015625 22.609375 22.328125 14.59375 \nQ 28.65625 6.59375 39.40625 6.59375 \nQ 50.140625 6.59375 56.421875 14.59375 \nQ 62.703125 22.609375 62.703125 36.375 \nQ 62.703125 50.203125 56.421875 58.203125 \nQ 50.140625 66.21875 39.40625 66.21875 \nz\nM 39.40625 74.21875 \nQ 54.734375 74.21875 63.90625 63.9375 \nQ 73.09375 53.65625 73.09375 36.375 \nQ 73.09375 19.140625 63.90625 8.859375 \nQ 54.734375 -1.421875 39.40625 -1.421875 \nQ 24.03125 -1.421875 14.8125 8.828125 \nQ 5.609375 19.09375 5.609375 36.375 \nQ 5.609375 53.65625 14.8125 63.9375 \nQ 24.03125 74.21875 39.40625 74.21875 \nz\n\" id=\"DejaVuSans-79\"/>\n    </defs>\n    <g transform=\"translate(121.4425 16.318125)scale(0.12 -0.12)\">\n     <use xlink:href=\"#DejaVuSans-77\"/>\n     <use x=\"86.279297\" xlink:href=\"#DejaVuSans-85\"/>\n     <use x=\"159.472656\" xlink:href=\"#DejaVuSans-76\"/>\n     <use x=\"201.435547\" xlink:href=\"#DejaVuSans-84\"/>\n     <use x=\"262.519531\" xlink:href=\"#DejaVuSans-73\"/>\n     <use x=\"292.011719\" xlink:href=\"#DejaVuSans-80\"/>\n     <use x=\"352.314453\" xlink:href=\"#DejaVuSans-76\"/>\n     <use x=\"408.027344\" xlink:href=\"#DejaVuSans-69\"/>\n     <use x=\"471.210938\" xlink:href=\"#DejaVuSans-32\"/>\n     <use x=\"502.998047\" xlink:href=\"#DejaVuSans-76\"/>\n     <use x=\"558.710938\" xlink:href=\"#DejaVuSans-73\"/>\n     <use x=\"588.203125\" xlink:href=\"#DejaVuSans-78\"/>\n     <use x=\"663.007812\" xlink:href=\"#DejaVuSans-69\"/>\n     <use x=\"726.191406\" xlink:href=\"#DejaVuSans-65\"/>\n     <use x=\"794.599609\" xlink:href=\"#DejaVuSans-82\"/>\n     <use x=\"864.082031\" xlink:href=\"#DejaVuSans-32\"/>\n     <use x=\"895.869141\" xlink:href=\"#DejaVuSans-82\"/>\n     <use x=\"965.351562\" xlink:href=\"#DejaVuSans-69\"/>\n     <use x=\"1028.535156\" xlink:href=\"#DejaVuSans-71\"/>\n     <use x=\"1106.025391\" xlink:href=\"#DejaVuSans-82\"/>\n     <use x=\"1175.507812\" xlink:href=\"#DejaVuSans-69\"/>\n     <use x=\"1238.691406\" xlink:href=\"#DejaVuSans-83\"/>\n     <use x=\"1302.167969\" xlink:href=\"#DejaVuSans-83\"/>\n     <use x=\"1365.644531\" xlink:href=\"#DejaVuSans-73\"/>\n     <use x=\"1395.136719\" xlink:href=\"#DejaVuSans-79\"/>\n     <use x=\"1473.847656\" xlink:href=\"#DejaVuSans-78\"/>\n    </g>\n   </g>\n  </g>\n </g>\n <defs>\n  <clipPath id=\"pb8dbd07804\">\n   <rect height=\"217.44\" width=\"334.8\" x=\"46.965625\" y=\"22.318125\"/>\n  </clipPath>\n </defs>\n</svg>\n",
      "image/png": "[encoded data removed]"
     },
     "metadata": {
      "needs_background": "light"
     }
    }
   ],
   "source": [
    "# test set에 대한 실제값과 예측값의 추세 확인\n",
    "plt.scatter(y_test, y_predict, alpha=0.4)\n",
    "plt.xlabel(\"Actual Rent\")\n",
    "plt.ylabel(\"Predicted Rent\")\n",
    "plt.title(\"MULTIPLE LINEAR REGRESSION\")\n",
    "plt.show()"
   ]
  },
  {
   "cell_type": "code",
   "execution_count": 62,
   "metadata": {},
   "outputs": [
    {
     "output_type": "stream",
     "name": "stdout",
     "text": [
      "0.9254460636753779\n"
     ]
    }
   ],
   "source": [
    "print(mlr.score(X_train, y_train)) #모델의 결정계수\n",
    "# 92%를 해당변수들로 설명할 수 있다.(train, test split 분할 고정하지않아서 값이 변함.)"
   ]
  },
  {
   "cell_type": "code",
   "execution_count": 63,
   "metadata": {},
   "outputs": [
    {
     "output_type": "execute_result",
     "data": {
      "text/plain": [
       "6.316216884442133"
      ]
     },
     "metadata": {},
     "execution_count": 63
    }
   ],
   "source": [
    "# training error(MSE)\n",
    "y_train_tmp = mlr.predict(X_train)\n",
    "mean_squared_error(y_train, y_train_tmp)"
   ]
  },
  {
   "cell_type": "code",
   "execution_count": 64,
   "metadata": {},
   "outputs": [
    {
     "output_type": "execute_result",
     "data": {
      "text/plain": [
       "37.91299212647102"
      ]
     },
     "metadata": {},
     "execution_count": 64
    }
   ],
   "source": [
    "# test error(MSE)\n",
    "mean_squared_error(y_test, y_pred)"
   ]
  },
  {
   "source": [
    "## weekly record 예측하기"
   ],
   "cell_type": "markdown",
   "metadata": {}
  },
  {
   "cell_type": "code",
   "execution_count": 84,
   "metadata": {},
   "outputs": [],
   "source": [
    "# weekly 레코드들을 예측모델에 집어넣어, 각 레코드에 대한 예측값 얻음\n",
    "pred_ccsi = mlr.predict(predictors[['keyword1','keyword2','keyword3','keyword4','keyword5','google','naver']])"
   ]
  },
  {
   "cell_type": "code",
   "execution_count": 92,
   "metadata": {},
   "outputs": [
    {
     "output_type": "execute_result",
     "data": {
      "text/plain": [
       "     year  month  day  keyword1  keyword2  keyword3  keyword4  keyword5  \\\n",
       "0    2016      1    4       825       419       437       986       168   \n",
       "1    2016      1   11       770       348       351       626       182   \n",
       "2    2016      1   18       918       422       441       445       147   \n",
       "3    2016      1   25      1067       425       567       383       148   \n",
       "4    2016      2    1       899       341       485       289       110   \n",
       "..    ...    ...  ...       ...       ...       ...       ...       ...   \n",
       "247  2020      9   28       489        90       114        95        78   \n",
       "248  2020     10    5       816       183       177       109        78   \n",
       "249  2020     10   12       857       199       176       112        91   \n",
       "250  2020     10   19       911       155       143        95       129   \n",
       "251  2020     10   26       991       198       178       187       114   \n",
       "\n",
       "     google     naver  ccsi        pred  \n",
       "0      53.0  26.05846  99.5   89.873631  \n",
       "1      58.0  25.16599  99.5   92.612037  \n",
       "2      74.0  27.38639  99.5   92.931697  \n",
       "3      59.0  24.72622  99.5   87.137264  \n",
       "4      63.0  23.01888  97.2   92.821697  \n",
       "..      ...       ...   ...         ...  \n",
       "247    63.0  25.29102  79.4  103.048453  \n",
       "248    81.0  28.63240  91.6   96.209432  \n",
       "249    82.0  26.85177  91.6   95.683687  \n",
       "250    93.0  27.25273  91.6   91.146216  \n",
       "251    90.0  30.24489  91.6   89.282210  \n",
       "\n",
       "[252 rows x 12 columns]"
      ],
      "text/html": "<div>\n<style scoped>\n    .dataframe tbody tr th:only-of-type {\n        vertical-align: middle;\n    }\n\n    .dataframe tbody tr th {\n        vertical-align: top;\n    }\n\n    .dataframe thead th {\n        text-align: right;\n    }\n</style>\n<table border=\"1\" class=\"dataframe\">\n  <thead>\n    <tr style=\"text-align: right;\">\n      <th></th>\n      <th>year</th>\n      <th>month</th>\n      <th>day</th>\n      <th>keyword1</th>\n      <th>keyword2</th>\n      <th>keyword3</th>\n      <th>keyword4</th>\n      <th>keyword5</th>\n      <th>google</th>\n      <th>naver</th>\n      <th>ccsi</th>\n      <th>pred</th>\n    </tr>\n  </thead>\n  <tbody>\n    <tr>\n      <th>0</th>\n      <td>2016</td>\n      <td>1</td>\n      <td>4</td>\n      <td>825</td>\n      <td>419</td>\n      <td>437</td>\n      <td>986</td>\n      <td>168</td>\n      <td>53.0</td>\n      <td>26.05846</td>\n      <td>99.5</td>\n      <td>89.873631</td>\n    </tr>\n    <tr>\n      <th>1</th>\n      <td>2016</td>\n      <td>1</td>\n      <td>11</td>\n      <td>770</td>\n      <td>348</td>\n      <td>351</td>\n      <td>626</td>\n      <td>182</td>\n      <td>58.0</td>\n      <td>25.16599</td>\n      <td>99.5</td>\n      <td>92.612037</td>\n    </tr>\n    <tr>\n      <th>2</th>\n      <td>2016</td>\n      <td>1</td>\n      <td>18</td>\n      <td>918</td>\n      <td>422</td>\n      <td>441</td>\n      <td>445</td>\n      <td>147</td>\n      <td>74.0</td>\n      <td>27.38639</td>\n      <td>99.5</td>\n      <td>92.931697</td>\n    </tr>\n    <tr>\n      <th>3</th>\n      <td>2016</td>\n      <td>1</td>\n      <td>25</td>\n      <td>1067</td>\n      <td>425</td>\n      <td>567</td>\n      <td>383</td>\n      <td>148</td>\n      <td>59.0</td>\n      <td>24.72622</td>\n      <td>99.5</td>\n      <td>87.137264</td>\n    </tr>\n    <tr>\n      <th>4</th>\n      <td>2016</td>\n      <td>2</td>\n      <td>1</td>\n      <td>899</td>\n      <td>341</td>\n      <td>485</td>\n      <td>289</td>\n      <td>110</td>\n      <td>63.0</td>\n      <td>23.01888</td>\n      <td>97.2</td>\n      <td>92.821697</td>\n    </tr>\n    <tr>\n      <th>...</th>\n      <td>...</td>\n      <td>...</td>\n      <td>...</td>\n      <td>...</td>\n      <td>...</td>\n      <td>...</td>\n      <td>...</td>\n      <td>...</td>\n      <td>...</td>\n      <td>...</td>\n      <td>...</td>\n      <td>...</td>\n    </tr>\n    <tr>\n      <th>247</th>\n      <td>2020</td>\n      <td>9</td>\n      <td>28</td>\n      <td>489</td>\n      <td>90</td>\n      <td>114</td>\n      <td>95</td>\n      <td>78</td>\n      <td>63.0</td>\n      <td>25.29102</td>\n      <td>79.4</td>\n      <td>103.048453</td>\n    </tr>\n    <tr>\n      <th>248</th>\n      <td>2020</td>\n      <td>10</td>\n      <td>5</td>\n      <td>816</td>\n      <td>183</td>\n      <td>177</td>\n      <td>109</td>\n      <td>78</td>\n      <td>81.0</td>\n      <td>28.63240</td>\n      <td>91.6</td>\n      <td>96.209432</td>\n    </tr>\n    <tr>\n      <th>249</th>\n      <td>2020</td>\n      <td>10</td>\n      <td>12</td>\n      <td>857</td>\n      <td>199</td>\n      <td>176</td>\n      <td>112</td>\n      <td>91</td>\n      <td>82.0</td>\n      <td>26.85177</td>\n      <td>91.6</td>\n      <td>95.683687</td>\n    </tr>\n    <tr>\n      <th>250</th>\n      <td>2020</td>\n      <td>10</td>\n      <td>19</td>\n      <td>911</td>\n      <td>155</td>\n      <td>143</td>\n      <td>95</td>\n      <td>129</td>\n      <td>93.0</td>\n      <td>27.25273</td>\n      <td>91.6</td>\n      <td>91.146216</td>\n    </tr>\n    <tr>\n      <th>251</th>\n      <td>2020</td>\n      <td>10</td>\n      <td>26</td>\n      <td>991</td>\n      <td>198</td>\n      <td>178</td>\n      <td>187</td>\n      <td>114</td>\n      <td>90.0</td>\n      <td>30.24489</td>\n      <td>91.6</td>\n      <td>89.282210</td>\n    </tr>\n  </tbody>\n</table>\n<p>252 rows × 12 columns</p>\n</div>"
     },
     "metadata": {},
     "execution_count": 92
    }
   ],
   "source": [
    "tmp = pd.merge(predictors, ccsi).drop(['id'], axis=1)\n",
    "tmp['pred'] = pred_ccsi\n",
    "tmp"
   ]
  },
  {
   "cell_type": "code",
   "execution_count": 91,
   "metadata": {},
   "outputs": [
    {
     "output_type": "display_data",
     "data": {
      "text/plain": "<Figure size 432x288 with 1 Axes>",
      "image/svg+xml": "<?xml version=\"1.0\" encoding=\"utf-8\" standalone=\"no\"?>\n<!DOCTYPE svg PUBLIC \"-//W3C//DTD SVG 1.1//EN\"\n  \"http://www.w3.org/Graphics/SVG/1.1/DTD/svg11.dtd\">\n<!-- Created with matplotlib (https://matplotlib.org/) -->\n<svg height=\"277.314375pt\" version=\"1.1\" viewBox=\"0 0 388.965625 277.314375\" width=\"388.965625pt\" xmlns=\"http://www.w3.org/2000/svg\" xmlns:xlink=\"http://www.w3.org/1999/xlink\">\n <defs>\n  <style type=\"text/css\">\n*{stroke-linecap:butt;stroke-linejoin:round;}\n  </style>\n </defs>\n <g id=\"figure_1\">\n  <g id=\"patch_1\">\n   <path d=\"M 0 277.314375 \nL 388.965625 277.314375 \nL 388.965625 0 \nL 0 0 \nz\n\" style=\"fill:none;\"/>\n  </g>\n  <g id=\"axes_1\">\n   <g id=\"patch_2\">\n    <path d=\"M 46.965625 239.758125 \nL 381.765625 239.758125 \nL 381.765625 22.318125 \nL 46.965625 22.318125 \nz\n\" style=\"fill:#ffffff;\"/>\n   </g>\n   <g id=\"matplotlib.axis_1\">\n    <g id=\"xtick_1\">\n     <g id=\"line2d_1\">\n      <defs>\n       <path d=\"M 0 0 \nL 0 3.5 \n\" id=\"m2124e2c0df\" style=\"stroke:#000000;stroke-width:0.8;\"/>\n      </defs>\n      <g>\n       <use style=\"stroke:#000000;stroke-width:0.8;\" x=\"56.33066\" xlink:href=\"#m2124e2c0df\" y=\"239.758125\"/>\n      </g>\n     </g>\n     <g id=\"text_1\">\n      <!-- 70 -->\n      <defs>\n       <path d=\"M 8.203125 72.90625 \nL 55.078125 72.90625 \nL 55.078125 68.703125 \nL 28.609375 0 \nL 18.3125 0 \nL 43.21875 64.59375 \nL 8.203125 64.59375 \nz\n\" id=\"DejaVuSans-55\"/>\n       <path d=\"M 31.78125 66.40625 \nQ 24.171875 66.40625 20.328125 58.90625 \nQ 16.5 51.421875 16.5 36.375 \nQ 16.5 21.390625 20.328125 13.890625 \nQ 24.171875 6.390625 31.78125 6.390625 \nQ 39.453125 6.390625 43.28125 13.890625 \nQ 47.125 21.390625 47.125 36.375 \nQ 47.125 51.421875 43.28125 58.90625 \nQ 39.453125 66.40625 31.78125 66.40625 \nz\nM 31.78125 74.21875 \nQ 44.046875 74.21875 50.515625 64.515625 \nQ 56.984375 54.828125 56.984375 36.375 \nQ 56.984375 17.96875 50.515625 8.265625 \nQ 44.046875 -1.421875 31.78125 -1.421875 \nQ 19.53125 -1.421875 13.0625 8.265625 \nQ 6.59375 17.96875 6.59375 36.375 \nQ 6.59375 54.828125 13.0625 64.515625 \nQ 19.53125 74.21875 31.78125 74.21875 \nz\n\" id=\"DejaVuSans-48\"/>\n      </defs>\n      <g transform=\"translate(49.96816 254.356562)scale(0.1 -0.1)\">\n       <use xlink:href=\"#DejaVuSans-55\"/>\n       <use x=\"63.623047\" xlink:href=\"#DejaVuSans-48\"/>\n      </g>\n     </g>\n    </g>\n    <g id=\"xtick_2\">\n     <g id=\"line2d_2\">\n      <g>\n       <use style=\"stroke:#000000;stroke-width:0.8;\" x=\"129.494996\" xlink:href=\"#m2124e2c0df\" y=\"239.758125\"/>\n      </g>\n     </g>\n     <g id=\"text_2\">\n      <!-- 80 -->\n      <defs>\n       <path d=\"M 31.78125 34.625 \nQ 24.75 34.625 20.71875 30.859375 \nQ 16.703125 27.09375 16.703125 20.515625 \nQ 16.703125 13.921875 20.71875 10.15625 \nQ 24.75 6.390625 31.78125 6.390625 \nQ 38.8125 6.390625 42.859375 10.171875 \nQ 46.921875 13.96875 46.921875 20.515625 \nQ 46.921875 27.09375 42.890625 30.859375 \nQ 38.875 34.625 31.78125 34.625 \nz\nM 21.921875 38.8125 \nQ 15.578125 40.375 12.03125 44.71875 \nQ 8.5 49.078125 8.5 55.328125 \nQ 8.5 64.0625 14.71875 69.140625 \nQ 20.953125 74.21875 31.78125 74.21875 \nQ 42.671875 74.21875 48.875 69.140625 \nQ 55.078125 64.0625 55.078125 55.328125 \nQ 55.078125 49.078125 51.53125 44.71875 \nQ 48 40.375 41.703125 38.8125 \nQ 48.828125 37.15625 52.796875 32.3125 \nQ 56.78125 27.484375 56.78125 20.515625 \nQ 56.78125 9.90625 50.3125 4.234375 \nQ 43.84375 -1.421875 31.78125 -1.421875 \nQ 19.734375 -1.421875 13.25 4.234375 \nQ 6.78125 9.90625 6.78125 20.515625 \nQ 6.78125 27.484375 10.78125 32.3125 \nQ 14.796875 37.15625 21.921875 38.8125 \nz\nM 18.3125 54.390625 \nQ 18.3125 48.734375 21.84375 45.5625 \nQ 25.390625 42.390625 31.78125 42.390625 \nQ 38.140625 42.390625 41.71875 45.5625 \nQ 45.3125 48.734375 45.3125 54.390625 \nQ 45.3125 60.0625 41.71875 63.234375 \nQ 38.140625 66.40625 31.78125 66.40625 \nQ 25.390625 66.40625 21.84375 63.234375 \nQ 18.3125 60.0625 18.3125 54.390625 \nz\n\" id=\"DejaVuSans-56\"/>\n      </defs>\n      <g transform=\"translate(123.132496 254.356562)scale(0.1 -0.1)\">\n       <use xlink:href=\"#DejaVuSans-56\"/>\n       <use x=\"63.623047\" xlink:href=\"#DejaVuSans-48\"/>\n      </g>\n     </g>\n    </g>\n    <g id=\"xtick_3\">\n     <g id=\"line2d_3\">\n      <g>\n       <use style=\"stroke:#000000;stroke-width:0.8;\" x=\"202.659331\" xlink:href=\"#m2124e2c0df\" y=\"239.758125\"/>\n      </g>\n     </g>\n     <g id=\"text_3\">\n      <!-- 90 -->\n      <defs>\n       <path d=\"M 10.984375 1.515625 \nL 10.984375 10.5 \nQ 14.703125 8.734375 18.5 7.8125 \nQ 22.3125 6.890625 25.984375 6.890625 \nQ 35.75 6.890625 40.890625 13.453125 \nQ 46.046875 20.015625 46.78125 33.40625 \nQ 43.953125 29.203125 39.59375 26.953125 \nQ 35.25 24.703125 29.984375 24.703125 \nQ 19.046875 24.703125 12.671875 31.3125 \nQ 6.296875 37.9375 6.296875 49.421875 \nQ 6.296875 60.640625 12.9375 67.421875 \nQ 19.578125 74.21875 30.609375 74.21875 \nQ 43.265625 74.21875 49.921875 64.515625 \nQ 56.59375 54.828125 56.59375 36.375 \nQ 56.59375 19.140625 48.40625 8.859375 \nQ 40.234375 -1.421875 26.421875 -1.421875 \nQ 22.703125 -1.421875 18.890625 -0.6875 \nQ 15.09375 0.046875 10.984375 1.515625 \nz\nM 30.609375 32.421875 \nQ 37.25 32.421875 41.125 36.953125 \nQ 45.015625 41.5 45.015625 49.421875 \nQ 45.015625 57.28125 41.125 61.84375 \nQ 37.25 66.40625 30.609375 66.40625 \nQ 23.96875 66.40625 20.09375 61.84375 \nQ 16.21875 57.28125 16.21875 49.421875 \nQ 16.21875 41.5 20.09375 36.953125 \nQ 23.96875 32.421875 30.609375 32.421875 \nz\n\" id=\"DejaVuSans-57\"/>\n      </defs>\n      <g transform=\"translate(196.296831 254.356562)scale(0.1 -0.1)\">\n       <use xlink:href=\"#DejaVuSans-57\"/>\n       <use x=\"63.623047\" xlink:href=\"#DejaVuSans-48\"/>\n      </g>\n     </g>\n    </g>\n    <g id=\"xtick_4\">\n     <g id=\"line2d_4\">\n      <g>\n       <use style=\"stroke:#000000;stroke-width:0.8;\" x=\"275.823667\" xlink:href=\"#m2124e2c0df\" y=\"239.758125\"/>\n      </g>\n     </g>\n     <g id=\"text_4\">\n      <!-- 100 -->\n      <defs>\n       <path d=\"M 12.40625 8.296875 \nL 28.515625 8.296875 \nL 28.515625 63.921875 \nL 10.984375 60.40625 \nL 10.984375 69.390625 \nL 28.421875 72.90625 \nL 38.28125 72.90625 \nL 38.28125 8.296875 \nL 54.390625 8.296875 \nL 54.390625 0 \nL 12.40625 0 \nz\n\" id=\"DejaVuSans-49\"/>\n      </defs>\n      <g transform=\"translate(266.279917 254.356562)scale(0.1 -0.1)\">\n       <use xlink:href=\"#DejaVuSans-49\"/>\n       <use x=\"63.623047\" xlink:href=\"#DejaVuSans-48\"/>\n       <use x=\"127.246094\" xlink:href=\"#DejaVuSans-48\"/>\n      </g>\n     </g>\n    </g>\n    <g id=\"xtick_5\">\n     <g id=\"line2d_5\">\n      <g>\n       <use style=\"stroke:#000000;stroke-width:0.8;\" x=\"348.988003\" xlink:href=\"#m2124e2c0df\" y=\"239.758125\"/>\n      </g>\n     </g>\n     <g id=\"text_5\">\n      <!-- 110 -->\n      <g transform=\"translate(339.444253 254.356562)scale(0.1 -0.1)\">\n       <use xlink:href=\"#DejaVuSans-49\"/>\n       <use x=\"63.623047\" xlink:href=\"#DejaVuSans-49\"/>\n       <use x=\"127.246094\" xlink:href=\"#DejaVuSans-48\"/>\n      </g>\n     </g>\n    </g>\n    <g id=\"text_6\">\n     <!-- Actual CCSI -->\n     <defs>\n      <path d=\"M 34.1875 63.1875 \nL 20.796875 26.90625 \nL 47.609375 26.90625 \nz\nM 28.609375 72.90625 \nL 39.796875 72.90625 \nL 67.578125 0 \nL 57.328125 0 \nL 50.6875 18.703125 \nL 17.828125 18.703125 \nL 11.1875 0 \nL 0.78125 0 \nz\n\" id=\"DejaVuSans-65\"/>\n      <path d=\"M 48.78125 52.59375 \nL 48.78125 44.1875 \nQ 44.96875 46.296875 41.140625 47.34375 \nQ 37.3125 48.390625 33.40625 48.390625 \nQ 24.65625 48.390625 19.8125 42.84375 \nQ 14.984375 37.3125 14.984375 27.296875 \nQ 14.984375 17.28125 19.8125 11.734375 \nQ 24.65625 6.203125 33.40625 6.203125 \nQ 37.3125 6.203125 41.140625 7.25 \nQ 44.96875 8.296875 48.78125 10.40625 \nL 48.78125 2.09375 \nQ 45.015625 0.34375 40.984375 -0.53125 \nQ 36.96875 -1.421875 32.421875 -1.421875 \nQ 20.0625 -1.421875 12.78125 6.34375 \nQ 5.515625 14.109375 5.515625 27.296875 \nQ 5.515625 40.671875 12.859375 48.328125 \nQ 20.21875 56 33.015625 56 \nQ 37.15625 56 41.109375 55.140625 \nQ 45.0625 54.296875 48.78125 52.59375 \nz\n\" id=\"DejaVuSans-99\"/>\n      <path d=\"M 18.3125 70.21875 \nL 18.3125 54.6875 \nL 36.8125 54.6875 \nL 36.8125 47.703125 \nL 18.3125 47.703125 \nL 18.3125 18.015625 \nQ 18.3125 11.328125 20.140625 9.421875 \nQ 21.96875 7.515625 27.59375 7.515625 \nL 36.8125 7.515625 \nL 36.8125 0 \nL 27.59375 0 \nQ 17.1875 0 13.234375 3.875 \nQ 9.28125 7.765625 9.28125 18.015625 \nL 9.28125 47.703125 \nL 2.6875 47.703125 \nL 2.6875 54.6875 \nL 9.28125 54.6875 \nL 9.28125 70.21875 \nz\n\" id=\"DejaVuSans-116\"/>\n      <path d=\"M 8.5 21.578125 \nL 8.5 54.6875 \nL 17.484375 54.6875 \nL 17.484375 21.921875 \nQ 17.484375 14.15625 20.5 10.265625 \nQ 23.53125 6.390625 29.59375 6.390625 \nQ 36.859375 6.390625 41.078125 11.03125 \nQ 45.3125 15.671875 45.3125 23.6875 \nL 45.3125 54.6875 \nL 54.296875 54.6875 \nL 54.296875 0 \nL 45.3125 0 \nL 45.3125 8.40625 \nQ 42.046875 3.421875 37.71875 1 \nQ 33.40625 -1.421875 27.6875 -1.421875 \nQ 18.265625 -1.421875 13.375 4.4375 \nQ 8.5 10.296875 8.5 21.578125 \nz\nM 31.109375 56 \nz\n\" id=\"DejaVuSans-117\"/>\n      <path d=\"M 34.28125 27.484375 \nQ 23.390625 27.484375 19.1875 25 \nQ 14.984375 22.515625 14.984375 16.5 \nQ 14.984375 11.71875 18.140625 8.90625 \nQ 21.296875 6.109375 26.703125 6.109375 \nQ 34.1875 6.109375 38.703125 11.40625 \nQ 43.21875 16.703125 43.21875 25.484375 \nL 43.21875 27.484375 \nz\nM 52.203125 31.203125 \nL 52.203125 0 \nL 43.21875 0 \nL 43.21875 8.296875 \nQ 40.140625 3.328125 35.546875 0.953125 \nQ 30.953125 -1.421875 24.3125 -1.421875 \nQ 15.921875 -1.421875 10.953125 3.296875 \nQ 6 8.015625 6 15.921875 \nQ 6 25.140625 12.171875 29.828125 \nQ 18.359375 34.515625 30.609375 34.515625 \nL 43.21875 34.515625 \nL 43.21875 35.40625 \nQ 43.21875 41.609375 39.140625 45 \nQ 35.0625 48.390625 27.6875 48.390625 \nQ 23 48.390625 18.546875 47.265625 \nQ 14.109375 46.140625 10.015625 43.890625 \nL 10.015625 52.203125 \nQ 14.9375 54.109375 19.578125 55.046875 \nQ 24.21875 56 28.609375 56 \nQ 40.484375 56 46.34375 49.84375 \nQ 52.203125 43.703125 52.203125 31.203125 \nz\n\" id=\"DejaVuSans-97\"/>\n      <path d=\"M 9.421875 75.984375 \nL 18.40625 75.984375 \nL 18.40625 0 \nL 9.421875 0 \nz\n\" id=\"DejaVuSans-108\"/>\n      <path id=\"DejaVuSans-32\"/>\n      <path d=\"M 64.40625 67.28125 \nL 64.40625 56.890625 \nQ 59.421875 61.53125 53.78125 63.8125 \nQ 48.140625 66.109375 41.796875 66.109375 \nQ 29.296875 66.109375 22.65625 58.46875 \nQ 16.015625 50.828125 16.015625 36.375 \nQ 16.015625 21.96875 22.65625 14.328125 \nQ 29.296875 6.6875 41.796875 6.6875 \nQ 48.140625 6.6875 53.78125 8.984375 \nQ 59.421875 11.28125 64.40625 15.921875 \nL 64.40625 5.609375 \nQ 59.234375 2.09375 53.4375 0.328125 \nQ 47.65625 -1.421875 41.21875 -1.421875 \nQ 24.65625 -1.421875 15.125 8.703125 \nQ 5.609375 18.84375 5.609375 36.375 \nQ 5.609375 53.953125 15.125 64.078125 \nQ 24.65625 74.21875 41.21875 74.21875 \nQ 47.75 74.21875 53.53125 72.484375 \nQ 59.328125 70.75 64.40625 67.28125 \nz\n\" id=\"DejaVuSans-67\"/>\n      <path d=\"M 53.515625 70.515625 \nL 53.515625 60.890625 \nQ 47.90625 63.578125 42.921875 64.890625 \nQ 37.9375 66.21875 33.296875 66.21875 \nQ 25.25 66.21875 20.875 63.09375 \nQ 16.5 59.96875 16.5 54.203125 \nQ 16.5 49.359375 19.40625 46.890625 \nQ 22.3125 44.4375 30.421875 42.921875 \nL 36.375 41.703125 \nQ 47.40625 39.59375 52.65625 34.296875 \nQ 57.90625 29 57.90625 20.125 \nQ 57.90625 9.515625 50.796875 4.046875 \nQ 43.703125 -1.421875 29.984375 -1.421875 \nQ 24.8125 -1.421875 18.96875 -0.25 \nQ 13.140625 0.921875 6.890625 3.21875 \nL 6.890625 13.375 \nQ 12.890625 10.015625 18.65625 8.296875 \nQ 24.421875 6.59375 29.984375 6.59375 \nQ 38.421875 6.59375 43.015625 9.90625 \nQ 47.609375 13.234375 47.609375 19.390625 \nQ 47.609375 24.75 44.3125 27.78125 \nQ 41.015625 30.8125 33.5 32.328125 \nL 27.484375 33.5 \nQ 16.453125 35.6875 11.515625 40.375 \nQ 6.59375 45.0625 6.59375 53.421875 \nQ 6.59375 63.09375 13.40625 68.65625 \nQ 20.21875 74.21875 32.171875 74.21875 \nQ 37.3125 74.21875 42.625 73.28125 \nQ 47.953125 72.359375 53.515625 70.515625 \nz\n\" id=\"DejaVuSans-83\"/>\n      <path d=\"M 9.8125 72.90625 \nL 19.671875 72.90625 \nL 19.671875 0 \nL 9.8125 0 \nz\n\" id=\"DejaVuSans-73\"/>\n     </defs>\n     <g transform=\"translate(185.480469 268.034687)scale(0.1 -0.1)\">\n      <use xlink:href=\"#DejaVuSans-65\"/>\n      <use x=\"66.658203\" xlink:href=\"#DejaVuSans-99\"/>\n      <use x=\"121.638672\" xlink:href=\"#DejaVuSans-116\"/>\n      <use x=\"160.847656\" xlink:href=\"#DejaVuSans-117\"/>\n      <use x=\"224.226562\" xlink:href=\"#DejaVuSans-97\"/>\n      <use x=\"285.505859\" xlink:href=\"#DejaVuSans-108\"/>\n      <use x=\"313.289062\" xlink:href=\"#DejaVuSans-32\"/>\n      <use x=\"345.076172\" xlink:href=\"#DejaVuSans-67\"/>\n      <use x=\"414.900391\" xlink:href=\"#DejaVuSans-67\"/>\n      <use x=\"484.724609\" xlink:href=\"#DejaVuSans-83\"/>\n      <use x=\"548.201172\" xlink:href=\"#DejaVuSans-73\"/>\n     </g>\n    </g>\n   </g>\n   <g id=\"matplotlib.axis_2\">\n    <g id=\"ytick_1\">\n     <g id=\"line2d_6\">\n      <defs>\n       <path d=\"M 0 0 \nL -3.5 0 \n\" id=\"mbbef6411ff\" style=\"stroke:#000000;stroke-width:0.8;\"/>\n      </defs>\n      <g>\n       <use style=\"stroke:#000000;stroke-width:0.8;\" x=\"46.965625\" xlink:href=\"#mbbef6411ff\" y=\"220.514629\"/>\n      </g>\n     </g>\n     <g id=\"text_7\">\n      <!-- 60 -->\n      <defs>\n       <path d=\"M 33.015625 40.375 \nQ 26.375 40.375 22.484375 35.828125 \nQ 18.609375 31.296875 18.609375 23.390625 \nQ 18.609375 15.53125 22.484375 10.953125 \nQ 26.375 6.390625 33.015625 6.390625 \nQ 39.65625 6.390625 43.53125 10.953125 \nQ 47.40625 15.53125 47.40625 23.390625 \nQ 47.40625 31.296875 43.53125 35.828125 \nQ 39.65625 40.375 33.015625 40.375 \nz\nM 52.59375 71.296875 \nL 52.59375 62.3125 \nQ 48.875 64.0625 45.09375 64.984375 \nQ 41.3125 65.921875 37.59375 65.921875 \nQ 27.828125 65.921875 22.671875 59.328125 \nQ 17.53125 52.734375 16.796875 39.40625 \nQ 19.671875 43.65625 24.015625 45.921875 \nQ 28.375 48.1875 33.59375 48.1875 \nQ 44.578125 48.1875 50.953125 41.515625 \nQ 57.328125 34.859375 57.328125 23.390625 \nQ 57.328125 12.15625 50.6875 5.359375 \nQ 44.046875 -1.421875 33.015625 -1.421875 \nQ 20.359375 -1.421875 13.671875 8.265625 \nQ 6.984375 17.96875 6.984375 36.375 \nQ 6.984375 53.65625 15.1875 63.9375 \nQ 23.390625 74.21875 37.203125 74.21875 \nQ 40.921875 74.21875 44.703125 73.484375 \nQ 48.484375 72.75 52.59375 71.296875 \nz\n\" id=\"DejaVuSans-54\"/>\n      </defs>\n      <g transform=\"translate(27.240625 224.313848)scale(0.1 -0.1)\">\n       <use xlink:href=\"#DejaVuSans-54\"/>\n       <use x=\"63.623047\" xlink:href=\"#DejaVuSans-48\"/>\n      </g>\n     </g>\n    </g>\n    <g id=\"ytick_2\">\n     <g id=\"line2d_7\">\n      <g>\n       <use style=\"stroke:#000000;stroke-width:0.8;\" x=\"46.965625\" xlink:href=\"#mbbef6411ff\" y=\"188.762985\"/>\n      </g>\n     </g>\n     <g id=\"text_8\">\n      <!-- 70 -->\n      <g transform=\"translate(27.240625 192.562204)scale(0.1 -0.1)\">\n       <use xlink:href=\"#DejaVuSans-55\"/>\n       <use x=\"63.623047\" xlink:href=\"#DejaVuSans-48\"/>\n      </g>\n     </g>\n    </g>\n    <g id=\"ytick_3\">\n     <g id=\"line2d_8\">\n      <g>\n       <use style=\"stroke:#000000;stroke-width:0.8;\" x=\"46.965625\" xlink:href=\"#mbbef6411ff\" y=\"157.011341\"/>\n      </g>\n     </g>\n     <g id=\"text_9\">\n      <!-- 80 -->\n      <g transform=\"translate(27.240625 160.810559)scale(0.1 -0.1)\">\n       <use xlink:href=\"#DejaVuSans-56\"/>\n       <use x=\"63.623047\" xlink:href=\"#DejaVuSans-48\"/>\n      </g>\n     </g>\n    </g>\n    <g id=\"ytick_4\">\n     <g id=\"line2d_9\">\n      <g>\n       <use style=\"stroke:#000000;stroke-width:0.8;\" x=\"46.965625\" xlink:href=\"#mbbef6411ff\" y=\"125.259696\"/>\n      </g>\n     </g>\n     <g id=\"text_10\">\n      <!-- 90 -->\n      <g transform=\"translate(27.240625 129.058915)scale(0.1 -0.1)\">\n       <use xlink:href=\"#DejaVuSans-57\"/>\n       <use x=\"63.623047\" xlink:href=\"#DejaVuSans-48\"/>\n      </g>\n     </g>\n    </g>\n    <g id=\"ytick_5\">\n     <g id=\"line2d_10\">\n      <g>\n       <use style=\"stroke:#000000;stroke-width:0.8;\" x=\"46.965625\" xlink:href=\"#mbbef6411ff\" y=\"93.508052\"/>\n      </g>\n     </g>\n     <g id=\"text_11\">\n      <!-- 100 -->\n      <g transform=\"translate(20.878125 97.307271)scale(0.1 -0.1)\">\n       <use xlink:href=\"#DejaVuSans-49\"/>\n       <use x=\"63.623047\" xlink:href=\"#DejaVuSans-48\"/>\n       <use x=\"127.246094\" xlink:href=\"#DejaVuSans-48\"/>\n      </g>\n     </g>\n    </g>\n    <g id=\"ytick_6\">\n     <g id=\"line2d_11\">\n      <g>\n       <use style=\"stroke:#000000;stroke-width:0.8;\" x=\"46.965625\" xlink:href=\"#mbbef6411ff\" y=\"61.756407\"/>\n      </g>\n     </g>\n     <g id=\"text_12\">\n      <!-- 110 -->\n      <g transform=\"translate(20.878125 65.555626)scale(0.1 -0.1)\">\n       <use xlink:href=\"#DejaVuSans-49\"/>\n       <use x=\"63.623047\" xlink:href=\"#DejaVuSans-49\"/>\n       <use x=\"127.246094\" xlink:href=\"#DejaVuSans-48\"/>\n      </g>\n     </g>\n    </g>\n    <g id=\"ytick_7\">\n     <g id=\"line2d_12\">\n      <g>\n       <use style=\"stroke:#000000;stroke-width:0.8;\" x=\"46.965625\" xlink:href=\"#mbbef6411ff\" y=\"30.004763\"/>\n      </g>\n     </g>\n     <g id=\"text_13\">\n      <!-- 120 -->\n      <defs>\n       <path d=\"M 19.1875 8.296875 \nL 53.609375 8.296875 \nL 53.609375 0 \nL 7.328125 0 \nL 7.328125 8.296875 \nQ 12.9375 14.109375 22.625 23.890625 \nQ 32.328125 33.6875 34.8125 36.53125 \nQ 39.546875 41.84375 41.421875 45.53125 \nQ 43.3125 49.21875 43.3125 52.78125 \nQ 43.3125 58.59375 39.234375 62.25 \nQ 35.15625 65.921875 28.609375 65.921875 \nQ 23.96875 65.921875 18.8125 64.3125 \nQ 13.671875 62.703125 7.8125 59.421875 \nL 7.8125 69.390625 \nQ 13.765625 71.78125 18.9375 73 \nQ 24.125 74.21875 28.421875 74.21875 \nQ 39.75 74.21875 46.484375 68.546875 \nQ 53.21875 62.890625 53.21875 53.421875 \nQ 53.21875 48.921875 51.53125 44.890625 \nQ 49.859375 40.875 45.40625 35.40625 \nQ 44.1875 33.984375 37.640625 27.21875 \nQ 31.109375 20.453125 19.1875 8.296875 \nz\n\" id=\"DejaVuSans-50\"/>\n      </defs>\n      <g transform=\"translate(20.878125 33.803982)scale(0.1 -0.1)\">\n       <use xlink:href=\"#DejaVuSans-49\"/>\n       <use x=\"63.623047\" xlink:href=\"#DejaVuSans-50\"/>\n       <use x=\"127.246094\" xlink:href=\"#DejaVuSans-48\"/>\n      </g>\n     </g>\n    </g>\n    <g id=\"text_14\">\n     <!-- Weekly Index(prediction) -->\n     <defs>\n      <path d=\"M 3.328125 72.90625 \nL 13.28125 72.90625 \nL 28.609375 11.28125 \nL 43.890625 72.90625 \nL 54.984375 72.90625 \nL 70.3125 11.28125 \nL 85.59375 72.90625 \nL 95.609375 72.90625 \nL 77.296875 0 \nL 64.890625 0 \nL 49.515625 63.28125 \nL 33.984375 0 \nL 21.578125 0 \nz\n\" id=\"DejaVuSans-87\"/>\n      <path d=\"M 56.203125 29.59375 \nL 56.203125 25.203125 \nL 14.890625 25.203125 \nQ 15.484375 15.921875 20.484375 11.0625 \nQ 25.484375 6.203125 34.421875 6.203125 \nQ 39.59375 6.203125 44.453125 7.46875 \nQ 49.3125 8.734375 54.109375 11.28125 \nL 54.109375 2.78125 \nQ 49.265625 0.734375 44.1875 -0.34375 \nQ 39.109375 -1.421875 33.890625 -1.421875 \nQ 20.796875 -1.421875 13.15625 6.1875 \nQ 5.515625 13.8125 5.515625 26.8125 \nQ 5.515625 40.234375 12.765625 48.109375 \nQ 20.015625 56 32.328125 56 \nQ 43.359375 56 49.78125 48.890625 \nQ 56.203125 41.796875 56.203125 29.59375 \nz\nM 47.21875 32.234375 \nQ 47.125 39.59375 43.09375 43.984375 \nQ 39.0625 48.390625 32.421875 48.390625 \nQ 24.90625 48.390625 20.390625 44.140625 \nQ 15.875 39.890625 15.1875 32.171875 \nz\n\" id=\"DejaVuSans-101\"/>\n      <path d=\"M 9.078125 75.984375 \nL 18.109375 75.984375 \nL 18.109375 31.109375 \nL 44.921875 54.6875 \nL 56.390625 54.6875 \nL 27.390625 29.109375 \nL 57.625 0 \nL 45.90625 0 \nL 18.109375 26.703125 \nL 18.109375 0 \nL 9.078125 0 \nz\n\" id=\"DejaVuSans-107\"/>\n      <path d=\"M 32.171875 -5.078125 \nQ 28.375 -14.84375 24.75 -17.8125 \nQ 21.140625 -20.796875 15.09375 -20.796875 \nL 7.90625 -20.796875 \nL 7.90625 -13.28125 \nL 13.1875 -13.28125 \nQ 16.890625 -13.28125 18.9375 -11.515625 \nQ 21 -9.765625 23.484375 -3.21875 \nL 25.09375 0.875 \nL 2.984375 54.6875 \nL 12.5 54.6875 \nL 29.59375 11.921875 \nL 46.6875 54.6875 \nL 56.203125 54.6875 \nz\n\" id=\"DejaVuSans-121\"/>\n      <path d=\"M 54.890625 33.015625 \nL 54.890625 0 \nL 45.90625 0 \nL 45.90625 32.71875 \nQ 45.90625 40.484375 42.875 44.328125 \nQ 39.84375 48.1875 33.796875 48.1875 \nQ 26.515625 48.1875 22.3125 43.546875 \nQ 18.109375 38.921875 18.109375 30.90625 \nL 18.109375 0 \nL 9.078125 0 \nL 9.078125 54.6875 \nL 18.109375 54.6875 \nL 18.109375 46.1875 \nQ 21.34375 51.125 25.703125 53.5625 \nQ 30.078125 56 35.796875 56 \nQ 45.21875 56 50.046875 50.171875 \nQ 54.890625 44.34375 54.890625 33.015625 \nz\n\" id=\"DejaVuSans-110\"/>\n      <path d=\"M 45.40625 46.390625 \nL 45.40625 75.984375 \nL 54.390625 75.984375 \nL 54.390625 0 \nL 45.40625 0 \nL 45.40625 8.203125 \nQ 42.578125 3.328125 38.25 0.953125 \nQ 33.9375 -1.421875 27.875 -1.421875 \nQ 17.96875 -1.421875 11.734375 6.484375 \nQ 5.515625 14.40625 5.515625 27.296875 \nQ 5.515625 40.1875 11.734375 48.09375 \nQ 17.96875 56 27.875 56 \nQ 33.9375 56 38.25 53.625 \nQ 42.578125 51.265625 45.40625 46.390625 \nz\nM 14.796875 27.296875 \nQ 14.796875 17.390625 18.875 11.75 \nQ 22.953125 6.109375 30.078125 6.109375 \nQ 37.203125 6.109375 41.296875 11.75 \nQ 45.40625 17.390625 45.40625 27.296875 \nQ 45.40625 37.203125 41.296875 42.84375 \nQ 37.203125 48.484375 30.078125 48.484375 \nQ 22.953125 48.484375 18.875 42.84375 \nQ 14.796875 37.203125 14.796875 27.296875 \nz\n\" id=\"DejaVuSans-100\"/>\n      <path d=\"M 54.890625 54.6875 \nL 35.109375 28.078125 \nL 55.90625 0 \nL 45.3125 0 \nL 29.390625 21.484375 \nL 13.484375 0 \nL 2.875 0 \nL 24.125 28.609375 \nL 4.6875 54.6875 \nL 15.28125 54.6875 \nL 29.78125 35.203125 \nL 44.28125 54.6875 \nz\n\" id=\"DejaVuSans-120\"/>\n      <path d=\"M 31 75.875 \nQ 24.46875 64.65625 21.28125 53.65625 \nQ 18.109375 42.671875 18.109375 31.390625 \nQ 18.109375 20.125 21.3125 9.0625 \nQ 24.515625 -2 31 -13.1875 \nL 23.1875 -13.1875 \nQ 15.875 -1.703125 12.234375 9.375 \nQ 8.59375 20.453125 8.59375 31.390625 \nQ 8.59375 42.28125 12.203125 53.3125 \nQ 15.828125 64.359375 23.1875 75.875 \nz\n\" id=\"DejaVuSans-40\"/>\n      <path d=\"M 18.109375 8.203125 \nL 18.109375 -20.796875 \nL 9.078125 -20.796875 \nL 9.078125 54.6875 \nL 18.109375 54.6875 \nL 18.109375 46.390625 \nQ 20.953125 51.265625 25.265625 53.625 \nQ 29.59375 56 35.59375 56 \nQ 45.5625 56 51.78125 48.09375 \nQ 58.015625 40.1875 58.015625 27.296875 \nQ 58.015625 14.40625 51.78125 6.484375 \nQ 45.5625 -1.421875 35.59375 -1.421875 \nQ 29.59375 -1.421875 25.265625 0.953125 \nQ 20.953125 3.328125 18.109375 8.203125 \nz\nM 48.6875 27.296875 \nQ 48.6875 37.203125 44.609375 42.84375 \nQ 40.53125 48.484375 33.40625 48.484375 \nQ 26.265625 48.484375 22.1875 42.84375 \nQ 18.109375 37.203125 18.109375 27.296875 \nQ 18.109375 17.390625 22.1875 11.75 \nQ 26.265625 6.109375 33.40625 6.109375 \nQ 40.53125 6.109375 44.609375 11.75 \nQ 48.6875 17.390625 48.6875 27.296875 \nz\n\" id=\"DejaVuSans-112\"/>\n      <path d=\"M 41.109375 46.296875 \nQ 39.59375 47.171875 37.8125 47.578125 \nQ 36.03125 48 33.890625 48 \nQ 26.265625 48 22.1875 43.046875 \nQ 18.109375 38.09375 18.109375 28.8125 \nL 18.109375 0 \nL 9.078125 0 \nL 9.078125 54.6875 \nL 18.109375 54.6875 \nL 18.109375 46.1875 \nQ 20.953125 51.171875 25.484375 53.578125 \nQ 30.03125 56 36.53125 56 \nQ 37.453125 56 38.578125 55.875 \nQ 39.703125 55.765625 41.0625 55.515625 \nz\n\" id=\"DejaVuSans-114\"/>\n      <path d=\"M 9.421875 54.6875 \nL 18.40625 54.6875 \nL 18.40625 0 \nL 9.421875 0 \nz\nM 9.421875 75.984375 \nL 18.40625 75.984375 \nL 18.40625 64.59375 \nL 9.421875 64.59375 \nz\n\" id=\"DejaVuSans-105\"/>\n      <path d=\"M 30.609375 48.390625 \nQ 23.390625 48.390625 19.1875 42.75 \nQ 14.984375 37.109375 14.984375 27.296875 \nQ 14.984375 17.484375 19.15625 11.84375 \nQ 23.34375 6.203125 30.609375 6.203125 \nQ 37.796875 6.203125 41.984375 11.859375 \nQ 46.1875 17.53125 46.1875 27.296875 \nQ 46.1875 37.015625 41.984375 42.703125 \nQ 37.796875 48.390625 30.609375 48.390625 \nz\nM 30.609375 56 \nQ 42.328125 56 49.015625 48.375 \nQ 55.71875 40.765625 55.71875 27.296875 \nQ 55.71875 13.875 49.015625 6.21875 \nQ 42.328125 -1.421875 30.609375 -1.421875 \nQ 18.84375 -1.421875 12.171875 6.21875 \nQ 5.515625 13.875 5.515625 27.296875 \nQ 5.515625 40.765625 12.171875 48.375 \nQ 18.84375 56 30.609375 56 \nz\n\" id=\"DejaVuSans-111\"/>\n      <path d=\"M 8.015625 75.875 \nL 15.828125 75.875 \nQ 23.140625 64.359375 26.78125 53.3125 \nQ 30.421875 42.28125 30.421875 31.390625 \nQ 30.421875 20.453125 26.78125 9.375 \nQ 23.140625 -1.703125 15.828125 -13.1875 \nL 8.015625 -13.1875 \nQ 14.5 -2 17.703125 9.0625 \nQ 20.90625 20.125 20.90625 31.390625 \nQ 20.90625 42.671875 17.703125 53.65625 \nQ 14.5 64.65625 8.015625 75.875 \nz\n\" id=\"DejaVuSans-41\"/>\n     </defs>\n     <g transform=\"translate(14.798438 193.425625)rotate(-90)scale(0.1 -0.1)\">\n      <use xlink:href=\"#DejaVuSans-87\"/>\n      <use x=\"93.001953\" xlink:href=\"#DejaVuSans-101\"/>\n      <use x=\"154.525391\" xlink:href=\"#DejaVuSans-101\"/>\n      <use x=\"216.048828\" xlink:href=\"#DejaVuSans-107\"/>\n      <use x=\"273.958984\" xlink:href=\"#DejaVuSans-108\"/>\n      <use x=\"301.742188\" xlink:href=\"#DejaVuSans-121\"/>\n      <use x=\"360.921875\" xlink:href=\"#DejaVuSans-32\"/>\n      <use x=\"392.708984\" xlink:href=\"#DejaVuSans-73\"/>\n      <use x=\"422.201172\" xlink:href=\"#DejaVuSans-110\"/>\n      <use x=\"485.580078\" xlink:href=\"#DejaVuSans-100\"/>\n      <use x=\"549.056641\" xlink:href=\"#DejaVuSans-101\"/>\n      <use x=\"608.830078\" xlink:href=\"#DejaVuSans-120\"/>\n      <use x=\"668.009766\" xlink:href=\"#DejaVuSans-40\"/>\n      <use x=\"707.023438\" xlink:href=\"#DejaVuSans-112\"/>\n      <use x=\"770.5\" xlink:href=\"#DejaVuSans-114\"/>\n      <use x=\"809.363281\" xlink:href=\"#DejaVuSans-101\"/>\n      <use x=\"870.886719\" xlink:href=\"#DejaVuSans-100\"/>\n      <use x=\"934.363281\" xlink:href=\"#DejaVuSans-105\"/>\n      <use x=\"962.146484\" xlink:href=\"#DejaVuSans-99\"/>\n      <use x=\"1017.126953\" xlink:href=\"#DejaVuSans-116\"/>\n      <use x=\"1056.335938\" xlink:href=\"#DejaVuSans-105\"/>\n      <use x=\"1084.119141\" xlink:href=\"#DejaVuSans-111\"/>\n      <use x=\"1145.300781\" xlink:href=\"#DejaVuSans-110\"/>\n      <use x=\"1208.679688\" xlink:href=\"#DejaVuSans-41\"/>\n     </g>\n    </g>\n   </g>\n   <g id=\"line2d_13\">\n    <path clip-path=\"url(#p90f7e6dc22)\" d=\"M 272.16545 125.660939 \nL 272.16545 115.951076 \nL 272.16545 134.349355 \nL 255.337653 116.300344 \nL 255.337653 73.980132 \nL 255.337653 104.858398 \nL 272.16545 91.453623 \nL 272.16545 80.656148 \nL 272.16545 99.838575 \nL 283.871744 91.253825 \nL 283.871744 80.895947 \nL 283.871744 129.023459 \nL 265.58066 84.400463 \nL 265.58066 104.184844 \nL 265.58066 92.404479 \nL 262.654087 93.367525 \nL 262.654087 102.70407 \nL 262.654087 93.772571 \nL 279.481884 76.673678 \nL 279.481884 96.821899 \nL 279.481884 87.594589 \nL 286.066674 84.231126 \nL 286.066674 80.505949 \nL 286.066674 101.255836 \nL 285.335031 96.893615 \nL 285.335031 60.580691 \nL 285.335031 106.529616 \nL 285.335031 84.169161 \nL 287.529961 80.299174 \nL 287.529961 127.918388 \nL 238.509856 102.010825 \nL 238.509856 88.687446 \nL 238.509856 98.692156 \nL 226.071919 106.528488 \nL 226.071919 99.386827 \nL 226.071919 119.916745 \nL 219.487128 126.751692 \nL 219.487128 104.477268 \nL 219.487128 139.057832 \nL 228.266849 116.235514 \nL 228.266849 86.306881 \nL 228.266849 101.278908 \nL 246.557933 98.055221 \nL 246.557933 91.847964 \nL 280.94517 75.264721 \nL 280.94517 87.487478 \nL 333.623492 62.77249 \nL 333.623492 89.365953 \nL 333.623492 81.238885 \nL 357.767723 69.746933 \nL 357.767723 61.155938 \nL 357.767723 70.011488 \nL 358.499366 57.371724 \nL 358.499366 68.851565 \nL 358.499366 59.804716 \nL 348.988003 52.960604 \nL 348.988003 64.816905 \nL 348.988003 62.933731 \nL 331.428562 68.031632 \nL 331.428562 75.026436 \nL 331.428562 49.976575 \nL 331.428562 71.001105 \nL 343.134856 32.201761 \nL 343.134856 74.632333 \nL 343.134856 54.604633 \nL 366.547443 60.68092 \nL 366.547443 81.159253 \nL 366.547443 64.081179 \nL 356.304436 70.395252 \nL 356.304436 60.845472 \nL 351.182933 65.070524 \nL 351.182933 55.051736 \nL 351.182933 79.711549 \nL 337.281709 66.753893 \nL 337.281709 51.32874 \nL 337.281709 73.025629 \nL 337.281709 61.624138 \nL 336.550066 70.133837 \nL 336.550066 68.767756 \nL 336.550066 79.989007 \nL 329.233632 79.900347 \nL 329.233632 66.807482 \nL 335.818422 75.068355 \nL 335.818422 69.553822 \nL 335.818422 97.171165 \nL 316.795695 72.758275 \nL 316.795695 70.484037 \nL 316.795695 90.156958 \nL 282.408457 89.717762 \nL 282.408457 76.66458 \nL 282.408457 94.093395 \nL 268.507233 83.989567 \nL 268.507233 81.667884 \nL 268.507233 85.538282 \nL 268.507233 81.767568 \nL 276.55531 99.994461 \nL 276.55531 55.39985 \nL 270.702163 87.186365 \nL 270.702163 79.667838 \nL 270.702163 119.444189 \nL 244.363003 112.621926 \nL 244.363003 109.694524 \nL 244.363003 117.521802 \nL 244.363003 112.146235 \nL 253.142723 135.081911 \nL 253.142723 110.424844 \nL 253.142723 120.901965 \nL 257.532583 100.577894 \nL 257.532583 125.046747 \nL 272.897094 74.905109 \nL 272.897094 109.038473 \nL 272.897094 68.875387 \nL 274.36038 100.492501 \nL 274.36038 96.337413 \nL 274.36038 116.111073 \nL 288.261604 134.364253 \nL 288.261604 92.943044 \nL 260.459156 103.688101 \nL 260.459156 109.364495 \nL 260.459156 95.712658 \nL 260.459156 96.671506 \nL 258.264226 93.026107 \nL 258.264226 116.496425 \nL 258.264226 108.41883 \nL 245.826289 93.990185 \nL 245.826289 98.884239 \nL 245.826289 86.742084 \nL 245.826289 88.178508 \nL 220.218772 123.790618 \nL 220.218772 87.271601 \nL 253.874366 130.236642 \nL 253.874366 95.75188 \nL 253.874366 104.447443 \nL 265.58066 93.853314 \nL 265.58066 109.11786 \nL 265.58066 97.907646 \nL 283.140101 103.316718 \nL 283.140101 68.305611 \nL 279.481884 103.40144 \nL 279.481884 110.79552 \nL 279.481884 74.047683 \nL 279.481884 87.931765 \nL 306.552688 86.215102 \nL 306.552688 73.312319 \nL 306.552688 96.1266 \nL 253.142723 122.442449 \nL 253.142723 159.777727 \nL 253.142723 147.478731 \nL 117.788702 150.643081 \nL 117.788702 139.727741 \nL 117.788702 200.560011 \nL 62.183807 172.410516 \nL 62.183807 229.874489 \nL 62.183807 138.005032 \nL 111.935555 166.271015 \nL 111.935555 210.214315 \nL 111.935555 121.092486 \nL 142.664576 139.711631 \nL 142.664576 159.646184 \nL 160.224017 141.988722 \nL 160.224017 155.681587 \nL 160.224017 126.431855 \nL 189.489751 118.911247 \nL 189.489751 125.083411 \nL 189.489751 105.046098 \nL 189.489751 124.614024 \nL 125.105135 125.63289 \nL 125.105135 143.226591 \nL 125.105135 83.828713 \nL 214.365625 105.54373 \nL 214.365625 127.538798 \nL 214.365625 127.538798 \n\" style=\"fill:none;stroke:#1f77b4;stroke-linecap:square;stroke-opacity:0.4;stroke-width:1.5;\"/>\n   </g>\n   <g id=\"patch_3\">\n    <path d=\"M 46.965625 239.758125 \nL 46.965625 22.318125 \n\" style=\"fill:none;stroke:#000000;stroke-linecap:square;stroke-linejoin:miter;stroke-width:0.8;\"/>\n   </g>\n   <g id=\"patch_4\">\n    <path d=\"M 381.765625 239.758125 \nL 381.765625 22.318125 \n\" style=\"fill:none;stroke:#000000;stroke-linecap:square;stroke-linejoin:miter;stroke-width:0.8;\"/>\n   </g>\n   <g id=\"patch_5\">\n    <path d=\"M 46.965625 239.758125 \nL 381.765625 239.758125 \n\" style=\"fill:none;stroke:#000000;stroke-linecap:square;stroke-linejoin:miter;stroke-width:0.8;\"/>\n   </g>\n   <g id=\"patch_6\">\n    <path d=\"M 46.965625 22.318125 \nL 381.765625 22.318125 \n\" style=\"fill:none;stroke:#000000;stroke-linecap:square;stroke-linejoin:miter;stroke-width:0.8;\"/>\n   </g>\n   <g id=\"text_15\">\n    <!-- MULTIPLE LINEAR REGRESSION -->\n    <defs>\n     <path d=\"M 9.8125 72.90625 \nL 24.515625 72.90625 \nL 43.109375 23.296875 \nL 61.8125 72.90625 \nL 76.515625 72.90625 \nL 76.515625 0 \nL 66.890625 0 \nL 66.890625 64.015625 \nL 48.09375 14.015625 \nL 38.1875 14.015625 \nL 19.390625 64.015625 \nL 19.390625 0 \nL 9.8125 0 \nz\n\" id=\"DejaVuSans-77\"/>\n     <path d=\"M 8.6875 72.90625 \nL 18.609375 72.90625 \nL 18.609375 28.609375 \nQ 18.609375 16.890625 22.84375 11.734375 \nQ 27.09375 6.59375 36.625 6.59375 \nQ 46.09375 6.59375 50.34375 11.734375 \nQ 54.59375 16.890625 54.59375 28.609375 \nL 54.59375 72.90625 \nL 64.5 72.90625 \nL 64.5 27.390625 \nQ 64.5 13.140625 57.4375 5.859375 \nQ 50.390625 -1.421875 36.625 -1.421875 \nQ 22.796875 -1.421875 15.734375 5.859375 \nQ 8.6875 13.140625 8.6875 27.390625 \nz\n\" id=\"DejaVuSans-85\"/>\n     <path d=\"M 9.8125 72.90625 \nL 19.671875 72.90625 \nL 19.671875 8.296875 \nL 55.171875 8.296875 \nL 55.171875 0 \nL 9.8125 0 \nz\n\" id=\"DejaVuSans-76\"/>\n     <path d=\"M -0.296875 72.90625 \nL 61.375 72.90625 \nL 61.375 64.59375 \nL 35.5 64.59375 \nL 35.5 0 \nL 25.59375 0 \nL 25.59375 64.59375 \nL -0.296875 64.59375 \nz\n\" id=\"DejaVuSans-84\"/>\n     <path d=\"M 19.671875 64.796875 \nL 19.671875 37.40625 \nL 32.078125 37.40625 \nQ 38.96875 37.40625 42.71875 40.96875 \nQ 46.484375 44.53125 46.484375 51.125 \nQ 46.484375 57.671875 42.71875 61.234375 \nQ 38.96875 64.796875 32.078125 64.796875 \nz\nM 9.8125 72.90625 \nL 32.078125 72.90625 \nQ 44.34375 72.90625 50.609375 67.359375 \nQ 56.890625 61.8125 56.890625 51.125 \nQ 56.890625 40.328125 50.609375 34.8125 \nQ 44.34375 29.296875 32.078125 29.296875 \nL 19.671875 29.296875 \nL 19.671875 0 \nL 9.8125 0 \nz\n\" id=\"DejaVuSans-80\"/>\n     <path d=\"M 9.8125 72.90625 \nL 55.90625 72.90625 \nL 55.90625 64.59375 \nL 19.671875 64.59375 \nL 19.671875 43.015625 \nL 54.390625 43.015625 \nL 54.390625 34.71875 \nL 19.671875 34.71875 \nL 19.671875 8.296875 \nL 56.78125 8.296875 \nL 56.78125 0 \nL 9.8125 0 \nz\n\" id=\"DejaVuSans-69\"/>\n     <path d=\"M 9.8125 72.90625 \nL 23.09375 72.90625 \nL 55.421875 11.921875 \nL 55.421875 72.90625 \nL 64.984375 72.90625 \nL 64.984375 0 \nL 51.703125 0 \nL 19.390625 60.984375 \nL 19.390625 0 \nL 9.8125 0 \nz\n\" id=\"DejaVuSans-78\"/>\n     <path d=\"M 44.390625 34.1875 \nQ 47.5625 33.109375 50.5625 29.59375 \nQ 53.5625 26.078125 56.59375 19.921875 \nL 66.609375 0 \nL 56 0 \nL 46.6875 18.703125 \nQ 43.0625 26.03125 39.671875 28.421875 \nQ 36.28125 30.8125 30.421875 30.8125 \nL 19.671875 30.8125 \nL 19.671875 0 \nL 9.8125 0 \nL 9.8125 72.90625 \nL 32.078125 72.90625 \nQ 44.578125 72.90625 50.734375 67.671875 \nQ 56.890625 62.453125 56.890625 51.90625 \nQ 56.890625 45.015625 53.6875 40.46875 \nQ 50.484375 35.9375 44.390625 34.1875 \nz\nM 19.671875 64.796875 \nL 19.671875 38.921875 \nL 32.078125 38.921875 \nQ 39.203125 38.921875 42.84375 42.21875 \nQ 46.484375 45.515625 46.484375 51.90625 \nQ 46.484375 58.296875 42.84375 61.546875 \nQ 39.203125 64.796875 32.078125 64.796875 \nz\n\" id=\"DejaVuSans-82\"/>\n     <path d=\"M 59.515625 10.40625 \nL 59.515625 29.984375 \nL 43.40625 29.984375 \nL 43.40625 38.09375 \nL 69.28125 38.09375 \nL 69.28125 6.78125 \nQ 63.578125 2.734375 56.6875 0.65625 \nQ 49.8125 -1.421875 42 -1.421875 \nQ 24.90625 -1.421875 15.25 8.5625 \nQ 5.609375 18.5625 5.609375 36.375 \nQ 5.609375 54.25 15.25 64.234375 \nQ 24.90625 74.21875 42 74.21875 \nQ 49.125 74.21875 55.546875 72.453125 \nQ 61.96875 70.703125 67.390625 67.28125 \nL 67.390625 56.78125 \nQ 61.921875 61.421875 55.765625 63.765625 \nQ 49.609375 66.109375 42.828125 66.109375 \nQ 29.4375 66.109375 22.71875 58.640625 \nQ 16.015625 51.171875 16.015625 36.375 \nQ 16.015625 21.625 22.71875 14.15625 \nQ 29.4375 6.6875 42.828125 6.6875 \nQ 48.046875 6.6875 52.140625 7.59375 \nQ 56.25 8.5 59.515625 10.40625 \nz\n\" id=\"DejaVuSans-71\"/>\n     <path d=\"M 39.40625 66.21875 \nQ 28.65625 66.21875 22.328125 58.203125 \nQ 16.015625 50.203125 16.015625 36.375 \nQ 16.015625 22.609375 22.328125 14.59375 \nQ 28.65625 6.59375 39.40625 6.59375 \nQ 50.140625 6.59375 56.421875 14.59375 \nQ 62.703125 22.609375 62.703125 36.375 \nQ 62.703125 50.203125 56.421875 58.203125 \nQ 50.140625 66.21875 39.40625 66.21875 \nz\nM 39.40625 74.21875 \nQ 54.734375 74.21875 63.90625 63.9375 \nQ 73.09375 53.65625 73.09375 36.375 \nQ 73.09375 19.140625 63.90625 8.859375 \nQ 54.734375 -1.421875 39.40625 -1.421875 \nQ 24.03125 -1.421875 14.8125 8.828125 \nQ 5.609375 19.09375 5.609375 36.375 \nQ 5.609375 53.65625 14.8125 63.9375 \nQ 24.03125 74.21875 39.40625 74.21875 \nz\n\" id=\"DejaVuSans-79\"/>\n    </defs>\n    <g transform=\"translate(121.4425 16.318125)scale(0.12 -0.12)\">\n     <use xlink:href=\"#DejaVuSans-77\"/>\n     <use x=\"86.279297\" xlink:href=\"#DejaVuSans-85\"/>\n     <use x=\"159.472656\" xlink:href=\"#DejaVuSans-76\"/>\n     <use x=\"201.435547\" xlink:href=\"#DejaVuSans-84\"/>\n     <use x=\"262.519531\" xlink:href=\"#DejaVuSans-73\"/>\n     <use x=\"292.011719\" xlink:href=\"#DejaVuSans-80\"/>\n     <use x=\"352.314453\" xlink:href=\"#DejaVuSans-76\"/>\n     <use x=\"408.027344\" xlink:href=\"#DejaVuSans-69\"/>\n     <use x=\"471.210938\" xlink:href=\"#DejaVuSans-32\"/>\n     <use x=\"502.998047\" xlink:href=\"#DejaVuSans-76\"/>\n     <use x=\"558.710938\" xlink:href=\"#DejaVuSans-73\"/>\n     <use x=\"588.203125\" xlink:href=\"#DejaVuSans-78\"/>\n     <use x=\"663.007812\" xlink:href=\"#DejaVuSans-69\"/>\n     <use x=\"726.191406\" xlink:href=\"#DejaVuSans-65\"/>\n     <use x=\"794.599609\" xlink:href=\"#DejaVuSans-82\"/>\n     <use x=\"864.082031\" xlink:href=\"#DejaVuSans-32\"/>\n     <use x=\"895.869141\" xlink:href=\"#DejaVuSans-82\"/>\n     <use x=\"965.351562\" xlink:href=\"#DejaVuSans-69\"/>\n     <use x=\"1028.535156\" xlink:href=\"#DejaVuSans-71\"/>\n     <use x=\"1106.025391\" xlink:href=\"#DejaVuSans-82\"/>\n     <use x=\"1175.507812\" xlink:href=\"#DejaVuSans-69\"/>\n     <use x=\"1238.691406\" xlink:href=\"#DejaVuSans-83\"/>\n     <use x=\"1302.167969\" xlink:href=\"#DejaVuSans-83\"/>\n     <use x=\"1365.644531\" xlink:href=\"#DejaVuSans-73\"/>\n     <use x=\"1395.136719\" xlink:href=\"#DejaVuSans-79\"/>\n     <use x=\"1473.847656\" xlink:href=\"#DejaVuSans-78\"/>\n    </g>\n   </g>\n  </g>\n </g>\n <defs>\n  <clipPath id=\"p90f7e6dc22\">\n   <rect height=\"217.44\" width=\"334.8\" x=\"46.965625\" y=\"22.318125\"/>\n  </clipPath>\n </defs>\n</svg>\n",
      "image/png": "[encoded data removed]"
     },
     "metadata": {
      "needs_background": "light"
     }
    }
   ],
   "source": [
    "# true와 pred의 추세 확인\n",
    "plt.plot(tmp['ccsi'], tmp['pred'], alpha=0.4)\n",
    "plt.xlabel(\"Actual CCSI\")\n",
    "plt.ylabel(\"Weekly Index(prediction)\")\n",
    "plt.title(\"MULTIPLE LINEAR REGRESSION\")\n",
    "plt.show()"
   ]
  },
  {
   "cell_type": "code",
   "execution_count": 87,
   "metadata": {},
   "outputs": [
    {
     "output_type": "execute_result",
     "data": {
      "text/plain": [
       "26.966559081901295"
      ]
     },
     "metadata": {},
     "execution_count": 87
    }
   ],
   "source": [
    "# weekly별 단기지표 값을 생성해서, 얻은 mse\n",
    "mean_squared_error(tmp['ccsi'], tmp['pred'])"
   ]
  }
 ]
}