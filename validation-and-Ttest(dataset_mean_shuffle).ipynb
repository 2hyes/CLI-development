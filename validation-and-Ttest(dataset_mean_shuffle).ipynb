{
 "cells": [
  {
   "cell_type": "code",
   "execution_count": 2,
   "metadata": {},
   "outputs": [],
   "source": [
    "import pandas as pd\n",
    "from sklearn.model_selection import train_test_split, cross_val_score, KFold\n",
    "import pymysql\n",
    "import numpy as np\n",
    "import pickle\n",
    "from sklearn.linear_model import LinearRegression, Lasso\n",
    "from sklearn.ensemble import RandomForestRegressor\n",
    "from sklearn.svm import SVR\n",
    "from sklearn.metrics import mean_squared_error\n",
    "import matplotlib.pyplot as plt\n",
    "from sklearn.preprocessing import StandardScaler\n",
    "from pygam import LinearGAM, s, f\n",
    "import os\n",
    "import warnings\n",
    "warnings.filterwarnings(action='ignore') "
   ]
  },
  {
   "cell_type": "code",
   "execution_count": 3,
   "metadata": {},
   "outputs": [],
   "source": [
    "def pickleLoad(file):\n",
    "    if os.path.isfile(file):        \n",
    "        with open(file,\"rb\") as fr:\n",
    "            dataframe = pickle.load(fr)\n",
    "        return dataframe\n",
    "    else:  \n",
    "        %run -i './getTrainTestSet/getTrainTestSet.py' "
   ]
  },
  {
   "cell_type": "code",
   "execution_count": 4,
   "metadata": {},
   "outputs": [],
   "source": [
    "# load train, test set data\n",
    "\n",
    "X_train = pickleLoad('./dataset/dataset_mean/X_train.pkl')\n",
    "X_test = pickleLoad('./dataset/dataset_mean/X_test.pkl')\n",
    "y_train = pickleLoad('./dataset/dataset_mean/y_train.pkl')\n",
    "y_test = pickleLoad('./dataset/dataset_mean/y_test.pkl')\n",
    "ccsi = pickleLoad('./dataset/dataset_mean/ccsi.pkl')\n",
    "predictors = pickleLoad('./dataset/dataset_mean/predictors.pkl')"
   ]
  },
  {
   "cell_type": "markdown",
   "metadata": {},
   "source": [
    "* data preprocessing(standard scaling)"
   ]
  },
  {
   "cell_type": "code",
   "execution_count": 6,
   "metadata": {},
   "outputs": [],
   "source": [
    "# 변수 스케일링\n",
    "scaler = StandardScaler()\n",
    "scaler.fit(X_train)\n",
    "X_train = scaler.transform(X_train)\n",
    "X_test= scaler.transform(X_test)"
   ]
  },
  {
   "cell_type": "markdown",
   "metadata": {},
   "source": [
    "### model 1. multiple linear regression\n",
    "\n",
    "* 10-fold CV"
   ]
  },
  {
   "cell_type": "code",
   "execution_count": 7,
   "metadata": {},
   "outputs": [],
   "source": [
    "model_lr = LinearRegression()\n",
    "scores = cross_val_score(model_lr, X_train, y_train, cv = 10, scoring = 'neg_mean_squared_error')\n",
    "rmse_linearRegressionCV = np.sqrt(-scores)\n",
    "rmse_lravg = rmse_linearRegressionCV.mean()\n",
    "rmse_lrstd = rmse_linearRegressionCV.std()"
   ]
  },
  {
   "cell_type": "code",
   "execution_count": 8,
   "metadata": {},
   "outputs": [
    {
     "name": "stdout",
     "output_type": "stream",
     "text": [
      " 10-fold cv RMSE:  [3.62311388 2.94033541 6.89129922 6.82041626 2.22932892 2.86554892\n",
      " 3.64621428 0.59432644 3.96861431 2.04639006]\n",
      "최종 CV RMSE =  3.5625587704543866\n"
     ]
    }
   ],
   "source": [
    "print(\" 10-fold cv RMSE: \", rmse_linearRegressionCV)\n",
    "print(\"최종 CV RMSE = \", rmse_lravg)"
   ]
  },
  {
   "cell_type": "markdown",
   "metadata": {},
   "source": [
    "### model 2: Random Forest"
   ]
  },
  {
   "cell_type": "code",
   "execution_count": 9,
   "metadata": {},
   "outputs": [],
   "source": [
    "k_fold = KFold(n_splits=10, shuffle=True, random_state=0)"
   ]
  },
  {
   "cell_type": "code",
   "execution_count": 10,
   "metadata": {},
   "outputs": [],
   "source": [
    "# CV\n",
    "rmse_randomforest, parameters_randomforest = [], []\n",
    "numOfEstimators = np.power(2, [3,4,5,6])\n",
    "maxFeatures = [1,2,3,4,5]\n",
    "for i in maxFeatures:\n",
    "    for j in numOfEstimators:\n",
    "        # parameter search\n",
    "        model_forest = RandomForestRegressor(max_features = i, n_estimators = j, warm_start = True, random_state = 23)\n",
    "        parameters_randomforest.append(model_forest.get_params)\n",
    "        # 10-fold CV\n",
    "        scores = cross_val_score(model_forest, X_train, y_train, cv = k_fold, scoring = 'neg_mean_squared_error')\n",
    "        rmse_randomforest.append(np.sqrt(-scores))\n",
    "    "
   ]
  },
  {
   "cell_type": "code",
   "execution_count": 11,
   "metadata": {},
   "outputs": [],
   "source": [
    "def getCVResult(rmse_list, model_num):\n",
    "    cv_rmse =  rmse_list[model_num - 1].mean()\n",
    "    std = rmse_list[model_num - 1].std()\n",
    "\n",
    "    return cv_rmse, std"
   ]
  },
  {
   "cell_type": "code",
   "execution_count": 12,
   "metadata": {},
   "outputs": [
    {
     "name": "stdout",
     "output_type": "stream",
     "text": [
      "1 4.660100984067306 2.138110893591565\n",
      "2 4.287166837279387 2.395895644434318\n",
      "3 4.1861309464285075 2.335970721782587\n",
      "4 4.153820152685928 2.422839576460097\n",
      "5 4.315631398276771 2.1524511485066666\n",
      "6 4.20780996817912 2.016434701274733\n",
      "7 4.241879061432306 2.165447428429407\n",
      "8 3.9667316695120194 2.3450667408047563\n",
      "9 3.9397325755653334 2.2282766004312227\n",
      "10 3.6059013622626863 2.21440321884522\n",
      "11 3.6928651911294645 2.205312212268793\n",
      "12 3.7088505267691025 2.289875759236912\n",
      "13 3.7805945864211 2.263386368778752\n",
      "14 3.6084771603682975 2.2825145050826845\n",
      "15 3.66631510457497 2.263755362030466\n",
      "16 3.6252784657148545 2.3340010349570197\n",
      "17 4.064938125074813 1.9003613740058118\n",
      "18 3.64204475124277 2.0347201777689192\n",
      "19 3.7707927572336644 2.0165671997373766\n",
      "20 3.732786217309915 2.1973262561527713\n"
     ]
    }
   ],
   "source": [
    "rmse_list, std_list = [], []\n",
    "for i in range(1,21):\n",
    "    cv_rmse, std = getCVResult(rmse_randomforest, i)\n",
    "    rmse_list.append(cv_rmse)\n",
    "    std_list.append(std)\n",
    "    print(i, cv_rmse, std)\n",
    "    "
   ]
  },
  {
   "cell_type": "markdown",
   "metadata": {},
   "source": [
    "#### final random forest model selection"
   ]
  },
  {
   "cell_type": "code",
   "execution_count": 13,
   "metadata": {},
   "outputs": [
    {
     "data": {
      "text/plain": [
       "9"
      ]
     },
     "execution_count": 13,
     "metadata": {},
     "output_type": "execute_result"
    }
   ],
   "source": [
    "rmse_list.index(min(rmse_list))"
   ]
  },
  {
   "cell_type": "markdown",
   "metadata": {},
   "source": [
    "model 후보 1~20번 중에, 10번모델이 가장 낮은 rmse 평균값을 갖고있음을 확인할 수 있다.\n",
    "\n",
    "따라서, 10번 모델을 랜덤포레스트 대표모델로 활용하고자 한다."
   ]
  },
  {
   "cell_type": "code",
   "execution_count": 14,
   "metadata": {},
   "outputs": [
    {
     "data": {
      "text/plain": [
       "<bound method BaseEstimator.get_params of RandomForestRegressor(max_features=3, n_estimators=16, random_state=23,\n",
       "                      warm_start=True)>"
      ]
     },
     "execution_count": 14,
     "metadata": {},
     "output_type": "execute_result"
    }
   ],
   "source": [
    "# 대표 모델의 파라미터\n",
    "parameters_randomforest[rmse_list.index(min(rmse_list))]"
   ]
  },
  {
   "cell_type": "code",
   "execution_count": 15,
   "metadata": {},
   "outputs": [],
   "source": [
    "# 대표 모델의 평균 rmse와 std\n",
    "rmse_forestavg = rmse_list[rmse_list.index(min(rmse_list))]\n",
    "rmse_foreststd = std_list[rmse_list.index(min(rmse_list))]"
   ]
  },
  {
   "cell_type": "code",
   "execution_count": 16,
   "metadata": {},
   "outputs": [
    {
     "data": {
      "text/plain": [
       "array([1.89140944, 2.13107587, 1.84590552, 7.07861326, 3.81807993,\n",
       "       8.08683875, 1.6572933 , 2.68051782, 2.03320819, 4.83607153])"
      ]
     },
     "execution_count": 16,
     "metadata": {},
     "output_type": "execute_result"
    }
   ],
   "source": [
    "# 대표 모델의 10-fold cv\n",
    "rmse_randomforestCV = rmse_randomforest[rmse_list.index(min(rmse_list))]\n",
    "rmse_randomforestCV"
   ]
  },
  {
   "cell_type": "code",
   "execution_count": 17,
   "metadata": {},
   "outputs": [
    {
     "name": "stdout",
     "output_type": "stream",
     "text": [
      " 10-fold cv RMSE:  [1.89140944 2.13107587 1.84590552 7.07861326 3.81807993 8.08683875\n",
      " 1.6572933  2.68051782 2.03320819 4.83607153]\n",
      "최종 CV RMSE =  3.6059013622626863\n"
     ]
    }
   ],
   "source": [
    "print(\" 10-fold cv RMSE: \", rmse_randomforestCV)\n",
    "print(\"최종 CV RMSE = \", rmse_forestavg)"
   ]
  },
  {
   "cell_type": "markdown",
   "metadata": {},
   "source": [
    "### model 3: GAM"
   ]
  },
  {
   "cell_type": "code",
   "execution_count": 59,
   "metadata": {},
   "outputs": [],
   "source": [
    "X_train_df = pd.DataFrame(X_train, columns = ['keyword1', 'keyword2', 'keyword3', 'keyword4', 'keyword5', 'google', 'naver'])\n",
    "y_train_df = np.array(y_train)\n",
    "y_train_df = pd.DataFrame(y_train_df)"
   ]
  },
  {
   "cell_type": "code",
   "execution_count": 60,
   "metadata": {},
   "outputs": [
    {
     "name": "stderr",
     "output_type": "stream",
     "text": [
      "100% (100 of 100) |######################| Elapsed Time: 0:00:06 Time:  0:00:06\n",
      "100% (100 of 100) |######################| Elapsed Time: 0:00:06 Time:  0:00:06\n",
      "100% (100 of 100) |######################| Elapsed Time: 0:00:05 Time:  0:00:05\n",
      "100% (100 of 100) |######################| Elapsed Time: 0:00:06 Time:  0:00:06\n",
      "100% (100 of 100) |######################| Elapsed Time: 0:00:05 Time:  0:00:05\n",
      "100% (100 of 100) |######################| Elapsed Time: 0:00:05 Time:  0:00:05\n",
      "100% (100 of 100) |######################| Elapsed Time: 0:00:06 Time:  0:00:06\n",
      "100% (100 of 100) |######################| Elapsed Time: 0:00:05 Time:  0:00:05\n",
      "100% (100 of 100) |######################| Elapsed Time: 0:00:06 Time:  0:00:06\n",
      "100% (100 of 100) |######################| Elapsed Time: 0:00:05 Time:  0:00:05\n"
     ]
    }
   ],
   "source": [
    "# CV\n",
    "rmse_gam, parameters_gam = [], []\n",
    "np.random.seed(1)\n",
    "lams = np.random.rand(100, 7) # random points on [0, 1], with shape (100, 7)\n",
    "lams = lams * 6 - 3 # shift values to -3, 3\n",
    "lams = 10 ** lams # transforms values to 1e-3, \n",
    "\n",
    "K=10\n",
    "for k in range(K):\n",
    "    if k < 3:\n",
    "        val_ind = (range(4 * k, 4 * k + 4))\n",
    "    else:\n",
    "        val_ind = (range(5 * (k-1)+1, 5 * (k-1)+6))\n",
    "    X_train2 = X_train_df.drop(val_ind).to_numpy()\n",
    "    y_train2 = y_train_df.drop(val_ind).to_numpy()\n",
    "    X_val = X_train_df.loc[val_ind, :].to_numpy()\n",
    "    y_val = y_train_df.loc[val_ind, :].to_numpy()\n",
    "    # parameter search\n",
    "    model_gam =  LinearGAM(s(0) + s(1) + s(2) + s(3) + s(4) + s(5)+ s(6)).gridsearch(X_train2, y_train2, lam=lams)\n",
    "    parameters_gam.append(model_gam.get_params)\n",
    "    y_hat = model_gam.predict(X_val)\n",
    "    scores = mean_squared_error(y_val, y_hat)\n",
    "    rmse_gam.append(np.sqrt(scores))\n",
    "    "
   ]
  },
  {
   "cell_type": "code",
   "execution_count": 61,
   "metadata": {},
   "outputs": [
    {
     "name": "stdout",
     "output_type": "stream",
     "text": [
      " 10-fold cv RMSE:  [4.761285365438659, 8.341046422205833, 4.253105602132854, 6.3986141735342255, 9.473145883144749, 7.769099719965774, 5.040161589006731, 3.4517817779863202, 5.129498276349468, 8.033509658521345]\n",
      "최종 CV RMSE =  6.265124846828596\n"
     ]
    }
   ],
   "source": [
    "rmse_gamavg = np.mean(rmse_gam)\n",
    "rmse_gamstd = np.std(rmse_gam)\n",
    "print(\" 10-fold cv RMSE: \", rmse_gam)\n",
    "print(\"최종 CV RMSE = \", rmse_gamavg)"
   ]
  },
  {
   "cell_type": "markdown",
   "metadata": {},
   "source": [
    "### model 4: Lasso Regression"
   ]
  },
  {
   "cell_type": "code",
   "execution_count": 26,
   "metadata": {},
   "outputs": [],
   "source": [
    "# CV\n",
    "rmse_lasso, parameters_lasso = [], []\n",
    "alpha = [10, 1, 0.1, 0.01, 0.001]\n",
    "for i in alpha:\n",
    "    # parameter search\n",
    "    model_lasso = Lasso(alpha = i, random_state = 23)\n",
    "    parameters_lasso.append(model_lasso.get_params)\n",
    "    # 10-fold CV\n",
    "    scores = cross_val_score(model_lasso, X_train, y_train, cv = k_fold, scoring = 'neg_mean_squared_error')\n",
    "    rmse_lasso.append(np.sqrt(-scores))\n",
    "    "
   ]
  },
  {
   "cell_type": "code",
   "execution_count": 27,
   "metadata": {},
   "outputs": [
    {
     "name": "stdout",
     "output_type": "stream",
     "text": [
      "1 7.517047407555718 3.02194391232923\n",
      "2 3.639095890664785 1.7107950295218877\n",
      "3 3.680305780548256 1.7403992794164995\n",
      "4 3.7180365572854526 1.652340753555634\n",
      "5 3.724711460380604 1.6455718657658402\n"
     ]
    }
   ],
   "source": [
    "rmse_list, std_list = [], []\n",
    "for i in range(1, 6):\n",
    "    cv_rmse, std = getCVResult(rmse_lasso, i)\n",
    "    rmse_list.append(cv_rmse)\n",
    "    std_list.append(std)\n",
    "    print(i, cv_rmse, std)\n",
    "    "
   ]
  },
  {
   "cell_type": "markdown",
   "metadata": {},
   "source": [
    "#### final lasso linear regression model selection"
   ]
  },
  {
   "cell_type": "code",
   "execution_count": 28,
   "metadata": {},
   "outputs": [
    {
     "data": {
      "text/plain": [
       "1"
      ]
     },
     "execution_count": 28,
     "metadata": {},
     "output_type": "execute_result"
    }
   ],
   "source": [
    "rmse_list.index(min(rmse_list))"
   ]
  },
  {
   "cell_type": "markdown",
   "metadata": {},
   "source": [
    "model 후보 1~5번 중에, 2번모델이 가장 낮은 rmse 평균값을 갖고 있음을 확인할 수 있다.\n",
    "\n",
    "따라서, 2번 모델을 라쏘 회귀 대표모델로 활용하고자 한다."
   ]
  },
  {
   "cell_type": "code",
   "execution_count": 29,
   "metadata": {},
   "outputs": [
    {
     "data": {
      "text/plain": [
       "<bound method BaseEstimator.get_params of Lasso(alpha=1, random_state=23)>"
      ]
     },
     "execution_count": 29,
     "metadata": {},
     "output_type": "execute_result"
    }
   ],
   "source": [
    "# 대표 모델의 파라미터\n",
    "parameters_lasso[rmse_list.index(min(rmse_list))]"
   ]
  },
  {
   "cell_type": "code",
   "execution_count": 30,
   "metadata": {},
   "outputs": [],
   "source": [
    "# 대표 모델의 평균 rmse와 std\n",
    "rmse_lassoavg = rmse_list[rmse_list.index(min(rmse_list))]\n",
    "rmse_lassostd = std_list[rmse_list.index(min(rmse_list))]"
   ]
  },
  {
   "cell_type": "code",
   "execution_count": 31,
   "metadata": {},
   "outputs": [
    {
     "data": {
      "text/plain": [
       "array([1.79053645, 3.22804947, 2.81972063, 7.79911206, 4.29119618,\n",
       "       4.67420667, 2.5433981 , 4.24969463, 1.49042231, 3.50462241])"
      ]
     },
     "execution_count": 31,
     "metadata": {},
     "output_type": "execute_result"
    }
   ],
   "source": [
    "# 대표 모델의 10-fold cv\n",
    "rmse_lassoCV = rmse_lasso[rmse_list.index(min(rmse_list))]\n",
    "rmse_lassoCV "
   ]
  },
  {
   "cell_type": "markdown",
   "metadata": {},
   "source": [
    "###  Model간 CV RMSE 비교"
   ]
  },
  {
   "cell_type": "code",
   "execution_count": 32,
   "metadata": {},
   "outputs": [
    {
     "data": {
      "image/png": "[encoded data removed]",
      "text/plain": [
       "<Figure size 432x288 with 1 Axes>"
      ]
     },
     "metadata": {
      "needs_background": "light"
     },
     "output_type": "display_data"
    }
   ],
   "source": [
    "plt.plot(rmse_linearRegressionCV, color = 'red', label = 'Linear Regression')\n",
    "plt.plot(rmse_randomforestCV, color = 'blue', label = 'Random Forest')\n",
    "plt.plot(rmse_lassoCV, color = 'green', label = 'Lasso Linear Regression')\n",
    "plt.plot(rmse_gam, color = 'purple', label = 'Lasso Linear Regression')\n",
    "plt.xlabel(\"K\")\n",
    "plt.ylabel(\"K-fold CV RMSE\")\n",
    "plt.grid(True)"
   ]
  },
  {
   "cell_type": "code",
   "execution_count": 33,
   "metadata": {},
   "outputs": [
    {
     "name": "stdout",
     "output_type": "stream",
     "text": [
      "3.5625587704543866 3.6059013622626863 3.639095890664785 6.265124846828596\n"
     ]
    }
   ],
   "source": [
    "print(rmse_lravg, rmse_forestavg, rmse_lassoavg, rmse_gamavg)"
   ]
  },
  {
   "cell_type": "markdown",
   "metadata": {},
   "source": [
    "## T-test"
   ]
  },
  {
   "cell_type": "code",
   "execution_count": 34,
   "metadata": {},
   "outputs": [],
   "source": [
    "def tTest(rmse1, rmse2):\n",
    "    mean = (rmse1 - rmse2).mean()\n",
    "    sd = (rmse1 - rmse2).std()\n",
    "    t_statistic = mean / (sd / np.sqrt(10)) \n",
    "    return t_statistic"
   ]
  },
  {
   "cell_type": "markdown",
   "metadata": {},
   "source": [
    "**H0**: linear regression model의 rmse = Random Forest model의 rmse<br>\n",
    "즉, 두 모델의 성능에 차이가 없다.<br><br>\n",
    "**H1**: 두 모델의 성능에 차이가 있다."
   ]
  },
  {
   "cell_type": "code",
   "execution_count": 35,
   "metadata": {},
   "outputs": [
    {
     "name": "stdout",
     "output_type": "stream",
     "text": [
      "평균:  -0.04334259180830071\n"
     ]
    },
    {
     "data": {
      "text/plain": [
       "-0.04883236135535948"
      ]
     },
     "execution_count": 35,
     "metadata": {},
     "output_type": "execute_result"
    }
   ],
   "source": [
    "mean = np.average(rmse_linearRegressionCV - rmse_randomforestCV)\n",
    "sd = (rmse_linearRegressionCV - rmse_randomforestCV).std()\n",
    "print('평균: ', mean)\n",
    "tTest(rmse_linearRegressionCV, rmse_randomforestCV)"
   ]
  },
  {
   "cell_type": "markdown",
   "metadata": {},
   "source": [
    "t_0.05,9 = 1.844 <br>\n",
    "t_0.025,9 = 2.262 <br><br>\n",
    "\n",
    "유의수준 0.025에서 귀무가설이 기각되지 않는다. 따라서, linear regression model과 Random forest model의 성능에는 차이가 없다.\n"
   ]
  },
  {
   "cell_type": "markdown",
   "metadata": {},
   "source": [
    "**H0**: linear regression model의 rmse = Lasso linear regression model의 rmse<br>\n",
    "즉, 두 모델의 성능에 차이가 없다.<br><br>\n",
    "**H1**: 두 모델의 성능에 차이가 있다."
   ]
  },
  {
   "cell_type": "code",
   "execution_count": 36,
   "metadata": {},
   "outputs": [
    {
     "name": "stdout",
     "output_type": "stream",
     "text": [
      "평균:  -0.07653712021039864\n"
     ]
    },
    {
     "data": {
      "text/plain": [
       "-0.1068736629495559"
      ]
     },
     "execution_count": 36,
     "metadata": {},
     "output_type": "execute_result"
    }
   ],
   "source": [
    "mean = np.average(rmse_linearRegressionCV - rmse_lassoCV)\n",
    "sd = (rmse_linearRegressionCV - rmse_lassoCV).std()\n",
    "print('평균: ', mean)\n",
    "tTest(rmse_linearRegressionCV, rmse_lassoCV) "
   ]
  },
  {
   "cell_type": "markdown",
   "metadata": {},
   "source": [
    "t_0.05,9 = 1.844 <br>\n",
    "t_0.025,9 = 2.262 <br><br>\n",
    "\n",
    "유의수준 0.025에서 귀무가설이 기각되지않는다. 따라서, linear regression model과 Lasso linear regression model의 성능에는 차이가 없다."
   ]
  },
  {
   "cell_type": "markdown",
   "metadata": {},
   "source": [
    "**H0**: Random Forest model의 rmse = Lasso linear regression model의 rmse<br>\n",
    "즉, 두 모델의 성능에 차이가 없다.<br><br>\n",
    "**H1**: 두 모델의 성능에 차이가 있다."
   ]
  },
  {
   "cell_type": "code",
   "execution_count": 37,
   "metadata": {},
   "outputs": [
    {
     "name": "stdout",
     "output_type": "stream",
     "text": [
      "평균:  -0.03319452840209787\n"
     ]
    },
    {
     "data": {
      "text/plain": [
       "-0.07449630512451616"
      ]
     },
     "execution_count": 37,
     "metadata": {},
     "output_type": "execute_result"
    }
   ],
   "source": [
    "mean = np.average(rmse_randomforestCV - rmse_lassoCV)\n",
    "sd = (rmse_randomforestCV - rmse_lassoCV).std()\n",
    "print('평균: ', mean)\n",
    "tTest(rmse_randomforestCV, rmse_lassoCV)"
   ]
  },
  {
   "cell_type": "markdown",
   "metadata": {},
   "source": [
    "t_0.05,9 = 1.844 <br>\n",
    "t_0.025,9 = 2.262 <br><br>\n",
    "\n",
    "유의수준 0.025에서 귀무가설이 기각되지않는다. 따라서, random forest model과 Lasso linear regression model의 성능에는 차이가 없다."
   ]
  },
  {
   "cell_type": "markdown",
   "metadata": {},
   "source": [
    "**H0**: linear regression model의 rmse = Generalized additive model의 rmse<br>\n",
    "즉, 두 모델의 성능에 차이가 없다.<br><br>\n",
    "\n",
    "**H1**: 두 모델의 성능에 차이가 있다."
   ]
  },
  {
   "cell_type": "code",
   "execution_count": 38,
   "metadata": {},
   "outputs": [
    {
     "name": "stdout",
     "output_type": "stream",
     "text": [
      "평균:  -2.70256607637421\n"
     ]
    },
    {
     "data": {
      "text/plain": [
       "-2.874719765496354"
      ]
     },
     "execution_count": 38,
     "metadata": {},
     "output_type": "execute_result"
    }
   ],
   "source": [
    "mean = np.average(rmse_linearRegressionCV - rmse_gam)\n",
    "sd = (rmse_linearRegressionCV - rmse_gam).std()\n",
    "print('평균: ', mean)\n",
    "tTest(rmse_linearRegressionCV, rmse_gam)"
   ]
  },
  {
   "cell_type": "markdown",
   "metadata": {},
   "source": [
    "t_0.05,9 = 1.844 <br>\n",
    "t_0.025,9 = 2.262 <br><br>\n",
    "\n",
    "유의수준 0.05에서 귀무가설이 기각된다. 따라서, linear regression model과 Generalized additive model의 성능에는 차이가 있다. 평균값이 음수값이 나왔으므로 linear regression model의 rmse가 더 작아고 판단된다. 따라서 linear regression model의 성능이 더 좋다고 할 수 있다."
   ]
  },
  {
   "cell_type": "markdown",
   "metadata": {},
   "source": [
    "**H0**:  Random Forest model의 rmse = Generalized additive model의 rmse<br>\n",
    "즉, 두 모델의 성능에 차이가 없다.<br><br>\n",
    "**H1**: 두 모델의 성능에 차이가 있다."
   ]
  },
  {
   "cell_type": "code",
   "execution_count": 39,
   "metadata": {},
   "outputs": [
    {
     "name": "stdout",
     "output_type": "stream",
     "text": [
      "평균:  -2.659223484565909\n"
     ]
    },
    {
     "data": {
      "text/plain": [
       "-3.9092603738698886"
      ]
     },
     "execution_count": 39,
     "metadata": {},
     "output_type": "execute_result"
    }
   ],
   "source": [
    "mean = np.average(rmse_randomforestCV - rmse_gam)\n",
    "sd = (rmse_randomforestCV - rmse_gam).std()\n",
    "print('평균: ', mean)\n",
    "tTest(rmse_randomforestCV, rmse_gam)"
   ]
  },
  {
   "cell_type": "markdown",
   "metadata": {},
   "source": [
    "t_0.05,9 = 1.844 <br>\n",
    "t_0.025,9 = 2.262 <br><br>\n",
    "\n",
    "유의수준 0.05에서 귀무가설이 기각된다. 따라서, Random Forest model과 Generalized additive model의 성능에는 차이가 있다. 평균값이 음수값이 나왔으므로 Random Forest model의 rmse가 더 작아고 판단된다. 따라서 Random Forest model의 성능이 더 좋다고 할 수 있다."
   ]
  },
  {
   "cell_type": "markdown",
   "metadata": {},
   "source": [
    "**H0**: Lasso linear regression model의 rmse = Generalized additive model의 rmse<br>\n",
    "즉, 두 모델의 성능에 차이가 없다.<br><br>\n",
    "**H1**: 두 모델의 성능에 차이가 있다."
   ]
  },
  {
   "cell_type": "code",
   "execution_count": 55,
   "metadata": {},
   "outputs": [
    {
     "name": "stdout",
     "output_type": "stream",
     "text": [
      "평균:  2.626028956163811\n"
     ]
    },
    {
     "data": {
      "text/plain": [
       "3.827243983117924"
      ]
     },
     "execution_count": 55,
     "metadata": {},
     "output_type": "execute_result"
    }
   ],
   "source": [
    "mean = np.average(rmse_gam - rmse_lassoCV)\n",
    "sd = (rmse_gam - rmse_lassoCV).std()\n",
    "print('평균: ', mean)\n",
    "tTest(rmse_gam, rmse_lassoCV)"
   ]
  },
  {
   "cell_type": "markdown",
   "metadata": {},
   "source": [
    "t_0.05,9 = 1.844 <br>\n",
    "t_0.025,9 = 2.262 <br><br>\n",
    "\n",
    "유의수준 0.05에서 귀무가설이 기각된다. 따라서, Lasso linear regression model과 Generalized additive model의 성능에는 차이가 있다. 평균값이 양수값이 나왔으므로 Lasso linear regression model의 rmse가 더 작아고 판단된다. 따라서 Lasso linear regression model의 성능이 더 좋다고 할 수 있다."
   ]
  },
  {
   "cell_type": "markdown",
   "metadata": {},
   "source": [
    "결론적으로, GAM은 다른 3개의 모델에 비해 성능이 떨어진다. 다른 3개의 모델의 성능은 차이가 있지 않으므로 모델의 해석력이 좋은 linear regression model을 사용하고자 한다."
   ]
  },
  {
   "cell_type": "markdown",
   "metadata": {},
   "source": [
    "## Testing"
   ]
  },
  {
   "cell_type": "code",
   "execution_count": 41,
   "metadata": {},
   "outputs": [],
   "source": [
    "model_lr.fit(X_train, y_train)\n",
    "y_pred = model_lr.predict(X_test) # y_pred: test set을 넣어서 얻은 예측 값"
   ]
  },
  {
   "cell_type": "code",
   "execution_count": 42,
   "metadata": {},
   "outputs": [
    {
     "data": {
      "image/png": "[encoded data removed]",
      "text/plain": [
       "<Figure size 432x288 with 1 Axes>"
      ]
     },
     "metadata": {
      "needs_background": "light"
     },
     "output_type": "display_data"
    }
   ],
   "source": [
    "# test set에 대한 실제값과 예측 값의 추세 확인\n",
    "plt.scatter(y_test, y_pred, alpha=0.4)\n",
    "plt.xlabel(\"true y\")\n",
    "plt.ylabel(\"y hat\")\n",
    "plt.title(\"MULTIPLE LINEAR REGRESSION\")\n",
    "plt.show()"
   ]
  },
  {
   "cell_type": "markdown",
   "metadata": {},
   "source": [
    "* model evaluating"
   ]
  },
  {
   "cell_type": "code",
   "execution_count": 43,
   "metadata": {},
   "outputs": [
    {
     "name": "stdout",
     "output_type": "stream",
     "text": [
      "R square:  0.8369693796447781\n",
      "training RMSE:  3.2420364888857653\n",
      "test RMSE:  4.006386320440263\n"
     ]
    }
   ],
   "source": [
    "print(\"R square: \", model_lr.score(X_train, y_train))\n",
    "print(\"training RMSE: \", np.sqrt(mean_squared_error(y_train, model_lr.predict(X_train))))\n",
    "print(\"test RMSE: \", np.sqrt(mean_squared_error(y_test, y_pred)))"
   ]
  },
  {
   "cell_type": "markdown",
   "metadata": {},
   "source": [
    "## Step5. Visulization\n",
    "### weekly record 예측하기(weekly CCSI)"
   ]
  },
  {
   "cell_type": "code",
   "execution_count": 44,
   "metadata": {},
   "outputs": [],
   "source": [
    "X = scaler.transform(predictors.loc[:, ['keyword1', 'keyword2', 'keyword3', 'keyword4', 'keyword5', 'google', 'naver']])"
   ]
  },
  {
   "cell_type": "code",
   "execution_count": 45,
   "metadata": {},
   "outputs": [],
   "source": [
    "# weekly 레코드들을 예측모델에 집어넣어, 각 레코드에 대한 예측값 얻음\n",
    "pred_ccsi = model_lr.predict(X)"
   ]
  },
  {
   "cell_type": "code",
   "execution_count": 46,
   "metadata": {},
   "outputs": [
    {
     "data": {
      "text/html": [
       "<div>\n",
       "<style scoped>\n",
       "    .dataframe tbody tr th:only-of-type {\n",
       "        vertical-align: middle;\n",
       "    }\n",
       "\n",
       "    .dataframe tbody tr th {\n",
       "        vertical-align: top;\n",
       "    }\n",
       "\n",
       "    .dataframe thead th {\n",
       "        text-align: right;\n",
       "    }\n",
       "</style>\n",
       "<table border=\"1\" class=\"dataframe\">\n",
       "  <thead>\n",
       "    <tr style=\"text-align: right;\">\n",
       "      <th></th>\n",
       "      <th>year</th>\n",
       "      <th>month</th>\n",
       "      <th>day</th>\n",
       "      <th>keyword1</th>\n",
       "      <th>keyword2</th>\n",
       "      <th>keyword3</th>\n",
       "      <th>keyword4</th>\n",
       "      <th>keyword5</th>\n",
       "      <th>google</th>\n",
       "      <th>naver</th>\n",
       "      <th>id</th>\n",
       "      <th>ccsi</th>\n",
       "      <th>pred</th>\n",
       "    </tr>\n",
       "  </thead>\n",
       "  <tbody>\n",
       "    <tr>\n",
       "      <th>0</th>\n",
       "      <td>2016</td>\n",
       "      <td>1</td>\n",
       "      <td>4</td>\n",
       "      <td>825</td>\n",
       "      <td>419</td>\n",
       "      <td>437</td>\n",
       "      <td>588</td>\n",
       "      <td>168</td>\n",
       "      <td>53.0</td>\n",
       "      <td>26.05846</td>\n",
       "      <td>91</td>\n",
       "      <td>99.5</td>\n",
       "      <td>104.547157</td>\n",
       "    </tr>\n",
       "    <tr>\n",
       "      <th>1</th>\n",
       "      <td>2016</td>\n",
       "      <td>1</td>\n",
       "      <td>11</td>\n",
       "      <td>770</td>\n",
       "      <td>348</td>\n",
       "      <td>351</td>\n",
       "      <td>388</td>\n",
       "      <td>182</td>\n",
       "      <td>58.0</td>\n",
       "      <td>25.16599</td>\n",
       "      <td>91</td>\n",
       "      <td>99.5</td>\n",
       "      <td>100.488620</td>\n",
       "    </tr>\n",
       "    <tr>\n",
       "      <th>2</th>\n",
       "      <td>2016</td>\n",
       "      <td>1</td>\n",
       "      <td>18</td>\n",
       "      <td>918</td>\n",
       "      <td>422</td>\n",
       "      <td>441</td>\n",
       "      <td>363</td>\n",
       "      <td>147</td>\n",
       "      <td>74.0</td>\n",
       "      <td>27.38639</td>\n",
       "      <td>91</td>\n",
       "      <td>99.5</td>\n",
       "      <td>92.076754</td>\n",
       "    </tr>\n",
       "    <tr>\n",
       "      <th>3</th>\n",
       "      <td>2016</td>\n",
       "      <td>1</td>\n",
       "      <td>25</td>\n",
       "      <td>1067</td>\n",
       "      <td>425</td>\n",
       "      <td>567</td>\n",
       "      <td>393</td>\n",
       "      <td>148</td>\n",
       "      <td>59.0</td>\n",
       "      <td>24.72622</td>\n",
       "      <td>91</td>\n",
       "      <td>99.5</td>\n",
       "      <td>87.973095</td>\n",
       "    </tr>\n",
       "    <tr>\n",
       "      <th>4</th>\n",
       "      <td>2016</td>\n",
       "      <td>2</td>\n",
       "      <td>1</td>\n",
       "      <td>899</td>\n",
       "      <td>341</td>\n",
       "      <td>485</td>\n",
       "      <td>297</td>\n",
       "      <td>110</td>\n",
       "      <td>63.0</td>\n",
       "      <td>23.01888</td>\n",
       "      <td>92</td>\n",
       "      <td>97.2</td>\n",
       "      <td>91.018064</td>\n",
       "    </tr>\n",
       "  </tbody>\n",
       "</table>\n",
       "</div>"
      ],
      "text/plain": [
       "   year  month  day  keyword1  keyword2  keyword3  keyword4  keyword5  google  \\\n",
       "0  2016      1    4       825       419       437       588       168    53.0   \n",
       "1  2016      1   11       770       348       351       388       182    58.0   \n",
       "2  2016      1   18       918       422       441       363       147    74.0   \n",
       "3  2016      1   25      1067       425       567       393       148    59.0   \n",
       "4  2016      2    1       899       341       485       297       110    63.0   \n",
       "\n",
       "      naver  id  ccsi        pred  \n",
       "0  26.05846  91  99.5  104.547157  \n",
       "1  25.16599  91  99.5  100.488620  \n",
       "2  27.38639  91  99.5   92.076754  \n",
       "3  24.72622  91  99.5   87.973095  \n",
       "4  23.01888  92  97.2   91.018064  "
      ]
     },
     "execution_count": 46,
     "metadata": {},
     "output_type": "execute_result"
    }
   ],
   "source": [
    "# tmp = pd.merge(predictors, ccsi).drop(['id'], axis=1)\n",
    "tmp = pd.merge(predictors, ccsi)\n",
    "tmp['pred'] = pred_ccsi\n",
    "tmp.head()"
   ]
  },
  {
   "cell_type": "code",
   "execution_count": 48,
   "metadata": {},
   "outputs": [
    {
     "data": {
      "image/png": "[encoded data removed]",
      "text/plain": [
       "<Figure size 432x288 with 1 Axes>"
      ]
     },
     "metadata": {
      "needs_background": "light"
     },
     "output_type": "display_data"
    }
   ],
   "source": [
    "# true와 pred의 추세 확인\n",
    "plt.scatter(tmp['ccsi'], tmp['pred'], alpha=0.4)\n",
    "plt.xlabel(\"Actual CCSI\")\n",
    "plt.ylabel(\"Weekly Index(prediction)\")\n",
    "plt.title(\"MULTIPLE LINEAR REGRESSION\")\n",
    "plt.show()"
   ]
  },
  {
   "cell_type": "code",
   "execution_count": 49,
   "metadata": {},
   "outputs": [
    {
     "name": "stdout",
     "output_type": "stream",
     "text": [
      "RMSE about weekly CCSI:  4.792839493297525\n"
     ]
    }
   ],
   "source": [
    "# weekly별 단기지표 값에 대한 MSE\n",
    "print(\"RMSE about weekly CCSI: \", np.sqrt(mean_squared_error(tmp['ccsi'], tmp['pred'])))"
   ]
  },
  {
   "cell_type": "markdown",
   "metadata": {},
   "source": [
    "### visaulization\n",
    "* 시계열 그래프"
   ]
  },
  {
   "cell_type": "code",
   "execution_count": 50,
   "metadata": {},
   "outputs": [
    {
     "data": {
      "image/png": "[encoded data removed]",
      "text/plain": [
       "<Figure size 864x432 with 1 Axes>"
      ]
     },
     "metadata": {
      "needs_background": "light"
     },
     "output_type": "display_data"
    }
   ],
   "source": [
    "# 시계열 그래프를 그리기위해, 날짜 column 생성\n",
    "tmp['date'] = tmp[['year', 'month', 'day']].apply(lambda x: '.'.join(map(str, x)), axis=1)\n",
    "\n",
    "plt.rcParams[\"figure.figsize\"] = (12, 6)\n",
    "plt.plot(tmp['date'], tmp['ccsi'], color = 'red', label = 'ccsi')\n",
    "plt.plot(tmp['date'], tmp['pred'], color = 'blue', label = 'pred')\n",
    "plt.xlabel(\"date\")\n",
    "plt.ylabel(\"ccsi, pred\")\n",
    "ax = plt.subplot()\n",
    "ax.xaxis.set_major_locator(plt.MultipleLocator(10))\n",
    "for label in ax.xaxis.get_ticklabels() :\n",
    "    label.set_rotation(90)\n",
    "plt.title(\"MULTIPLE LINEAR REGRESSION\")\n",
    "plt.legend()\n",
    "plt.show()"
   ]
  },
  {
   "cell_type": "markdown",
   "metadata": {},
   "source": [
    "* moving avg 시계열 그래프"
   ]
  },
  {
   "cell_type": "code",
   "execution_count": 51,
   "metadata": {},
   "outputs": [
    {
     "data": {
      "image/png": "[encoded data removed]",
      "text/plain": [
       "<Figure size 864x432 with 1 Axes>"
      ]
     },
     "metadata": {
      "needs_background": "light"
     },
     "output_type": "display_data"
    }
   ],
   "source": [
    "rolling = pd.Series.rolling(tmp['pred'], window = 2, center = False).mean()\n",
    "\n",
    "plt.rcParams[\"figure.figsize\"] = (12, 6)\n",
    "plt.plot(tmp['date'], tmp['ccsi'], color = 'red', label = 'ccsi')\n",
    "rolling.plot(color = 'blue', label = 'weekly ccsi')\n",
    "plt.xlabel(\"date\")\n",
    "plt.ylabel(\"ccsi, pred\")\n",
    "ax = plt.subplot()\n",
    "ax.xaxis.set_major_locator(plt.MultipleLocator(10))\n",
    "for label in ax.xaxis.get_ticklabels() :\n",
    "    label.set_rotation(45)\n",
    "plt.title(\"MULTIPLE LINEAR REGRESSION(moving avg)\")\n",
    "plt.legend()\n",
    "plt.show()"
   ]
  },
  {
   "cell_type": "markdown",
   "metadata": {},
   "source": [
    "2주 간의 단기 지표들을 평균낸 값을 weekly CCSI로 활용하고자함. <br>\n",
    "시각화 결과, 주간 레코드에 대한 예측 결과를 바로 활용하는 것 보다 2주 간의 예측 결과 평균을 활용하는 것이 덜 들쑥날쑥하다."
   ]
  },
  {
   "cell_type": "markdown",
   "metadata": {},
   "source": [
    "## Step6. Develop weekly CCSI(주간 경기선행지수)"
   ]
  },
  {
   "cell_type": "code",
   "execution_count": 52,
   "metadata": {},
   "outputs": [
    {
     "data": {
      "text/html": [
       "<div>\n",
       "<style scoped>\n",
       "    .dataframe tbody tr th:only-of-type {\n",
       "        vertical-align: middle;\n",
       "    }\n",
       "\n",
       "    .dataframe tbody tr th {\n",
       "        vertical-align: top;\n",
       "    }\n",
       "\n",
       "    .dataframe thead th {\n",
       "        text-align: right;\n",
       "    }\n",
       "</style>\n",
       "<table border=\"1\" class=\"dataframe\">\n",
       "  <thead>\n",
       "    <tr style=\"text-align: right;\">\n",
       "      <th></th>\n",
       "      <th>year</th>\n",
       "      <th>month</th>\n",
       "      <th>day</th>\n",
       "      <th>keyword1</th>\n",
       "      <th>keyword2</th>\n",
       "      <th>keyword3</th>\n",
       "      <th>keyword4</th>\n",
       "      <th>keyword5</th>\n",
       "      <th>google</th>\n",
       "      <th>naver</th>\n",
       "      <th>id</th>\n",
       "      <th>ccsi</th>\n",
       "      <th>pred</th>\n",
       "      <th>date</th>\n",
       "      <th>weeklyCLI</th>\n",
       "    </tr>\n",
       "  </thead>\n",
       "  <tbody>\n",
       "    <tr>\n",
       "      <th>0</th>\n",
       "      <td>2016</td>\n",
       "      <td>1</td>\n",
       "      <td>4</td>\n",
       "      <td>825</td>\n",
       "      <td>419</td>\n",
       "      <td>437</td>\n",
       "      <td>588</td>\n",
       "      <td>168</td>\n",
       "      <td>53.0</td>\n",
       "      <td>26.05846</td>\n",
       "      <td>91</td>\n",
       "      <td>99.5</td>\n",
       "      <td>104.547157</td>\n",
       "      <td>2016.1.4</td>\n",
       "      <td>104.547157</td>\n",
       "    </tr>\n",
       "    <tr>\n",
       "      <th>1</th>\n",
       "      <td>2016</td>\n",
       "      <td>1</td>\n",
       "      <td>11</td>\n",
       "      <td>770</td>\n",
       "      <td>348</td>\n",
       "      <td>351</td>\n",
       "      <td>388</td>\n",
       "      <td>182</td>\n",
       "      <td>58.0</td>\n",
       "      <td>25.16599</td>\n",
       "      <td>91</td>\n",
       "      <td>99.5</td>\n",
       "      <td>100.488620</td>\n",
       "      <td>2016.1.11</td>\n",
       "      <td>102.517889</td>\n",
       "    </tr>\n",
       "    <tr>\n",
       "      <th>2</th>\n",
       "      <td>2016</td>\n",
       "      <td>1</td>\n",
       "      <td>18</td>\n",
       "      <td>918</td>\n",
       "      <td>422</td>\n",
       "      <td>441</td>\n",
       "      <td>363</td>\n",
       "      <td>147</td>\n",
       "      <td>74.0</td>\n",
       "      <td>27.38639</td>\n",
       "      <td>91</td>\n",
       "      <td>99.5</td>\n",
       "      <td>92.076754</td>\n",
       "      <td>2016.1.18</td>\n",
       "      <td>96.282687</td>\n",
       "    </tr>\n",
       "    <tr>\n",
       "      <th>3</th>\n",
       "      <td>2016</td>\n",
       "      <td>1</td>\n",
       "      <td>25</td>\n",
       "      <td>1067</td>\n",
       "      <td>425</td>\n",
       "      <td>567</td>\n",
       "      <td>393</td>\n",
       "      <td>148</td>\n",
       "      <td>59.0</td>\n",
       "      <td>24.72622</td>\n",
       "      <td>91</td>\n",
       "      <td>99.5</td>\n",
       "      <td>87.973095</td>\n",
       "      <td>2016.1.25</td>\n",
       "      <td>90.024925</td>\n",
       "    </tr>\n",
       "    <tr>\n",
       "      <th>4</th>\n",
       "      <td>2016</td>\n",
       "      <td>2</td>\n",
       "      <td>1</td>\n",
       "      <td>899</td>\n",
       "      <td>341</td>\n",
       "      <td>485</td>\n",
       "      <td>297</td>\n",
       "      <td>110</td>\n",
       "      <td>63.0</td>\n",
       "      <td>23.01888</td>\n",
       "      <td>92</td>\n",
       "      <td>97.2</td>\n",
       "      <td>91.018064</td>\n",
       "      <td>2016.2.1</td>\n",
       "      <td>89.495580</td>\n",
       "    </tr>\n",
       "    <tr>\n",
       "      <th>...</th>\n",
       "      <td>...</td>\n",
       "      <td>...</td>\n",
       "      <td>...</td>\n",
       "      <td>...</td>\n",
       "      <td>...</td>\n",
       "      <td>...</td>\n",
       "      <td>...</td>\n",
       "      <td>...</td>\n",
       "      <td>...</td>\n",
       "      <td>...</td>\n",
       "      <td>...</td>\n",
       "      <td>...</td>\n",
       "      <td>...</td>\n",
       "      <td>...</td>\n",
       "      <td>...</td>\n",
       "    </tr>\n",
       "    <tr>\n",
       "      <th>247</th>\n",
       "      <td>2020</td>\n",
       "      <td>9</td>\n",
       "      <td>28</td>\n",
       "      <td>489</td>\n",
       "      <td>90</td>\n",
       "      <td>114</td>\n",
       "      <td>27</td>\n",
       "      <td>78</td>\n",
       "      <td>63.0</td>\n",
       "      <td>25.29102</td>\n",
       "      <td>147</td>\n",
       "      <td>79.4</td>\n",
       "      <td>103.977313</td>\n",
       "      <td>2020.9.28</td>\n",
       "      <td>94.694160</td>\n",
       "    </tr>\n",
       "    <tr>\n",
       "      <th>248</th>\n",
       "      <td>2020</td>\n",
       "      <td>10</td>\n",
       "      <td>5</td>\n",
       "      <td>816</td>\n",
       "      <td>183</td>\n",
       "      <td>177</td>\n",
       "      <td>47</td>\n",
       "      <td>78</td>\n",
       "      <td>81.0</td>\n",
       "      <td>28.63240</td>\n",
       "      <td>148</td>\n",
       "      <td>91.6</td>\n",
       "      <td>93.427825</td>\n",
       "      <td>2020.10.5</td>\n",
       "      <td>98.702569</td>\n",
       "    </tr>\n",
       "    <tr>\n",
       "      <th>249</th>\n",
       "      <td>2020</td>\n",
       "      <td>10</td>\n",
       "      <td>12</td>\n",
       "      <td>857</td>\n",
       "      <td>199</td>\n",
       "      <td>176</td>\n",
       "      <td>55</td>\n",
       "      <td>91</td>\n",
       "      <td>82.0</td>\n",
       "      <td>26.85177</td>\n",
       "      <td>148</td>\n",
       "      <td>91.6</td>\n",
       "      <td>92.386602</td>\n",
       "      <td>2020.10.12</td>\n",
       "      <td>92.907214</td>\n",
       "    </tr>\n",
       "    <tr>\n",
       "      <th>250</th>\n",
       "      <td>2020</td>\n",
       "      <td>10</td>\n",
       "      <td>19</td>\n",
       "      <td>911</td>\n",
       "      <td>155</td>\n",
       "      <td>143</td>\n",
       "      <td>64</td>\n",
       "      <td>129</td>\n",
       "      <td>93.0</td>\n",
       "      <td>27.25273</td>\n",
       "      <td>148</td>\n",
       "      <td>91.6</td>\n",
       "      <td>89.207767</td>\n",
       "      <td>2020.10.19</td>\n",
       "      <td>90.797185</td>\n",
       "    </tr>\n",
       "    <tr>\n",
       "      <th>251</th>\n",
       "      <td>2020</td>\n",
       "      <td>10</td>\n",
       "      <td>26</td>\n",
       "      <td>915</td>\n",
       "      <td>187</td>\n",
       "      <td>167</td>\n",
       "      <td>72</td>\n",
       "      <td>110</td>\n",
       "      <td>90.0</td>\n",
       "      <td>30.24489</td>\n",
       "      <td>148</td>\n",
       "      <td>91.6</td>\n",
       "      <td>90.063522</td>\n",
       "      <td>2020.10.26</td>\n",
       "      <td>89.635644</td>\n",
       "    </tr>\n",
       "  </tbody>\n",
       "</table>\n",
       "<p>252 rows × 15 columns</p>\n",
       "</div>"
      ],
      "text/plain": [
       "     year  month  day  keyword1  keyword2  keyword3  keyword4  keyword5  \\\n",
       "0    2016      1    4       825       419       437       588       168   \n",
       "1    2016      1   11       770       348       351       388       182   \n",
       "2    2016      1   18       918       422       441       363       147   \n",
       "3    2016      1   25      1067       425       567       393       148   \n",
       "4    2016      2    1       899       341       485       297       110   \n",
       "..    ...    ...  ...       ...       ...       ...       ...       ...   \n",
       "247  2020      9   28       489        90       114        27        78   \n",
       "248  2020     10    5       816       183       177        47        78   \n",
       "249  2020     10   12       857       199       176        55        91   \n",
       "250  2020     10   19       911       155       143        64       129   \n",
       "251  2020     10   26       915       187       167        72       110   \n",
       "\n",
       "     google     naver   id  ccsi        pred        date   weeklyCLI  \n",
       "0      53.0  26.05846   91  99.5  104.547157    2016.1.4  104.547157  \n",
       "1      58.0  25.16599   91  99.5  100.488620   2016.1.11  102.517889  \n",
       "2      74.0  27.38639   91  99.5   92.076754   2016.1.18   96.282687  \n",
       "3      59.0  24.72622   91  99.5   87.973095   2016.1.25   90.024925  \n",
       "4      63.0  23.01888   92  97.2   91.018064    2016.2.1   89.495580  \n",
       "..      ...       ...  ...   ...         ...         ...         ...  \n",
       "247    63.0  25.29102  147  79.4  103.977313   2020.9.28   94.694160  \n",
       "248    81.0  28.63240  148  91.6   93.427825   2020.10.5   98.702569  \n",
       "249    82.0  26.85177  148  91.6   92.386602  2020.10.12   92.907214  \n",
       "250    93.0  27.25273  148  91.6   89.207767  2020.10.19   90.797185  \n",
       "251    90.0  30.24489  148  91.6   90.063522  2020.10.26   89.635644  \n",
       "\n",
       "[252 rows x 15 columns]"
      ]
     },
     "execution_count": 52,
     "metadata": {},
     "output_type": "execute_result"
    }
   ],
   "source": [
    "weekly_CLI = []\n",
    "for i in range(len(tmp)):\n",
    "    if i == 0 :\n",
    "        cli = tmp.pred.iloc[i]\n",
    "        weekly_CLI.append(cli)\n",
    "        continue\n",
    "    \n",
    "    cli = (tmp.pred.iloc[i-1] + tmp.pred.iloc[i]) / 2\n",
    "    weekly_CLI.append(cli)\n",
    "    \n",
    "tmp['weeklyCLI'] = weekly_CLI\n",
    "tmp"
   ]
  }
 ],
 "metadata": {
  "kernelspec": {
   "display_name": "Python 3",
   "language": "python",
   "name": "python3"
  },
  "language_info": {
   "codemirror_mode": {
    "name": "ipython",
    "version": 3
   },
   "file_extension": ".py",
   "mimetype": "text/x-python",
   "name": "python",
   "nbconvert_exporter": "python",
   "pygments_lexer": "ipython3",
   "version": "3.8.3"
  }
 },
 "nbformat": 4,
 "nbformat_minor": 2
}
