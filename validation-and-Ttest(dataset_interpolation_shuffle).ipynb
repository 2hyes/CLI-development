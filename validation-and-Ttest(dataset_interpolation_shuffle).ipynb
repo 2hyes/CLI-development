{
 "cells": [
  {
   "cell_type": "code",
   "execution_count": 146,
   "metadata": {},
   "outputs": [],
   "source": [
    "import pandas as pd\n",
    "from sklearn.model_selection import train_test_split, cross_val_score, KFold\n",
    "import pymysql\n",
    "import numpy as np\n",
    "import pickle\n",
    "from sklearn.linear_model import LinearRegression, Lasso\n",
    "from sklearn.ensemble import RandomForestRegressor\n",
    "from sklearn.svm import SVR\n",
    "from sklearn.metrics import mean_squared_error\n",
    "import matplotlib.pyplot as plt\n",
    "from sklearn.preprocessing import StandardScaler\n",
    "from pygam import LinearGAM, s, f\n",
    "from sklearn.model_selection import GridSearchCV\n",
    "import os\n",
    "import warnings\n",
    "warnings.filterwarnings(action='ignore') "
   ]
  },
  {
   "cell_type": "code",
   "execution_count": 147,
   "metadata": {},
   "outputs": [],
   "source": [
    "def pickleLoad(file):\n",
    "    if os.path.isfile(file):        \n",
    "        with open(file,\"rb\") as fr:\n",
    "            dataframe = pickle.load(fr)\n",
    "        return dataframe\n",
    "    else:  \n",
    "        %run -i './getTrainTestSet/getTrainTestSet_interpolation.py' "
   ]
  },
  {
   "cell_type": "code",
   "execution_count": 148,
   "metadata": {},
   "outputs": [],
   "source": [
    "# load train, test set data\n",
    "\n",
    "X_train = pickleLoad('./dataset/dataset_interpolation/X_train.pkl')\n",
    "X_test = pickleLoad('./dataset/dataset_interpolation/X_test.pkl')\n",
    "y_train = pickleLoad('./dataset/dataset_interpolation/y_train.pkl')\n",
    "y_test = pickleLoad('./dataset/dataset_interpolation/y_test.pkl')\n",
    "ccsi = pickleLoad('./dataset/dataset_interpolation/ccsi.pkl')\n",
    "predictors = pickleLoad('./dataset/dataset_interpolation/predictors.pkl')"
   ]
  },
  {
   "cell_type": "markdown",
   "metadata": {},
   "source": [
    "* data preprocessing(standard scaling)"
   ]
  },
  {
   "cell_type": "code",
   "execution_count": 149,
   "metadata": {},
   "outputs": [],
   "source": [
    "# 변수 스케일링\n",
    "scaler = StandardScaler()\n",
    "scaler.fit(X_train)\n",
    "X_train = scaler.transform(X_train)\n",
    "X_test= scaler.transform(X_test)"
   ]
  },
  {
   "cell_type": "markdown",
   "metadata": {},
   "source": [
    "### model 1. multiple linear regression\n",
    "\n",
    "* 10-fold CV"
   ]
  },
  {
   "cell_type": "code",
   "execution_count": 150,
   "metadata": {},
   "outputs": [],
   "source": [
    "model_lr = LinearRegression()\n",
    "scores = cross_val_score(model_lr, X_train, y_train, cv = 10, scoring = 'neg_mean_squared_error')\n",
    "rmse_linearRegressionCV = np.sqrt(-scores)\n",
    "rmse_lravg = rmse_linearRegressionCV.mean()\n",
    "rmse_lrstd = rmse_linearRegressionCV.std()"
   ]
  },
  {
   "cell_type": "code",
   "execution_count": 151,
   "metadata": {},
   "outputs": [
    {
     "name": "stdout",
     "output_type": "stream",
     "text": [
      " 10-fold cv RMSE:  [4.7661163  3.64383817 5.37449761 5.02731754 4.64291093 4.47099645\n",
      " 3.07465856 6.80978363 4.11722826 3.92620247]\n",
      "최종 CV RMSE =  4.585354991977627\n"
     ]
    }
   ],
   "source": [
    "print(\" 10-fold cv RMSE: \", rmse_linearRegressionCV)\n",
    "print(\"최종 CV RMSE = \", rmse_lravg)"
   ]
  },
  {
   "cell_type": "markdown",
   "metadata": {},
   "source": [
    "### model 2: Random Forest"
   ]
  },
  {
   "cell_type": "code",
   "execution_count": 193,
   "metadata": {},
   "outputs": [],
   "source": [
    "k_fold = KFold(n_splits=10, shuffle=True, random_state=0)"
   ]
  },
  {
   "cell_type": "code",
   "execution_count": 194,
   "metadata": {},
   "outputs": [],
   "source": [
    "# CV\n",
    "rmse_randomforest, parameters_randomforest = [], []\n",
    "numOfEstimators = np.power(2, [3,4,5,6])\n",
    "maxFeatures = [1,2,3,4,5]\n",
    "for i in maxFeatures:\n",
    "    for j in numOfEstimators:\n",
    "        # parameter search\n",
    "        model_forest = RandomForestRegressor(max_features = i, n_estimators = j, warm_start = True, random_state = 23)\n",
    "        parameters_randomforest.append(model_forest.get_params)\n",
    "        # 10-fold CV\n",
    "        scores = cross_val_score(model_forest, X_train, y_train, cv = k_fold, scoring = 'neg_mean_squared_error')\n",
    "        rmse_randomforest.append(np.sqrt(-scores))\n",
    "    "
   ]
  },
  {
   "cell_type": "code",
   "execution_count": 195,
   "metadata": {},
   "outputs": [],
   "source": [
    "def getCVResult(rmse_list, model_num):\n",
    "    cv_rmse =  rmse_list[model_num - 1].mean()\n",
    "    std = rmse_list[model_num - 1].std()\n",
    "\n",
    "    return cv_rmse, std"
   ]
  },
  {
   "cell_type": "code",
   "execution_count": 196,
   "metadata": {},
   "outputs": [
    {
     "name": "stdout",
     "output_type": "stream",
     "text": [
      "1 4.2999967314871395 1.0441308141693681\n",
      "2 4.2832691150991575 1.1796803365924982\n",
      "3 4.247309400982822 1.1093361781562943\n",
      "4 4.066183321666231 1.1043070476705192\n",
      "5 3.714379784784385 1.0825167620889538\n",
      "6 3.713375869407499 1.1349720491117508\n",
      "7 3.7615415326858455 1.0926736904008234\n",
      "8 3.7857988366812507 1.0608987319139283\n",
      "9 3.848949851976027 1.145152185782826\n",
      "10 3.6618938929625005 0.9720812731397915\n",
      "11 3.707884521971986 1.00474568237577\n",
      "12 3.5727852102488065 0.9869981036567066\n",
      "13 3.7733415428139296 1.1882091604257563\n",
      "14 3.625768299983293 1.0637447731710814\n",
      "15 3.5537119322710824 1.0407233738060755\n",
      "16 3.5631108114000725 0.9764527616815559\n",
      "17 3.946358478009242 1.1864860926187097\n",
      "18 3.702604995242369 1.085571938436511\n",
      "19 3.596473967560712 1.0198005609748755\n",
      "20 3.5865706639692343 1.030546286500882\n"
     ]
    }
   ],
   "source": [
    "rmse_list, std_list = [], []\n",
    "for i in range(1,21):\n",
    "    cv_rmse, std = getCVResult(rmse_randomforest, i)\n",
    "    rmse_list.append(cv_rmse)\n",
    "    std_list.append(std)\n",
    "    print(i, cv_rmse, std)\n",
    "    "
   ]
  },
  {
   "cell_type": "markdown",
   "metadata": {},
   "source": [
    "#### final random forest model selection"
   ]
  },
  {
   "cell_type": "code",
   "execution_count": 197,
   "metadata": {},
   "outputs": [
    {
     "data": {
      "text/plain": [
       "14"
      ]
     },
     "execution_count": 197,
     "metadata": {},
     "output_type": "execute_result"
    }
   ],
   "source": [
    "rmse_list.index(min(rmse_list))"
   ]
  },
  {
   "cell_type": "markdown",
   "metadata": {},
   "source": [
    "model 후보 1~20번 중에, 14번모델이 가장 낮은 rmse 평균값을 갖고있음을 확인할 수 있다.\n",
    "\n",
    "따라서, 14번 모델을 랜덤포레스트 대표모델로 활용하고자 한다."
   ]
  },
  {
   "cell_type": "code",
   "execution_count": 198,
   "metadata": {},
   "outputs": [
    {
     "data": {
      "text/plain": [
       "<bound method BaseEstimator.get_params of RandomForestRegressor(max_features=4, n_estimators=32, random_state=23,\n",
       "                      warm_start=True)>"
      ]
     },
     "execution_count": 198,
     "metadata": {},
     "output_type": "execute_result"
    }
   ],
   "source": [
    "# 대표 모델의 파라미터\n",
    "parameters_randomforest[rmse_list.index(min(rmse_list))]"
   ]
  },
  {
   "cell_type": "code",
   "execution_count": 158,
   "metadata": {},
   "outputs": [],
   "source": [
    "# 대표 모델의 평균 rmse와 std\n",
    "rmse_forestavg = rmse_list[rmse_list.index(min(rmse_list))]\n",
    "rmse_foreststd = std_list[rmse_list.index(min(rmse_list))]"
   ]
  },
  {
   "cell_type": "code",
   "execution_count": 159,
   "metadata": {},
   "outputs": [
    {
     "data": {
      "text/plain": [
       "array([2.61511358, 2.88670536, 3.2520108 , 6.31142059, 3.04488329,\n",
       "       3.5149778 , 3.45776218, 2.47635729, 3.98416914, 3.99371929])"
      ]
     },
     "execution_count": 159,
     "metadata": {},
     "output_type": "execute_result"
    }
   ],
   "source": [
    "# 대표 모델의 10-fold cv\n",
    "rmse_randomforestCV = rmse_randomforest[rmse_list.index(min(rmse_list))]\n",
    "rmse_randomforestCV"
   ]
  },
  {
   "cell_type": "code",
   "execution_count": 160,
   "metadata": {},
   "outputs": [
    {
     "name": "stdout",
     "output_type": "stream",
     "text": [
      " 10-fold cv RMSE:  [2.61511358 2.88670536 3.2520108  6.31142059 3.04488329 3.5149778\n",
      " 3.45776218 2.47635729 3.98416914 3.99371929]\n",
      "최종 CV RMSE =  3.5537119322710824\n"
     ]
    }
   ],
   "source": [
    "print(\" 10-fold cv RMSE: \", rmse_randomforestCV)\n",
    "print(\"최종 CV RMSE = \", rmse_forestavg)"
   ]
  },
  {
   "cell_type": "markdown",
   "metadata": {},
   "source": [
    "### model 3: GAM"
   ]
  },
  {
   "cell_type": "code",
   "execution_count": 161,
   "metadata": {},
   "outputs": [],
   "source": [
    "X_train_df = pd.DataFrame(X_train, columns = ['keyword1', 'keyword2', 'keyword3', 'keyword4', 'keyword5', 'google', 'naver'])\n",
    "y_train_df = np.array(y_train)\n",
    "y_train_df = pd.DataFrame(y_train_df)"
   ]
  },
  {
   "cell_type": "code",
   "execution_count": 162,
   "metadata": {},
   "outputs": [
    {
     "name": "stderr",
     "output_type": "stream",
     "text": [
      "100% (100 of 100) |######################| Elapsed Time: 0:00:06 Time:  0:00:06\n",
      "100% (100 of 100) |######################| Elapsed Time: 0:00:06 Time:  0:00:06\n",
      "100% (100 of 100) |######################| Elapsed Time: 0:00:06 Time:  0:00:06\n",
      "100% (100 of 100) |######################| Elapsed Time: 0:00:07 Time:  0:00:07\n",
      "100% (100 of 100) |######################| Elapsed Time: 0:00:07 Time:  0:00:07\n",
      "100% (100 of 100) |######################| Elapsed Time: 0:00:06 Time:  0:00:06\n",
      "100% (100 of 100) |######################| Elapsed Time: 0:00:08 Time:  0:00:08\n",
      "100% (100 of 100) |######################| Elapsed Time: 0:00:07 Time:  0:00:07\n",
      "100% (100 of 100) |######################| Elapsed Time: 0:00:06 Time:  0:00:06\n",
      "100% (100 of 100) |######################| Elapsed Time: 0:00:06 Time:  0:00:06\n"
     ]
    }
   ],
   "source": [
    "# CV\n",
    "rmse_gam, parameters_gam = [], []\n",
    "np.random.seed(1)\n",
    "lams = np.random.rand(100, 7) # random points on [0, 1], with shape (100, 7)\n",
    "lams = lams * 6 - 3 # shift values to -3, 3\n",
    "lams = 10 ** lams # transforms values to 1e-3, \n",
    "\n",
    "K=10\n",
    "for k in range(K):\n",
    "    val_ind = list(range(20 * k, 20 * k + 20))\n",
    "    if k == 9:\n",
    "        val_ind = (range(20 * k, 20 * k + 21))\n",
    "    X_train2 = X_train_df.drop(val_ind).to_numpy()\n",
    "    y_train2 = y_train_df.drop(val_ind).to_numpy()\n",
    "    X_val = X_train_df.loc[val_ind, :].to_numpy()\n",
    "    y_val = y_train_df.loc[val_ind, :].to_numpy()\n",
    "    # parameter search\n",
    "    model_gam =  LinearGAM(s(0) + s(1) + s(2) + s(3) + s(4) + s(5)+ s(6)).gridsearch(X_train2, y_train2, lam=lams)\n",
    "    parameters_gam.append(model_gam.get_params)\n",
    "    y_hat = model_gam.predict(X_val)\n",
    "    scores = mean_squared_error(y_val, y_hat)\n",
    "    rmse_gam.append(np.sqrt(scores))\n",
    "    \n",
    "    "
   ]
  },
  {
   "cell_type": "code",
   "execution_count": 163,
   "metadata": {},
   "outputs": [
    {
     "name": "stdout",
     "output_type": "stream",
     "text": [
      " 10-fold cv RMSE:  [3.6190903361247546, 3.525819102591624, 4.972101188405558, 4.340074785266736, 4.10574737724356, 3.5943517118341406, 4.1375482127100485, 6.174454390555992, 3.7353128193224308, 3.878215584463044]\n",
      "최종 CV RMSE =  4.208271550851789\n"
     ]
    }
   ],
   "source": [
    "rmse_gamavg = np.mean(rmse_gam)\n",
    "rmse_gamstd = np.std(rmse_gam)\n",
    "print(\" 10-fold cv RMSE: \", rmse_gam)\n",
    "print(\"최종 CV RMSE = \", rmse_gamavg)"
   ]
  },
  {
   "cell_type": "markdown",
   "metadata": {},
   "source": [
    "### model 4: Lasso Regression"
   ]
  },
  {
   "cell_type": "code",
   "execution_count": 164,
   "metadata": {},
   "outputs": [],
   "source": [
    "# CV\n",
    "rmse_lasso, parameters_lasso = [], []\n",
    "alpha = [10, 1, 0.1, 0.01, 0.001]\n",
    "for i in alpha:\n",
    "    # parameter search\n",
    "    model_lasso = Lasso(alpha = i, random_state = 23)\n",
    "    parameters_lasso.append(model_lasso.get_params)\n",
    "    # 10-fold CV\n",
    "    scores = cross_val_score(model_lasso, X_train, y_train, cv = k_fold, scoring = 'neg_mean_squared_error')\n",
    "    rmse_lasso.append(np.sqrt(-scores))\n",
    "    "
   ]
  },
  {
   "cell_type": "code",
   "execution_count": 165,
   "metadata": {},
   "outputs": [
    {
     "name": "stdout",
     "output_type": "stream",
     "text": [
      "1 8.691618473794314 1.3382201455491352\n",
      "2 5.1688707919157775 0.8951423285980321\n",
      "3 4.650239030724798 1.135096270523799\n",
      "4 4.643453864896312 1.1416661253417293\n",
      "5 4.646103399407383 1.1408911274199343\n"
     ]
    }
   ],
   "source": [
    "rmse_list, std_list = [], []\n",
    "for i in range(1, 6):\n",
    "    cv_rmse, std = getCVResult(rmse_lasso, i)\n",
    "    rmse_list.append(cv_rmse)\n",
    "    std_list.append(std)\n",
    "    print(i, cv_rmse, std)\n",
    "    "
   ]
  },
  {
   "cell_type": "markdown",
   "metadata": {},
   "source": [
    "#### final lasso linear regression model selection"
   ]
  },
  {
   "cell_type": "code",
   "execution_count": 166,
   "metadata": {},
   "outputs": [
    {
     "data": {
      "text/plain": [
       "3"
      ]
     },
     "execution_count": 166,
     "metadata": {},
     "output_type": "execute_result"
    }
   ],
   "source": [
    "rmse_list.index(min(rmse_list))"
   ]
  },
  {
   "cell_type": "markdown",
   "metadata": {},
   "source": [
    "model 후보 1~5번 중에, 3번모델이 가장 낮은 rmse 평균값을 갖고 있음을 확인할 수 있다.\n",
    "\n",
    "따라서, 3번 모델을 라쏘 회귀 대표모델로 활용하고자 한다."
   ]
  },
  {
   "cell_type": "code",
   "execution_count": 167,
   "metadata": {},
   "outputs": [
    {
     "data": {
      "text/plain": [
       "<bound method BaseEstimator.get_params of Lasso(alpha=0.01, random_state=23)>"
      ]
     },
     "execution_count": 167,
     "metadata": {},
     "output_type": "execute_result"
    }
   ],
   "source": [
    "# 대표 모델의 파라미터\n",
    "parameters_lasso[rmse_list.index(min(rmse_list))]"
   ]
  },
  {
   "cell_type": "code",
   "execution_count": 168,
   "metadata": {},
   "outputs": [],
   "source": [
    "# 대표 모델의 평균 rmse와 std\n",
    "rmse_lassoavg = rmse_list[rmse_list.index(min(rmse_list))]\n",
    "rmse_lassostd = std_list[rmse_list.index(min(rmse_list))]"
   ]
  },
  {
   "cell_type": "code",
   "execution_count": 169,
   "metadata": {},
   "outputs": [
    {
     "data": {
      "text/plain": [
       "array([4.44986547, 3.61827892, 4.38213887, 7.39048796, 4.24635324,\n",
       "       4.27776973, 5.42074925, 3.00462527, 4.23653335, 5.40773658])"
      ]
     },
     "execution_count": 169,
     "metadata": {},
     "output_type": "execute_result"
    }
   ],
   "source": [
    "# 대표 모델의 10-fold cv\n",
    "rmse_lassoCV = rmse_lasso[rmse_list.index(min(rmse_list))]\n",
    "rmse_lassoCV "
   ]
  },
  {
   "cell_type": "markdown",
   "metadata": {},
   "source": [
    "###  Model간 CV RMSE 비교"
   ]
  },
  {
   "cell_type": "code",
   "execution_count": 170,
   "metadata": {},
   "outputs": [
    {
     "data": {
      "image/png": "[encoded data removed]",
      "text/plain": [
       "<Figure size 864x432 with 1 Axes>"
      ]
     },
     "metadata": {
      "needs_background": "light"
     },
     "output_type": "display_data"
    }
   ],
   "source": [
    "plt.plot(rmse_linearRegressionCV, color = 'red', label = 'Linear Regression')\n",
    "plt.plot(rmse_randomforestCV, color = 'blue', label = 'Random Forest')\n",
    "plt.plot(rmse_lassoCV, color = 'green', label = 'Lasso Linear Regression')\n",
    "plt.plot(rmse_gam, color = 'purple', label = 'Lasso Linear Regression')\n",
    "plt.xlabel(\"K\")\n",
    "plt.ylabel(\"K-fold CV RMSE\")\n",
    "plt.grid(True)"
   ]
  },
  {
   "cell_type": "code",
   "execution_count": 171,
   "metadata": {},
   "outputs": [
    {
     "name": "stdout",
     "output_type": "stream",
     "text": [
      "4.585354991977627 3.5537119322710824 4.643453864896312 4.208271550851789\n"
     ]
    }
   ],
   "source": [
    "print(rmse_lravg, rmse_forestavg, rmse_lassoavg, rmse_gamavg)"
   ]
  },
  {
   "cell_type": "markdown",
   "metadata": {},
   "source": [
    "## T-test"
   ]
  },
  {
   "cell_type": "code",
   "execution_count": 172,
   "metadata": {},
   "outputs": [],
   "source": [
    "def tTest(rmse1, rmse2):\n",
    "    mean = (rmse1 - rmse2).mean()\n",
    "    sd = (rmse1 - rmse2).std()\n",
    "    t_statistic = mean / (sd / np.sqrt(10)) ## 여기 n에 10?????\n",
    "    return t_statistic"
   ]
  },
  {
   "cell_type": "markdown",
   "metadata": {},
   "source": [
    "**H0**: linear regression model의 rmse = Random Forest model의 rmse<br>\n",
    "즉, 두 모델의 성능에 차이가 없다.<br><br>\n",
    "**H1**: 두 모델의 성능에 차이가 있다."
   ]
  },
  {
   "cell_type": "code",
   "execution_count": 173,
   "metadata": {},
   "outputs": [
    {
     "name": "stdout",
     "output_type": "stream",
     "text": [
      "평균:  1.0316430597065438\n"
     ]
    },
    {
     "data": {
      "text/plain": [
       "2.145240642741725"
      ]
     },
     "execution_count": 173,
     "metadata": {},
     "output_type": "execute_result"
    }
   ],
   "source": [
    "mean = np.average(rmse_linearRegressionCV - rmse_randomforestCV)\n",
    "sd = (rmse_linearRegressionCV - rmse_randomforestCV).std()\n",
    "print('평균: ', mean)\n",
    "tTest(rmse_linearRegressionCV, rmse_randomforestCV)"
   ]
  },
  {
   "cell_type": "markdown",
   "metadata": {},
   "source": [
    "t_0.05,9 = 1.844 <br>\n",
    "t_0.025,9 = 2.262 <br><br>\n",
    "\n",
    "유의수준 0.025에서 귀무가설이 기각되지 않는다. 따라서, linear regression model과 Random forest model의 성능에는 차이가 없다.\n"
   ]
  },
  {
   "cell_type": "markdown",
   "metadata": {},
   "source": [
    "**H0**: linear regression model의 rmse = Lasso linear regression model의 rmse<br>\n",
    "즉, 두 모델의 성능에 차이가 없다.<br><br>\n",
    "**H1**: 두 모델의 성능에 차이가 있다."
   ]
  },
  {
   "cell_type": "code",
   "execution_count": 174,
   "metadata": {},
   "outputs": [
    {
     "name": "stdout",
     "output_type": "stream",
     "text": [
      "평균:  -0.058098872918685276\n"
     ]
    },
    {
     "data": {
      "text/plain": [
       "-0.10784338571792097"
      ]
     },
     "execution_count": 174,
     "metadata": {},
     "output_type": "execute_result"
    }
   ],
   "source": [
    "mean = np.average(rmse_linearRegressionCV - rmse_lassoCV)\n",
    "sd = (rmse_linearRegressionCV - rmse_lassoCV).std()\n",
    "print('평균: ', mean)\n",
    "tTest(rmse_linearRegressionCV, rmse_lassoCV) "
   ]
  },
  {
   "cell_type": "markdown",
   "metadata": {},
   "source": [
    "t_0.05,9 = 1.844 <br>\n",
    "t_0.025,9 = 2.262 <br><br>\n",
    "\n",
    "유의수준 0.025에서 귀무가설이 기각되지않는다. 따라서, linear regression model과 Lasso linear regression model의 성능에는 차이가 없다."
   ]
  },
  {
   "cell_type": "markdown",
   "metadata": {},
   "source": [
    "**H0**: Random Forest model의 rmse = Lasso linear regression model의 rmse<br>\n",
    "즉, 두 모델의 성능에 차이가 없다.<br><br>\n",
    "**H1**: 두 모델의 성능에 차이가 있다."
   ]
  },
  {
   "cell_type": "code",
   "execution_count": 175,
   "metadata": {},
   "outputs": [
    {
     "name": "stdout",
     "output_type": "stream",
     "text": [
      "평균:  -1.0897419326252291\n"
     ]
    },
    {
     "data": {
      "text/plain": [
       "-6.645985107000552"
      ]
     },
     "execution_count": 175,
     "metadata": {},
     "output_type": "execute_result"
    }
   ],
   "source": [
    "mean = np.average(rmse_randomforestCV - rmse_lassoCV)\n",
    "sd = (rmse_randomforestCV - rmse_lassoCV).std()\n",
    "print('평균: ', mean)\n",
    "tTest(rmse_randomforestCV, rmse_lassoCV)"
   ]
  },
  {
   "cell_type": "markdown",
   "metadata": {},
   "source": [
    "t_0.05,9 = 1.844 <br>\n",
    "t_0.025,9 = 2.262 <br><br>\n",
    "\n",
    "유의수준 0.05에서 귀무가설이 기각된다. 따라서, random forest model과 Lasso linear regression model의 성능에는 차이가 있다. t통계량이 음수값이 나왔으므로 random forest model의 rmse가 더 작아고 판단된다. 따라서 random forest model의 성능이 더 좋다고 할 수 있다."
   ]
  },
  {
   "cell_type": "markdown",
   "metadata": {},
   "source": [
    "**H0**: linear regression model의 rmse = Generalized additive model의 rmse<br>\n",
    "즉, 두 모델의 성능에 차이가 없다.<br><br>\n",
    "\n",
    "**H1**: 두 모델의 성능에 차이가 있다."
   ]
  },
  {
   "cell_type": "code",
   "execution_count": 124,
   "metadata": {},
   "outputs": [
    {
     "name": "stdout",
     "output_type": "stream",
     "text": [
      "평균:  0.3770834411258378\n"
     ]
    },
    {
     "data": {
      "text/plain": [
       "2.081938280390646"
      ]
     },
     "execution_count": 124,
     "metadata": {},
     "output_type": "execute_result"
    }
   ],
   "source": [
    "mean = np.average(rmse_linearRegressionCV - rmse_gam)\n",
    "sd = (rmse_linearRegressionCV - rmse_gam).std()\n",
    "print('평균: ', mean)\n",
    "tTest(rmse_linearRegressionCV, rmse_gam)"
   ]
  },
  {
   "cell_type": "markdown",
   "metadata": {},
   "source": [
    "t_0.05,9 = 1.844 <br>\n",
    "t_0.025,9 = 2.262 <br><br>\n",
    "\n",
    "유의수준 0.05에서 귀무가설이 기각되지않는다. 따라서, linear regression model과 Generalized additive model의 성능에는 차이가 없다."
   ]
  },
  {
   "cell_type": "markdown",
   "metadata": {},
   "source": [
    "**H0**:  Random Forest model의 rmse = Generalized additive model의 rmse<br>\n",
    "즉, 두 모델의 성능에 차이가 없다.<br><br>\n",
    "**H1**: 두 모델의 성능에 차이가 있다."
   ]
  },
  {
   "cell_type": "code",
   "execution_count": 125,
   "metadata": {},
   "outputs": [
    {
     "name": "stdout",
     "output_type": "stream",
     "text": [
      "평균:  -0.654559618580706\n"
     ]
    },
    {
     "data": {
      "text/plain": [
       "-1.4891013775742883"
      ]
     },
     "execution_count": 125,
     "metadata": {},
     "output_type": "execute_result"
    }
   ],
   "source": [
    "mean = np.average(rmse_randomforestCV - rmse_gam)\n",
    "sd = (rmse_randomforestCV - rmse_gam).std()\n",
    "print('평균: ', mean)\n",
    "tTest(rmse_randomforestCV, rmse_gam)"
   ]
  },
  {
   "cell_type": "markdown",
   "metadata": {},
   "source": [
    "t_0.05,9 = 1.844 <br>\n",
    "t_0.025,9 = 2.262 <br><br>\n",
    "\n",
    "유의수준 0.05에서 귀무가설이 기각되지않는다. 따라서,  Random Forest model과 Generalized additive model의 성능에는 차이가 없다."
   ]
  },
  {
   "cell_type": "markdown",
   "metadata": {},
   "source": [
    "**H0**: Lasso linear regression model의 rmse = Generalized additive model의 rmse<br>\n",
    "즉, 두 모델의 성능에 차이가 없다.<br><br>\n",
    "**H1**: 두 모델의 성능에 차이가 있다."
   ]
  },
  {
   "cell_type": "code",
   "execution_count": 127,
   "metadata": {},
   "outputs": [
    {
     "name": "stdout",
     "output_type": "stream",
     "text": [
      "평균:  0.4351823140445231\n"
     ]
    },
    {
     "data": {
      "text/plain": [
       "0.902916764264144"
      ]
     },
     "execution_count": 127,
     "metadata": {},
     "output_type": "execute_result"
    }
   ],
   "source": [
    "mean = np.average(rmse_lassoCV - rmse_gam)\n",
    "sd = (rmse_lassoCV - rmse_gam).std()\n",
    "print('평균: ', mean)\n",
    "tTest(rmse_lassoCV, rmse_gam)"
   ]
  },
  {
   "cell_type": "markdown",
   "metadata": {},
   "source": [
    "t_0.05,9 = 1.844 <br>\n",
    "t_0.025,9 = 2.262 <br><br>\n",
    "\n",
    "유의수준 0.05에서 귀무가설이 기각되지않는다. 따라서, Lasso linear regression model과 Generalized additive model의 성능에는 차이가 없다."
   ]
  },
  {
   "cell_type": "markdown",
   "metadata": {},
   "source": [
    "결론적으로, random forest model의 성능이 좋다고 할 수 있다."
   ]
  },
  {
   "cell_type": "markdown",
   "metadata": {},
   "source": [
    "## Testing"
   ]
  },
  {
   "cell_type": "code",
   "execution_count": 199,
   "metadata": {},
   "outputs": [
    {
     "data": {
      "text/plain": [
       "<bound method BaseEstimator.get_params of RandomForestRegressor(max_features=4, n_estimators=32, random_state=23,\n",
       "                      warm_start=True)>"
      ]
     },
     "execution_count": 199,
     "metadata": {},
     "output_type": "execute_result"
    }
   ],
   "source": [
    "parameters_randomforest[rmse_list.index(min(rmse_list))]"
   ]
  },
  {
   "cell_type": "code",
   "execution_count": 204,
   "metadata": {},
   "outputs": [],
   "source": [
    "model_forest = RandomForestRegressor(n_estimators=32, max_features=4, random_state=23, warm_start=True)\n",
    "model_forest.fit(X_train, y_train)\n",
    "y_pred = model_forest.predict(X_test) # y_pred: test set을 넣어서 얻은 예측 값"
   ]
  },
  {
   "cell_type": "code",
   "execution_count": 205,
   "metadata": {},
   "outputs": [
    {
     "data": {
      "image/png": "[encoded data removed]",
      "text/plain": [
       "<Figure size 864x432 with 1 Axes>"
      ]
     },
     "metadata": {
      "needs_background": "light"
     },
     "output_type": "display_data"
    }
   ],
   "source": [
    "# test set에 대한 실제값과 예측 값의 추세 확인\n",
    "plt.scatter(y_test, y_pred, alpha=0.4)\n",
    "plt.xlabel(\"true y\")\n",
    "plt.ylabel(\"y hat\")\n",
    "plt.title(\"REGRESSION RANDOM FOREST\")\n",
    "plt.show()"
   ]
  },
  {
   "cell_type": "markdown",
   "metadata": {},
   "source": [
    "* model evaluating"
   ]
  },
  {
   "cell_type": "code",
   "execution_count": 206,
   "metadata": {},
   "outputs": [
    {
     "name": "stdout",
     "output_type": "stream",
     "text": [
      "R square:  0.9775030228592907\n",
      "training RMSE:  1.3153822178782504\n",
      "test RMSE:  3.4896401412234783\n"
     ]
    }
   ],
   "source": [
    "print(\"R square: \", model_forest.score(X_train, y_train))\n",
    "print(\"training RMSE: \", np.sqrt(mean_squared_error(y_train, model_forest.predict(X_train))))\n",
    "print(\"test RMSE: \", np.sqrt(mean_squared_error(y_test, y_pred)))"
   ]
  },
  {
   "cell_type": "markdown",
   "metadata": {},
   "source": [
    "## Step5. Visulization\n",
    "### weekly record 예측하기(weekly CCSI)"
   ]
  },
  {
   "cell_type": "code",
   "execution_count": 207,
   "metadata": {},
   "outputs": [],
   "source": [
    "X = scaler.transform(predictors.loc[:, ['keyword1', 'keyword2', 'keyword3', 'keyword4', 'keyword5', 'google', 'naver']])"
   ]
  },
  {
   "cell_type": "code",
   "execution_count": 208,
   "metadata": {},
   "outputs": [],
   "source": [
    "# weekly 레코드들을 예측모델에 집어넣어, 각 레코드에 대한 예측값 얻음\n",
    "pred_ccsi = model_forest.predict(X)"
   ]
  },
  {
   "cell_type": "code",
   "execution_count": 209,
   "metadata": {},
   "outputs": [
    {
     "data": {
      "text/html": [
       "<div>\n",
       "<style scoped>\n",
       "    .dataframe tbody tr th:only-of-type {\n",
       "        vertical-align: middle;\n",
       "    }\n",
       "\n",
       "    .dataframe tbody tr th {\n",
       "        vertical-align: top;\n",
       "    }\n",
       "\n",
       "    .dataframe thead th {\n",
       "        text-align: right;\n",
       "    }\n",
       "</style>\n",
       "<table border=\"1\" class=\"dataframe\">\n",
       "  <thead>\n",
       "    <tr style=\"text-align: right;\">\n",
       "      <th></th>\n",
       "      <th>year</th>\n",
       "      <th>month</th>\n",
       "      <th>day</th>\n",
       "      <th>keyword1</th>\n",
       "      <th>keyword2</th>\n",
       "      <th>keyword3</th>\n",
       "      <th>keyword4</th>\n",
       "      <th>keyword5</th>\n",
       "      <th>google</th>\n",
       "      <th>naver</th>\n",
       "      <th>ccsi</th>\n",
       "      <th>pred</th>\n",
       "    </tr>\n",
       "  </thead>\n",
       "  <tbody>\n",
       "    <tr>\n",
       "      <th>0</th>\n",
       "      <td>2016</td>\n",
       "      <td>1</td>\n",
       "      <td>4</td>\n",
       "      <td>825</td>\n",
       "      <td>419</td>\n",
       "      <td>437</td>\n",
       "      <td>588</td>\n",
       "      <td>168</td>\n",
       "      <td>53.0</td>\n",
       "      <td>26.05846</td>\n",
       "      <td>101.525</td>\n",
       "      <td>99.617031</td>\n",
       "    </tr>\n",
       "    <tr>\n",
       "      <th>1</th>\n",
       "      <td>2016</td>\n",
       "      <td>1</td>\n",
       "      <td>11</td>\n",
       "      <td>770</td>\n",
       "      <td>348</td>\n",
       "      <td>351</td>\n",
       "      <td>388</td>\n",
       "      <td>182</td>\n",
       "      <td>58.0</td>\n",
       "      <td>25.16599</td>\n",
       "      <td>100.850</td>\n",
       "      <td>99.594687</td>\n",
       "    </tr>\n",
       "    <tr>\n",
       "      <th>2</th>\n",
       "      <td>2016</td>\n",
       "      <td>1</td>\n",
       "      <td>18</td>\n",
       "      <td>918</td>\n",
       "      <td>422</td>\n",
       "      <td>441</td>\n",
       "      <td>363</td>\n",
       "      <td>147</td>\n",
       "      <td>74.0</td>\n",
       "      <td>27.38639</td>\n",
       "      <td>100.175</td>\n",
       "      <td>98.974531</td>\n",
       "    </tr>\n",
       "    <tr>\n",
       "      <th>3</th>\n",
       "      <td>2016</td>\n",
       "      <td>1</td>\n",
       "      <td>25</td>\n",
       "      <td>1067</td>\n",
       "      <td>425</td>\n",
       "      <td>567</td>\n",
       "      <td>393</td>\n",
       "      <td>148</td>\n",
       "      <td>59.0</td>\n",
       "      <td>24.72622</td>\n",
       "      <td>99.500</td>\n",
       "      <td>98.684844</td>\n",
       "    </tr>\n",
       "    <tr>\n",
       "      <th>4</th>\n",
       "      <td>2016</td>\n",
       "      <td>2</td>\n",
       "      <td>1</td>\n",
       "      <td>899</td>\n",
       "      <td>341</td>\n",
       "      <td>485</td>\n",
       "      <td>297</td>\n",
       "      <td>110</td>\n",
       "      <td>63.0</td>\n",
       "      <td>23.01888</td>\n",
       "      <td>99.040</td>\n",
       "      <td>97.332656</td>\n",
       "    </tr>\n",
       "  </tbody>\n",
       "</table>\n",
       "</div>"
      ],
      "text/plain": [
       "   year  month  day  keyword1  keyword2  keyword3  keyword4  keyword5  google  \\\n",
       "0  2016      1    4       825       419       437       588       168    53.0   \n",
       "1  2016      1   11       770       348       351       388       182    58.0   \n",
       "2  2016      1   18       918       422       441       363       147    74.0   \n",
       "3  2016      1   25      1067       425       567       393       148    59.0   \n",
       "4  2016      2    1       899       341       485       297       110    63.0   \n",
       "\n",
       "      naver     ccsi       pred  \n",
       "0  26.05846  101.525  99.617031  \n",
       "1  25.16599  100.850  99.594687  \n",
       "2  27.38639  100.175  98.974531  \n",
       "3  24.72622   99.500  98.684844  \n",
       "4  23.01888   99.040  97.332656  "
      ]
     },
     "execution_count": 209,
     "metadata": {},
     "output_type": "execute_result"
    }
   ],
   "source": [
    "# tmp = pd.merge(predictors, ccsi).drop(['id'], axis=1)\n",
    "tmp = pd.merge(predictors, ccsi)\n",
    "tmp['pred'] = pred_ccsi\n",
    "tmp.head()"
   ]
  },
  {
   "cell_type": "code",
   "execution_count": 210,
   "metadata": {},
   "outputs": [
    {
     "data": {
      "image/png": "[encoded data removed]",
      "text/plain": [
       "<Figure size 864x432 with 1 Axes>"
      ]
     },
     "metadata": {
      "needs_background": "light"
     },
     "output_type": "display_data"
    }
   ],
   "source": [
    "# true와 pred의 추세 확인\n",
    "plt.scatter(tmp['ccsi'], tmp['pred'], alpha=0.4)\n",
    "plt.xlabel(\"Actual CCSI\")\n",
    "plt.ylabel(\"Weekly Index(prediction)\")\n",
    "plt.title(\"REGRESSION RANDOM FOREST\")\n",
    "plt.show()"
   ]
  },
  {
   "cell_type": "code",
   "execution_count": 211,
   "metadata": {},
   "outputs": [
    {
     "name": "stdout",
     "output_type": "stream",
     "text": [
      "RMSE about weekly CCSI:  1.9607591968644627\n"
     ]
    }
   ],
   "source": [
    "# weekly별 단기지표 값에 대한 MSE\n",
    "print(\"RMSE about weekly CCSI: \", np.sqrt(mean_squared_error(tmp['ccsi'], tmp['pred'])))"
   ]
  },
  {
   "cell_type": "markdown",
   "metadata": {},
   "source": [
    "### visaulization\n",
    "* 시계열 그래프"
   ]
  },
  {
   "cell_type": "code",
   "execution_count": 212,
   "metadata": {},
   "outputs": [
    {
     "data": {
      "image/png": "[encoded data removed]",
      "text/plain": [
       "<Figure size 864x432 with 1 Axes>"
      ]
     },
     "metadata": {
      "needs_background": "light"
     },
     "output_type": "display_data"
    }
   ],
   "source": [
    "# 시계열 그래프를 그리기위해, 날짜 column 생성\n",
    "tmp['date'] = tmp[['year', 'month', 'day']].apply(lambda x: '.'.join(map(str, x)), axis=1)\n",
    "\n",
    "plt.rcParams[\"figure.figsize\"] = (12, 6)\n",
    "plt.plot(tmp['date'], tmp['ccsi'], color = 'red', label = 'ccsi')\n",
    "plt.plot(tmp['date'], tmp['pred'], color = 'blue', label = 'pred')\n",
    "plt.xlabel(\"date\")\n",
    "plt.ylabel(\"ccsi, pred\")\n",
    "ax = plt.subplot()\n",
    "ax.xaxis.set_major_locator(plt.MultipleLocator(10))\n",
    "for label in ax.xaxis.get_ticklabels() :\n",
    "    label.set_rotation(90)\n",
    "plt.title(\"REGRESSION RANDOM FOREST\")\n",
    "plt.legend()\n",
    "plt.show()"
   ]
  },
  {
   "cell_type": "markdown",
   "metadata": {},
   "source": [
    "* moving avg 시계열 그래프"
   ]
  },
  {
   "cell_type": "code",
   "execution_count": 213,
   "metadata": {},
   "outputs": [
    {
     "data": {
      "image/png": "[encoded data removed]",
      "text/plain": [
       "<Figure size 864x432 with 1 Axes>"
      ]
     },
     "metadata": {
      "needs_background": "light"
     },
     "output_type": "display_data"
    }
   ],
   "source": [
    "rolling = pd.Series.rolling(tmp['pred'], window = 2, center = False).mean()\n",
    "\n",
    "plt.rcParams[\"figure.figsize\"] = (12, 6)\n",
    "plt.plot(tmp['date'], tmp['ccsi'], color = 'red', label = 'ccsi')\n",
    "rolling.plot(color = 'blue', label = 'weekly ccsi')\n",
    "plt.xlabel(\"date\")\n",
    "plt.ylabel(\"ccsi, pred\")\n",
    "ax = plt.subplot()\n",
    "ax.xaxis.set_major_locator(plt.MultipleLocator(10))\n",
    "for label in ax.xaxis.get_ticklabels() :\n",
    "    label.set_rotation(45)\n",
    "plt.title(\"REGRESSION RANDOM FOREST(moving avg)\")\n",
    "plt.legend()\n",
    "plt.show()"
   ]
  },
  {
   "cell_type": "markdown",
   "metadata": {},
   "source": [
    "2주 간의 단기 지표들을 평균낸 값을 weekly CCSI로 활용하고자함. <br>\n",
    "시각화 결과, 주간 레코드에 대한 예측 결과를 바로 활용하는 것 보다 2주 간의 예측 결과 평균을 활용하는 것이 덜 들쑥날쑥하다."
   ]
  },
  {
   "cell_type": "markdown",
   "metadata": {},
   "source": [
    "## Step6. Develop weekly CCSI(주간 경기선행지수)"
   ]
  },
  {
   "cell_type": "code",
   "execution_count": 214,
   "metadata": {},
   "outputs": [
    {
     "data": {
      "text/html": [
       "<div>\n",
       "<style scoped>\n",
       "    .dataframe tbody tr th:only-of-type {\n",
       "        vertical-align: middle;\n",
       "    }\n",
       "\n",
       "    .dataframe tbody tr th {\n",
       "        vertical-align: top;\n",
       "    }\n",
       "\n",
       "    .dataframe thead th {\n",
       "        text-align: right;\n",
       "    }\n",
       "</style>\n",
       "<table border=\"1\" class=\"dataframe\">\n",
       "  <thead>\n",
       "    <tr style=\"text-align: right;\">\n",
       "      <th></th>\n",
       "      <th>year</th>\n",
       "      <th>month</th>\n",
       "      <th>day</th>\n",
       "      <th>keyword1</th>\n",
       "      <th>keyword2</th>\n",
       "      <th>keyword3</th>\n",
       "      <th>keyword4</th>\n",
       "      <th>keyword5</th>\n",
       "      <th>google</th>\n",
       "      <th>naver</th>\n",
       "      <th>ccsi</th>\n",
       "      <th>pred</th>\n",
       "      <th>date</th>\n",
       "      <th>weeklyCLI</th>\n",
       "    </tr>\n",
       "  </thead>\n",
       "  <tbody>\n",
       "    <tr>\n",
       "      <th>0</th>\n",
       "      <td>2016</td>\n",
       "      <td>1</td>\n",
       "      <td>4</td>\n",
       "      <td>825</td>\n",
       "      <td>419</td>\n",
       "      <td>437</td>\n",
       "      <td>588</td>\n",
       "      <td>168</td>\n",
       "      <td>53.0</td>\n",
       "      <td>26.05846</td>\n",
       "      <td>101.525</td>\n",
       "      <td>99.617031</td>\n",
       "      <td>2016.1.4</td>\n",
       "      <td>99.617031</td>\n",
       "    </tr>\n",
       "    <tr>\n",
       "      <th>1</th>\n",
       "      <td>2016</td>\n",
       "      <td>1</td>\n",
       "      <td>11</td>\n",
       "      <td>770</td>\n",
       "      <td>348</td>\n",
       "      <td>351</td>\n",
       "      <td>388</td>\n",
       "      <td>182</td>\n",
       "      <td>58.0</td>\n",
       "      <td>25.16599</td>\n",
       "      <td>100.850</td>\n",
       "      <td>99.594687</td>\n",
       "      <td>2016.1.11</td>\n",
       "      <td>99.605859</td>\n",
       "    </tr>\n",
       "    <tr>\n",
       "      <th>2</th>\n",
       "      <td>2016</td>\n",
       "      <td>1</td>\n",
       "      <td>18</td>\n",
       "      <td>918</td>\n",
       "      <td>422</td>\n",
       "      <td>441</td>\n",
       "      <td>363</td>\n",
       "      <td>147</td>\n",
       "      <td>74.0</td>\n",
       "      <td>27.38639</td>\n",
       "      <td>100.175</td>\n",
       "      <td>98.974531</td>\n",
       "      <td>2016.1.18</td>\n",
       "      <td>99.284609</td>\n",
       "    </tr>\n",
       "    <tr>\n",
       "      <th>3</th>\n",
       "      <td>2016</td>\n",
       "      <td>1</td>\n",
       "      <td>25</td>\n",
       "      <td>1067</td>\n",
       "      <td>425</td>\n",
       "      <td>567</td>\n",
       "      <td>393</td>\n",
       "      <td>148</td>\n",
       "      <td>59.0</td>\n",
       "      <td>24.72622</td>\n",
       "      <td>99.500</td>\n",
       "      <td>98.684844</td>\n",
       "      <td>2016.1.25</td>\n",
       "      <td>98.829687</td>\n",
       "    </tr>\n",
       "    <tr>\n",
       "      <th>4</th>\n",
       "      <td>2016</td>\n",
       "      <td>2</td>\n",
       "      <td>1</td>\n",
       "      <td>899</td>\n",
       "      <td>341</td>\n",
       "      <td>485</td>\n",
       "      <td>297</td>\n",
       "      <td>110</td>\n",
       "      <td>63.0</td>\n",
       "      <td>23.01888</td>\n",
       "      <td>99.040</td>\n",
       "      <td>97.332656</td>\n",
       "      <td>2016.2.1</td>\n",
       "      <td>98.008750</td>\n",
       "    </tr>\n",
       "    <tr>\n",
       "      <th>...</th>\n",
       "      <td>...</td>\n",
       "      <td>...</td>\n",
       "      <td>...</td>\n",
       "      <td>...</td>\n",
       "      <td>...</td>\n",
       "      <td>...</td>\n",
       "      <td>...</td>\n",
       "      <td>...</td>\n",
       "      <td>...</td>\n",
       "      <td>...</td>\n",
       "      <td>...</td>\n",
       "      <td>...</td>\n",
       "      <td>...</td>\n",
       "      <td>...</td>\n",
       "    </tr>\n",
       "    <tr>\n",
       "      <th>247</th>\n",
       "      <td>2020</td>\n",
       "      <td>9</td>\n",
       "      <td>28</td>\n",
       "      <td>489</td>\n",
       "      <td>90</td>\n",
       "      <td>114</td>\n",
       "      <td>27</td>\n",
       "      <td>78</td>\n",
       "      <td>63.0</td>\n",
       "      <td>25.29102</td>\n",
       "      <td>79.400</td>\n",
       "      <td>84.929688</td>\n",
       "      <td>2020.9.28</td>\n",
       "      <td>83.892969</td>\n",
       "    </tr>\n",
       "    <tr>\n",
       "      <th>248</th>\n",
       "      <td>2020</td>\n",
       "      <td>10</td>\n",
       "      <td>5</td>\n",
       "      <td>816</td>\n",
       "      <td>183</td>\n",
       "      <td>177</td>\n",
       "      <td>47</td>\n",
       "      <td>78</td>\n",
       "      <td>81.0</td>\n",
       "      <td>28.63240</td>\n",
       "      <td>82.450</td>\n",
       "      <td>85.437031</td>\n",
       "      <td>2020.10.5</td>\n",
       "      <td>85.183359</td>\n",
       "    </tr>\n",
       "    <tr>\n",
       "      <th>249</th>\n",
       "      <td>2020</td>\n",
       "      <td>10</td>\n",
       "      <td>12</td>\n",
       "      <td>857</td>\n",
       "      <td>199</td>\n",
       "      <td>176</td>\n",
       "      <td>55</td>\n",
       "      <td>91</td>\n",
       "      <td>82.0</td>\n",
       "      <td>26.85177</td>\n",
       "      <td>85.500</td>\n",
       "      <td>86.716094</td>\n",
       "      <td>2020.10.12</td>\n",
       "      <td>86.076562</td>\n",
       "    </tr>\n",
       "    <tr>\n",
       "      <th>250</th>\n",
       "      <td>2020</td>\n",
       "      <td>10</td>\n",
       "      <td>19</td>\n",
       "      <td>911</td>\n",
       "      <td>155</td>\n",
       "      <td>143</td>\n",
       "      <td>64</td>\n",
       "      <td>129</td>\n",
       "      <td>93.0</td>\n",
       "      <td>27.25273</td>\n",
       "      <td>88.550</td>\n",
       "      <td>88.473750</td>\n",
       "      <td>2020.10.19</td>\n",
       "      <td>87.594922</td>\n",
       "    </tr>\n",
       "    <tr>\n",
       "      <th>251</th>\n",
       "      <td>2020</td>\n",
       "      <td>10</td>\n",
       "      <td>26</td>\n",
       "      <td>915</td>\n",
       "      <td>187</td>\n",
       "      <td>167</td>\n",
       "      <td>72</td>\n",
       "      <td>110</td>\n",
       "      <td>90.0</td>\n",
       "      <td>30.24489</td>\n",
       "      <td>91.600</td>\n",
       "      <td>89.027812</td>\n",
       "      <td>2020.10.26</td>\n",
       "      <td>88.750781</td>\n",
       "    </tr>\n",
       "  </tbody>\n",
       "</table>\n",
       "<p>252 rows × 14 columns</p>\n",
       "</div>"
      ],
      "text/plain": [
       "     year  month  day  keyword1  keyword2  keyword3  keyword4  keyword5  \\\n",
       "0    2016      1    4       825       419       437       588       168   \n",
       "1    2016      1   11       770       348       351       388       182   \n",
       "2    2016      1   18       918       422       441       363       147   \n",
       "3    2016      1   25      1067       425       567       393       148   \n",
       "4    2016      2    1       899       341       485       297       110   \n",
       "..    ...    ...  ...       ...       ...       ...       ...       ...   \n",
       "247  2020      9   28       489        90       114        27        78   \n",
       "248  2020     10    5       816       183       177        47        78   \n",
       "249  2020     10   12       857       199       176        55        91   \n",
       "250  2020     10   19       911       155       143        64       129   \n",
       "251  2020     10   26       915       187       167        72       110   \n",
       "\n",
       "     google     naver     ccsi       pred        date  weeklyCLI  \n",
       "0      53.0  26.05846  101.525  99.617031    2016.1.4  99.617031  \n",
       "1      58.0  25.16599  100.850  99.594687   2016.1.11  99.605859  \n",
       "2      74.0  27.38639  100.175  98.974531   2016.1.18  99.284609  \n",
       "3      59.0  24.72622   99.500  98.684844   2016.1.25  98.829687  \n",
       "4      63.0  23.01888   99.040  97.332656    2016.2.1  98.008750  \n",
       "..      ...       ...      ...        ...         ...        ...  \n",
       "247    63.0  25.29102   79.400  84.929688   2020.9.28  83.892969  \n",
       "248    81.0  28.63240   82.450  85.437031   2020.10.5  85.183359  \n",
       "249    82.0  26.85177   85.500  86.716094  2020.10.12  86.076562  \n",
       "250    93.0  27.25273   88.550  88.473750  2020.10.19  87.594922  \n",
       "251    90.0  30.24489   91.600  89.027812  2020.10.26  88.750781  \n",
       "\n",
       "[252 rows x 14 columns]"
      ]
     },
     "execution_count": 214,
     "metadata": {},
     "output_type": "execute_result"
    }
   ],
   "source": [
    "weekly_CLI = []\n",
    "for i in range(len(tmp)):\n",
    "    if i == 0 :\n",
    "        cli = tmp.pred.iloc[i]\n",
    "        weekly_CLI.append(cli)\n",
    "        continue\n",
    "    \n",
    "    cli = (tmp.pred.iloc[i-1] + tmp.pred.iloc[i]) / 2\n",
    "    weekly_CLI.append(cli)\n",
    "    \n",
    "tmp['weeklyCLI'] = weekly_CLI\n",
    "tmp"
   ]
  }
 ],
 "metadata": {
  "kernelspec": {
   "display_name": "Python 3",
   "language": "python",
   "name": "python3"
  },
  "language_info": {
   "codemirror_mode": {
    "name": "ipython",
    "version": 3
   },
   "file_extension": ".py",
   "mimetype": "text/x-python",
   "name": "python",
   "nbconvert_exporter": "python",
   "pygments_lexer": "ipython3",
   "version": "3.8.3"
  }
 },
 "nbformat": 4,
 "nbformat_minor": 2
}
