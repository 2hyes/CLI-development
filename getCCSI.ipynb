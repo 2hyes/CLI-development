{
 "metadata": {
  "language_info": {
   "codemirror_mode": {
    "name": "ipython",
    "version": 3
   },
   "file_extension": ".py",
   "mimetype": "text/x-python",
   "name": "python",
   "nbconvert_exporter": "python",
   "pygments_lexer": "ipython3",
   "version": "3.8.3-final"
  },
  "orig_nbformat": 2,
  "kernelspec": {
   "name": "Python 3.8.3 64-bit ('base': conda)",
   "display_name": "Python 3.8.3 64-bit ('base': conda)",
   "metadata": {
    "interpreter": {
     "hash": "e2f398e37327d85d07ec8caa0fdb6823cd969aad32d55c6321ee9404eea8cdac"
    }
   }
  }
 },
 "nbformat": 4,
 "nbformat_minor": 2,
 "cells": [
  {
   "cell_type": "code",
   "execution_count": 1,
   "metadata": {},
   "outputs": [],
   "source": [
    "from urllib.request import urlopen\n",
    "from bs4 import BeautifulSoup\n",
    "import pandas as pd\n",
    "import json"
   ]
  },
  {
   "source": [
    "### 한국은행 OpenAPI 조회 서비스 사용 \n",
    "http://ecos.bok.or.kr/jsp/openapi/OpenApiController.jsp?t=main"
   ],
   "cell_type": "markdown",
   "metadata": {}
  },
  {
   "source": [
    "\"\"\"\n",
    "한국은행 openAPI를 활용하여\n",
    "소비자동향조사 받아옴\n",
    "\"\"\"\n",
    "def getEcosAPI(API_KEY, code, max, start_month, end_month):\n",
    "    url = 'http://ecos.bok.or.kr/api/StatisticSearch/%s/json/kr/1/%s/%s/MM/%s/%s/?/?/?/' % (API_KEY, max, code, start_month, end_month)\n",
    "    result = urlopen(url)\n",
    "    html = result.read()\n",
    "    \n",
    "    return json.loads(html)\n"
   ],
   "cell_type": "code",
   "metadata": {},
   "execution_count": 10,
   "outputs": []
  },
  {
   "cell_type": "code",
   "execution_count": 11,
   "metadata": {},
   "outputs": [],
   "source": [
    "API_KEY = \"YOUR_API_KEY\"\n",
    "\n",
    "data = getEcosAPI(API_KEY, code = '040Y002', max = 100000, start_month = '201801', end_month = '202010')"
   ]
  },
  {
   "source": [
    "### 소비자심리지수 구하기\n",
    "ITEM_CODE1 = 'FME'"
   ],
   "cell_type": "markdown",
   "metadata": {}
  },
  {
   "cell_type": "code",
   "execution_count": 13,
   "metadata": {},
   "outputs": [],
   "source": [
    "data = data[\"StatisticSearch\"][\"row\"]\n",
    "produce = pd.DataFrame(data)"
   ]
  },
  {
   "cell_type": "code",
   "execution_count": 14,
   "metadata": {},
   "outputs": [
    {
     "output_type": "execute_result",
     "data": {
      "text/plain": [
       "      UNIT_NAME                             STAT_NAME ITEM_CODE1 STAT_CODE  \\\n",
       "17424            9.2.1 소비자동향조사(한국은행, 전국)(월)(2008년9월~)        FME   040Y002   \n",
       "17425            9.2.1 소비자동향조사(한국은행, 전국)(월)(2008년9월~)        FME   040Y002   \n",
       "17426            9.2.1 소비자동향조사(한국은행, 전국)(월)(2008년9월~)        FME   040Y002   \n",
       "17427            9.2.1 소비자동향조사(한국은행, 전국)(월)(2008년9월~)        FME   040Y002   \n",
       "17428            9.2.1 소비자동향조사(한국은행, 전국)(월)(2008년9월~)        FME   040Y002   \n",
       "17429            9.2.1 소비자동향조사(한국은행, 전국)(월)(2008년9월~)        FME   040Y002   \n",
       "17430            9.2.1 소비자동향조사(한국은행, 전국)(월)(2008년9월~)        FME   040Y002   \n",
       "17431            9.2.1 소비자동향조사(한국은행, 전국)(월)(2008년9월~)        FME   040Y002   \n",
       "17432            9.2.1 소비자동향조사(한국은행, 전국)(월)(2008년9월~)        FME   040Y002   \n",
       "17433            9.2.1 소비자동향조사(한국은행, 전국)(월)(2008년9월~)        FME   040Y002   \n",
       "17434            9.2.1 소비자동향조사(한국은행, 전국)(월)(2008년9월~)        FME   040Y002   \n",
       "17435            9.2.1 소비자동향조사(한국은행, 전국)(월)(2008년9월~)        FME   040Y002   \n",
       "17436            9.2.1 소비자동향조사(한국은행, 전국)(월)(2008년9월~)        FME   040Y002   \n",
       "17437            9.2.1 소비자동향조사(한국은행, 전국)(월)(2008년9월~)        FME   040Y002   \n",
       "17438            9.2.1 소비자동향조사(한국은행, 전국)(월)(2008년9월~)        FME   040Y002   \n",
       "17439            9.2.1 소비자동향조사(한국은행, 전국)(월)(2008년9월~)        FME   040Y002   \n",
       "17440            9.2.1 소비자동향조사(한국은행, 전국)(월)(2008년9월~)        FME   040Y002   \n",
       "17441            9.2.1 소비자동향조사(한국은행, 전국)(월)(2008년9월~)        FME   040Y002   \n",
       "17442            9.2.1 소비자동향조사(한국은행, 전국)(월)(2008년9월~)        FME   040Y002   \n",
       "17443            9.2.1 소비자동향조사(한국은행, 전국)(월)(2008년9월~)        FME   040Y002   \n",
       "17444            9.2.1 소비자동향조사(한국은행, 전국)(월)(2008년9월~)        FME   040Y002   \n",
       "17445            9.2.1 소비자동향조사(한국은행, 전국)(월)(2008년9월~)        FME   040Y002   \n",
       "17446            9.2.1 소비자동향조사(한국은행, 전국)(월)(2008년9월~)        FME   040Y002   \n",
       "17447            9.2.1 소비자동향조사(한국은행, 전국)(월)(2008년9월~)        FME   040Y002   \n",
       "17448            9.2.1 소비자동향조사(한국은행, 전국)(월)(2008년9월~)        FME   040Y002   \n",
       "17449            9.2.1 소비자동향조사(한국은행, 전국)(월)(2008년9월~)        FME   040Y002   \n",
       "17450            9.2.1 소비자동향조사(한국은행, 전국)(월)(2008년9월~)        FME   040Y002   \n",
       "17451            9.2.1 소비자동향조사(한국은행, 전국)(월)(2008년9월~)        FME   040Y002   \n",
       "17452            9.2.1 소비자동향조사(한국은행, 전국)(월)(2008년9월~)        FME   040Y002   \n",
       "17453            9.2.1 소비자동향조사(한국은행, 전국)(월)(2008년9월~)        FME   040Y002   \n",
       "17454            9.2.1 소비자동향조사(한국은행, 전국)(월)(2008년9월~)        FME   040Y002   \n",
       "17455            9.2.1 소비자동향조사(한국은행, 전국)(월)(2008년9월~)        FME   040Y002   \n",
       "17456            9.2.1 소비자동향조사(한국은행, 전국)(월)(2008년9월~)        FME   040Y002   \n",
       "\n",
       "      ITEM_CODE2 ITEM_CODE3 ITEM_NAME1 ITEM_NAME2 DATA_VALUE ITEM_NAME3  \\\n",
       "17424      99988               소비자심리지수         전체      110.3              \n",
       "17425      99988               소비자심리지수         전체      108.4              \n",
       "17426      99988               소비자심리지수         전체      108.3              \n",
       "17427      99988               소비자심리지수         전체      107.3              \n",
       "17428      99988               소비자심리지수         전체      108.2              \n",
       "17429      99988               소비자심리지수         전체      105.6              \n",
       "17430      99988               소비자심리지수         전체      100.9              \n",
       "17431      99988               소비자심리지수         전체         99              \n",
       "17432      99988               소비자심리지수         전체      100.1              \n",
       "17433      99988               소비자심리지수         전체       99.3              \n",
       "17434      99988               소비자심리지수         전체       95.7              \n",
       "17435      99988               소비자심리지수         전체       96.9              \n",
       "17436      99988               소비자심리지수         전체       97.5              \n",
       "17437      99988               소비자심리지수         전체       99.6              \n",
       "17438      99988               소비자심리지수         전체       99.8              \n",
       "17439      99988               소비자심리지수         전체      101.7              \n",
       "17440      99988               소비자심리지수         전체       97.9              \n",
       "17441      99988               소비자심리지수         전체       97.6              \n",
       "17442      99988               소비자심리지수         전체       95.9              \n",
       "17443      99988               소비자심리지수         전체       92.4              \n",
       "17444      99988               소비자심리지수         전체         97              \n",
       "17445      99988               소비자심리지수         전체       98.6              \n",
       "17446      99988               소비자심리지수         전체        101              \n",
       "17447      99988               소비자심리지수         전체      100.5              \n",
       "17448      99988               소비자심리지수         전체      104.2              \n",
       "17449      99988               소비자심리지수         전체       96.9              \n",
       "17450      99988               소비자심리지수         전체       78.4              \n",
       "17451      99988               소비자심리지수         전체       70.8              \n",
       "17452      99988               소비자심리지수         전체       77.6              \n",
       "17453      99988               소비자심리지수         전체       81.8              \n",
       "17454      99988               소비자심리지수         전체       84.2              \n",
       "17455      99988               소비자심리지수         전체       88.2              \n",
       "17456      99988               소비자심리지수         전체       79.4              \n",
       "\n",
       "         TIME  \n",
       "17424  201801  \n",
       "17425  201802  \n",
       "17426  201803  \n",
       "17427  201804  \n",
       "17428  201805  \n",
       "17429  201806  \n",
       "17430  201807  \n",
       "17431  201808  \n",
       "17432  201809  \n",
       "17433  201810  \n",
       "17434  201811  \n",
       "17435  201812  \n",
       "17436  201901  \n",
       "17437  201902  \n",
       "17438  201903  \n",
       "17439  201904  \n",
       "17440  201905  \n",
       "17441  201906  \n",
       "17442  201907  \n",
       "17443  201908  \n",
       "17444  201909  \n",
       "17445  201910  \n",
       "17446  201911  \n",
       "17447  201912  \n",
       "17448  202001  \n",
       "17449  202002  \n",
       "17450  202003  \n",
       "17451  202004  \n",
       "17452  202005  \n",
       "17453  202006  \n",
       "17454  202007  \n",
       "17455  202008  \n",
       "17456  202009  "
      ],
      "text/html": "<div>\n<style scoped>\n    .dataframe tbody tr th:only-of-type {\n        vertical-align: middle;\n    }\n\n    .dataframe tbody tr th {\n        vertical-align: top;\n    }\n\n    .dataframe thead th {\n        text-align: right;\n    }\n</style>\n<table border=\"1\" class=\"dataframe\">\n  <thead>\n    <tr style=\"text-align: right;\">\n      <th></th>\n      <th>UNIT_NAME</th>\n      <th>STAT_NAME</th>\n      <th>ITEM_CODE1</th>\n      <th>STAT_CODE</th>\n      <th>ITEM_CODE2</th>\n      <th>ITEM_CODE3</th>\n      <th>ITEM_NAME1</th>\n      <th>ITEM_NAME2</th>\n      <th>DATA_VALUE</th>\n      <th>ITEM_NAME3</th>\n      <th>TIME</th>\n    </tr>\n  </thead>\n  <tbody>\n    <tr>\n      <th>17424</th>\n      <td></td>\n      <td>9.2.1 소비자동향조사(한국은행, 전국)(월)(2008년9월~)</td>\n      <td>FME</td>\n      <td>040Y002</td>\n      <td>99988</td>\n      <td></td>\n      <td>소비자심리지수</td>\n      <td>전체</td>\n      <td>110.3</td>\n      <td></td>\n      <td>201801</td>\n    </tr>\n    <tr>\n      <th>17425</th>\n      <td></td>\n      <td>9.2.1 소비자동향조사(한국은행, 전국)(월)(2008년9월~)</td>\n      <td>FME</td>\n      <td>040Y002</td>\n      <td>99988</td>\n      <td></td>\n      <td>소비자심리지수</td>\n      <td>전체</td>\n      <td>108.4</td>\n      <td></td>\n      <td>201802</td>\n    </tr>\n    <tr>\n      <th>17426</th>\n      <td></td>\n      <td>9.2.1 소비자동향조사(한국은행, 전국)(월)(2008년9월~)</td>\n      <td>FME</td>\n      <td>040Y002</td>\n      <td>99988</td>\n      <td></td>\n      <td>소비자심리지수</td>\n      <td>전체</td>\n      <td>108.3</td>\n      <td></td>\n      <td>201803</td>\n    </tr>\n    <tr>\n      <th>17427</th>\n      <td></td>\n      <td>9.2.1 소비자동향조사(한국은행, 전국)(월)(2008년9월~)</td>\n      <td>FME</td>\n      <td>040Y002</td>\n      <td>99988</td>\n      <td></td>\n      <td>소비자심리지수</td>\n      <td>전체</td>\n      <td>107.3</td>\n      <td></td>\n      <td>201804</td>\n    </tr>\n    <tr>\n      <th>17428</th>\n      <td></td>\n      <td>9.2.1 소비자동향조사(한국은행, 전국)(월)(2008년9월~)</td>\n      <td>FME</td>\n      <td>040Y002</td>\n      <td>99988</td>\n      <td></td>\n      <td>소비자심리지수</td>\n      <td>전체</td>\n      <td>108.2</td>\n      <td></td>\n      <td>201805</td>\n    </tr>\n    <tr>\n      <th>17429</th>\n      <td></td>\n      <td>9.2.1 소비자동향조사(한국은행, 전국)(월)(2008년9월~)</td>\n      <td>FME</td>\n      <td>040Y002</td>\n      <td>99988</td>\n      <td></td>\n      <td>소비자심리지수</td>\n      <td>전체</td>\n      <td>105.6</td>\n      <td></td>\n      <td>201806</td>\n    </tr>\n    <tr>\n      <th>17430</th>\n      <td></td>\n      <td>9.2.1 소비자동향조사(한국은행, 전국)(월)(2008년9월~)</td>\n      <td>FME</td>\n      <td>040Y002</td>\n      <td>99988</td>\n      <td></td>\n      <td>소비자심리지수</td>\n      <td>전체</td>\n      <td>100.9</td>\n      <td></td>\n      <td>201807</td>\n    </tr>\n    <tr>\n      <th>17431</th>\n      <td></td>\n      <td>9.2.1 소비자동향조사(한국은행, 전국)(월)(2008년9월~)</td>\n      <td>FME</td>\n      <td>040Y002</td>\n      <td>99988</td>\n      <td></td>\n      <td>소비자심리지수</td>\n      <td>전체</td>\n      <td>99</td>\n      <td></td>\n      <td>201808</td>\n    </tr>\n    <tr>\n      <th>17432</th>\n      <td></td>\n      <td>9.2.1 소비자동향조사(한국은행, 전국)(월)(2008년9월~)</td>\n      <td>FME</td>\n      <td>040Y002</td>\n      <td>99988</td>\n      <td></td>\n      <td>소비자심리지수</td>\n      <td>전체</td>\n      <td>100.1</td>\n      <td></td>\n      <td>201809</td>\n    </tr>\n    <tr>\n      <th>17433</th>\n      <td></td>\n      <td>9.2.1 소비자동향조사(한국은행, 전국)(월)(2008년9월~)</td>\n      <td>FME</td>\n      <td>040Y002</td>\n      <td>99988</td>\n      <td></td>\n      <td>소비자심리지수</td>\n      <td>전체</td>\n      <td>99.3</td>\n      <td></td>\n      <td>201810</td>\n    </tr>\n    <tr>\n      <th>17434</th>\n      <td></td>\n      <td>9.2.1 소비자동향조사(한국은행, 전국)(월)(2008년9월~)</td>\n      <td>FME</td>\n      <td>040Y002</td>\n      <td>99988</td>\n      <td></td>\n      <td>소비자심리지수</td>\n      <td>전체</td>\n      <td>95.7</td>\n      <td></td>\n      <td>201811</td>\n    </tr>\n    <tr>\n      <th>17435</th>\n      <td></td>\n      <td>9.2.1 소비자동향조사(한국은행, 전국)(월)(2008년9월~)</td>\n      <td>FME</td>\n      <td>040Y002</td>\n      <td>99988</td>\n      <td></td>\n      <td>소비자심리지수</td>\n      <td>전체</td>\n      <td>96.9</td>\n      <td></td>\n      <td>201812</td>\n    </tr>\n    <tr>\n      <th>17436</th>\n      <td></td>\n      <td>9.2.1 소비자동향조사(한국은행, 전국)(월)(2008년9월~)</td>\n      <td>FME</td>\n      <td>040Y002</td>\n      <td>99988</td>\n      <td></td>\n      <td>소비자심리지수</td>\n      <td>전체</td>\n      <td>97.5</td>\n      <td></td>\n      <td>201901</td>\n    </tr>\n    <tr>\n      <th>17437</th>\n      <td></td>\n      <td>9.2.1 소비자동향조사(한국은행, 전국)(월)(2008년9월~)</td>\n      <td>FME</td>\n      <td>040Y002</td>\n      <td>99988</td>\n      <td></td>\n      <td>소비자심리지수</td>\n      <td>전체</td>\n      <td>99.6</td>\n      <td></td>\n      <td>201902</td>\n    </tr>\n    <tr>\n      <th>17438</th>\n      <td></td>\n      <td>9.2.1 소비자동향조사(한국은행, 전국)(월)(2008년9월~)</td>\n      <td>FME</td>\n      <td>040Y002</td>\n      <td>99988</td>\n      <td></td>\n      <td>소비자심리지수</td>\n      <td>전체</td>\n      <td>99.8</td>\n      <td></td>\n      <td>201903</td>\n    </tr>\n    <tr>\n      <th>17439</th>\n      <td></td>\n      <td>9.2.1 소비자동향조사(한국은행, 전국)(월)(2008년9월~)</td>\n      <td>FME</td>\n      <td>040Y002</td>\n      <td>99988</td>\n      <td></td>\n      <td>소비자심리지수</td>\n      <td>전체</td>\n      <td>101.7</td>\n      <td></td>\n      <td>201904</td>\n    </tr>\n    <tr>\n      <th>17440</th>\n      <td></td>\n      <td>9.2.1 소비자동향조사(한국은행, 전국)(월)(2008년9월~)</td>\n      <td>FME</td>\n      <td>040Y002</td>\n      <td>99988</td>\n      <td></td>\n      <td>소비자심리지수</td>\n      <td>전체</td>\n      <td>97.9</td>\n      <td></td>\n      <td>201905</td>\n    </tr>\n    <tr>\n      <th>17441</th>\n      <td></td>\n      <td>9.2.1 소비자동향조사(한국은행, 전국)(월)(2008년9월~)</td>\n      <td>FME</td>\n      <td>040Y002</td>\n      <td>99988</td>\n      <td></td>\n      <td>소비자심리지수</td>\n      <td>전체</td>\n      <td>97.6</td>\n      <td></td>\n      <td>201906</td>\n    </tr>\n    <tr>\n      <th>17442</th>\n      <td></td>\n      <td>9.2.1 소비자동향조사(한국은행, 전국)(월)(2008년9월~)</td>\n      <td>FME</td>\n      <td>040Y002</td>\n      <td>99988</td>\n      <td></td>\n      <td>소비자심리지수</td>\n      <td>전체</td>\n      <td>95.9</td>\n      <td></td>\n      <td>201907</td>\n    </tr>\n    <tr>\n      <th>17443</th>\n      <td></td>\n      <td>9.2.1 소비자동향조사(한국은행, 전국)(월)(2008년9월~)</td>\n      <td>FME</td>\n      <td>040Y002</td>\n      <td>99988</td>\n      <td></td>\n      <td>소비자심리지수</td>\n      <td>전체</td>\n      <td>92.4</td>\n      <td></td>\n      <td>201908</td>\n    </tr>\n    <tr>\n      <th>17444</th>\n      <td></td>\n      <td>9.2.1 소비자동향조사(한국은행, 전국)(월)(2008년9월~)</td>\n      <td>FME</td>\n      <td>040Y002</td>\n      <td>99988</td>\n      <td></td>\n      <td>소비자심리지수</td>\n      <td>전체</td>\n      <td>97</td>\n      <td></td>\n      <td>201909</td>\n    </tr>\n    <tr>\n      <th>17445</th>\n      <td></td>\n      <td>9.2.1 소비자동향조사(한국은행, 전국)(월)(2008년9월~)</td>\n      <td>FME</td>\n      <td>040Y002</td>\n      <td>99988</td>\n      <td></td>\n      <td>소비자심리지수</td>\n      <td>전체</td>\n      <td>98.6</td>\n      <td></td>\n      <td>201910</td>\n    </tr>\n    <tr>\n      <th>17446</th>\n      <td></td>\n      <td>9.2.1 소비자동향조사(한국은행, 전국)(월)(2008년9월~)</td>\n      <td>FME</td>\n      <td>040Y002</td>\n      <td>99988</td>\n      <td></td>\n      <td>소비자심리지수</td>\n      <td>전체</td>\n      <td>101</td>\n      <td></td>\n      <td>201911</td>\n    </tr>\n    <tr>\n      <th>17447</th>\n      <td></td>\n      <td>9.2.1 소비자동향조사(한국은행, 전국)(월)(2008년9월~)</td>\n      <td>FME</td>\n      <td>040Y002</td>\n      <td>99988</td>\n      <td></td>\n      <td>소비자심리지수</td>\n      <td>전체</td>\n      <td>100.5</td>\n      <td></td>\n      <td>201912</td>\n    </tr>\n    <tr>\n      <th>17448</th>\n      <td></td>\n      <td>9.2.1 소비자동향조사(한국은행, 전국)(월)(2008년9월~)</td>\n      <td>FME</td>\n      <td>040Y002</td>\n      <td>99988</td>\n      <td></td>\n      <td>소비자심리지수</td>\n      <td>전체</td>\n      <td>104.2</td>\n      <td></td>\n      <td>202001</td>\n    </tr>\n    <tr>\n      <th>17449</th>\n      <td></td>\n      <td>9.2.1 소비자동향조사(한국은행, 전국)(월)(2008년9월~)</td>\n      <td>FME</td>\n      <td>040Y002</td>\n      <td>99988</td>\n      <td></td>\n      <td>소비자심리지수</td>\n      <td>전체</td>\n      <td>96.9</td>\n      <td></td>\n      <td>202002</td>\n    </tr>\n    <tr>\n      <th>17450</th>\n      <td></td>\n      <td>9.2.1 소비자동향조사(한국은행, 전국)(월)(2008년9월~)</td>\n      <td>FME</td>\n      <td>040Y002</td>\n      <td>99988</td>\n      <td></td>\n      <td>소비자심리지수</td>\n      <td>전체</td>\n      <td>78.4</td>\n      <td></td>\n      <td>202003</td>\n    </tr>\n    <tr>\n      <th>17451</th>\n      <td></td>\n      <td>9.2.1 소비자동향조사(한국은행, 전국)(월)(2008년9월~)</td>\n      <td>FME</td>\n      <td>040Y002</td>\n      <td>99988</td>\n      <td></td>\n      <td>소비자심리지수</td>\n      <td>전체</td>\n      <td>70.8</td>\n      <td></td>\n      <td>202004</td>\n    </tr>\n    <tr>\n      <th>17452</th>\n      <td></td>\n      <td>9.2.1 소비자동향조사(한국은행, 전국)(월)(2008년9월~)</td>\n      <td>FME</td>\n      <td>040Y002</td>\n      <td>99988</td>\n      <td></td>\n      <td>소비자심리지수</td>\n      <td>전체</td>\n      <td>77.6</td>\n      <td></td>\n      <td>202005</td>\n    </tr>\n    <tr>\n      <th>17453</th>\n      <td></td>\n      <td>9.2.1 소비자동향조사(한국은행, 전국)(월)(2008년9월~)</td>\n      <td>FME</td>\n      <td>040Y002</td>\n      <td>99988</td>\n      <td></td>\n      <td>소비자심리지수</td>\n      <td>전체</td>\n      <td>81.8</td>\n      <td></td>\n      <td>202006</td>\n    </tr>\n    <tr>\n      <th>17454</th>\n      <td></td>\n      <td>9.2.1 소비자동향조사(한국은행, 전국)(월)(2008년9월~)</td>\n      <td>FME</td>\n      <td>040Y002</td>\n      <td>99988</td>\n      <td></td>\n      <td>소비자심리지수</td>\n      <td>전체</td>\n      <td>84.2</td>\n      <td></td>\n      <td>202007</td>\n    </tr>\n    <tr>\n      <th>17455</th>\n      <td></td>\n      <td>9.2.1 소비자동향조사(한국은행, 전국)(월)(2008년9월~)</td>\n      <td>FME</td>\n      <td>040Y002</td>\n      <td>99988</td>\n      <td></td>\n      <td>소비자심리지수</td>\n      <td>전체</td>\n      <td>88.2</td>\n      <td></td>\n      <td>202008</td>\n    </tr>\n    <tr>\n      <th>17456</th>\n      <td></td>\n      <td>9.2.1 소비자동향조사(한국은행, 전국)(월)(2008년9월~)</td>\n      <td>FME</td>\n      <td>040Y002</td>\n      <td>99988</td>\n      <td></td>\n      <td>소비자심리지수</td>\n      <td>전체</td>\n      <td>79.4</td>\n      <td></td>\n      <td>202009</td>\n    </tr>\n  </tbody>\n</table>\n</div>"
     },
     "metadata": {},
     "execution_count": 14
    }
   ],
   "source": [
    "ccsi = produce[produce['ITEM_CODE1'] == 'FME']\n",
    "ccsi"
   ]
  },
  {
   "cell_type": "code",
   "execution_count": null,
   "metadata": {},
   "outputs": [],
   "source": []
  }
 ]
}