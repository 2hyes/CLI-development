{
 "metadata": {
  "language_info": {
   "codemirror_mode": {
    "name": "ipython",
    "version": 3
   },
   "file_extension": ".py",
   "mimetype": "text/x-python",
   "name": "python",
   "nbconvert_exporter": "python",
   "pygments_lexer": "ipython3",
   "version": "3.8.3-final"
  },
  "orig_nbformat": 2,
  "kernelspec": {
   "name": "Python 3.8.3 64-bit ('base': conda)",
   "display_name": "Python 3.8.3 64-bit ('base': conda)",
   "metadata": {
    "interpreter": {
     "hash": "e2f398e37327d85d07ec8caa0fdb6823cd969aad32d55c6321ee9404eea8cdac"
    }
   }
  }
 },
 "nbformat": 4,
 "nbformat_minor": 2,
 "cells": [
  {
   "cell_type": "code",
   "execution_count": 1,
   "metadata": {},
   "outputs": [],
   "source": [
    "from urllib.request import urlopen\n",
    "from bs4 import BeautifulSoup\n",
    "import pandas as pd\n",
    "import json\n",
    "import pymysql"
   ]
  },
  {
   "source": [
    "### 한국은행 OpenAPI 조회 서비스 사용 \n",
    "http://ecos.bok.or.kr/jsp/openapi/OpenApiController.jsp?t=main"
   ],
   "cell_type": "markdown",
   "metadata": {}
  },
  {
   "source": [
    "\"\"\"\n",
    "한국은행 openAPI를 활용하여\n",
    "소비자동향조사 받아옴\n",
    "\"\"\"\n",
    "def getEcosAPI(API_KEY, code, max, start_month, end_month):\n",
    "    url = 'http://ecos.bok.or.kr/api/StatisticSearch/%s/json/kr/1/%s/%s/MM/%s/%s/?/?/?/' % (API_KEY, max, code, start_month, end_month)\n",
    "    result = urlopen(url)\n",
    "    html = result.read()\n",
    "    \n",
    "    return json.loads(html)\n"
   ],
   "cell_type": "code",
   "metadata": {},
   "execution_count": 2,
   "outputs": []
  },
  {
   "cell_type": "code",
   "execution_count": 3,
   "metadata": {},
   "outputs": [],
   "source": [
    "API_KEY = \"YOUR_API_KEY\"\n",
    "\n",
    "data = getEcosAPI(API_KEY, code = '040Y002', max = 100000, start_month = '200801', end_month = '202010')"
   ]
  },
  {
   "source": [
    "### 소비자심리지수 구하기\n",
    "ITEM_CODE1 = 'FME'"
   ],
   "cell_type": "markdown",
   "metadata": {}
  },
  {
   "cell_type": "code",
   "execution_count": 4,
   "metadata": {},
   "outputs": [],
   "source": [
    "data = data[\"StatisticSearch\"][\"row\"]\n",
    "produce = pd.DataFrame(data)"
   ]
  },
  {
   "cell_type": "code",
   "execution_count": 5,
   "metadata": {},
   "outputs": [
    {
     "output_type": "execute_result",
     "data": {
      "text/plain": [
       "      UNIT_NAME                             STAT_NAME ITEM_CODE1 STAT_CODE  \\\n",
       "79992            9.2.1 소비자동향조사(한국은행, 전국)(월)(2008년9월~)        FME   040Y002   \n",
       "79993            9.2.1 소비자동향조사(한국은행, 전국)(월)(2008년9월~)        FME   040Y002   \n",
       "79994            9.2.1 소비자동향조사(한국은행, 전국)(월)(2008년9월~)        FME   040Y002   \n",
       "79995            9.2.1 소비자동향조사(한국은행, 전국)(월)(2008년9월~)        FME   040Y002   \n",
       "79996            9.2.1 소비자동향조사(한국은행, 전국)(월)(2008년9월~)        FME   040Y002   \n",
       "...         ...                                   ...        ...       ...   \n",
       "80134            9.2.1 소비자동향조사(한국은행, 전국)(월)(2008년9월~)        FME   040Y002   \n",
       "80135            9.2.1 소비자동향조사(한국은행, 전국)(월)(2008년9월~)        FME   040Y002   \n",
       "80136            9.2.1 소비자동향조사(한국은행, 전국)(월)(2008년9월~)        FME   040Y002   \n",
       "80137            9.2.1 소비자동향조사(한국은행, 전국)(월)(2008년9월~)        FME   040Y002   \n",
       "80138            9.2.1 소비자동향조사(한국은행, 전국)(월)(2008년9월~)        FME   040Y002   \n",
       "\n",
       "      ITEM_CODE2 ITEM_CODE3 ITEM_NAME1 ITEM_NAME2 DATA_VALUE ITEM_NAME3  \\\n",
       "79992      99988               소비자심리지수         전체       73.7              \n",
       "79993      99988               소비자심리지수         전체       91.8              \n",
       "79994      99988               소비자심리지수         전체       90.6              \n",
       "79995      99988               소비자심리지수         전체       77.9              \n",
       "79996      99988               소비자심리지수         전체       72.9              \n",
       "...          ...        ...        ...        ...        ...        ...   \n",
       "80134      99988               소비자심리지수         전체       77.6              \n",
       "80135      99988               소비자심리지수         전체       81.8              \n",
       "80136      99988               소비자심리지수         전체       84.2              \n",
       "80137      99988               소비자심리지수         전체       88.2              \n",
       "80138      99988               소비자심리지수         전체       79.4              \n",
       "\n",
       "         TIME  \n",
       "79992  200807  \n",
       "79993  200808  \n",
       "79994  200809  \n",
       "79995  200810  \n",
       "79996  200811  \n",
       "...       ...  \n",
       "80134  202005  \n",
       "80135  202006  \n",
       "80136  202007  \n",
       "80137  202008  \n",
       "80138  202009  \n",
       "\n",
       "[147 rows x 11 columns]"
      ],
      "text/html": "<div>\n<style scoped>\n    .dataframe tbody tr th:only-of-type {\n        vertical-align: middle;\n    }\n\n    .dataframe tbody tr th {\n        vertical-align: top;\n    }\n\n    .dataframe thead th {\n        text-align: right;\n    }\n</style>\n<table border=\"1\" class=\"dataframe\">\n  <thead>\n    <tr style=\"text-align: right;\">\n      <th></th>\n      <th>UNIT_NAME</th>\n      <th>STAT_NAME</th>\n      <th>ITEM_CODE1</th>\n      <th>STAT_CODE</th>\n      <th>ITEM_CODE2</th>\n      <th>ITEM_CODE3</th>\n      <th>ITEM_NAME1</th>\n      <th>ITEM_NAME2</th>\n      <th>DATA_VALUE</th>\n      <th>ITEM_NAME3</th>\n      <th>TIME</th>\n    </tr>\n  </thead>\n  <tbody>\n    <tr>\n      <th>79992</th>\n      <td></td>\n      <td>9.2.1 소비자동향조사(한국은행, 전국)(월)(2008년9월~)</td>\n      <td>FME</td>\n      <td>040Y002</td>\n      <td>99988</td>\n      <td></td>\n      <td>소비자심리지수</td>\n      <td>전체</td>\n      <td>73.7</td>\n      <td></td>\n      <td>200807</td>\n    </tr>\n    <tr>\n      <th>79993</th>\n      <td></td>\n      <td>9.2.1 소비자동향조사(한국은행, 전국)(월)(2008년9월~)</td>\n      <td>FME</td>\n      <td>040Y002</td>\n      <td>99988</td>\n      <td></td>\n      <td>소비자심리지수</td>\n      <td>전체</td>\n      <td>91.8</td>\n      <td></td>\n      <td>200808</td>\n    </tr>\n    <tr>\n      <th>79994</th>\n      <td></td>\n      <td>9.2.1 소비자동향조사(한국은행, 전국)(월)(2008년9월~)</td>\n      <td>FME</td>\n      <td>040Y002</td>\n      <td>99988</td>\n      <td></td>\n      <td>소비자심리지수</td>\n      <td>전체</td>\n      <td>90.6</td>\n      <td></td>\n      <td>200809</td>\n    </tr>\n    <tr>\n      <th>79995</th>\n      <td></td>\n      <td>9.2.1 소비자동향조사(한국은행, 전국)(월)(2008년9월~)</td>\n      <td>FME</td>\n      <td>040Y002</td>\n      <td>99988</td>\n      <td></td>\n      <td>소비자심리지수</td>\n      <td>전체</td>\n      <td>77.9</td>\n      <td></td>\n      <td>200810</td>\n    </tr>\n    <tr>\n      <th>79996</th>\n      <td></td>\n      <td>9.2.1 소비자동향조사(한국은행, 전국)(월)(2008년9월~)</td>\n      <td>FME</td>\n      <td>040Y002</td>\n      <td>99988</td>\n      <td></td>\n      <td>소비자심리지수</td>\n      <td>전체</td>\n      <td>72.9</td>\n      <td></td>\n      <td>200811</td>\n    </tr>\n    <tr>\n      <th>...</th>\n      <td>...</td>\n      <td>...</td>\n      <td>...</td>\n      <td>...</td>\n      <td>...</td>\n      <td>...</td>\n      <td>...</td>\n      <td>...</td>\n      <td>...</td>\n      <td>...</td>\n      <td>...</td>\n    </tr>\n    <tr>\n      <th>80134</th>\n      <td></td>\n      <td>9.2.1 소비자동향조사(한국은행, 전국)(월)(2008년9월~)</td>\n      <td>FME</td>\n      <td>040Y002</td>\n      <td>99988</td>\n      <td></td>\n      <td>소비자심리지수</td>\n      <td>전체</td>\n      <td>77.6</td>\n      <td></td>\n      <td>202005</td>\n    </tr>\n    <tr>\n      <th>80135</th>\n      <td></td>\n      <td>9.2.1 소비자동향조사(한국은행, 전국)(월)(2008년9월~)</td>\n      <td>FME</td>\n      <td>040Y002</td>\n      <td>99988</td>\n      <td></td>\n      <td>소비자심리지수</td>\n      <td>전체</td>\n      <td>81.8</td>\n      <td></td>\n      <td>202006</td>\n    </tr>\n    <tr>\n      <th>80136</th>\n      <td></td>\n      <td>9.2.1 소비자동향조사(한국은행, 전국)(월)(2008년9월~)</td>\n      <td>FME</td>\n      <td>040Y002</td>\n      <td>99988</td>\n      <td></td>\n      <td>소비자심리지수</td>\n      <td>전체</td>\n      <td>84.2</td>\n      <td></td>\n      <td>202007</td>\n    </tr>\n    <tr>\n      <th>80137</th>\n      <td></td>\n      <td>9.2.1 소비자동향조사(한국은행, 전국)(월)(2008년9월~)</td>\n      <td>FME</td>\n      <td>040Y002</td>\n      <td>99988</td>\n      <td></td>\n      <td>소비자심리지수</td>\n      <td>전체</td>\n      <td>88.2</td>\n      <td></td>\n      <td>202008</td>\n    </tr>\n    <tr>\n      <th>80138</th>\n      <td></td>\n      <td>9.2.1 소비자동향조사(한국은행, 전국)(월)(2008년9월~)</td>\n      <td>FME</td>\n      <td>040Y002</td>\n      <td>99988</td>\n      <td></td>\n      <td>소비자심리지수</td>\n      <td>전체</td>\n      <td>79.4</td>\n      <td></td>\n      <td>202009</td>\n    </tr>\n  </tbody>\n</table>\n<p>147 rows × 11 columns</p>\n</div>"
     },
     "metadata": {},
     "execution_count": 5
    }
   ],
   "source": [
    "ccsi = produce[produce['ITEM_CODE1'] == 'FME']\n",
    "ccsi"
   ]
  },
  {
   "cell_type": "code",
   "execution_count": 6,
   "metadata": {},
   "outputs": [
    {
     "output_type": "execute_result",
     "data": {
      "text/plain": [
       "       TIME DATA_VALUE\n",
       "0    200807       73.7\n",
       "1    200808       91.8\n",
       "2    200809       90.6\n",
       "3    200810       77.9\n",
       "4    200811       72.9\n",
       "..      ...        ...\n",
       "142  202005       77.6\n",
       "143  202006       81.8\n",
       "144  202007       84.2\n",
       "145  202008       88.2\n",
       "146  202009       79.4\n",
       "\n",
       "[147 rows x 2 columns]"
      ],
      "text/html": "<div>\n<style scoped>\n    .dataframe tbody tr th:only-of-type {\n        vertical-align: middle;\n    }\n\n    .dataframe tbody tr th {\n        vertical-align: top;\n    }\n\n    .dataframe thead th {\n        text-align: right;\n    }\n</style>\n<table border=\"1\" class=\"dataframe\">\n  <thead>\n    <tr style=\"text-align: right;\">\n      <th></th>\n      <th>TIME</th>\n      <th>DATA_VALUE</th>\n    </tr>\n  </thead>\n  <tbody>\n    <tr>\n      <th>0</th>\n      <td>200807</td>\n      <td>73.7</td>\n    </tr>\n    <tr>\n      <th>1</th>\n      <td>200808</td>\n      <td>91.8</td>\n    </tr>\n    <tr>\n      <th>2</th>\n      <td>200809</td>\n      <td>90.6</td>\n    </tr>\n    <tr>\n      <th>3</th>\n      <td>200810</td>\n      <td>77.9</td>\n    </tr>\n    <tr>\n      <th>4</th>\n      <td>200811</td>\n      <td>72.9</td>\n    </tr>\n    <tr>\n      <th>...</th>\n      <td>...</td>\n      <td>...</td>\n    </tr>\n    <tr>\n      <th>142</th>\n      <td>202005</td>\n      <td>77.6</td>\n    </tr>\n    <tr>\n      <th>143</th>\n      <td>202006</td>\n      <td>81.8</td>\n    </tr>\n    <tr>\n      <th>144</th>\n      <td>202007</td>\n      <td>84.2</td>\n    </tr>\n    <tr>\n      <th>145</th>\n      <td>202008</td>\n      <td>88.2</td>\n    </tr>\n    <tr>\n      <th>146</th>\n      <td>202009</td>\n      <td>79.4</td>\n    </tr>\n  </tbody>\n</table>\n<p>147 rows × 2 columns</p>\n</div>"
     },
     "metadata": {},
     "execution_count": 6
    }
   ],
   "source": [
    "ccsi = ccsi.loc[:, ['TIME', 'DATA_VALUE']].reset_index(drop=True)\n",
    "ccsi"
   ]
  },
  {
   "source": [
    "### DB연동"
   ],
   "cell_type": "markdown",
   "metadata": {}
  },
  {
   "cell_type": "code",
   "execution_count": 16,
   "metadata": {},
   "outputs": [],
   "source": [
    "conn = pymysql.connect(host = \"127.0.0.1\", user = [USER], passwd = [PASSWORD], db = [DATABASE])\n",
    "cur = conn.cursor()"
   ]
  },
  {
   "source": [
    "### DB table 생성"
   ],
   "cell_type": "markdown",
   "metadata": {}
  },
  {
   "cell_type": "code",
   "execution_count": 17,
   "metadata": {},
   "outputs": [
    {
     "output_type": "execute_result",
     "data": {
      "text/plain": [
       "0"
      ]
     },
     "metadata": {},
     "execution_count": 17
    }
   ],
   "source": [
    "\"\"\"\n",
    "CCSI 저장할 table 생성\n",
    "\"\"\"\n",
    "\n",
    "create_table_query = \"\"\"\n",
    "CREATE TABLE IF NOT EXISTS ccsi(\n",
    "    id BIGINT(7) NOT NULL AUTO_INCREMENT,\n",
    "    year bigint(4) NOT NULL,\n",
    "    month bigint(2) NOT NULL,\n",
    "    ccsi double,\n",
    "    primary key(id) )\n",
    "    charset=utf8mb4;\n",
    "\"\"\"\n",
    "cur.execute(create_table_query)\n",
    "# charset=utf8mb4; 유니코드 스트링 저장"
   ]
  },
  {
   "cell_type": "code",
   "execution_count": 18,
   "metadata": {},
   "outputs": [
    {
     "output_type": "execute_result",
     "data": {
      "text/plain": [
       "       0          1    2    3     4               5\n",
       "0     id  bigint(7)   NO  PRI  None  auto_increment\n",
       "1   year  bigint(4)   NO       None                \n",
       "2  month  bigint(2)   NO       None                \n",
       "3   ccsi     double  YES       None                "
      ],
      "text/html": "<div>\n<style scoped>\n    .dataframe tbody tr th:only-of-type {\n        vertical-align: middle;\n    }\n\n    .dataframe tbody tr th {\n        vertical-align: top;\n    }\n\n    .dataframe thead th {\n        text-align: right;\n    }\n</style>\n<table border=\"1\" class=\"dataframe\">\n  <thead>\n    <tr style=\"text-align: right;\">\n      <th></th>\n      <th>0</th>\n      <th>1</th>\n      <th>2</th>\n      <th>3</th>\n      <th>4</th>\n      <th>5</th>\n    </tr>\n  </thead>\n  <tbody>\n    <tr>\n      <th>0</th>\n      <td>id</td>\n      <td>bigint(7)</td>\n      <td>NO</td>\n      <td>PRI</td>\n      <td>None</td>\n      <td>auto_increment</td>\n    </tr>\n    <tr>\n      <th>1</th>\n      <td>year</td>\n      <td>bigint(4)</td>\n      <td>NO</td>\n      <td></td>\n      <td>None</td>\n      <td></td>\n    </tr>\n    <tr>\n      <th>2</th>\n      <td>month</td>\n      <td>bigint(2)</td>\n      <td>NO</td>\n      <td></td>\n      <td>None</td>\n      <td></td>\n    </tr>\n    <tr>\n      <th>3</th>\n      <td>ccsi</td>\n      <td>double</td>\n      <td>YES</td>\n      <td></td>\n      <td>None</td>\n      <td></td>\n    </tr>\n  </tbody>\n</table>\n</div>"
     },
     "metadata": {},
     "execution_count": 18
    }
   ],
   "source": [
    "cur.execute(\"desc ccsi\")\n",
    "table = cur.fetchall()\n",
    "pd.DataFrame(list(table))"
   ]
  },
  {
   "source": [
    "### CCSI 월별로 저장"
   ],
   "cell_type": "markdown",
   "metadata": {}
  },
  {
   "cell_type": "code",
   "execution_count": 19,
   "metadata": {},
   "outputs": [],
   "source": [
    "\"\"\"\n",
    "날짜에서 year, month 추출\n",
    "\"\"\"\n",
    "def extract_year_and_month(period):\n",
    "    year = period[0:4]\n",
    "    month = period[4:6]\n",
    "    return year, month\n"
   ]
  },
  {
   "cell_type": "code",
   "execution_count": 20,
   "metadata": {},
   "outputs": [
    {
     "output_type": "stream",
     "name": "stdout",
     "text": [
      " \n    Insert into ccsi (year, month, ccsi) values (2008, 7, 73.700000) ;\n    \n \n    Insert into ccsi (year, month, ccsi) values (2008, 8, 91.800000) ;\n    \n \n    Insert into ccsi (year, month, ccsi) values (2008, 9, 90.600000) ;\n    \n \n    Insert into ccsi (year, month, ccsi) values (2008, 10, 77.900000) ;\n    \n \n    Insert into ccsi (year, month, ccsi) values (2008, 11, 72.900000) ;\n    \n \n    Insert into ccsi (year, month, ccsi) values (2008, 12, 67.700000) ;\n    \n \n    Insert into ccsi (year, month, ccsi) values (2009, 1, 74.800000) ;\n    \n \n    Insert into ccsi (year, month, ccsi) values (2009, 2, 76.400000) ;\n    \n \n    Insert into ccsi (year, month, ccsi) values (2009, 3, 72.800000) ;\n    \n \n    Insert into ccsi (year, month, ccsi) values (2009, 4, 93.000000) ;\n    \n \n    Insert into ccsi (year, month, ccsi) values (2009, 5, 104.100000) ;\n    \n \n    Insert into ccsi (year, month, ccsi) values (2009, 6, 106.600000) ;\n    \n \n    Insert into ccsi (year, month, ccsi) values (2009, 7, 108.900000) ;\n    \n \n    Insert into ccsi (year, month, ccsi) values (2009, 8, 116.900000) ;\n    \n \n    Insert into ccsi (year, month, ccsi) values (2009, 9, 116.400000) ;\n    \n \n    Insert into ccsi (year, month, ccsi) values (2009, 10, 121.500000) ;\n    \n \n    Insert into ccsi (year, month, ccsi) values (2009, 11, 116.800000) ;\n    \n \n    Insert into ccsi (year, month, ccsi) values (2009, 12, 115.300000) ;\n    \n \n    Insert into ccsi (year, month, ccsi) values (2010, 1, 115.800000) ;\n    \n \n    Insert into ccsi (year, month, ccsi) values (2010, 2, 113.400000) ;\n    \n \n    Insert into ccsi (year, month, ccsi) values (2010, 3, 113.300000) ;\n    \n \n    Insert into ccsi (year, month, ccsi) values (2010, 4, 112.900000) ;\n    \n \n    Insert into ccsi (year, month, ccsi) values (2010, 5, 113.000000) ;\n    \n \n    Insert into ccsi (year, month, ccsi) values (2010, 6, 114.700000) ;\n    \n \n    Insert into ccsi (year, month, ccsi) values (2010, 7, 114.700000) ;\n    \n \n    Insert into ccsi (year, month, ccsi) values (2010, 8, 112.300000) ;\n    \n \n    Insert into ccsi (year, month, ccsi) values (2010, 9, 111.400000) ;\n    \n \n    Insert into ccsi (year, month, ccsi) values (2010, 10, 111.000000) ;\n    \n \n    Insert into ccsi (year, month, ccsi) values (2010, 11, 114.200000) ;\n    \n \n    Insert into ccsi (year, month, ccsi) values (2010, 12, 113.000000) ;\n    \n \n    Insert into ccsi (year, month, ccsi) values (2011, 1, 111.600000) ;\n    \n \n    Insert into ccsi (year, month, ccsi) values (2011, 2, 109.300000) ;\n    \n \n    Insert into ccsi (year, month, ccsi) values (2011, 3, 98.200000) ;\n    \n \n    Insert into ccsi (year, month, ccsi) values (2011, 4, 100.300000) ;\n    \n \n    Insert into ccsi (year, month, ccsi) values (2011, 5, 104.000000) ;\n    \n \n    Insert into ccsi (year, month, ccsi) values (2011, 6, 101.600000) ;\n    \n \n    Insert into ccsi (year, month, ccsi) values (2011, 7, 102.000000) ;\n    \n \n    Insert into ccsi (year, month, ccsi) values (2011, 8, 97.300000) ;\n    \n \n    Insert into ccsi (year, month, ccsi) values (2011, 9, 96.600000) ;\n    \n \n    Insert into ccsi (year, month, ccsi) values (2011, 10, 99.300000) ;\n    \n \n    Insert into ccsi (year, month, ccsi) values (2011, 11, 103.800000) ;\n    \n \n    Insert into ccsi (year, month, ccsi) values (2011, 12, 97.700000) ;\n    \n \n    Insert into ccsi (year, month, ccsi) values (2012, 1, 96.400000) ;\n    \n \n    Insert into ccsi (year, month, ccsi) values (2012, 2, 100.700000) ;\n    \n \n    Insert into ccsi (year, month, ccsi) values (2012, 3, 101.300000) ;\n    \n \n    Insert into ccsi (year, month, ccsi) values (2012, 4, 105.600000) ;\n    \n \n    Insert into ccsi (year, month, ccsi) values (2012, 5, 105.900000) ;\n    \n \n    Insert into ccsi (year, month, ccsi) values (2012, 6, 99.800000) ;\n    \n \n    Insert into ccsi (year, month, ccsi) values (2012, 7, 98.500000) ;\n    \n \n    Insert into ccsi (year, month, ccsi) values (2012, 8, 98.900000) ;\n    \n \n    Insert into ccsi (year, month, ccsi) values (2012, 9, 96.900000) ;\n    \n \n    Insert into ccsi (year, month, ccsi) values (2012, 10, 98.200000) ;\n    \n \n    Insert into ccsi (year, month, ccsi) values (2012, 11, 98.400000) ;\n    \n \n    Insert into ccsi (year, month, ccsi) values (2012, 12, 97.300000) ;\n    \n \n    Insert into ccsi (year, month, ccsi) values (2013, 1, 100.800000) ;\n    \n \n    Insert into ccsi (year, month, ccsi) values (2013, 2, 100.100000) ;\n    \n \n    Insert into ccsi (year, month, ccsi) values (2013, 3, 103.200000) ;\n    \n \n    Insert into ccsi (year, month, ccsi) values (2013, 4, 100.500000) ;\n    \n \n    Insert into ccsi (year, month, ccsi) values (2013, 5, 103.000000) ;\n    \n \n    Insert into ccsi (year, month, ccsi) values (2013, 6, 103.800000) ;\n    \n \n    Insert into ccsi (year, month, ccsi) values (2013, 7, 103.500000) ;\n    \n \n    Insert into ccsi (year, month, ccsi) values (2013, 8, 103.800000) ;\n    \n \n    Insert into ccsi (year, month, ccsi) values (2013, 9, 100.300000) ;\n    \n \n    Insert into ccsi (year, month, ccsi) values (2013, 10, 105.500000) ;\n    \n \n    Insert into ccsi (year, month, ccsi) values (2013, 11, 107.100000) ;\n    \n \n    Insert into ccsi (year, month, ccsi) values (2013, 12, 106.300000) ;\n    \n \n    Insert into ccsi (year, month, ccsi) values (2014, 1, 109.000000) ;\n    \n \n    Insert into ccsi (year, month, ccsi) values (2014, 2, 107.900000) ;\n    \n \n    Insert into ccsi (year, month, ccsi) values (2014, 3, 108.500000) ;\n    \n \n    Insert into ccsi (year, month, ccsi) values (2014, 4, 108.400000) ;\n    \n \n    Insert into ccsi (year, month, ccsi) values (2014, 5, 104.200000) ;\n    \n \n    Insert into ccsi (year, month, ccsi) values (2014, 6, 106.900000) ;\n    \n \n    Insert into ccsi (year, month, ccsi) values (2014, 7, 104.500000) ;\n    \n \n    Insert into ccsi (year, month, ccsi) values (2014, 8, 106.300000) ;\n    \n \n    Insert into ccsi (year, month, ccsi) values (2014, 9, 107.200000) ;\n    \n \n    Insert into ccsi (year, month, ccsi) values (2014, 10, 104.500000) ;\n    \n \n    Insert into ccsi (year, month, ccsi) values (2014, 11, 102.300000) ;\n    \n \n    Insert into ccsi (year, month, ccsi) values (2014, 12, 100.600000) ;\n    \n \n    Insert into ccsi (year, month, ccsi) values (2015, 1, 102.100000) ;\n    \n \n    Insert into ccsi (year, month, ccsi) values (2015, 2, 102.800000) ;\n    \n \n    Insert into ccsi (year, month, ccsi) values (2015, 3, 100.900000) ;\n    \n \n    Insert into ccsi (year, month, ccsi) values (2015, 4, 103.700000) ;\n    \n \n    Insert into ccsi (year, month, ccsi) values (2015, 5, 105.000000) ;\n    \n \n    Insert into ccsi (year, month, ccsi) values (2015, 6, 97.700000) ;\n    \n \n    Insert into ccsi (year, month, ccsi) values (2015, 7, 99.800000) ;\n    \n \n    Insert into ccsi (year, month, ccsi) values (2015, 8, 101.100000) ;\n    \n \n    Insert into ccsi (year, month, ccsi) values (2015, 9, 102.300000) ;\n    \n \n    Insert into ccsi (year, month, ccsi) values (2015, 10, 104.800000) ;\n    \n \n    Insert into ccsi (year, month, ccsi) values (2015, 11, 105.600000) ;\n    \n \n    Insert into ccsi (year, month, ccsi) values (2015, 12, 102.200000) ;\n    \n \n    Insert into ccsi (year, month, ccsi) values (2016, 1, 99.500000) ;\n    \n \n    Insert into ccsi (year, month, ccsi) values (2016, 2, 97.200000) ;\n    \n \n    Insert into ccsi (year, month, ccsi) values (2016, 3, 99.500000) ;\n    \n \n    Insert into ccsi (year, month, ccsi) values (2016, 4, 101.100000) ;\n    \n \n    Insert into ccsi (year, month, ccsi) values (2016, 5, 98.600000) ;\n    \n \n    Insert into ccsi (year, month, ccsi) values (2016, 6, 98.200000) ;\n    \n \n    Insert into ccsi (year, month, ccsi) values (2016, 7, 100.500000) ;\n    \n \n    Insert into ccsi (year, month, ccsi) values (2016, 8, 101.400000) ;\n    \n \n    Insert into ccsi (year, month, ccsi) values (2016, 9, 101.300000) ;\n    \n \n    Insert into ccsi (year, month, ccsi) values (2016, 10, 101.600000) ;\n    \n \n    Insert into ccsi (year, month, ccsi) values (2016, 11, 94.900000) ;\n    \n \n    Insert into ccsi (year, month, ccsi) values (2016, 12, 93.200000) ;\n    \n \n    Insert into ccsi (year, month, ccsi) values (2017, 1, 92.300000) ;\n    \n \n    Insert into ccsi (year, month, ccsi) values (2017, 2, 93.500000) ;\n    \n \n    Insert into ccsi (year, month, ccsi) values (2017, 3, 96.000000) ;\n    \n \n    Insert into ccsi (year, month, ccsi) values (2017, 4, 100.700000) ;\n    \n \n    Insert into ccsi (year, month, ccsi) values (2017, 5, 107.900000) ;\n    \n \n    Insert into ccsi (year, month, ccsi) values (2017, 6, 111.200000) ;\n    \n \n    Insert into ccsi (year, month, ccsi) values (2017, 7, 111.300000) ;\n    \n \n    Insert into ccsi (year, month, ccsi) values (2017, 8, 110.000000) ;\n    \n \n    Insert into ccsi (year, month, ccsi) values (2017, 9, 107.600000) ;\n    \n \n    Insert into ccsi (year, month, ccsi) values (2017, 10, 109.200000) ;\n    \n \n    Insert into ccsi (year, month, ccsi) values (2017, 11, 112.400000) ;\n    \n \n    Insert into ccsi (year, month, ccsi) values (2017, 12, 111.000000) ;\n    \n \n    Insert into ccsi (year, month, ccsi) values (2018, 1, 110.300000) ;\n    \n \n    Insert into ccsi (year, month, ccsi) values (2018, 2, 108.400000) ;\n    \n \n    Insert into ccsi (year, month, ccsi) values (2018, 3, 108.300000) ;\n    \n \n    Insert into ccsi (year, month, ccsi) values (2018, 4, 107.300000) ;\n    \n \n    Insert into ccsi (year, month, ccsi) values (2018, 5, 108.200000) ;\n    \n \n    Insert into ccsi (year, month, ccsi) values (2018, 6, 105.600000) ;\n    \n \n    Insert into ccsi (year, month, ccsi) values (2018, 7, 100.900000) ;\n    \n \n    Insert into ccsi (year, month, ccsi) values (2018, 8, 99.000000) ;\n    \n \n    Insert into ccsi (year, month, ccsi) values (2018, 9, 100.100000) ;\n    \n \n    Insert into ccsi (year, month, ccsi) values (2018, 10, 99.300000) ;\n    \n \n    Insert into ccsi (year, month, ccsi) values (2018, 11, 95.700000) ;\n    \n \n    Insert into ccsi (year, month, ccsi) values (2018, 12, 96.900000) ;\n    \n \n    Insert into ccsi (year, month, ccsi) values (2019, 1, 97.500000) ;\n    \n \n    Insert into ccsi (year, month, ccsi) values (2019, 2, 99.600000) ;\n    \n \n    Insert into ccsi (year, month, ccsi) values (2019, 3, 99.800000) ;\n    \n \n    Insert into ccsi (year, month, ccsi) values (2019, 4, 101.700000) ;\n    \n \n    Insert into ccsi (year, month, ccsi) values (2019, 5, 97.900000) ;\n    \n \n    Insert into ccsi (year, month, ccsi) values (2019, 6, 97.600000) ;\n    \n \n    Insert into ccsi (year, month, ccsi) values (2019, 7, 95.900000) ;\n    \n \n    Insert into ccsi (year, month, ccsi) values (2019, 8, 92.400000) ;\n    \n \n    Insert into ccsi (year, month, ccsi) values (2019, 9, 97.000000) ;\n    \n \n    Insert into ccsi (year, month, ccsi) values (2019, 10, 98.600000) ;\n    \n \n    Insert into ccsi (year, month, ccsi) values (2019, 11, 101.000000) ;\n    \n \n    Insert into ccsi (year, month, ccsi) values (2019, 12, 100.500000) ;\n    \n \n    Insert into ccsi (year, month, ccsi) values (2020, 1, 104.200000) ;\n    \n \n    Insert into ccsi (year, month, ccsi) values (2020, 2, 96.900000) ;\n    \n \n    Insert into ccsi (year, month, ccsi) values (2020, 3, 78.400000) ;\n    \n \n    Insert into ccsi (year, month, ccsi) values (2020, 4, 70.800000) ;\n    \n \n    Insert into ccsi (year, month, ccsi) values (2020, 5, 77.600000) ;\n    \n \n    Insert into ccsi (year, month, ccsi) values (2020, 6, 81.800000) ;\n    \n \n    Insert into ccsi (year, month, ccsi) values (2020, 7, 84.200000) ;\n    \n \n    Insert into ccsi (year, month, ccsi) values (2020, 8, 88.200000) ;\n    \n \n    Insert into ccsi (year, month, ccsi) values (2020, 9, 79.400000) ;\n    \n"
     ]
    }
   ],
   "source": [
    "\"\"\"\n",
    "db table에 저장\n",
    "\"\"\"\n",
    "for i in range(len(ccsi)):\n",
    "    query = \"\"\" \n",
    "    Insert into ccsi (year, month, ccsi) values (%d, %d, %f) ;\n",
    "    \"\"\"\n",
    "    year, month = extract_year_and_month(ccsi.iloc[i].TIME)\n",
    "    ccsi_value = ccsi.iloc[i].DATA_VALUE\n",
    "\n",
    "    mystring = (query % (int(year), int(month), float(ccsi_value)))\n",
    "    print(mystring)\n",
    "    cur.execute(mystring)"
   ]
  },
  {
   "cell_type": "code",
   "execution_count": 21,
   "metadata": {},
   "outputs": [
    {
     "output_type": "execute_result",
     "data": {
      "text/plain": [
       "       0     1   2     3\n",
       "0      1  2008   7  73.7\n",
       "1      2  2008   8  91.8\n",
       "2      3  2008   9  90.6\n",
       "3      4  2008  10  77.9\n",
       "4      5  2008  11  72.9\n",
       "..   ...   ...  ..   ...\n",
       "142  143  2020   5  77.6\n",
       "143  144  2020   6  81.8\n",
       "144  145  2020   7  84.2\n",
       "145  146  2020   8  88.2\n",
       "146  147  2020   9  79.4\n",
       "\n",
       "[147 rows x 4 columns]"
      ],
      "text/html": "<div>\n<style scoped>\n    .dataframe tbody tr th:only-of-type {\n        vertical-align: middle;\n    }\n\n    .dataframe tbody tr th {\n        vertical-align: top;\n    }\n\n    .dataframe thead th {\n        text-align: right;\n    }\n</style>\n<table border=\"1\" class=\"dataframe\">\n  <thead>\n    <tr style=\"text-align: right;\">\n      <th></th>\n      <th>0</th>\n      <th>1</th>\n      <th>2</th>\n      <th>3</th>\n    </tr>\n  </thead>\n  <tbody>\n    <tr>\n      <th>0</th>\n      <td>1</td>\n      <td>2008</td>\n      <td>7</td>\n      <td>73.7</td>\n    </tr>\n    <tr>\n      <th>1</th>\n      <td>2</td>\n      <td>2008</td>\n      <td>8</td>\n      <td>91.8</td>\n    </tr>\n    <tr>\n      <th>2</th>\n      <td>3</td>\n      <td>2008</td>\n      <td>9</td>\n      <td>90.6</td>\n    </tr>\n    <tr>\n      <th>3</th>\n      <td>4</td>\n      <td>2008</td>\n      <td>10</td>\n      <td>77.9</td>\n    </tr>\n    <tr>\n      <th>4</th>\n      <td>5</td>\n      <td>2008</td>\n      <td>11</td>\n      <td>72.9</td>\n    </tr>\n    <tr>\n      <th>...</th>\n      <td>...</td>\n      <td>...</td>\n      <td>...</td>\n      <td>...</td>\n    </tr>\n    <tr>\n      <th>142</th>\n      <td>143</td>\n      <td>2020</td>\n      <td>5</td>\n      <td>77.6</td>\n    </tr>\n    <tr>\n      <th>143</th>\n      <td>144</td>\n      <td>2020</td>\n      <td>6</td>\n      <td>81.8</td>\n    </tr>\n    <tr>\n      <th>144</th>\n      <td>145</td>\n      <td>2020</td>\n      <td>7</td>\n      <td>84.2</td>\n    </tr>\n    <tr>\n      <th>145</th>\n      <td>146</td>\n      <td>2020</td>\n      <td>8</td>\n      <td>88.2</td>\n    </tr>\n    <tr>\n      <th>146</th>\n      <td>147</td>\n      <td>2020</td>\n      <td>9</td>\n      <td>79.4</td>\n    </tr>\n  </tbody>\n</table>\n<p>147 rows × 4 columns</p>\n</div>"
     },
     "metadata": {},
     "execution_count": 21
    }
   ],
   "source": [
    "# 확인\n",
    "query = \"\"\" \n",
    "select * from ccsi ;\n",
    "\"\"\"\n",
    "cur.execute(query)\n",
    "tmp = pd.DataFrame(list(cur.fetchall()))\n",
    "tmp"
   ]
  },
  {
   "cell_type": "code",
   "execution_count": 22,
   "metadata": {},
   "outputs": [],
   "source": [
    "conn.commit()\n",
    "cur.close()\n",
    "conn.close()"
   ]
  }
 ]
}