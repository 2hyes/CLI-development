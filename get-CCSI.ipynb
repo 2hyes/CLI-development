{
 "metadata": {
  "language_info": {
   "codemirror_mode": {
    "name": "ipython",
    "version": 3
   },
   "file_extension": ".py",
   "mimetype": "text/x-python",
   "name": "python",
   "nbconvert_exporter": "python",
   "pygments_lexer": "ipython3",
   "version": "3.8.3-final"
  },
  "orig_nbformat": 2,
  "kernelspec": {
   "name": "Python 3.8.3 64-bit ('base': conda)",
   "display_name": "Python 3.8.3 64-bit ('base': conda)",
   "metadata": {
    "interpreter": {
     "hash": "e2f398e37327d85d07ec8caa0fdb6823cd969aad32d55c6321ee9404eea8cdac"
    }
   }
  }
 },
 "nbformat": 4,
 "nbformat_minor": 2,
 "cells": [
  {
   "cell_type": "code",
   "execution_count": 1,
   "metadata": {},
   "outputs": [],
   "source": [
    "from urllib.request import urlopen\n",
    "from bs4 import BeautifulSoup\n",
    "import pandas as pd\n",
    "import json\n",
    "import pymysql"
   ]
  },
  {
   "source": [
    "### 한국은행 OpenAPI 조회 서비스 사용 \n",
    "http://ecos.bok.or.kr/jsp/openapi/OpenApiController.jsp?t=main"
   ],
   "cell_type": "markdown",
   "metadata": {}
  },
  {
   "source": [
    "\"\"\"\n",
    "한국은행 openAPI를 활용하여\n",
    "소비자동향조사 받아옴\n",
    "\"\"\"\n",
    "def getEcosAPI(API_KEY, code, max, start_month, end_month):\n",
    "    url = 'http://ecos.bok.or.kr/api/StatisticSearch/%s/json/kr/1/%s/%s/MM/%s/%s/?/?/?/' % (API_KEY, max, code, start_month, end_month)\n",
    "    result = urlopen(url)\n",
    "    html = result.read()\n",
    "    \n",
    "    return json.loads(html)\n"
   ],
   "cell_type": "code",
   "metadata": {},
   "execution_count": 2,
   "outputs": []
  },
  {
   "cell_type": "code",
   "execution_count": 3,
   "metadata": {},
   "outputs": [],
   "source": [
    "API_KEY = \"YOUR_API_KEY\"\n",
    "\n",
    "data = getEcosAPI(API_KEY, code = '040Y002', max = 100000, start_month = '201801', end_month = '202010')"
   ]
  },
  {
   "source": [
    "### 소비자심리지수 구하기\n",
    "ITEM_CODE1 = 'FME'"
   ],
   "cell_type": "markdown",
   "metadata": {}
  },
  {
   "cell_type": "code",
   "execution_count": 4,
   "metadata": {},
   "outputs": [],
   "source": [
    "data = data[\"StatisticSearch\"][\"row\"]\n",
    "produce = pd.DataFrame(data)"
   ]
  },
  {
   "cell_type": "code",
   "execution_count": 5,
   "metadata": {},
   "outputs": [
    {
     "output_type": "execute_result",
     "data": {
      "text/plain": [
       "      UNIT_NAME                             STAT_NAME ITEM_CODE1 STAT_CODE  \\\n",
       "17424            9.2.1 소비자동향조사(한국은행, 전국)(월)(2008년9월~)        FME   040Y002   \n",
       "17425            9.2.1 소비자동향조사(한국은행, 전국)(월)(2008년9월~)        FME   040Y002   \n",
       "17426            9.2.1 소비자동향조사(한국은행, 전국)(월)(2008년9월~)        FME   040Y002   \n",
       "17427            9.2.1 소비자동향조사(한국은행, 전국)(월)(2008년9월~)        FME   040Y002   \n",
       "17428            9.2.1 소비자동향조사(한국은행, 전국)(월)(2008년9월~)        FME   040Y002   \n",
       "17429            9.2.1 소비자동향조사(한국은행, 전국)(월)(2008년9월~)        FME   040Y002   \n",
       "17430            9.2.1 소비자동향조사(한국은행, 전국)(월)(2008년9월~)        FME   040Y002   \n",
       "17431            9.2.1 소비자동향조사(한국은행, 전국)(월)(2008년9월~)        FME   040Y002   \n",
       "17432            9.2.1 소비자동향조사(한국은행, 전국)(월)(2008년9월~)        FME   040Y002   \n",
       "17433            9.2.1 소비자동향조사(한국은행, 전국)(월)(2008년9월~)        FME   040Y002   \n",
       "17434            9.2.1 소비자동향조사(한국은행, 전국)(월)(2008년9월~)        FME   040Y002   \n",
       "17435            9.2.1 소비자동향조사(한국은행, 전국)(월)(2008년9월~)        FME   040Y002   \n",
       "17436            9.2.1 소비자동향조사(한국은행, 전국)(월)(2008년9월~)        FME   040Y002   \n",
       "17437            9.2.1 소비자동향조사(한국은행, 전국)(월)(2008년9월~)        FME   040Y002   \n",
       "17438            9.2.1 소비자동향조사(한국은행, 전국)(월)(2008년9월~)        FME   040Y002   \n",
       "17439            9.2.1 소비자동향조사(한국은행, 전국)(월)(2008년9월~)        FME   040Y002   \n",
       "17440            9.2.1 소비자동향조사(한국은행, 전국)(월)(2008년9월~)        FME   040Y002   \n",
       "17441            9.2.1 소비자동향조사(한국은행, 전국)(월)(2008년9월~)        FME   040Y002   \n",
       "17442            9.2.1 소비자동향조사(한국은행, 전국)(월)(2008년9월~)        FME   040Y002   \n",
       "17443            9.2.1 소비자동향조사(한국은행, 전국)(월)(2008년9월~)        FME   040Y002   \n",
       "17444            9.2.1 소비자동향조사(한국은행, 전국)(월)(2008년9월~)        FME   040Y002   \n",
       "17445            9.2.1 소비자동향조사(한국은행, 전국)(월)(2008년9월~)        FME   040Y002   \n",
       "17446            9.2.1 소비자동향조사(한국은행, 전국)(월)(2008년9월~)        FME   040Y002   \n",
       "17447            9.2.1 소비자동향조사(한국은행, 전국)(월)(2008년9월~)        FME   040Y002   \n",
       "17448            9.2.1 소비자동향조사(한국은행, 전국)(월)(2008년9월~)        FME   040Y002   \n",
       "17449            9.2.1 소비자동향조사(한국은행, 전국)(월)(2008년9월~)        FME   040Y002   \n",
       "17450            9.2.1 소비자동향조사(한국은행, 전국)(월)(2008년9월~)        FME   040Y002   \n",
       "17451            9.2.1 소비자동향조사(한국은행, 전국)(월)(2008년9월~)        FME   040Y002   \n",
       "17452            9.2.1 소비자동향조사(한국은행, 전국)(월)(2008년9월~)        FME   040Y002   \n",
       "17453            9.2.1 소비자동향조사(한국은행, 전국)(월)(2008년9월~)        FME   040Y002   \n",
       "17454            9.2.1 소비자동향조사(한국은행, 전국)(월)(2008년9월~)        FME   040Y002   \n",
       "17455            9.2.1 소비자동향조사(한국은행, 전국)(월)(2008년9월~)        FME   040Y002   \n",
       "17456            9.2.1 소비자동향조사(한국은행, 전국)(월)(2008년9월~)        FME   040Y002   \n",
       "\n",
       "      ITEM_CODE2 ITEM_CODE3 ITEM_NAME1 ITEM_NAME2 DATA_VALUE ITEM_NAME3  \\\n",
       "17424      99988               소비자심리지수         전체      110.3              \n",
       "17425      99988               소비자심리지수         전체      108.4              \n",
       "17426      99988               소비자심리지수         전체      108.3              \n",
       "17427      99988               소비자심리지수         전체      107.3              \n",
       "17428      99988               소비자심리지수         전체      108.2              \n",
       "17429      99988               소비자심리지수         전체      105.6              \n",
       "17430      99988               소비자심리지수         전체      100.9              \n",
       "17431      99988               소비자심리지수         전체         99              \n",
       "17432      99988               소비자심리지수         전체      100.1              \n",
       "17433      99988               소비자심리지수         전체       99.3              \n",
       "17434      99988               소비자심리지수         전체       95.7              \n",
       "17435      99988               소비자심리지수         전체       96.9              \n",
       "17436      99988               소비자심리지수         전체       97.5              \n",
       "17437      99988               소비자심리지수         전체       99.6              \n",
       "17438      99988               소비자심리지수         전체       99.8              \n",
       "17439      99988               소비자심리지수         전체      101.7              \n",
       "17440      99988               소비자심리지수         전체       97.9              \n",
       "17441      99988               소비자심리지수         전체       97.6              \n",
       "17442      99988               소비자심리지수         전체       95.9              \n",
       "17443      99988               소비자심리지수         전체       92.4              \n",
       "17444      99988               소비자심리지수         전체         97              \n",
       "17445      99988               소비자심리지수         전체       98.6              \n",
       "17446      99988               소비자심리지수         전체        101              \n",
       "17447      99988               소비자심리지수         전체      100.5              \n",
       "17448      99988               소비자심리지수         전체      104.2              \n",
       "17449      99988               소비자심리지수         전체       96.9              \n",
       "17450      99988               소비자심리지수         전체       78.4              \n",
       "17451      99988               소비자심리지수         전체       70.8              \n",
       "17452      99988               소비자심리지수         전체       77.6              \n",
       "17453      99988               소비자심리지수         전체       81.8              \n",
       "17454      99988               소비자심리지수         전체       84.2              \n",
       "17455      99988               소비자심리지수         전체       88.2              \n",
       "17456      99988               소비자심리지수         전체       79.4              \n",
       "\n",
       "         TIME  \n",
       "17424  201801  \n",
       "17425  201802  \n",
       "17426  201803  \n",
       "17427  201804  \n",
       "17428  201805  \n",
       "17429  201806  \n",
       "17430  201807  \n",
       "17431  201808  \n",
       "17432  201809  \n",
       "17433  201810  \n",
       "17434  201811  \n",
       "17435  201812  \n",
       "17436  201901  \n",
       "17437  201902  \n",
       "17438  201903  \n",
       "17439  201904  \n",
       "17440  201905  \n",
       "17441  201906  \n",
       "17442  201907  \n",
       "17443  201908  \n",
       "17444  201909  \n",
       "17445  201910  \n",
       "17446  201911  \n",
       "17447  201912  \n",
       "17448  202001  \n",
       "17449  202002  \n",
       "17450  202003  \n",
       "17451  202004  \n",
       "17452  202005  \n",
       "17453  202006  \n",
       "17454  202007  \n",
       "17455  202008  \n",
       "17456  202009  "
      ],
      "text/html": "<div>\n<style scoped>\n    .dataframe tbody tr th:only-of-type {\n        vertical-align: middle;\n    }\n\n    .dataframe tbody tr th {\n        vertical-align: top;\n    }\n\n    .dataframe thead th {\n        text-align: right;\n    }\n</style>\n<table border=\"1\" class=\"dataframe\">\n  <thead>\n    <tr style=\"text-align: right;\">\n      <th></th>\n      <th>UNIT_NAME</th>\n      <th>STAT_NAME</th>\n      <th>ITEM_CODE1</th>\n      <th>STAT_CODE</th>\n      <th>ITEM_CODE2</th>\n      <th>ITEM_CODE3</th>\n      <th>ITEM_NAME1</th>\n      <th>ITEM_NAME2</th>\n      <th>DATA_VALUE</th>\n      <th>ITEM_NAME3</th>\n      <th>TIME</th>\n    </tr>\n  </thead>\n  <tbody>\n    <tr>\n      <th>17424</th>\n      <td></td>\n      <td>9.2.1 소비자동향조사(한국은행, 전국)(월)(2008년9월~)</td>\n      <td>FME</td>\n      <td>040Y002</td>\n      <td>99988</td>\n      <td></td>\n      <td>소비자심리지수</td>\n      <td>전체</td>\n      <td>110.3</td>\n      <td></td>\n      <td>201801</td>\n    </tr>\n    <tr>\n      <th>17425</th>\n      <td></td>\n      <td>9.2.1 소비자동향조사(한국은행, 전국)(월)(2008년9월~)</td>\n      <td>FME</td>\n      <td>040Y002</td>\n      <td>99988</td>\n      <td></td>\n      <td>소비자심리지수</td>\n      <td>전체</td>\n      <td>108.4</td>\n      <td></td>\n      <td>201802</td>\n    </tr>\n    <tr>\n      <th>17426</th>\n      <td></td>\n      <td>9.2.1 소비자동향조사(한국은행, 전국)(월)(2008년9월~)</td>\n      <td>FME</td>\n      <td>040Y002</td>\n      <td>99988</td>\n      <td></td>\n      <td>소비자심리지수</td>\n      <td>전체</td>\n      <td>108.3</td>\n      <td></td>\n      <td>201803</td>\n    </tr>\n    <tr>\n      <th>17427</th>\n      <td></td>\n      <td>9.2.1 소비자동향조사(한국은행, 전국)(월)(2008년9월~)</td>\n      <td>FME</td>\n      <td>040Y002</td>\n      <td>99988</td>\n      <td></td>\n      <td>소비자심리지수</td>\n      <td>전체</td>\n      <td>107.3</td>\n      <td></td>\n      <td>201804</td>\n    </tr>\n    <tr>\n      <th>17428</th>\n      <td></td>\n      <td>9.2.1 소비자동향조사(한국은행, 전국)(월)(2008년9월~)</td>\n      <td>FME</td>\n      <td>040Y002</td>\n      <td>99988</td>\n      <td></td>\n      <td>소비자심리지수</td>\n      <td>전체</td>\n      <td>108.2</td>\n      <td></td>\n      <td>201805</td>\n    </tr>\n    <tr>\n      <th>17429</th>\n      <td></td>\n      <td>9.2.1 소비자동향조사(한국은행, 전국)(월)(2008년9월~)</td>\n      <td>FME</td>\n      <td>040Y002</td>\n      <td>99988</td>\n      <td></td>\n      <td>소비자심리지수</td>\n      <td>전체</td>\n      <td>105.6</td>\n      <td></td>\n      <td>201806</td>\n    </tr>\n    <tr>\n      <th>17430</th>\n      <td></td>\n      <td>9.2.1 소비자동향조사(한국은행, 전국)(월)(2008년9월~)</td>\n      <td>FME</td>\n      <td>040Y002</td>\n      <td>99988</td>\n      <td></td>\n      <td>소비자심리지수</td>\n      <td>전체</td>\n      <td>100.9</td>\n      <td></td>\n      <td>201807</td>\n    </tr>\n    <tr>\n      <th>17431</th>\n      <td></td>\n      <td>9.2.1 소비자동향조사(한국은행, 전국)(월)(2008년9월~)</td>\n      <td>FME</td>\n      <td>040Y002</td>\n      <td>99988</td>\n      <td></td>\n      <td>소비자심리지수</td>\n      <td>전체</td>\n      <td>99</td>\n      <td></td>\n      <td>201808</td>\n    </tr>\n    <tr>\n      <th>17432</th>\n      <td></td>\n      <td>9.2.1 소비자동향조사(한국은행, 전국)(월)(2008년9월~)</td>\n      <td>FME</td>\n      <td>040Y002</td>\n      <td>99988</td>\n      <td></td>\n      <td>소비자심리지수</td>\n      <td>전체</td>\n      <td>100.1</td>\n      <td></td>\n      <td>201809</td>\n    </tr>\n    <tr>\n      <th>17433</th>\n      <td></td>\n      <td>9.2.1 소비자동향조사(한국은행, 전국)(월)(2008년9월~)</td>\n      <td>FME</td>\n      <td>040Y002</td>\n      <td>99988</td>\n      <td></td>\n      <td>소비자심리지수</td>\n      <td>전체</td>\n      <td>99.3</td>\n      <td></td>\n      <td>201810</td>\n    </tr>\n    <tr>\n      <th>17434</th>\n      <td></td>\n      <td>9.2.1 소비자동향조사(한국은행, 전국)(월)(2008년9월~)</td>\n      <td>FME</td>\n      <td>040Y002</td>\n      <td>99988</td>\n      <td></td>\n      <td>소비자심리지수</td>\n      <td>전체</td>\n      <td>95.7</td>\n      <td></td>\n      <td>201811</td>\n    </tr>\n    <tr>\n      <th>17435</th>\n      <td></td>\n      <td>9.2.1 소비자동향조사(한국은행, 전국)(월)(2008년9월~)</td>\n      <td>FME</td>\n      <td>040Y002</td>\n      <td>99988</td>\n      <td></td>\n      <td>소비자심리지수</td>\n      <td>전체</td>\n      <td>96.9</td>\n      <td></td>\n      <td>201812</td>\n    </tr>\n    <tr>\n      <th>17436</th>\n      <td></td>\n      <td>9.2.1 소비자동향조사(한국은행, 전국)(월)(2008년9월~)</td>\n      <td>FME</td>\n      <td>040Y002</td>\n      <td>99988</td>\n      <td></td>\n      <td>소비자심리지수</td>\n      <td>전체</td>\n      <td>97.5</td>\n      <td></td>\n      <td>201901</td>\n    </tr>\n    <tr>\n      <th>17437</th>\n      <td></td>\n      <td>9.2.1 소비자동향조사(한국은행, 전국)(월)(2008년9월~)</td>\n      <td>FME</td>\n      <td>040Y002</td>\n      <td>99988</td>\n      <td></td>\n      <td>소비자심리지수</td>\n      <td>전체</td>\n      <td>99.6</td>\n      <td></td>\n      <td>201902</td>\n    </tr>\n    <tr>\n      <th>17438</th>\n      <td></td>\n      <td>9.2.1 소비자동향조사(한국은행, 전국)(월)(2008년9월~)</td>\n      <td>FME</td>\n      <td>040Y002</td>\n      <td>99988</td>\n      <td></td>\n      <td>소비자심리지수</td>\n      <td>전체</td>\n      <td>99.8</td>\n      <td></td>\n      <td>201903</td>\n    </tr>\n    <tr>\n      <th>17439</th>\n      <td></td>\n      <td>9.2.1 소비자동향조사(한국은행, 전국)(월)(2008년9월~)</td>\n      <td>FME</td>\n      <td>040Y002</td>\n      <td>99988</td>\n      <td></td>\n      <td>소비자심리지수</td>\n      <td>전체</td>\n      <td>101.7</td>\n      <td></td>\n      <td>201904</td>\n    </tr>\n    <tr>\n      <th>17440</th>\n      <td></td>\n      <td>9.2.1 소비자동향조사(한국은행, 전국)(월)(2008년9월~)</td>\n      <td>FME</td>\n      <td>040Y002</td>\n      <td>99988</td>\n      <td></td>\n      <td>소비자심리지수</td>\n      <td>전체</td>\n      <td>97.9</td>\n      <td></td>\n      <td>201905</td>\n    </tr>\n    <tr>\n      <th>17441</th>\n      <td></td>\n      <td>9.2.1 소비자동향조사(한국은행, 전국)(월)(2008년9월~)</td>\n      <td>FME</td>\n      <td>040Y002</td>\n      <td>99988</td>\n      <td></td>\n      <td>소비자심리지수</td>\n      <td>전체</td>\n      <td>97.6</td>\n      <td></td>\n      <td>201906</td>\n    </tr>\n    <tr>\n      <th>17442</th>\n      <td></td>\n      <td>9.2.1 소비자동향조사(한국은행, 전국)(월)(2008년9월~)</td>\n      <td>FME</td>\n      <td>040Y002</td>\n      <td>99988</td>\n      <td></td>\n      <td>소비자심리지수</td>\n      <td>전체</td>\n      <td>95.9</td>\n      <td></td>\n      <td>201907</td>\n    </tr>\n    <tr>\n      <th>17443</th>\n      <td></td>\n      <td>9.2.1 소비자동향조사(한국은행, 전국)(월)(2008년9월~)</td>\n      <td>FME</td>\n      <td>040Y002</td>\n      <td>99988</td>\n      <td></td>\n      <td>소비자심리지수</td>\n      <td>전체</td>\n      <td>92.4</td>\n      <td></td>\n      <td>201908</td>\n    </tr>\n    <tr>\n      <th>17444</th>\n      <td></td>\n      <td>9.2.1 소비자동향조사(한국은행, 전국)(월)(2008년9월~)</td>\n      <td>FME</td>\n      <td>040Y002</td>\n      <td>99988</td>\n      <td></td>\n      <td>소비자심리지수</td>\n      <td>전체</td>\n      <td>97</td>\n      <td></td>\n      <td>201909</td>\n    </tr>\n    <tr>\n      <th>17445</th>\n      <td></td>\n      <td>9.2.1 소비자동향조사(한국은행, 전국)(월)(2008년9월~)</td>\n      <td>FME</td>\n      <td>040Y002</td>\n      <td>99988</td>\n      <td></td>\n      <td>소비자심리지수</td>\n      <td>전체</td>\n      <td>98.6</td>\n      <td></td>\n      <td>201910</td>\n    </tr>\n    <tr>\n      <th>17446</th>\n      <td></td>\n      <td>9.2.1 소비자동향조사(한국은행, 전국)(월)(2008년9월~)</td>\n      <td>FME</td>\n      <td>040Y002</td>\n      <td>99988</td>\n      <td></td>\n      <td>소비자심리지수</td>\n      <td>전체</td>\n      <td>101</td>\n      <td></td>\n      <td>201911</td>\n    </tr>\n    <tr>\n      <th>17447</th>\n      <td></td>\n      <td>9.2.1 소비자동향조사(한국은행, 전국)(월)(2008년9월~)</td>\n      <td>FME</td>\n      <td>040Y002</td>\n      <td>99988</td>\n      <td></td>\n      <td>소비자심리지수</td>\n      <td>전체</td>\n      <td>100.5</td>\n      <td></td>\n      <td>201912</td>\n    </tr>\n    <tr>\n      <th>17448</th>\n      <td></td>\n      <td>9.2.1 소비자동향조사(한국은행, 전국)(월)(2008년9월~)</td>\n      <td>FME</td>\n      <td>040Y002</td>\n      <td>99988</td>\n      <td></td>\n      <td>소비자심리지수</td>\n      <td>전체</td>\n      <td>104.2</td>\n      <td></td>\n      <td>202001</td>\n    </tr>\n    <tr>\n      <th>17449</th>\n      <td></td>\n      <td>9.2.1 소비자동향조사(한국은행, 전국)(월)(2008년9월~)</td>\n      <td>FME</td>\n      <td>040Y002</td>\n      <td>99988</td>\n      <td></td>\n      <td>소비자심리지수</td>\n      <td>전체</td>\n      <td>96.9</td>\n      <td></td>\n      <td>202002</td>\n    </tr>\n    <tr>\n      <th>17450</th>\n      <td></td>\n      <td>9.2.1 소비자동향조사(한국은행, 전국)(월)(2008년9월~)</td>\n      <td>FME</td>\n      <td>040Y002</td>\n      <td>99988</td>\n      <td></td>\n      <td>소비자심리지수</td>\n      <td>전체</td>\n      <td>78.4</td>\n      <td></td>\n      <td>202003</td>\n    </tr>\n    <tr>\n      <th>17451</th>\n      <td></td>\n      <td>9.2.1 소비자동향조사(한국은행, 전국)(월)(2008년9월~)</td>\n      <td>FME</td>\n      <td>040Y002</td>\n      <td>99988</td>\n      <td></td>\n      <td>소비자심리지수</td>\n      <td>전체</td>\n      <td>70.8</td>\n      <td></td>\n      <td>202004</td>\n    </tr>\n    <tr>\n      <th>17452</th>\n      <td></td>\n      <td>9.2.1 소비자동향조사(한국은행, 전국)(월)(2008년9월~)</td>\n      <td>FME</td>\n      <td>040Y002</td>\n      <td>99988</td>\n      <td></td>\n      <td>소비자심리지수</td>\n      <td>전체</td>\n      <td>77.6</td>\n      <td></td>\n      <td>202005</td>\n    </tr>\n    <tr>\n      <th>17453</th>\n      <td></td>\n      <td>9.2.1 소비자동향조사(한국은행, 전국)(월)(2008년9월~)</td>\n      <td>FME</td>\n      <td>040Y002</td>\n      <td>99988</td>\n      <td></td>\n      <td>소비자심리지수</td>\n      <td>전체</td>\n      <td>81.8</td>\n      <td></td>\n      <td>202006</td>\n    </tr>\n    <tr>\n      <th>17454</th>\n      <td></td>\n      <td>9.2.1 소비자동향조사(한국은행, 전국)(월)(2008년9월~)</td>\n      <td>FME</td>\n      <td>040Y002</td>\n      <td>99988</td>\n      <td></td>\n      <td>소비자심리지수</td>\n      <td>전체</td>\n      <td>84.2</td>\n      <td></td>\n      <td>202007</td>\n    </tr>\n    <tr>\n      <th>17455</th>\n      <td></td>\n      <td>9.2.1 소비자동향조사(한국은행, 전국)(월)(2008년9월~)</td>\n      <td>FME</td>\n      <td>040Y002</td>\n      <td>99988</td>\n      <td></td>\n      <td>소비자심리지수</td>\n      <td>전체</td>\n      <td>88.2</td>\n      <td></td>\n      <td>202008</td>\n    </tr>\n    <tr>\n      <th>17456</th>\n      <td></td>\n      <td>9.2.1 소비자동향조사(한국은행, 전국)(월)(2008년9월~)</td>\n      <td>FME</td>\n      <td>040Y002</td>\n      <td>99988</td>\n      <td></td>\n      <td>소비자심리지수</td>\n      <td>전체</td>\n      <td>79.4</td>\n      <td></td>\n      <td>202009</td>\n    </tr>\n  </tbody>\n</table>\n</div>"
     },
     "metadata": {},
     "execution_count": 5
    }
   ],
   "source": [
    "ccsi = produce[produce['ITEM_CODE1'] == 'FME']\n",
    "ccsi"
   ]
  },
  {
   "cell_type": "code",
   "execution_count": 6,
   "metadata": {},
   "outputs": [
    {
     "output_type": "execute_result",
     "data": {
      "text/plain": [
       "      TIME DATA_VALUE\n",
       "0   201801      110.3\n",
       "1   201802      108.4\n",
       "2   201803      108.3\n",
       "3   201804      107.3\n",
       "4   201805      108.2\n",
       "5   201806      105.6\n",
       "6   201807      100.9\n",
       "7   201808         99\n",
       "8   201809      100.1\n",
       "9   201810       99.3\n",
       "10  201811       95.7\n",
       "11  201812       96.9\n",
       "12  201901       97.5\n",
       "13  201902       99.6\n",
       "14  201903       99.8\n",
       "15  201904      101.7\n",
       "16  201905       97.9\n",
       "17  201906       97.6\n",
       "18  201907       95.9\n",
       "19  201908       92.4\n",
       "20  201909         97\n",
       "21  201910       98.6\n",
       "22  201911        101\n",
       "23  201912      100.5\n",
       "24  202001      104.2\n",
       "25  202002       96.9\n",
       "26  202003       78.4\n",
       "27  202004       70.8\n",
       "28  202005       77.6\n",
       "29  202006       81.8\n",
       "30  202007       84.2\n",
       "31  202008       88.2\n",
       "32  202009       79.4"
      ],
      "text/html": "<div>\n<style scoped>\n    .dataframe tbody tr th:only-of-type {\n        vertical-align: middle;\n    }\n\n    .dataframe tbody tr th {\n        vertical-align: top;\n    }\n\n    .dataframe thead th {\n        text-align: right;\n    }\n</style>\n<table border=\"1\" class=\"dataframe\">\n  <thead>\n    <tr style=\"text-align: right;\">\n      <th></th>\n      <th>TIME</th>\n      <th>DATA_VALUE</th>\n    </tr>\n  </thead>\n  <tbody>\n    <tr>\n      <th>0</th>\n      <td>201801</td>\n      <td>110.3</td>\n    </tr>\n    <tr>\n      <th>1</th>\n      <td>201802</td>\n      <td>108.4</td>\n    </tr>\n    <tr>\n      <th>2</th>\n      <td>201803</td>\n      <td>108.3</td>\n    </tr>\n    <tr>\n      <th>3</th>\n      <td>201804</td>\n      <td>107.3</td>\n    </tr>\n    <tr>\n      <th>4</th>\n      <td>201805</td>\n      <td>108.2</td>\n    </tr>\n    <tr>\n      <th>5</th>\n      <td>201806</td>\n      <td>105.6</td>\n    </tr>\n    <tr>\n      <th>6</th>\n      <td>201807</td>\n      <td>100.9</td>\n    </tr>\n    <tr>\n      <th>7</th>\n      <td>201808</td>\n      <td>99</td>\n    </tr>\n    <tr>\n      <th>8</th>\n      <td>201809</td>\n      <td>100.1</td>\n    </tr>\n    <tr>\n      <th>9</th>\n      <td>201810</td>\n      <td>99.3</td>\n    </tr>\n    <tr>\n      <th>10</th>\n      <td>201811</td>\n      <td>95.7</td>\n    </tr>\n    <tr>\n      <th>11</th>\n      <td>201812</td>\n      <td>96.9</td>\n    </tr>\n    <tr>\n      <th>12</th>\n      <td>201901</td>\n      <td>97.5</td>\n    </tr>\n    <tr>\n      <th>13</th>\n      <td>201902</td>\n      <td>99.6</td>\n    </tr>\n    <tr>\n      <th>14</th>\n      <td>201903</td>\n      <td>99.8</td>\n    </tr>\n    <tr>\n      <th>15</th>\n      <td>201904</td>\n      <td>101.7</td>\n    </tr>\n    <tr>\n      <th>16</th>\n      <td>201905</td>\n      <td>97.9</td>\n    </tr>\n    <tr>\n      <th>17</th>\n      <td>201906</td>\n      <td>97.6</td>\n    </tr>\n    <tr>\n      <th>18</th>\n      <td>201907</td>\n      <td>95.9</td>\n    </tr>\n    <tr>\n      <th>19</th>\n      <td>201908</td>\n      <td>92.4</td>\n    </tr>\n    <tr>\n      <th>20</th>\n      <td>201909</td>\n      <td>97</td>\n    </tr>\n    <tr>\n      <th>21</th>\n      <td>201910</td>\n      <td>98.6</td>\n    </tr>\n    <tr>\n      <th>22</th>\n      <td>201911</td>\n      <td>101</td>\n    </tr>\n    <tr>\n      <th>23</th>\n      <td>201912</td>\n      <td>100.5</td>\n    </tr>\n    <tr>\n      <th>24</th>\n      <td>202001</td>\n      <td>104.2</td>\n    </tr>\n    <tr>\n      <th>25</th>\n      <td>202002</td>\n      <td>96.9</td>\n    </tr>\n    <tr>\n      <th>26</th>\n      <td>202003</td>\n      <td>78.4</td>\n    </tr>\n    <tr>\n      <th>27</th>\n      <td>202004</td>\n      <td>70.8</td>\n    </tr>\n    <tr>\n      <th>28</th>\n      <td>202005</td>\n      <td>77.6</td>\n    </tr>\n    <tr>\n      <th>29</th>\n      <td>202006</td>\n      <td>81.8</td>\n    </tr>\n    <tr>\n      <th>30</th>\n      <td>202007</td>\n      <td>84.2</td>\n    </tr>\n    <tr>\n      <th>31</th>\n      <td>202008</td>\n      <td>88.2</td>\n    </tr>\n    <tr>\n      <th>32</th>\n      <td>202009</td>\n      <td>79.4</td>\n    </tr>\n  </tbody>\n</table>\n</div>"
     },
     "metadata": {},
     "execution_count": 6
    }
   ],
   "source": [
    "ccsi = ccsi.loc[:, ['TIME', 'DATA_VALUE']].reset_index(drop=True)\n",
    "ccsi"
   ]
  },
  {
   "source": [
    "### DB연동"
   ],
   "cell_type": "markdown",
   "metadata": {}
  },
  {
   "cell_type": "code",
   "execution_count": 15,
   "metadata": {},
   "outputs": [],
   "source": [
    "conn = pymysql.connect(host = \"127.0.0.1\", user = [USER], passwd = [PASSWORD], db = [DATABASE])\n",
    "cur = conn.cursor()"
   ]
  },
  {
   "source": [
    "### DB table 생성"
   ],
   "cell_type": "markdown",
   "metadata": {}
  },
  {
   "cell_type": "code",
   "execution_count": 16,
   "metadata": {},
   "outputs": [
    {
     "output_type": "execute_result",
     "data": {
      "text/plain": [
       "0"
      ]
     },
     "metadata": {},
     "execution_count": 16
    }
   ],
   "source": [
    "\"\"\"\n",
    "CCSI 저장할 table 생성\n",
    "\"\"\"\n",
    "\n",
    "create_table_query = \"\"\"\n",
    "CREATE TABLE IF NOT EXISTS ccsi(\n",
    "    id BIGINT(7) NOT NULL AUTO_INCREMENT,\n",
    "    year bigint(4) NOT NULL,\n",
    "    month bigint(2) NOT NULL,\n",
    "    ccsi double,\n",
    "    primary key(id) )\n",
    "    charset=utf8mb4;\n",
    "\"\"\"\n",
    "cur.execute(create_table_query)\n",
    "# charset=utf8mb4; 유니코드 스트링 저장"
   ]
  },
  {
   "cell_type": "code",
   "execution_count": 17,
   "metadata": {},
   "outputs": [
    {
     "output_type": "execute_result",
     "data": {
      "text/plain": [
       "       0          1    2    3     4               5\n",
       "0     id  bigint(7)   NO  PRI  None  auto_increment\n",
       "1   year  bigint(4)   NO       None                \n",
       "2  month  bigint(2)   NO       None                \n",
       "3   ccsi     double  YES       None                "
      ],
      "text/html": "<div>\n<style scoped>\n    .dataframe tbody tr th:only-of-type {\n        vertical-align: middle;\n    }\n\n    .dataframe tbody tr th {\n        vertical-align: top;\n    }\n\n    .dataframe thead th {\n        text-align: right;\n    }\n</style>\n<table border=\"1\" class=\"dataframe\">\n  <thead>\n    <tr style=\"text-align: right;\">\n      <th></th>\n      <th>0</th>\n      <th>1</th>\n      <th>2</th>\n      <th>3</th>\n      <th>4</th>\n      <th>5</th>\n    </tr>\n  </thead>\n  <tbody>\n    <tr>\n      <th>0</th>\n      <td>id</td>\n      <td>bigint(7)</td>\n      <td>NO</td>\n      <td>PRI</td>\n      <td>None</td>\n      <td>auto_increment</td>\n    </tr>\n    <tr>\n      <th>1</th>\n      <td>year</td>\n      <td>bigint(4)</td>\n      <td>NO</td>\n      <td></td>\n      <td>None</td>\n      <td></td>\n    </tr>\n    <tr>\n      <th>2</th>\n      <td>month</td>\n      <td>bigint(2)</td>\n      <td>NO</td>\n      <td></td>\n      <td>None</td>\n      <td></td>\n    </tr>\n    <tr>\n      <th>3</th>\n      <td>ccsi</td>\n      <td>double</td>\n      <td>YES</td>\n      <td></td>\n      <td>None</td>\n      <td></td>\n    </tr>\n  </tbody>\n</table>\n</div>"
     },
     "metadata": {},
     "execution_count": 17
    }
   ],
   "source": [
    "cur.execute(\"desc ccsi\")\n",
    "table = cur.fetchall()\n",
    "pd.DataFrame(list(table))"
   ]
  },
  {
   "source": [
    "### CCSI 월별로 저장"
   ],
   "cell_type": "markdown",
   "metadata": {}
  },
  {
   "cell_type": "code",
   "execution_count": 18,
   "metadata": {},
   "outputs": [],
   "source": [
    "\"\"\"\n",
    "날짜에서 year, month 추출\n",
    "\"\"\"\n",
    "def extract_year_and_month(period):\n",
    "    year = period[0:4]\n",
    "    month = period[4:6]\n",
    "    return year, month\n"
   ]
  },
  {
   "cell_type": "code",
   "execution_count": 19,
   "metadata": {},
   "outputs": [
    {
     "output_type": "stream",
     "name": "stdout",
     "text": [
      " \n",
      "    Insert into ccsi (year, month, ccsi) values (2018, 1, 110.300000) ;\n",
      "    \n",
      " \n",
      "    Insert into ccsi (year, month, ccsi) values (2018, 2, 108.400000) ;\n",
      "    \n",
      " \n",
      "    Insert into ccsi (year, month, ccsi) values (2018, 3, 108.300000) ;\n",
      "    \n",
      " \n",
      "    Insert into ccsi (year, month, ccsi) values (2018, 4, 107.300000) ;\n",
      "    \n",
      " \n",
      "    Insert into ccsi (year, month, ccsi) values (2018, 5, 108.200000) ;\n",
      "    \n",
      " \n",
      "    Insert into ccsi (year, month, ccsi) values (2018, 6, 105.600000) ;\n",
      "    \n",
      " \n",
      "    Insert into ccsi (year, month, ccsi) values (2018, 7, 100.900000) ;\n",
      "    \n",
      " \n",
      "    Insert into ccsi (year, month, ccsi) values (2018, 8, 99.000000) ;\n",
      "    \n",
      " \n",
      "    Insert into ccsi (year, month, ccsi) values (2018, 9, 100.100000) ;\n",
      "    \n",
      " \n",
      "    Insert into ccsi (year, month, ccsi) values (2018, 10, 99.300000) ;\n",
      "    \n",
      " \n",
      "    Insert into ccsi (year, month, ccsi) values (2018, 11, 95.700000) ;\n",
      "    \n",
      " \n",
      "    Insert into ccsi (year, month, ccsi) values (2018, 12, 96.900000) ;\n",
      "    \n",
      " \n",
      "    Insert into ccsi (year, month, ccsi) values (2019, 1, 97.500000) ;\n",
      "    \n",
      " \n",
      "    Insert into ccsi (year, month, ccsi) values (2019, 2, 99.600000) ;\n",
      "    \n",
      " \n",
      "    Insert into ccsi (year, month, ccsi) values (2019, 3, 99.800000) ;\n",
      "    \n",
      " \n",
      "    Insert into ccsi (year, month, ccsi) values (2019, 4, 101.700000) ;\n",
      "    \n",
      " \n",
      "    Insert into ccsi (year, month, ccsi) values (2019, 5, 97.900000) ;\n",
      "    \n",
      " \n",
      "    Insert into ccsi (year, month, ccsi) values (2019, 6, 97.600000) ;\n",
      "    \n",
      " \n",
      "    Insert into ccsi (year, month, ccsi) values (2019, 7, 95.900000) ;\n",
      "    \n",
      " \n",
      "    Insert into ccsi (year, month, ccsi) values (2019, 8, 92.400000) ;\n",
      "    \n",
      " \n",
      "    Insert into ccsi (year, month, ccsi) values (2019, 9, 97.000000) ;\n",
      "    \n",
      " \n",
      "    Insert into ccsi (year, month, ccsi) values (2019, 10, 98.600000) ;\n",
      "    \n",
      " \n",
      "    Insert into ccsi (year, month, ccsi) values (2019, 11, 101.000000) ;\n",
      "    \n",
      " \n",
      "    Insert into ccsi (year, month, ccsi) values (2019, 12, 100.500000) ;\n",
      "    \n",
      " \n",
      "    Insert into ccsi (year, month, ccsi) values (2020, 1, 104.200000) ;\n",
      "    \n",
      " \n",
      "    Insert into ccsi (year, month, ccsi) values (2020, 2, 96.900000) ;\n",
      "    \n",
      " \n",
      "    Insert into ccsi (year, month, ccsi) values (2020, 3, 78.400000) ;\n",
      "    \n",
      " \n",
      "    Insert into ccsi (year, month, ccsi) values (2020, 4, 70.800000) ;\n",
      "    \n",
      " \n",
      "    Insert into ccsi (year, month, ccsi) values (2020, 5, 77.600000) ;\n",
      "    \n",
      " \n",
      "    Insert into ccsi (year, month, ccsi) values (2020, 6, 81.800000) ;\n",
      "    \n",
      " \n",
      "    Insert into ccsi (year, month, ccsi) values (2020, 7, 84.200000) ;\n",
      "    \n",
      " \n",
      "    Insert into ccsi (year, month, ccsi) values (2020, 8, 88.200000) ;\n",
      "    \n",
      " \n",
      "    Insert into ccsi (year, month, ccsi) values (2020, 9, 79.400000) ;\n",
      "    \n"
     ]
    }
   ],
   "source": [
    "\"\"\"\n",
    "db table에 저장\n",
    "\"\"\"\n",
    "for i in range(len(ccsi)):\n",
    "    query = \"\"\" \n",
    "    Insert into ccsi (year, month, ccsi) values (%d, %d, %f) ;\n",
    "    \"\"\"\n",
    "    year, month = extract_year_and_month(ccsi.iloc[i].TIME)\n",
    "    ccsi_value = ccsi.iloc[i].DATA_VALUE\n",
    "\n",
    "    mystring = (query % (int(year), int(month), float(ccsi_value)))\n",
    "    print(mystring)\n",
    "    cur.execute(mystring)"
   ]
  },
  {
   "cell_type": "code",
   "execution_count": 20,
   "metadata": {},
   "outputs": [
    {
     "output_type": "execute_result",
     "data": {
      "text/plain": [
       "     0     1   2      3\n",
       "0    1  2018   1  110.3\n",
       "1    2  2018   2  108.4\n",
       "2    3  2018   3  108.3\n",
       "3    4  2018   4  107.3\n",
       "4    5  2018   5  108.2\n",
       "5    6  2018   6  105.6\n",
       "6    7  2018   7  100.9\n",
       "7    8  2018   8   99.0\n",
       "8    9  2018   9  100.1\n",
       "9   10  2018  10   99.3\n",
       "10  11  2018  11   95.7\n",
       "11  12  2018  12   96.9\n",
       "12  13  2019   1   97.5\n",
       "13  14  2019   2   99.6\n",
       "14  15  2019   3   99.8\n",
       "15  16  2019   4  101.7\n",
       "16  17  2019   5   97.9\n",
       "17  18  2019   6   97.6\n",
       "18  19  2019   7   95.9\n",
       "19  20  2019   8   92.4\n",
       "20  21  2019   9   97.0\n",
       "21  22  2019  10   98.6\n",
       "22  23  2019  11  101.0\n",
       "23  24  2019  12  100.5\n",
       "24  25  2020   1  104.2\n",
       "25  26  2020   2   96.9\n",
       "26  27  2020   3   78.4\n",
       "27  28  2020   4   70.8\n",
       "28  29  2020   5   77.6\n",
       "29  30  2020   6   81.8\n",
       "30  31  2020   7   84.2\n",
       "31  32  2020   8   88.2\n",
       "32  33  2020   9   79.4"
      ],
      "text/html": "<div>\n<style scoped>\n    .dataframe tbody tr th:only-of-type {\n        vertical-align: middle;\n    }\n\n    .dataframe tbody tr th {\n        vertical-align: top;\n    }\n\n    .dataframe thead th {\n        text-align: right;\n    }\n</style>\n<table border=\"1\" class=\"dataframe\">\n  <thead>\n    <tr style=\"text-align: right;\">\n      <th></th>\n      <th>0</th>\n      <th>1</th>\n      <th>2</th>\n      <th>3</th>\n    </tr>\n  </thead>\n  <tbody>\n    <tr>\n      <th>0</th>\n      <td>1</td>\n      <td>2018</td>\n      <td>1</td>\n      <td>110.3</td>\n    </tr>\n    <tr>\n      <th>1</th>\n      <td>2</td>\n      <td>2018</td>\n      <td>2</td>\n      <td>108.4</td>\n    </tr>\n    <tr>\n      <th>2</th>\n      <td>3</td>\n      <td>2018</td>\n      <td>3</td>\n      <td>108.3</td>\n    </tr>\n    <tr>\n      <th>3</th>\n      <td>4</td>\n      <td>2018</td>\n      <td>4</td>\n      <td>107.3</td>\n    </tr>\n    <tr>\n      <th>4</th>\n      <td>5</td>\n      <td>2018</td>\n      <td>5</td>\n      <td>108.2</td>\n    </tr>\n    <tr>\n      <th>5</th>\n      <td>6</td>\n      <td>2018</td>\n      <td>6</td>\n      <td>105.6</td>\n    </tr>\n    <tr>\n      <th>6</th>\n      <td>7</td>\n      <td>2018</td>\n      <td>7</td>\n      <td>100.9</td>\n    </tr>\n    <tr>\n      <th>7</th>\n      <td>8</td>\n      <td>2018</td>\n      <td>8</td>\n      <td>99.0</td>\n    </tr>\n    <tr>\n      <th>8</th>\n      <td>9</td>\n      <td>2018</td>\n      <td>9</td>\n      <td>100.1</td>\n    </tr>\n    <tr>\n      <th>9</th>\n      <td>10</td>\n      <td>2018</td>\n      <td>10</td>\n      <td>99.3</td>\n    </tr>\n    <tr>\n      <th>10</th>\n      <td>11</td>\n      <td>2018</td>\n      <td>11</td>\n      <td>95.7</td>\n    </tr>\n    <tr>\n      <th>11</th>\n      <td>12</td>\n      <td>2018</td>\n      <td>12</td>\n      <td>96.9</td>\n    </tr>\n    <tr>\n      <th>12</th>\n      <td>13</td>\n      <td>2019</td>\n      <td>1</td>\n      <td>97.5</td>\n    </tr>\n    <tr>\n      <th>13</th>\n      <td>14</td>\n      <td>2019</td>\n      <td>2</td>\n      <td>99.6</td>\n    </tr>\n    <tr>\n      <th>14</th>\n      <td>15</td>\n      <td>2019</td>\n      <td>3</td>\n      <td>99.8</td>\n    </tr>\n    <tr>\n      <th>15</th>\n      <td>16</td>\n      <td>2019</td>\n      <td>4</td>\n      <td>101.7</td>\n    </tr>\n    <tr>\n      <th>16</th>\n      <td>17</td>\n      <td>2019</td>\n      <td>5</td>\n      <td>97.9</td>\n    </tr>\n    <tr>\n      <th>17</th>\n      <td>18</td>\n      <td>2019</td>\n      <td>6</td>\n      <td>97.6</td>\n    </tr>\n    <tr>\n      <th>18</th>\n      <td>19</td>\n      <td>2019</td>\n      <td>7</td>\n      <td>95.9</td>\n    </tr>\n    <tr>\n      <th>19</th>\n      <td>20</td>\n      <td>2019</td>\n      <td>8</td>\n      <td>92.4</td>\n    </tr>\n    <tr>\n      <th>20</th>\n      <td>21</td>\n      <td>2019</td>\n      <td>9</td>\n      <td>97.0</td>\n    </tr>\n    <tr>\n      <th>21</th>\n      <td>22</td>\n      <td>2019</td>\n      <td>10</td>\n      <td>98.6</td>\n    </tr>\n    <tr>\n      <th>22</th>\n      <td>23</td>\n      <td>2019</td>\n      <td>11</td>\n      <td>101.0</td>\n    </tr>\n    <tr>\n      <th>23</th>\n      <td>24</td>\n      <td>2019</td>\n      <td>12</td>\n      <td>100.5</td>\n    </tr>\n    <tr>\n      <th>24</th>\n      <td>25</td>\n      <td>2020</td>\n      <td>1</td>\n      <td>104.2</td>\n    </tr>\n    <tr>\n      <th>25</th>\n      <td>26</td>\n      <td>2020</td>\n      <td>2</td>\n      <td>96.9</td>\n    </tr>\n    <tr>\n      <th>26</th>\n      <td>27</td>\n      <td>2020</td>\n      <td>3</td>\n      <td>78.4</td>\n    </tr>\n    <tr>\n      <th>27</th>\n      <td>28</td>\n      <td>2020</td>\n      <td>4</td>\n      <td>70.8</td>\n    </tr>\n    <tr>\n      <th>28</th>\n      <td>29</td>\n      <td>2020</td>\n      <td>5</td>\n      <td>77.6</td>\n    </tr>\n    <tr>\n      <th>29</th>\n      <td>30</td>\n      <td>2020</td>\n      <td>6</td>\n      <td>81.8</td>\n    </tr>\n    <tr>\n      <th>30</th>\n      <td>31</td>\n      <td>2020</td>\n      <td>7</td>\n      <td>84.2</td>\n    </tr>\n    <tr>\n      <th>31</th>\n      <td>32</td>\n      <td>2020</td>\n      <td>8</td>\n      <td>88.2</td>\n    </tr>\n    <tr>\n      <th>32</th>\n      <td>33</td>\n      <td>2020</td>\n      <td>9</td>\n      <td>79.4</td>\n    </tr>\n  </tbody>\n</table>\n</div>"
     },
     "metadata": {},
     "execution_count": 20
    }
   ],
   "source": [
    "# 확인\n",
    "query = \"\"\" \n",
    "select * from ccsi ;\n",
    "\"\"\"\n",
    "cur.execute(query)\n",
    "tmp = pd.DataFrame(list(cur.fetchall()))\n",
    "tmp"
   ]
  },
  {
   "cell_type": "code",
   "execution_count": 21,
   "metadata": {},
   "outputs": [],
   "source": [
    "conn.commit()\n",
    "cur.close()\n",
    "conn.close()"
   ]
  }
 ]
}