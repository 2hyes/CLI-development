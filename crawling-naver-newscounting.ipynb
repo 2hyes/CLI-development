{
 "metadata": {
  "language_info": {
   "codemirror_mode": {
    "name": "ipython",
    "version": 3
   },
   "file_extension": ".py",
   "mimetype": "text/x-python",
   "name": "python",
   "nbconvert_exporter": "python",
   "pygments_lexer": "ipython3",
   "version": "3.8.5-final"
  },
  "orig_nbformat": 2,
  "kernelspec": {
   "name": "Python 3.8.5 64-bit ('securityml': conda)",
   "display_name": "Python 3.8.5 64-bit ('securityml': conda)",
   "metadata": {
    "interpreter": {
     "hash": "bedcc662f9a039a32db907ceb9f5c533a6e6233c8656c177c8c508a47fdfb6cf"
    }
   }
  }
 },
 "nbformat": 4,
 "nbformat_minor": 2,
 "cells": [
  {
   "cell_type": "code",
   "execution_count": 2,
   "metadata": {},
   "outputs": [],
   "source": [
    "from selenium import webdriver\n",
    "from bs4 import BeautifulSoup\n",
    "import requests\n",
    "import time\n",
    "import datetime as dt\n",
    "import pandas as pd\n",
    "from urllib.request import urlopen"
   ]
  },
  {
   "cell_type": "code",
   "execution_count": 6,
   "metadata": {
    "tags": [
     "outputPrepend"
    ]
   },
   "outputs": [
    {
     "output_type": "stream",
     "name": "stdout",
     "text": "\"javascript:;\">자동완성 끄기</a></span></p> <div class=\"atcmp_plus _plus\"> <span class=\"desc\"> <span class=\"plus_txt\">시간대와 관심사에 맞춘 <em class=\"txt\">컨텍스트 자동완성</em></span> <a class=\"spat ico_info\" href=\"https://help.naver.com/support/alias/search/word/word_16.naver\" onclick=\"__atcmpCR(event, this, 'plus.help', '','','');\" target=\"_blank\"><span class=\"blind\">도움말 보기</span></a> </span> <span class=\"switch _plus_btn\"> <a class=\"btn_turnon active\" href=\"#\" onclick=\"__atcmpCR(event, this, 'plus.use', '','','');\">ON<span class=\"blind\">선택됨</span></a> <a class=\"btn_turnoff\" href=\"#\" onclick=\"__atcmpCR(event, this, 'plus.unuse', '','','');\">OFF</a> </span> <div class=\"layer_plus _plusAlert\"> <strong class=\"tit\">컨텍스트 자동완성</strong> <div class=\"_logout\" style=\"display:block;\"> <p class=\"dsc\"><em class=\"txt\">동일한 시간대/연령/남녀별</em> 사용자 그룹의<br/>관심사에 맞춰 자동완성을 제공합니다.</p> <div class=\"btn_area\"> <a class=\"btn btn_login\" href=\"https://nid.naver.com/nidlogin.login?url=https%3A%2F%2Fsearch.naver.com%2Fsearch.naver%3Fwhere%3Dnews%26query%3D%25EB%25B6%2588%25ED%2599%25A9%26sm%3Dtab_opt%26sort%3D0%26photo%3D0%26field%3D0%26reporter_article%3D%26pd%3D3%26ds%3D2020.08.01%26de%3D2020.08.31%26docid%3D%26nso%3Dso%253Ar%252Cp%253Afrom20200801to20200831%252Ca%253Aall%26mynews%3D0%26refresh_start%3D0%26related%3D0\" onclick=\"__atcmpCR(event, this, 'plus.login', '','','');\">로그인</a> <a class=\"btn btn_view\" href=\"https://help.naver.com/support/alias/search/word/word_16.naver\" onclick=\"__atcmpCR(event, this, 'plus.detail', '','','');\" target=\"_blank\">자세히</a> </div> </div> <div class=\"_login\" style=\"display:none;\"> <p class=\"dsc\">ON/OFF설정은<br/>해당 기기(브라우저)에 저장됩니다.</p> <div class=\"btn_area\"> <a class=\"btn btn_view\" href=\"https://help.naver.com/support/alias/search/word/word_21.naver\" onclick=\"__atcmpCR(event, this, 'plus.detail', '','','');\" target=\"_blank\">자세히</a> </div> </div> <button class=\"btn_close _close\" onclick=\"__atcmpCR(event, this, 'plus.close', '','','');\" type=\"button\"><i class=\"spat ico_close\">컨텍스트 자동완성 레이어 닫기</i></button> </div> </div> <div class=\"words _words\"> <div class=\"_atcmp_result_wrap\"> <ul class=\"_resultBox\"></ul> <ul class=\"_resultBox\"></ul> <ul class=\"_resultBox\"></ul> <ul class=\"_resultBox\"></ul> </div> <div class=\"add_group _atcmp_answer_wrap\"></div> </div> <span class=\"atcmp_helper _help_tooltip1\">기능을 다시 켤 때는 <em class=\"ico_search spat\">검색창 오른쪽 화살표 버튼</em>을 클릭하세요</span> </div> <div class=\"api_atcmp_wrap api_atcmp_wrap_v1 _atcmpIng\" style=\"display:none;\"> <p class=\"func _atcmpBtnGroup\"><span class=\"fl\"><a class=\"_help\" href=\"https://help.naver.com/support/alias/search/word/word_17.naver\" onclick=\"__atcmpCR(event, this, 'help', '','','');\" target=\"_blank\">도움말</a><span class=\"atcmp_bar\"></span><a class=\"report\" href=\"https://help.naver.com/support/alias/search/word/word_18.naver\" onclick=\"__atcmpCR(event, this, 'report', '','','');\" target=\"_blank\">신고</a></span><span><em><a class=\"hisoff\" href=\"javascript:;\">검색어저장 켜기</a><span class=\"atcmp_bar\"></span></em><a class=\"funoff\" href=\"javascript:;\">자동완성 끄기</a></span></p> <div class=\"words\"><p class=\"info_words\">현재 자동완성 기능을 사용하고 계십니다.</p></div> <span class=\"atcmp_helper _help_tooltip2\">기능을 다시 켤 때는 <em class=\"ico_search spat\">검색창 오른쪽 화살표 버튼</em>을 클릭하세요</span> </div> <div class=\"api_atcmp_wrap api_atcmp_wrap_v1 _atcmpStart\" style=\"display:none;\"> <p class=\"func _atcmpBtnGroup\"><span class=\"fl\"><a class=\"_help\" href=\"https://help.naver.com/support/alias/search/word/word_17.naver\" onclick=\"__atcmpCR(event, this, 'help', '','','');\" target=\"_blank\">도움말</a><span class=\"atcmp_bar\"></span><a class=\"report\" href=\"https://help.naver.com/support/alias/search/word/word_18.naver\" onclick=\"__atcmpCR(event, this, 'report', '','','');\" target=\"_blank\">신고</a></span><span><em><a class=\"hisoff\" href=\"javascript:;\">검색어저장 켜기</a><span class=\"atcmp_bar\"></span></em><a class=\"funoff\" href=\"javascript:;\">자동완성 끄기</a></span></p> <div class=\"words\"><p class=\"info_words\">자동완성 기능이 활성화되었습니다.</p></div> <span class=\"atcmp_helper _help_tooltip3\">기능을 다시 켤 때는 <em class=\"ico_search spat\">검색창 오른쪽 화살표 버튼</em>을 클릭하세요</span> </div> <div class=\"api_atcmp_wrap api_atcmp_wrap_v1 _atcmpOff\" style=\"display:none;\"> <p class=\"func _atcmpBtnGroup\"><span class=\"fl\"><a class=\"_help\" href=\"https://help.naver.com/support/alias/search/word/word_17.naver\" onclick=\"__atcmpCR(event, this, 'help', '','','');\" target=\"_blank\">도움말</a><span class=\"atcmp_bar\"></span><a class=\"report\" href=\"https://help.naver.com/support/alias/search/word/word_18.naver\" onclick=\"__atcmpCR(event, this, 'report', '','','');\" target=\"_blank\">신고</a></span><span><em><a class=\"hisoff\" href=\"javascript:;\">검색어저장 켜기</a><span class=\"atcmp_bar\"></span></em><a class=\"funoff\" href=\"javascript:;\">자동완성 켜기</a></span></p> <div class=\"words\"><p class=\"info_words\">자동완성 기능이 꺼져 있습니다.</p></div> </div> <div class=\"api_atcmp_wrap api_atcmp_wrap_v1 _keywords\" id=\"keyword\" style=\"display:none;\"> <div class=\"my_words\"> <p class=\"func _recentBtnGroup\"><span class=\"fl\"><a class=\"_delMode\" href=\"javascript:;\">기록 삭제</a></span><span><a class=\"_keywordOff\" href=\"javascript:;\">검색어저장 끄기</a><span class=\"atcmp_bar\"></span><a class=\"_acOff\" href=\"javascript:;\">자동완성 끄기</a></span></p> <p class=\"func _recentDelBtnGroup\" style=\"display:none\"><span class=\"fl\"><a class=\"_delAll\" href=\"javascript:;\" title=\"최근 검색어 기록을 모두 삭제합니다.\">기록 전체 삭제</a></span><span><a class=\"_delDone\" href=\"javascript:;\">완료</a></span></p> <p class=\"func _myBtnGroup\" style=\"display:none\"><span class=\"fl\"><a class=\"_delAll\" href=\"javascript:;\" title=\"설정된 내 검색어를 모두 삭제합니다.\">기록 전체 삭제</a></span><span><a class=\"_keywordOff\" href=\"javascript:;\">검색어저장 끄기</a><span class=\"atcmp_bar\"></span><a class=\"_acOff\" href=\"javascript:;\">자동완성 끄기</a></span></p> <span class=\"atcmp_helper _help2\">기능을 다시 켤 때는 <em class=\"ico_search spat\">검색창 오른쪽 화살표 버튼</em>을 클릭하세요</span> <p class=\"noti _noti\" style=\"display:none\"><em class=\"ico_noti spat\"><span class=\"blind\">알림</span></em>공용 PC에서는 개인정보 보호를 위하여 반드시 로그아웃을 해 주세요.</p> <div class=\"words _recent\"> <ul><li data-rank=\"@rank@\"><a class=\"t@my@ _star _myBtn\" href=\"javascript:;\" title=\"내 검색어 등록\"><em class=\"spat\">내 검색어 등록</em></a><a class=\"keyword\" href=\"javascript:;\">@txt@</a><em class=\"keyword_date\">@date@.</em><a class=\"btn_delete spat _del\" href=\"javascript:;\" title=\"검색어삭제\">삭제</a><span style=\"display:none\">@in_txt@</span></li></ul> <div class=\"info_words _recentNone\" style=\"display:none\">최근검색어 내역이 없습니다.</div> <p class=\"info_words _offMsg\" style=\"display:none\">검색어 저장 기능이 꺼져 있습니다.</p> </div> <div class=\"words _my\" style=\"display:none\"> <ul><li data-rank=\"@rank@\"><a class=\"ton _star _myBtn\" href=\"javascript:;\" title=\"내 검색어 해제\"><em class=\"spat\">내 검색어 해제</em></a><a class=\"keyword\" href=\"javascript:;\">@txt@</a></li></ul> <div class=\"info_words _myNone\" style=\"display:none\">설정된 내 검색어가 없습니다.<br/>최근검색어에서 <span class=\"star spat\">내 검색어 등록</span>를 선택하여 자주 찾는 검색어를<br>내 검색어로 저장해 보세요.</br></div> <p class=\"info_words _offMsg\" style=\"display:none\">검색어 저장 기능이 꺼져 있습니다.</p> </div> <div class=\"lst_tab\"> <ul> <li class=\"on _recentTab\"><a href=\"javascript:;\">최근검색어</a></li> <li class=\"_myTab\"><a href=\"javascript:;\">내 검색어</a></li> </ul> </div> <div class=\"ly_noti _maxLayer\" style=\"display:none\"> <span class=\"mask\"></span> <p><span class=\"ico_alert spat\"></span>내 검색어는 <em>최대 10</em>개 까지 저장할 수 있습니다.<br>추가하시려면 기존 내 검색어를 지워주세요. <a class=\"btn_close _close\" href=\"javascript:;\"><i class=\"spat ico_close\">닫기</i></a></br></p> </div> </div> </div> <div class=\"api_atcmp_wrap _alert\" style=\"display:none;\"> <div class=\"api_atcmp_alert\"> <p class=\"dsc_txt\"> <span class=\"ico_alert spat\"></span><span class=\"_passage\"></span> <span class=\"term\"><span class=\"_term\"></span><a class=\"link _link\" href=\"#\" nocr=\"\" onclick=\"return goOtherCR(this,'a=sug.vote&amp;r=&amp;i=&amp;u='+urlencode(this.href));\" target=\"_blank\">자세히보기</a></span> </p> </div> </div> </div> </fieldset> </form> </div> <ul class=\"lst_foot\"> <li class=\"first\"><a href=\"https://searchad.naver.com/\" onclick=\"return goOtherCR(this, 'a=fot.searchad&amp;r=&amp;i=&amp;u='+urlencode(this.href));\" target=\"_blank\">검색광고 안내</a><span class=\"bar\"></span></li> <li><a href=\"https://news.naver.com/main/ombudsman/searchAlliance.nhn\" onclick=\"return goOtherCR(this, 'a=fot.partner&amp;r=&amp;i=&amp;u='+urlencode(this.href));\" target=\"_blank\">뉴스검색 제휴 안내</a><span class=\"bar\"></span></li> <li><a href=\"https://help.naver.com/support/alias/search/footer/news.naver\" onclick=\"return goOtherCR(this, 'u='+urlencode(this.href)+'&amp;a=fot.help&amp;r=&amp;i=');\" target=\"_blank\">뉴스검색 고객센터</a><span class=\"bar\"></span></li> <li><a href=\"https://help.naver.com/support/alias/report/unsound.naver\" onclick=\"return goOtherCR(this, 'u='+urlencode(this.href)+'&amp;a=fot.inform&amp;r=&amp;i=');\" target=\"_blank\">유해게시물신고</a><span class=\"bar\"></span></li> </ul> <address><em>©</em> <a href=\"https://www.navercorp.com/\" onclick=\"return goOtherCR(this, 'u='+urlencode(this.href)+'&amp;a=fot.nhn&amp;r=&amp;i=');\" target=\"_blank\">NAVER Corp.</a></address> </div> </div> <div class=\"layer_map\" id=\"bck_layer_map\" style=\"left:440px; top:284px; display:none\"> <div class=\"layer_bd\"> <iframe frameborder=\"0\" height=\"373\" marginheight=\"0\" marginwidth=\"0\" name=\"map\" scrolling=\"no\" title=\"약도 보기\" width=\"440\"></iframe> </div> <!--[if IE 6]><iframe title=\"약도 보기\" frameborder=\"0\" width=\"444\" height=\"377\" style=\"position:absolute; left:0; top:0; z-index:10\"></iframe><![endif]--> </div> <script id=\"_atcmp_answer_0\" type=\"text/template\"> <div class=\"add_opt _item\" data-sm=\"@2@\" data-keyword=\"@1@\" data-template_id=\"@0@\" data-acir=\"@rank@\" data-os=\"@8@\" data-bid=\"@9@\" data-eid=\"@3@\" data-pkid=\"@10@\" data-mra=\"@11@\" > <a href=\"#\" class=\"opt_dsc\"> <span class=\"dsc_thmb\" style=\"@style7@\">@image7@</span> <span class=\"dsc_group\"> <span class=\"dsc_cate\">@6@</span> <strong class=\"dsc_word\">@1@</strong> <span class=\"dsc_sub\" style=\"@style12@\">@12@</span> </span> </a> </div> </script> <script id=\"_atcmp_answer_3\" type=\"text/template\"> <div class=\"add_opt _item\" data-sm=\"@2@\" data-keyword=\"@1@\" data-template_id=\"@0@\" data-acir=\"@rank@\"> <a href=\"javascript:;\" class=\"opt_lotto\"> <span class=\"lotto_num_area\"> <span class=\"spat lotto_num lotto_num@6@\">@6@</span><span class=\"spat lotto_num lotto_num@7@\">@7@</span><span class=\"spat lotto_num lotto_num@8@\">@8@</span><span class=\"spat lotto_num lotto_num@9@\">@9@</span><span class=\"spat lotto_num lotto_num@10@\">@10@</span><span class=\"spat lotto_num lotto_num@11@\">@11@</span><span class=\"spat lotto_bonus\">+</span><span class=\"spat lotto_num lotto_num@12@\">@12@</span> </span> <span class=\"lotto_sub\">@5@회차<em class=\"lotto_date\">(@13@.)</em></span> </a> </div> </script> <script id=\"_atcmp_answer_9\" type=\"text/template\"> <div class=\"add_opt _item\" data-sm=\"@2@\" data-keyword=\"@1@\" data-template_id=\"@0@\" data-acir=\"@rank@\"> <a href=\"javascript:;\" class=\"opt_exchange opt_exchange_@11@\"> <span class=\"opt_nation\"> <img src=\"https://ssl.pstatic.net/sstatic/keypage/lifesrch/exchange/ico_@12@1.gif\" alt=\"\" /> @14@ <span class=\"tx_nation\">@money@</span> </span> <span class=\"opt_amount\"> <span class=\"amount\"><strong>@6@</strong>원</span><span class=\"changes\"><i class=\"bullet\">@10@</i> @8@ (@9@%)<span class=\"opt_time\"><time datetime=\"@fulldate@\">@7@</time></span></span> </span> </a> </div> </script> <script id=\"_atcmp_answer_10\" type=\"text/template\"> <div class=\"add_opt _item\" data-sm=\"@2@\" data-keyword=\"@1@\" data-template_id=\"@0@\" data-acir=\"@rank@\"> <a href=\"javascript:;\" class=\"opt_weather\"> <span class=\"opt_weather_thmb\"> <img src=\"https://ssl.pstatic.net/sstatic/search/pc/img/wt_@6@.png\" width=\"56\" height=\"56\" alt=\"@7@\"> </span> <span class=\"opt_weather_group\"> <span class=\"opt_weather_state\">@7@</span> <span class=\"opt_weather_state\">기온 <em class=\"opt_deg\">@8@</em><span class=\"opt_unit\">℃</span></span> <span class=\"opt_weather_state\">@9@ <em>@10@</em><span class=\"opt_unit\">@11@</span></span> <span class=\"opt_weather_state\"><span class=\"opt_time\"><time datetime=\"@fulldate@\">@5@</time></span></span> </span> </a> </div> </script> <script id=\"_atcmp_answer_11\" type=\"text/template\"> <div class=\"add_opt _item\" data-sm=\"@2@\" data-keyword=\"@1@\" data-template_id=\"@0@\" data-acir=\"@rank@\"> <a href=\"javascript:;\" class=\"opt_weather\"> <span class=\"opt_weather_thmb\"> <img src=\"https://ssl.pstatic.net/sstatic/search/pc/img/wt_@6@.png\" width=\"56\" height=\"56\" alt=\"@7@\"> </span> <span class=\"opt_weather_group\"> <span class=\"opt_weather_state\">@7@</span> <span class=\"opt_weather_state\">기온 <em class=\"opt_deg\">@8@</em><span class=\"opt_unit\">℃</span></span> <span class=\"opt_weather_state\">@9@ <em>@10@</em><span class=\"opt_unit\">@11@</span></span> <span class=\"opt_weather_state\"><span class=\"opt_time\"><time datetime=\"@fulldate@\">@5@</time></span></span> </span> </a> </div> </script> <script id=\"_atcmp_answer_17\" type=\"text/template\"> <div class=\"add_opt _item\" data-sm=\"@2@\" data-keyword=\"@1@\" data-template_id=\"@0@\" data-acir=\"@rank@\"> <a href=\"@5@\" target=\"_blank\" class=\"opt_shortcut\"> <span class=\"opt_url\">@display_link@</span> <span class=\"opt_txt\">사이트로 바로 이동</span> </a> </div> </script> <script id=\"_atcmp_answer_20\" type=\"text/template\"></script> <script id=\"_atcmp_intend\" type=\"text/template\"> <div class=\"add_opt type_context _item\" data-sm=\"asct\" data-keyword=\"@transquery@\" data-acir=\"@rank@\"> <a href=\"#\" class=\"opt_context\"> <span class=\"opt_tit\"><strong>@query@</strong></span> <span class=\"opt_sub\">@intend@</span> </a> </div> </script> <script id=\"_atcmp_result_item_tpl\" type=\"text/template\"> <li class=\"_item @url_class@\" data-acr=\"@rank@\"> <a href=\"#\" class=\"atcmp_keyword\" onclick=\"return false;\" title=\"\"><span class=\"atcmp_keyword_txt\">@txt@<span class=\"spat ic_expand\"></span></span></a> <a href=\"@url@\" target=\"_blank\" class=\"mquick\">바로이동</a> <span style=\"display:none\">@in_txt@</span> </li> </script> <script id=\"_atcmp_keyword_highlight_tpl\" type=\"text/template\"> @mismatch_before@<strong>@match@</strong>@mismatch_after@ </script> <script id=\"_atcmp_keyword_partial_match_highlight_tpl\" type=\"text/template\"> @mismatch_before@<strong>@match@</strong>@mismatch_after@ </script> <script type=\"text/javascript\"> /* [PR] 서비스에서 사용하는 클릭로그함수 설정 */ window.__atcmpCR = function(we, el, name, order, areaCode, rank) { var htAreaCode = __ghtAutoCompleteConfig[\"htAreaCode\"]; if(typeof htAreaCode[name] !== 'undefined') { var areaCode = htAreaCode[name][0]; var rank = htAreaCode[name][1]; if(areaCode !== '') { tCR('a='+areaCode+'&u='+urlencode(el.href)); /* clickcr(el, areaCode, rank, '', we); */ /* console.log(areaCode + rank); */ } } return false; }; /* [PR] 서비스별로 form submit 전에 처리해야하는 내용은 이곳에 작성해주세요. */ window.__atcmpSubmitBefore = function(elForm) { try { top.nx_form_submit(elForm); } catch (e) { try { nx_form_submit(elForm); } catch (e) {} } }; /* [PR] 각 서비스별 옵션 : 로그인여부는 pr에서 정의필요합니다. */ window.__ghtAutoCompleteConfig = { /* 자동완성 설정 (Top&Bottom) */ \"bLogin\" : false, /* 로그인 여부 */ \"sFromWhere\" : 'nx', /* 검색 출처 (폼전송시 함께 전송) */ \"nStrMax\" : 55, /* 최대 말줄임 길이 */ \"sCookie\" : 'NaverSuggestUse', /* 사용 쿠키명 */ \"htApiUrl\" : { /* 자동완성 API 정보 */ \"sMyKeyword\" : 'https://s.search.naver.com/n/mykeyword/search', \"sAcKeyword\" : '//ac.search.naver.com/nx/ac', \"sAcAnsType\" : '2' /* 1 : 기존정답형만 lookup (탭검인 경우 1로 설정) */ }, \"ahtOption\" : [ { \"sOrder\" : \"asc\", /* 정렬방식 (asc/desc) */ \"sFormId\" : 'nx_search_form', /* 폼엘리먼트 ID */ \"sInputId\" : 'nx_query', /* 입력창 엘리먼트 ID */ \"sViewId\" : 'nx_autoframe_top', /* 자동완성 레이어 ID */ \"sViewToggleButtonId\" : 'nautocomplete' /* 레이어토글 버튼 ID */ } ,{ \"sOrder\" : \"desc\", /* 정렬방식 (asc/desc) */ \"sFormId\" : 'nx_search_form_btm', /* 폼엘리먼트 ID */ \"sInputId\" : 'nx_query_btm', /* 입력창 엘리먼트 ID */ \"sViewId\" : 'nx_autoframe_btm', /* 자동완성 레이어 ID */ \"sViewToggleButtonId\" : 'nautocomplete_btm' /* 레이어토글 버튼 ID */ } ], \"htButtonImg\" : { \"show\" : \"https://ssl.pstatic.net/sstatic/search/2015/btn_atcmp_up.gif\", \"unuseShow\" : \"https://ssl.pstatic.net/sstatic/search/images11/btn_atcmp_up_off.gif\", \"hide\" : \"https://ssl.pstatic.net/sstatic/search/2015/btn_atcmp_down.gif\", \"unuse\" : \"https://ssl.pstatic.net/sstatic/search/images11/btn_atcmp_down_off2.gif\" }, /* 서비스별 클릭영역코드 매핑정보 (sch.xxx: 검색창영역, sug.xxx: 자동완성 영역, sly.xxx: 최근/내검색어 영역) */ \"htAreaCode\": { \"expand\": ['sch.expand', '0'], /* 우측 역삼각형 펼침 */ \"close\": ['sch.close', '0'], /* 우측 역삼각형 접힘 */ \"autokeyword\": ['', ''], /* 자동완성키워드 클릭 (종료: 폼액션으로 넘어가므로 클릭로그 대신 SM파라미터로 수집함) */ \"ansdirect\": ['sug.ansdirect', ''], /* 정답형 바로가기 (엔터/클릭) */ \"go1\": ['sug.go1', ''], /* 바로이동 클릭 */ \"go2\": ['sug.go2', ''], /* 바로이동 클릭 (하단영역이 있는 통검 및 SE통검 에서만 유효함) */ \"help\": ['sug.help', ''], /* 도움말 클릭 */ \"report\": ['sug.report', ''], /* 신고 클릭 */ \"sugoff\": ['sug.sugoff', ''], /* 자동완성 끄기 클릭 */ \"sugon\": ['sug.sugon', ''], /* 자동완성 켜기 클릭 */ \"plus.close\": ['sug.cxhide', ''], /* 자동완성 플러스 닫기버튼 */ \"plus.login\": ['sug.cxlogin', ''], /* 자동완성 플러스 로그인 버튼 */ \"plus.detail\": ['sug.cxlink', ''], /* 자동완성 플러스 자세히 버튼 */ \"plus.help\": ['sug.cxhelp', ''], /* 자동완성 플러스 도움말 */ \"plus.use\": ['sug.cxon', ''], /* 자동완성 플러스 사용 */ \"plus.unuse\": ['sug.cxoff', ''], /* 자동완성 플러스 사용안함 */ \"saveoff\": ['sug.saveoff', ''], /* 검색어저장 끄기 클릭 */ \"saveon\": ['sug.saveon', ''], /* 검색어저장 켜기 클릭 */ \"rtab\": ['sly.rtab', ''], /* 최근검색어 탭 클릭 */ \"mytab\": ['sly.mytab', ''], /* 내검색어 탭 클릭 */ \"rx\": ['sly.rx', ''], /* 최근검색어 개별삭제 클릭 */ \"rdel\": ['sly.rdel', ''], /* 최근검색어 기록삭제 클릭 */ \"rdelend\": ['sly.rdelend', ''], /* 최근검색어 완료 클릭 */ \"ralldel\": ['sly.ralldel', ''], /* 최근검색어 전체삭제 클릭 */ \"myalldel\": ['sly.myalldel', ''], /* 내검색어 전체삭제 */ \"mydel\": ['sly.mydel', ''], /* 내검색어 삭제 */ \"myadd\": ['sly.myadd', ''] /* 내검색어 등록 */ }, /* 서비스별 SM파라미터 매핑정보 * sm파라미터 추가시 https://oss.navercorp.com/sau-pc/naver_autocomplete/issues/19 확인 필요 */ \"htSmParam\" : { \"hty\" : 'tab_hty.top', /* sm 파라미터 초기값 */ \"htyb\" : 'tab_hty.btm', /* sm 파라미터 초기값(검색창 하단) */ \"hst\" : 'tab_sly.hst', /* 최근검색키워드 */ \"my\" : 'tab_sly.my', /* 내검색키워드 */ \"prefix\" : 'tab_sug', /* sm 파라미터 서비스별 prefix */ \"top\" : 'tab_sug.top', /* 자동완성키워드 */ \"btm\" : 'tab_sug.btm', /* 자동완성키워드 (역순) */ \"pat\" : 'tab_sug.pat', /* 자동완성키워드 (부분자동완성) */ \"mbk\" : 'tab_sug.mbk', /* 자동완성키워드 (오타교정자동완성) */ \"nlq\" : 'tab_sug.nlq', /* 자연어검색 */ \"asgl\" : 'tab_sug.asgl', /* 1국가번호 (한국 국가번호) */ \"asga\" : 'tab_sug.asga', /* 1국가번호 다른중복지역 */ \"aslt\" : 'tab_sug.aslt', /* 3로또당첨번호 */ \"aspl\" : 'tab_sug.aspl', /* 6연금복권당첨번호 */ \"astm\" : 'tab_sug.astm', /* 7영업시간 (신한은행 영업시간) */ \"ast\" : 'tab_sug.ast', /* 8전화번호 (국세청 전화번호) */ \"ase\" : 'tab_sug.ase', /* 9환율 (엔화환율) */ \"aswt\" : 'tab_sug.aswt', /* 10해외날씨 (일본날씨) */ \"asis\" : 'tab_sug.asis', /* 12올림픽순위 */ \"extension\" : 'tab_sug.search' /* 검색기반 자동완성 */ } }; </script> <script type=\"text/javascript\"> /* 자동완성 객체 생성 (Top & Bottom) */ new nhn.common.atcmp.naver_web.Controller(__ghtAutoCompleteConfig).attach({ onSelect : function(oCustomEvent) {__atcmpSubmitBefore(oCustomEvent.elForm);}, onClickLog : function(oCustomEvent) {__atcmpCR(oCustomEvent.event, oCustomEvent.element, oCustomEvent.name, oCustomEvent.order, '', '');} }); </script> </div> <script type=\"text/javascript\"> (function() { var needFix = navigator.userAgent.toLowerCase().indexOf('webkit') > -1; d = document; if (!needFix || !d.querySelectorAll) return; var toArray = function(list){ var armap=[]; i=0; for(;i<list.length;++i){ armap.push(list[i]); } return Array.prototype.slice.call(armap, 0); } ; window.addEventListener('load', function() { toArray(d.querySelectorAll('#u_skip a')).forEach(function(el) { el.addEventListener('click', function() { var target = d.getElementById(this.href.split('#')[1]); oldTabIndex = target.getAttribute('tabindex'); oldOutlineWidth = d.defaultView.getComputedStyle(target, null).getPropertyValue('outline-width'); target.setAttribute('tabindex', 0); target.style.outlineWidth = 0; target.focus(); if (oldTabIndex === null) target.removeAttribute('tabindex'); else target.setAttribute('tabindex', oldTabIndex); }, false); }); }, false); })(); </script><script type=\"text/javascript\"> if(typeof nx_usain_beacon !== 'undefined') { nx_usain_beacon.add_tag(\"conn_._TLSv1.3_.\") ; $Fn(function () { nx_usain_beacon.send(); }).attach(window, \"load\") ; } </script></body> </html>\n"
    }
   ],
   "source": [
    "\"\"\"\n",
    "검색 키워드: 불황\n",
    "기간: 2020-08-01 ~ 2020-08-31\n",
    "\"\"\"\n",
    "raw_html = urlopen('https://search.naver.com/search.naver?where=news&query=%EB%B6%88%ED%99%A9&sm=tab_opt&sort=0&photo=0&field=0&reporter_article=&pd=3&ds=2020.08.01&de=2020.08.31&docid=&nso=so%3Ar%2Cp%3Afrom20200801to20200831%2Ca%3Aall&mynews=0&refresh_start=0&related=0')\n",
    "html = BeautifulSoup(raw_html, 'html.parser')\n",
    "print(html)"
   ]
  },
  {
   "cell_type": "code",
   "execution_count": 7,
   "metadata": {
    "tags": []
   },
   "outputs": [
    {
     "output_type": "stream",
     "name": "stdout",
     "text": "[<div class=\"title_desc all_my\"><span>1-10 / 3,277건</span></div>]\n"
    }
   ],
   "source": [
    "count_tag = html.find_all(\"div\", {\"class\": \"title_desc all_my\"})\n",
    "print(count_tag)"
   ]
  },
  {
   "cell_type": "code",
   "execution_count": 9,
   "metadata": {
    "tags": []
   },
   "outputs": [
    {
     "output_type": "stream",
     "name": "stdout",
     "text": "3,277건\n"
    }
   ],
   "source": [
    "news_cnt = count[0].get_text()[7:]\n",
    "print(news_cnt)"
   ]
  },
  {
   "cell_type": "code",
   "execution_count": 25,
   "metadata": {},
   "outputs": [],
   "source": [
    "\"\"\"\n",
    "'불황'단어에 대한 뉴스 기사숫자\n",
    "str을 int로 변환 \n",
    "ex. 3,277건 --> 3277\n",
    "\"\"\"\n",
    "def extract_only_counting(text):\n",
    "    regex = re.compile(r'((-)?\\d{1,3}(,\\d{3})*(\\.\\d+)?)')\n",
    "    search = regex.search(text)\n",
    "    \n",
    "    if search:\n",
    "        return int(search.group(1).replace(',',''))\n",
    "    else:\n",
    "        return 0"
   ]
  },
  {
   "cell_type": "code",
   "execution_count": 26,
   "metadata": {
    "tags": []
   },
   "outputs": [
    {
     "output_type": "execute_result",
     "data": {
      "text/plain": "3277"
     },
     "metadata": {},
     "execution_count": 26
    }
   ],
   "source": [
    "extract_only_counting(news_cnt)"
   ]
  },
  {
   "source": [
    "## TO DO\n",
    "\n",
    "전체 기간동안 각각 한 달동안의 뉴스기사 카운팅해서,\n",
    "dataframe화 하기\n"
   ],
   "cell_type": "markdown",
   "metadata": {}
  }
 ]
} 
