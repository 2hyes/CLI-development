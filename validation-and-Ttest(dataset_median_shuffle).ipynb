{
 "cells": [
  {
   "cell_type": "code",
   "execution_count": 54,
   "metadata": {},
   "outputs": [],
   "source": [
    "import pandas as pd\n",
    "from sklearn.model_selection import train_test_split, cross_val_score, KFold\n",
    "import pymysql\n",
    "import numpy as np\n",
    "import pickle\n",
    "from sklearn.linear_model import LinearRegression, Lasso\n",
    "from sklearn.ensemble import RandomForestRegressor\n",
    "from sklearn.svm import SVR\n",
    "from sklearn.metrics import mean_squared_error\n",
    "import matplotlib.pyplot as plt\n",
    "from sklearn.preprocessing import StandardScaler\n",
    "from pygam import LinearGAM, s, f\n",
    "import os\n",
    "import warnings\n",
    "warnings.filterwarnings(action='ignore') "
   ]
  },
  {
   "cell_type": "code",
   "execution_count": 55,
   "metadata": {},
   "outputs": [],
   "source": [
    "def pickleLoad(file):\n",
    "    if os.path.isfile(file):        \n",
    "        with open(file,\"rb\") as fr:\n",
    "            dataframe = pickle.load(fr)\n",
    "        return dataframe\n",
    "    else:  \n",
    "        %run -i './getTrainTestSet/getTrainTestSet_median.py' "
   ]
  },
  {
   "cell_type": "code",
   "execution_count": 56,
   "metadata": {},
   "outputs": [],
   "source": [
    "# load train, test set data\n",
    "\n",
    "X_train = pickleLoad('./dataset/dataset_median/X_train.pkl')\n",
    "X_test = pickleLoad('./dataset/dataset_median/X_test.pkl')\n",
    "y_train = pickleLoad('./dataset/dataset_median/y_train.pkl')\n",
    "y_test = pickleLoad('./dataset/dataset_median/y_test.pkl')\n",
    "ccsi = pickleLoad('./dataset/dataset_median/ccsi.pkl')\n",
    "predictors = pickleLoad('./dataset/dataset_median/predictors.pkl')"
   ]
  },
  {
   "cell_type": "markdown",
   "metadata": {},
   "source": [
    "* data preprocessing(standard scaling)"
   ]
  },
  {
   "cell_type": "code",
   "execution_count": 57,
   "metadata": {},
   "outputs": [
    {
     "data": {
      "text/html": [
       "<div>\n",
       "<style scoped>\n",
       "    .dataframe tbody tr th:only-of-type {\n",
       "        vertical-align: middle;\n",
       "    }\n",
       "\n",
       "    .dataframe tbody tr th {\n",
       "        vertical-align: top;\n",
       "    }\n",
       "\n",
       "    .dataframe thead th {\n",
       "        text-align: right;\n",
       "    }\n",
       "</style>\n",
       "<table border=\"1\" class=\"dataframe\">\n",
       "  <thead>\n",
       "    <tr style=\"text-align: right;\">\n",
       "      <th></th>\n",
       "      <th>keyword1</th>\n",
       "      <th>keyword2</th>\n",
       "      <th>keyword3</th>\n",
       "      <th>keyword4</th>\n",
       "      <th>keyword5</th>\n",
       "      <th>google</th>\n",
       "      <th>naver</th>\n",
       "    </tr>\n",
       "  </thead>\n",
       "  <tbody>\n",
       "    <tr>\n",
       "      <th>39</th>\n",
       "      <td>710.0</td>\n",
       "      <td>246.0</td>\n",
       "      <td>204.0</td>\n",
       "      <td>86.0</td>\n",
       "      <td>111.0</td>\n",
       "      <td>70.0</td>\n",
       "      <td>36.612910</td>\n",
       "    </tr>\n",
       "    <tr>\n",
       "      <th>3</th>\n",
       "      <td>663.0</td>\n",
       "      <td>250.0</td>\n",
       "      <td>367.5</td>\n",
       "      <td>318.5</td>\n",
       "      <td>124.5</td>\n",
       "      <td>68.5</td>\n",
       "      <td>25.756655</td>\n",
       "    </tr>\n",
       "    <tr>\n",
       "      <th>55</th>\n",
       "      <td>896.0</td>\n",
       "      <td>229.0</td>\n",
       "      <td>171.0</td>\n",
       "      <td>71.0</td>\n",
       "      <td>135.0</td>\n",
       "      <td>76.0</td>\n",
       "      <td>34.073460</td>\n",
       "    </tr>\n",
       "    <tr>\n",
       "      <th>45</th>\n",
       "      <td>731.0</td>\n",
       "      <td>274.0</td>\n",
       "      <td>219.5</td>\n",
       "      <td>185.0</td>\n",
       "      <td>107.5</td>\n",
       "      <td>76.5</td>\n",
       "      <td>33.872980</td>\n",
       "    </tr>\n",
       "    <tr>\n",
       "      <th>33</th>\n",
       "      <td>577.0</td>\n",
       "      <td>324.0</td>\n",
       "      <td>190.0</td>\n",
       "      <td>95.0</td>\n",
       "      <td>172.0</td>\n",
       "      <td>69.0</td>\n",
       "      <td>39.268770</td>\n",
       "    </tr>\n",
       "    <tr>\n",
       "      <th>25</th>\n",
       "      <td>400.5</td>\n",
       "      <td>199.0</td>\n",
       "      <td>162.5</td>\n",
       "      <td>76.0</td>\n",
       "      <td>100.0</td>\n",
       "      <td>53.0</td>\n",
       "      <td>20.641110</td>\n",
       "    </tr>\n",
       "    <tr>\n",
       "      <th>43</th>\n",
       "      <td>855.5</td>\n",
       "      <td>354.0</td>\n",
       "      <td>211.5</td>\n",
       "      <td>84.5</td>\n",
       "      <td>123.0</td>\n",
       "      <td>76.5</td>\n",
       "      <td>37.121665</td>\n",
       "    </tr>\n",
       "    <tr>\n",
       "      <th>51</th>\n",
       "      <td>1739.5</td>\n",
       "      <td>726.5</td>\n",
       "      <td>263.5</td>\n",
       "      <td>63.0</td>\n",
       "      <td>308.0</td>\n",
       "      <td>86.0</td>\n",
       "      <td>51.914280</td>\n",
       "    </tr>\n",
       "    <tr>\n",
       "      <th>9</th>\n",
       "      <td>678.0</td>\n",
       "      <td>266.0</td>\n",
       "      <td>261.0</td>\n",
       "      <td>280.0</td>\n",
       "      <td>146.0</td>\n",
       "      <td>69.0</td>\n",
       "      <td>25.347070</td>\n",
       "    </tr>\n",
       "    <tr>\n",
       "      <th>6</th>\n",
       "      <td>715.0</td>\n",
       "      <td>249.5</td>\n",
       "      <td>319.0</td>\n",
       "      <td>304.0</td>\n",
       "      <td>74.5</td>\n",
       "      <td>54.0</td>\n",
       "      <td>20.854525</td>\n",
       "    </tr>\n",
       "    <tr>\n",
       "      <th>35</th>\n",
       "      <td>810.0</td>\n",
       "      <td>246.0</td>\n",
       "      <td>307.0</td>\n",
       "      <td>129.0</td>\n",
       "      <td>119.0</td>\n",
       "      <td>69.0</td>\n",
       "      <td>33.732860</td>\n",
       "    </tr>\n",
       "    <tr>\n",
       "      <th>57</th>\n",
       "      <td>884.0</td>\n",
       "      <td>185.0</td>\n",
       "      <td>171.5</td>\n",
       "      <td>59.5</td>\n",
       "      <td>100.5</td>\n",
       "      <td>86.0</td>\n",
       "      <td>27.942565</td>\n",
       "    </tr>\n",
       "    <tr>\n",
       "      <th>42</th>\n",
       "      <td>615.0</td>\n",
       "      <td>309.0</td>\n",
       "      <td>199.0</td>\n",
       "      <td>90.0</td>\n",
       "      <td>114.0</td>\n",
       "      <td>80.0</td>\n",
       "      <td>35.509180</td>\n",
       "    </tr>\n",
       "    <tr>\n",
       "      <th>18</th>\n",
       "      <td>389.0</td>\n",
       "      <td>182.0</td>\n",
       "      <td>188.0</td>\n",
       "      <td>159.0</td>\n",
       "      <td>78.0</td>\n",
       "      <td>51.0</td>\n",
       "      <td>19.013530</td>\n",
       "    </tr>\n",
       "    <tr>\n",
       "      <th>49</th>\n",
       "      <td>1134.5</td>\n",
       "      <td>185.0</td>\n",
       "      <td>212.0</td>\n",
       "      <td>99.0</td>\n",
       "      <td>97.5</td>\n",
       "      <td>63.5</td>\n",
       "      <td>29.699490</td>\n",
       "    </tr>\n",
       "    <tr>\n",
       "      <th>2</th>\n",
       "      <td>663.0</td>\n",
       "      <td>260.5</td>\n",
       "      <td>288.0</td>\n",
       "      <td>263.5</td>\n",
       "      <td>106.0</td>\n",
       "      <td>68.5</td>\n",
       "      <td>27.666635</td>\n",
       "    </tr>\n",
       "    <tr>\n",
       "      <th>26</th>\n",
       "      <td>432.5</td>\n",
       "      <td>195.0</td>\n",
       "      <td>160.5</td>\n",
       "      <td>82.5</td>\n",
       "      <td>93.5</td>\n",
       "      <td>64.0</td>\n",
       "      <td>28.979470</td>\n",
       "    </tr>\n",
       "    <tr>\n",
       "      <th>48</th>\n",
       "      <td>584.0</td>\n",
       "      <td>187.5</td>\n",
       "      <td>221.5</td>\n",
       "      <td>144.0</td>\n",
       "      <td>118.5</td>\n",
       "      <td>59.5</td>\n",
       "      <td>23.753980</td>\n",
       "    </tr>\n",
       "    <tr>\n",
       "      <th>56</th>\n",
       "      <td>935.0</td>\n",
       "      <td>221.0</td>\n",
       "      <td>193.0</td>\n",
       "      <td>44.5</td>\n",
       "      <td>111.5</td>\n",
       "      <td>80.5</td>\n",
       "      <td>36.423210</td>\n",
       "    </tr>\n",
       "    <tr>\n",
       "      <th>44</th>\n",
       "      <td>742.0</td>\n",
       "      <td>235.0</td>\n",
       "      <td>222.0</td>\n",
       "      <td>127.0</td>\n",
       "      <td>100.0</td>\n",
       "      <td>75.0</td>\n",
       "      <td>29.986200</td>\n",
       "    </tr>\n",
       "    <tr>\n",
       "      <th>1</th>\n",
       "      <td>889.0</td>\n",
       "      <td>364.0</td>\n",
       "      <td>376.0</td>\n",
       "      <td>297.0</td>\n",
       "      <td>123.0</td>\n",
       "      <td>60.0</td>\n",
       "      <td>23.764760</td>\n",
       "    </tr>\n",
       "    <tr>\n",
       "      <th>34</th>\n",
       "      <td>729.0</td>\n",
       "      <td>317.5</td>\n",
       "      <td>246.5</td>\n",
       "      <td>149.5</td>\n",
       "      <td>193.5</td>\n",
       "      <td>75.0</td>\n",
       "      <td>39.372245</td>\n",
       "    </tr>\n",
       "    <tr>\n",
       "      <th>40</th>\n",
       "      <td>672.5</td>\n",
       "      <td>239.0</td>\n",
       "      <td>205.5</td>\n",
       "      <td>141.5</td>\n",
       "      <td>113.0</td>\n",
       "      <td>80.5</td>\n",
       "      <td>41.739235</td>\n",
       "    </tr>\n",
       "    <tr>\n",
       "      <th>46</th>\n",
       "      <td>705.0</td>\n",
       "      <td>267.0</td>\n",
       "      <td>201.0</td>\n",
       "      <td>175.0</td>\n",
       "      <td>107.5</td>\n",
       "      <td>74.0</td>\n",
       "      <td>28.686290</td>\n",
       "    </tr>\n",
       "    <tr>\n",
       "      <th>13</th>\n",
       "      <td>655.5</td>\n",
       "      <td>259.5</td>\n",
       "      <td>441.5</td>\n",
       "      <td>252.5</td>\n",
       "      <td>112.0</td>\n",
       "      <td>54.5</td>\n",
       "      <td>19.308870</td>\n",
       "    </tr>\n",
       "    <tr>\n",
       "      <th>19</th>\n",
       "      <td>320.0</td>\n",
       "      <td>164.0</td>\n",
       "      <td>143.0</td>\n",
       "      <td>97.5</td>\n",
       "      <td>80.5</td>\n",
       "      <td>52.5</td>\n",
       "      <td>21.844010</td>\n",
       "    </tr>\n",
       "    <tr>\n",
       "      <th>37</th>\n",
       "      <td>586.0</td>\n",
       "      <td>219.5</td>\n",
       "      <td>187.5</td>\n",
       "      <td>94.5</td>\n",
       "      <td>83.5</td>\n",
       "      <td>56.0</td>\n",
       "      <td>26.948775</td>\n",
       "    </tr>\n",
       "    <tr>\n",
       "      <th>4</th>\n",
       "      <td>662.0</td>\n",
       "      <td>287.0</td>\n",
       "      <td>385.0</td>\n",
       "      <td>249.0</td>\n",
       "      <td>131.0</td>\n",
       "      <td>73.0</td>\n",
       "      <td>27.783040</td>\n",
       "    </tr>\n",
       "    <tr>\n",
       "      <th>15</th>\n",
       "      <td>503.5</td>\n",
       "      <td>205.0</td>\n",
       "      <td>282.5</td>\n",
       "      <td>210.5</td>\n",
       "      <td>95.0</td>\n",
       "      <td>64.5</td>\n",
       "      <td>22.400185</td>\n",
       "    </tr>\n",
       "    <tr>\n",
       "      <th>10</th>\n",
       "      <td>648.5</td>\n",
       "      <td>275.0</td>\n",
       "      <td>271.5</td>\n",
       "      <td>232.5</td>\n",
       "      <td>132.5</td>\n",
       "      <td>69.5</td>\n",
       "      <td>27.412260</td>\n",
       "    </tr>\n",
       "    <tr>\n",
       "      <th>32</th>\n",
       "      <td>585.5</td>\n",
       "      <td>240.5</td>\n",
       "      <td>203.0</td>\n",
       "      <td>86.5</td>\n",
       "      <td>131.5</td>\n",
       "      <td>63.0</td>\n",
       "      <td>33.847110</td>\n",
       "    </tr>\n",
       "    <tr>\n",
       "      <th>23</th>\n",
       "      <td>363.0</td>\n",
       "      <td>169.0</td>\n",
       "      <td>181.5</td>\n",
       "      <td>91.0</td>\n",
       "      <td>86.5</td>\n",
       "      <td>62.5</td>\n",
       "      <td>21.186510</td>\n",
       "    </tr>\n",
       "    <tr>\n",
       "      <th>31</th>\n",
       "      <td>544.0</td>\n",
       "      <td>351.0</td>\n",
       "      <td>188.0</td>\n",
       "      <td>88.0</td>\n",
       "      <td>162.5</td>\n",
       "      <td>61.0</td>\n",
       "      <td>34.375265</td>\n",
       "    </tr>\n",
       "    <tr>\n",
       "      <th>17</th>\n",
       "      <td>378.5</td>\n",
       "      <td>153.5</td>\n",
       "      <td>184.0</td>\n",
       "      <td>188.5</td>\n",
       "      <td>89.5</td>\n",
       "      <td>63.0</td>\n",
       "      <td>24.849090</td>\n",
       "    </tr>\n",
       "    <tr>\n",
       "      <th>29</th>\n",
       "      <td>450.0</td>\n",
       "      <td>214.0</td>\n",
       "      <td>139.5</td>\n",
       "      <td>71.5</td>\n",
       "      <td>77.5</td>\n",
       "      <td>65.5</td>\n",
       "      <td>37.050525</td>\n",
       "    </tr>\n",
       "    <tr>\n",
       "      <th>47</th>\n",
       "      <td>651.0</td>\n",
       "      <td>217.0</td>\n",
       "      <td>253.0</td>\n",
       "      <td>191.0</td>\n",
       "      <td>121.0</td>\n",
       "      <td>64.0</td>\n",
       "      <td>24.450280</td>\n",
       "    </tr>\n",
       "    <tr>\n",
       "      <th>21</th>\n",
       "      <td>322.0</td>\n",
       "      <td>178.0</td>\n",
       "      <td>125.0</td>\n",
       "      <td>104.0</td>\n",
       "      <td>107.0</td>\n",
       "      <td>66.0</td>\n",
       "      <td>25.743720</td>\n",
       "    </tr>\n",
       "    <tr>\n",
       "      <th>11</th>\n",
       "      <td>774.0</td>\n",
       "      <td>326.0</td>\n",
       "      <td>443.5</td>\n",
       "      <td>241.5</td>\n",
       "      <td>190.0</td>\n",
       "      <td>56.5</td>\n",
       "      <td>22.708455</td>\n",
       "    </tr>\n",
       "    <tr>\n",
       "      <th>7</th>\n",
       "      <td>593.0</td>\n",
       "      <td>211.0</td>\n",
       "      <td>281.0</td>\n",
       "      <td>228.0</td>\n",
       "      <td>84.0</td>\n",
       "      <td>44.0</td>\n",
       "      <td>22.544620</td>\n",
       "    </tr>\n",
       "    <tr>\n",
       "      <th>27</th>\n",
       "      <td>442.0</td>\n",
       "      <td>171.0</td>\n",
       "      <td>151.0</td>\n",
       "      <td>65.0</td>\n",
       "      <td>75.0</td>\n",
       "      <td>65.0</td>\n",
       "      <td>27.731300</td>\n",
       "    </tr>\n",
       "    <tr>\n",
       "      <th>28</th>\n",
       "      <td>488.0</td>\n",
       "      <td>224.5</td>\n",
       "      <td>157.0</td>\n",
       "      <td>80.0</td>\n",
       "      <td>98.5</td>\n",
       "      <td>64.0</td>\n",
       "      <td>29.731820</td>\n",
       "    </tr>\n",
       "    <tr>\n",
       "      <th>0</th>\n",
       "      <td>871.5</td>\n",
       "      <td>420.5</td>\n",
       "      <td>439.0</td>\n",
       "      <td>390.5</td>\n",
       "      <td>158.0</td>\n",
       "      <td>58.5</td>\n",
       "      <td>25.612225</td>\n",
       "    </tr>\n",
       "    <tr>\n",
       "      <th>5</th>\n",
       "      <td>771.5</td>\n",
       "      <td>361.0</td>\n",
       "      <td>350.5</td>\n",
       "      <td>319.0</td>\n",
       "      <td>106.0</td>\n",
       "      <td>67.5</td>\n",
       "      <td>29.499000</td>\n",
       "    </tr>\n",
       "    <tr>\n",
       "      <th>12</th>\n",
       "      <td>810.0</td>\n",
       "      <td>253.0</td>\n",
       "      <td>479.0</td>\n",
       "      <td>275.0</td>\n",
       "      <td>211.0</td>\n",
       "      <td>53.0</td>\n",
       "      <td>20.436310</td>\n",
       "    </tr>\n",
       "    <tr>\n",
       "      <th>53</th>\n",
       "      <td>1279.0</td>\n",
       "      <td>351.0</td>\n",
       "      <td>213.0</td>\n",
       "      <td>78.0</td>\n",
       "      <td>223.0</td>\n",
       "      <td>90.0</td>\n",
       "      <td>39.708540</td>\n",
       "    </tr>\n",
       "    <tr>\n",
       "      <th>8</th>\n",
       "      <td>662.0</td>\n",
       "      <td>216.5</td>\n",
       "      <td>294.0</td>\n",
       "      <td>260.5</td>\n",
       "      <td>91.5</td>\n",
       "      <td>58.5</td>\n",
       "      <td>22.898160</td>\n",
       "    </tr>\n",
       "  </tbody>\n",
       "</table>\n",
       "</div>"
      ],
      "text/plain": [
       "    keyword1  keyword2  keyword3  keyword4  keyword5  google      naver\n",
       "39     710.0     246.0     204.0      86.0     111.0    70.0  36.612910\n",
       "3      663.0     250.0     367.5     318.5     124.5    68.5  25.756655\n",
       "55     896.0     229.0     171.0      71.0     135.0    76.0  34.073460\n",
       "45     731.0     274.0     219.5     185.0     107.5    76.5  33.872980\n",
       "33     577.0     324.0     190.0      95.0     172.0    69.0  39.268770\n",
       "25     400.5     199.0     162.5      76.0     100.0    53.0  20.641110\n",
       "43     855.5     354.0     211.5      84.5     123.0    76.5  37.121665\n",
       "51    1739.5     726.5     263.5      63.0     308.0    86.0  51.914280\n",
       "9      678.0     266.0     261.0     280.0     146.0    69.0  25.347070\n",
       "6      715.0     249.5     319.0     304.0      74.5    54.0  20.854525\n",
       "35     810.0     246.0     307.0     129.0     119.0    69.0  33.732860\n",
       "57     884.0     185.0     171.5      59.5     100.5    86.0  27.942565\n",
       "42     615.0     309.0     199.0      90.0     114.0    80.0  35.509180\n",
       "18     389.0     182.0     188.0     159.0      78.0    51.0  19.013530\n",
       "49    1134.5     185.0     212.0      99.0      97.5    63.5  29.699490\n",
       "2      663.0     260.5     288.0     263.5     106.0    68.5  27.666635\n",
       "26     432.5     195.0     160.5      82.5      93.5    64.0  28.979470\n",
       "48     584.0     187.5     221.5     144.0     118.5    59.5  23.753980\n",
       "56     935.0     221.0     193.0      44.5     111.5    80.5  36.423210\n",
       "44     742.0     235.0     222.0     127.0     100.0    75.0  29.986200\n",
       "1      889.0     364.0     376.0     297.0     123.0    60.0  23.764760\n",
       "34     729.0     317.5     246.5     149.5     193.5    75.0  39.372245\n",
       "40     672.5     239.0     205.5     141.5     113.0    80.5  41.739235\n",
       "46     705.0     267.0     201.0     175.0     107.5    74.0  28.686290\n",
       "13     655.5     259.5     441.5     252.5     112.0    54.5  19.308870\n",
       "19     320.0     164.0     143.0      97.5      80.5    52.5  21.844010\n",
       "37     586.0     219.5     187.5      94.5      83.5    56.0  26.948775\n",
       "4      662.0     287.0     385.0     249.0     131.0    73.0  27.783040\n",
       "15     503.5     205.0     282.5     210.5      95.0    64.5  22.400185\n",
       "10     648.5     275.0     271.5     232.5     132.5    69.5  27.412260\n",
       "32     585.5     240.5     203.0      86.5     131.5    63.0  33.847110\n",
       "23     363.0     169.0     181.5      91.0      86.5    62.5  21.186510\n",
       "31     544.0     351.0     188.0      88.0     162.5    61.0  34.375265\n",
       "17     378.5     153.5     184.0     188.5      89.5    63.0  24.849090\n",
       "29     450.0     214.0     139.5      71.5      77.5    65.5  37.050525\n",
       "47     651.0     217.0     253.0     191.0     121.0    64.0  24.450280\n",
       "21     322.0     178.0     125.0     104.0     107.0    66.0  25.743720\n",
       "11     774.0     326.0     443.5     241.5     190.0    56.5  22.708455\n",
       "7      593.0     211.0     281.0     228.0      84.0    44.0  22.544620\n",
       "27     442.0     171.0     151.0      65.0      75.0    65.0  27.731300\n",
       "28     488.0     224.5     157.0      80.0      98.5    64.0  29.731820\n",
       "0      871.5     420.5     439.0     390.5     158.0    58.5  25.612225\n",
       "5      771.5     361.0     350.5     319.0     106.0    67.5  29.499000\n",
       "12     810.0     253.0     479.0     275.0     211.0    53.0  20.436310\n",
       "53    1279.0     351.0     213.0      78.0     223.0    90.0  39.708540\n",
       "8      662.0     216.5     294.0     260.5      91.5    58.5  22.898160"
      ]
     },
     "execution_count": 57,
     "metadata": {},
     "output_type": "execute_result"
    }
   ],
   "source": [
    "X_train"
   ]
  },
  {
   "cell_type": "code",
   "execution_count": 58,
   "metadata": {},
   "outputs": [],
   "source": [
    "# 변수 스케일링\n",
    "scaler = StandardScaler()\n",
    "scaler.fit(X_train)\n",
    "X_train = scaler.transform(X_train)\n",
    "X_test= scaler.transform(X_test)"
   ]
  },
  {
   "cell_type": "markdown",
   "metadata": {},
   "source": [
    "### model 1. multiple linear regression\n",
    "\n",
    "* 10-fold CV"
   ]
  },
  {
   "cell_type": "code",
   "execution_count": 59,
   "metadata": {},
   "outputs": [],
   "source": [
    "model_lr = LinearRegression()\n",
    "scores = cross_val_score(model_lr, X_train, y_train, cv = 10, scoring = 'neg_mean_squared_error')\n",
    "rmse_linearRegressionCV = np.sqrt(-scores)\n",
    "rmse_lravg = rmse_linearRegressionCV.mean()\n",
    "rmse_lrstd = rmse_linearRegressionCV.std()"
   ]
  },
  {
   "cell_type": "code",
   "execution_count": 60,
   "metadata": {},
   "outputs": [
    {
     "name": "stdout",
     "output_type": "stream",
     "text": [
      " 10-fold cv RMSE:  [3.39327216 2.14030743 6.96808553 5.84596586 2.40479721 3.92080142\n",
      " 3.38854407 0.31292818 3.90191471 0.85124885]\n",
      "최종 CV RMSE =  3.3127865404947605\n"
     ]
    }
   ],
   "source": [
    "print(\" 10-fold cv RMSE: \", rmse_linearRegressionCV)\n",
    "print(\"최종 CV RMSE = \", rmse_lravg)"
   ]
  },
  {
   "cell_type": "markdown",
   "metadata": {},
   "source": [
    "### model 2: Random Forest"
   ]
  },
  {
   "cell_type": "code",
   "execution_count": 61,
   "metadata": {},
   "outputs": [],
   "source": [
    "k_fold = KFold(n_splits=10, shuffle=True, random_state=0)"
   ]
  },
  {
   "cell_type": "code",
   "execution_count": 62,
   "metadata": {},
   "outputs": [],
   "source": [
    "# CV\n",
    "rmse_randomforest, parameters_randomforest = [], []\n",
    "numOfEstimators = np.power(2, [3,4,5,6])\n",
    "maxFeatures = [1,2,3,4,5]\n",
    "for i in maxFeatures:\n",
    "    for j in numOfEstimators:\n",
    "        # parameter search\n",
    "        model_forest = RandomForestRegressor(max_features = i, n_estimators = j, warm_start = True, random_state = 23)\n",
    "        parameters_randomforest.append(model_forest.get_params)\n",
    "        # 10-fold CV\n",
    "        scores = cross_val_score(model_forest, X_train, y_train, cv = k_fold, scoring = 'neg_mean_squared_error')\n",
    "        rmse_randomforest.append(np.sqrt(-scores))\n",
    "    "
   ]
  },
  {
   "cell_type": "code",
   "execution_count": 63,
   "metadata": {},
   "outputs": [],
   "source": [
    "def getCVResult(rmse_list, model_num):\n",
    "    cv_rmse =  rmse_list[model_num - 1].mean()\n",
    "    std = rmse_list[model_num - 1].std()\n",
    "\n",
    "    return cv_rmse, std"
   ]
  },
  {
   "cell_type": "code",
   "execution_count": 64,
   "metadata": {},
   "outputs": [
    {
     "name": "stdout",
     "output_type": "stream",
     "text": [
      "1 4.15396601994267 1.8032056677377812\n",
      "2 4.52061658662206 1.6570662178063464\n",
      "3 4.34788019688135 1.4445922869786736\n",
      "4 4.228127177128366 1.565441472777754\n",
      "5 3.885329825282868 1.4402713910986988\n",
      "6 4.2606697174833466 1.5544029588624633\n",
      "7 4.0707783399494755 1.6444509662606843\n",
      "8 3.9431665321329747 1.7328326453301341\n",
      "9 4.052623915332136 2.0397130299696644\n",
      "10 4.124738715251858 1.6733140021085249\n",
      "11 3.9984223004765207 1.7473842520291734\n",
      "12 3.777013535840525 1.678683628091368\n",
      "13 4.300339341697531 1.624677462990255\n",
      "14 4.043200490210586 1.6555590867470906\n",
      "15 3.978971440268566 1.5913184263898035\n",
      "16 3.776287528877699 1.5576401286044372\n",
      "17 3.770386054902027 1.7068577022559113\n",
      "18 3.4960713067559843 1.6505996389426136\n",
      "19 3.6998893776756994 1.5850592208455585\n",
      "20 3.6554475174251735 1.5321071238180592\n"
     ]
    }
   ],
   "source": [
    "rmse_list, std_list = [], []\n",
    "for i in range(1,21):\n",
    "    cv_rmse, std = getCVResult(rmse_randomforest, i)\n",
    "    rmse_list.append(cv_rmse)\n",
    "    std_list.append(std)\n",
    "    print(i, cv_rmse, std)\n",
    "    "
   ]
  },
  {
   "cell_type": "markdown",
   "metadata": {},
   "source": [
    "#### final random forest model selection"
   ]
  },
  {
   "cell_type": "code",
   "execution_count": 65,
   "metadata": {},
   "outputs": [
    {
     "data": {
      "text/plain": [
       "17"
      ]
     },
     "execution_count": 65,
     "metadata": {},
     "output_type": "execute_result"
    }
   ],
   "source": [
    "rmse_list.index(min(rmse_list))"
   ]
  },
  {
   "cell_type": "markdown",
   "metadata": {},
   "source": [
    "model 후보 1~20번 중에, 18번모델이 가장 낮은 rmse 평균값을 갖고있음을 확인할 수 있다.\n",
    "\n",
    "따라서, 18번 모델을 랜덤포레스트 대표모델로 활용하고자 한다."
   ]
  },
  {
   "cell_type": "code",
   "execution_count": 66,
   "metadata": {},
   "outputs": [
    {
     "data": {
      "text/plain": [
       "<bound method BaseEstimator.get_params of RandomForestRegressor(max_features=5, n_estimators=16, random_state=23,\n",
       "                      warm_start=True)>"
      ]
     },
     "execution_count": 66,
     "metadata": {},
     "output_type": "execute_result"
    }
   ],
   "source": [
    "# 대표 모델의 파라미터\n",
    "parameters_randomforest[rmse_list.index(min(rmse_list))]"
   ]
  },
  {
   "cell_type": "code",
   "execution_count": 67,
   "metadata": {},
   "outputs": [],
   "source": [
    "# 대표 모델의 평균 rmse와 std\n",
    "rmse_forestavg = rmse_list[rmse_list.index(min(rmse_list))]\n",
    "rmse_foreststd = std_list[rmse_list.index(min(rmse_list))]"
   ]
  },
  {
   "cell_type": "code",
   "execution_count": 68,
   "metadata": {},
   "outputs": [
    {
     "data": {
      "text/plain": [
       "array([2.49426686, 3.20727688, 1.84085366, 6.59986269, 4.01898813,\n",
       "       5.80335773, 0.9205499 , 3.79584734, 2.36186334, 3.91784654])"
      ]
     },
     "execution_count": 68,
     "metadata": {},
     "output_type": "execute_result"
    }
   ],
   "source": [
    "# 대표 모델의 10-fold cv\n",
    "rmse_randomforestCV = rmse_randomforest[rmse_list.index(min(rmse_list))]\n",
    "rmse_randomforestCV"
   ]
  },
  {
   "cell_type": "code",
   "execution_count": 69,
   "metadata": {},
   "outputs": [
    {
     "name": "stdout",
     "output_type": "stream",
     "text": [
      " 10-fold cv RMSE:  [2.49426686 3.20727688 1.84085366 6.59986269 4.01898813 5.80335773\n",
      " 0.9205499  3.79584734 2.36186334 3.91784654]\n",
      "최종 CV RMSE =  3.4960713067559843\n"
     ]
    }
   ],
   "source": [
    "print(\" 10-fold cv RMSE: \", rmse_randomforestCV)\n",
    "print(\"최종 CV RMSE = \", rmse_forestavg)"
   ]
  },
  {
   "cell_type": "markdown",
   "metadata": {},
   "source": [
    "### model 3: GAM"
   ]
  },
  {
   "cell_type": "code",
   "execution_count": 70,
   "metadata": {},
   "outputs": [],
   "source": [
    "X_train_df = pd.DataFrame(X_train, columns = ['keyword1', 'keyword2', 'keyword3', 'keyword4', 'keyword5', 'google', 'naver'])\n",
    "y_train_df = np.array(y_train)\n",
    "y_train_df = pd.DataFrame(y_train_df)"
   ]
  },
  {
   "cell_type": "code",
   "execution_count": 71,
   "metadata": {},
   "outputs": [
    {
     "name": "stderr",
     "output_type": "stream",
     "text": [
      "100% (100 of 100) |######################| Elapsed Time: 0:00:06 Time:  0:00:06\n",
      "100% (100 of 100) |######################| Elapsed Time: 0:00:06 Time:  0:00:06\n",
      "100% (100 of 100) |######################| Elapsed Time: 0:00:05 Time:  0:00:05\n",
      "100% (100 of 100) |######################| Elapsed Time: 0:00:05 Time:  0:00:05\n",
      "100% (100 of 100) |######################| Elapsed Time: 0:00:05 Time:  0:00:05\n",
      "100% (100 of 100) |######################| Elapsed Time: 0:00:05 Time:  0:00:05\n",
      "100% (100 of 100) |######################| Elapsed Time: 0:00:05 Time:  0:00:05\n",
      "100% (100 of 100) |######################| Elapsed Time: 0:00:06 Time:  0:00:06\n",
      "100% (100 of 100) |######################| Elapsed Time: 0:00:06 Time:  0:00:06\n",
      "100% (100 of 100) |######################| Elapsed Time: 0:00:05 Time:  0:00:05\n"
     ]
    }
   ],
   "source": [
    "# CV\n",
    "rmse_gam, parameters_gam = [], []\n",
    "np.random.seed(1)\n",
    "lams = np.random.rand(100, 7) # random points on [0, 1], with shape (100, 7)\n",
    "lams = lams * 6 - 3 # shift values to -3, 3\n",
    "lams = 10 ** lams # transforms values to 1e-3, \n",
    "\n",
    "K=10\n",
    "for k in range(K):\n",
    "    if k < 3:\n",
    "        val_ind = (range(4 * k, 4 * k + 4))\n",
    "    else:\n",
    "        val_ind = (range(5 * (k-1)+1, 5 * (k-1)+6))\n",
    "    X_train2 = X_train_df.drop(val_ind).to_numpy()\n",
    "    y_train2 = y_train_df.drop(val_ind).to_numpy()\n",
    "    X_val = X_train_df.loc[val_ind, :].to_numpy()\n",
    "    y_val = y_train_df.loc[val_ind, :].to_numpy()\n",
    "    # parameter search\n",
    "    model_gam =  LinearGAM(s(0) + s(1) + s(2) + s(3) + s(4) + s(5)+ s(6)).gridsearch(X_train2, y_train2, lam=lams)\n",
    "    parameters_gam.append(model_gam.get_params)\n",
    "    y_hat = model_gam.predict(X_val)\n",
    "    scores = mean_squared_error(y_val, y_hat)\n",
    "    rmse_gam.append(np.sqrt(scores))\n",
    "    "
   ]
  },
  {
   "cell_type": "code",
   "execution_count": 72,
   "metadata": {},
   "outputs": [
    {
     "name": "stdout",
     "output_type": "stream",
     "text": [
      " 10-fold cv RMSE:  [3.2473229481987476, 12.356600810308596, 5.326795348941597, 7.73382188942087, 4.328596151925074, 8.88867342580758, 5.272884069320897, 5.385121841340853, 8.25686860032585, 12.232249720531414]\n",
      "최종 CV RMSE =  7.302893480612147\n"
     ]
    }
   ],
   "source": [
    "rmse_gamavg = np.mean(rmse_gam)\n",
    "rmse_gamstd = np.std(rmse_gam)\n",
    "print(\" 10-fold cv RMSE: \", rmse_gam)\n",
    "print(\"최종 CV RMSE = \", rmse_gamavg)"
   ]
  },
  {
   "cell_type": "markdown",
   "metadata": {},
   "source": [
    "### model 4: Lasso Regression"
   ]
  },
  {
   "cell_type": "code",
   "execution_count": 73,
   "metadata": {},
   "outputs": [],
   "source": [
    "# CV\n",
    "rmse_lasso, parameters_lasso = [], []\n",
    "alpha = [10, 1, 0.1, 0.01, 0.001]\n",
    "for i in alpha:\n",
    "    # parameter search\n",
    "    model_lasso = Lasso(alpha = i, random_state = 23)\n",
    "    parameters_lasso.append(model_lasso.get_params)\n",
    "    # 10-fold CV\n",
    "    scores = cross_val_score(model_lasso, X_train, y_train, cv = k_fold, scoring = 'neg_mean_squared_error')\n",
    "    rmse_lasso.append(np.sqrt(-scores))\n",
    "    "
   ]
  },
  {
   "cell_type": "code",
   "execution_count": 74,
   "metadata": {},
   "outputs": [
    {
     "name": "stdout",
     "output_type": "stream",
     "text": [
      "1 7.517047407555718 3.02194391232923\n",
      "2 3.583660057046513 1.6338528012143307\n",
      "3 3.473084044900922 1.485501137401553\n",
      "4 3.507892294575813 1.4271447408178262\n",
      "5 3.524926471283976 1.4239709857859804\n"
     ]
    }
   ],
   "source": [
    "rmse_list, std_list = [], []\n",
    "for i in range(1, 6):\n",
    "    cv_rmse, std = getCVResult(rmse_lasso, i)\n",
    "    rmse_list.append(cv_rmse)\n",
    "    std_list.append(std)\n",
    "    print(i, cv_rmse, std)\n",
    "    "
   ]
  },
  {
   "cell_type": "markdown",
   "metadata": {},
   "source": [
    "#### final lasso linear regression model selection"
   ]
  },
  {
   "cell_type": "code",
   "execution_count": 75,
   "metadata": {},
   "outputs": [
    {
     "data": {
      "text/plain": [
       "2"
      ]
     },
     "execution_count": 75,
     "metadata": {},
     "output_type": "execute_result"
    }
   ],
   "source": [
    "rmse_list.index(min(rmse_list))"
   ]
  },
  {
   "cell_type": "markdown",
   "metadata": {},
   "source": [
    "model 후보 1~5번 중에, 3번모델이 가장 낮은 rmse 평균값을 갖고 있음을 확인할 수 있다.\n",
    "\n",
    "따라서, 3번 모델을 라쏘 회귀 대표모델로 활용하고자 한다."
   ]
  },
  {
   "cell_type": "code",
   "execution_count": 76,
   "metadata": {},
   "outputs": [
    {
     "data": {
      "text/plain": [
       "<bound method BaseEstimator.get_params of Lasso(alpha=0.1, random_state=23)>"
      ]
     },
     "execution_count": 76,
     "metadata": {},
     "output_type": "execute_result"
    }
   ],
   "source": [
    "# 대표 모델의 파라미터\n",
    "parameters_lasso[rmse_list.index(min(rmse_list))]"
   ]
  },
  {
   "cell_type": "code",
   "execution_count": 77,
   "metadata": {},
   "outputs": [],
   "source": [
    "# 대표 모델의 평균 rmse와 std\n",
    "rmse_lassoavg = rmse_list[rmse_list.index(min(rmse_list))]\n",
    "rmse_lassostd = std_list[rmse_list.index(min(rmse_list))]"
   ]
  },
  {
   "cell_type": "code",
   "execution_count": 78,
   "metadata": {},
   "outputs": [
    {
     "data": {
      "text/plain": [
       "array([2.39656856, 3.69558514, 3.55786108, 6.78508494, 2.5783628 ,\n",
       "       5.56999746, 2.58659765, 3.22129287, 1.7017746 , 2.63771536])"
      ]
     },
     "execution_count": 78,
     "metadata": {},
     "output_type": "execute_result"
    }
   ],
   "source": [
    "# 대표 모델의 10-fold cv\n",
    "rmse_lassoCV = rmse_lasso[rmse_list.index(min(rmse_list))]\n",
    "rmse_lassoCV "
   ]
  },
  {
   "cell_type": "markdown",
   "metadata": {},
   "source": [
    "###  Model간 CV RMSE 비교"
   ]
  },
  {
   "cell_type": "code",
   "execution_count": 79,
   "metadata": {},
   "outputs": [
    {
     "data": {
      "image/png": "[encoded data removed]",
      "text/plain": [
       "<Figure size 864x432 with 1 Axes>"
      ]
     },
     "metadata": {
      "needs_background": "light"
     },
     "output_type": "display_data"
    }
   ],
   "source": [
    "plt.plot(rmse_linearRegressionCV, color = 'red', label = 'Linear Regression')\n",
    "plt.plot(rmse_randomforestCV, color = 'blue', label = 'Random Forest')\n",
    "plt.plot(rmse_lassoCV, color = 'green', label = 'Lasso Linear Regression')\n",
    "plt.plot(rmse_gam, color = 'purple', label = 'Lasso Linear Regression')\n",
    "plt.xlabel(\"K\")\n",
    "plt.ylabel(\"K-fold CV RMSE\")\n",
    "plt.grid(True)"
   ]
  },
  {
   "cell_type": "code",
   "execution_count": 80,
   "metadata": {},
   "outputs": [
    {
     "name": "stdout",
     "output_type": "stream",
     "text": [
      "3.3127865404947605 3.4960713067559843 3.473084044900922 7.302893480612147\n"
     ]
    }
   ],
   "source": [
    "print(rmse_lravg, rmse_forestavg, rmse_lassoavg, rmse_gamavg)"
   ]
  },
  {
   "cell_type": "markdown",
   "metadata": {},
   "source": [
    "## T-test"
   ]
  },
  {
   "cell_type": "code",
   "execution_count": 81,
   "metadata": {},
   "outputs": [],
   "source": [
    "def tTest(rmse1, rmse2):\n",
    "    mean = (rmse1 - rmse2).mean()\n",
    "    sd = (rmse1 - rmse2).std()\n",
    "    t_statistic = mean / (sd / np.sqrt(10)) \n",
    "    return t_statistic"
   ]
  },
  {
   "cell_type": "markdown",
   "metadata": {},
   "source": [
    "**H0**: linear regression model의 rmse = Random Forest model의 rmse<br>\n",
    "즉, 두 모델의 성능에 차이가 없다.<br><br>\n",
    "**H1**: 두 모델의 성능에 차이가 있다."
   ]
  },
  {
   "cell_type": "code",
   "execution_count": 82,
   "metadata": {},
   "outputs": [
    {
     "name": "stdout",
     "output_type": "stream",
     "text": [
      "평균:  -0.18328476626122323\n"
     ]
    },
    {
     "data": {
      "text/plain": [
       "-0.22801357538794378"
      ]
     },
     "execution_count": 82,
     "metadata": {},
     "output_type": "execute_result"
    }
   ],
   "source": [
    "mean = np.average(rmse_linearRegressionCV - rmse_randomforestCV)\n",
    "sd = (rmse_linearRegressionCV - rmse_randomforestCV).std()\n",
    "print('평균: ', mean)\n",
    "tTest(rmse_linearRegressionCV, rmse_randomforestCV)"
   ]
  },
  {
   "cell_type": "markdown",
   "metadata": {},
   "source": [
    "t_0.05,9 = 1.844 <br>\n",
    "t_0.025,9 = 2.262 <br><br>\n",
    "\n",
    "유의수준 0.025에서 귀무가설이 기각되지 않는다. 따라서, linear regression model과 Random forest model의 성능에는 차이가 없다.\n"
   ]
  },
  {
   "cell_type": "markdown",
   "metadata": {},
   "source": [
    "**H0**: linear regression model의 rmse = Lasso linear regression model의 rmse<br>\n",
    "즉, 두 모델의 성능에 차이가 없다.<br><br>\n",
    "**H1**: 두 모델의 성능에 차이가 있다."
   ]
  },
  {
   "cell_type": "code",
   "execution_count": 83,
   "metadata": {},
   "outputs": [
    {
     "name": "stdout",
     "output_type": "stream",
     "text": [
      "평균:  -0.16029750440616047\n"
     ]
    },
    {
     "data": {
      "text/plain": [
       "-0.26884550425778614"
      ]
     },
     "execution_count": 83,
     "metadata": {},
     "output_type": "execute_result"
    }
   ],
   "source": [
    "mean = np.average(rmse_linearRegressionCV - rmse_lassoCV)\n",
    "sd = (rmse_linearRegressionCV - rmse_lassoCV).std()\n",
    "print('평균: ', mean)\n",
    "tTest(rmse_linearRegressionCV, rmse_lassoCV) "
   ]
  },
  {
   "cell_type": "markdown",
   "metadata": {},
   "source": [
    "t_0.05,9 = 1.844 <br>\n",
    "t_0.025,9 = 2.262 <br><br>\n",
    "\n",
    "유의수준 0.025에서 귀무가설이 기각되지않는다. 따라서, linear regression model과 Lasso linear regression model의 성능에는 차이가 없다."
   ]
  },
  {
   "cell_type": "markdown",
   "metadata": {},
   "source": [
    "**H0**: Random Forest model의 rmse = Lasso linear regression model의 rmse<br>\n",
    "즉, 두 모델의 성능에 차이가 없다.<br><br>\n",
    "**H1**: 두 모델의 성능에 차이가 있다."
   ]
  },
  {
   "cell_type": "code",
   "execution_count": 84,
   "metadata": {},
   "outputs": [
    {
     "name": "stdout",
     "output_type": "stream",
     "text": [
      "평균:  0.022987261855062814\n"
     ]
    },
    {
     "data": {
      "text/plain": [
       "0.07082139434233481"
      ]
     },
     "execution_count": 84,
     "metadata": {},
     "output_type": "execute_result"
    }
   ],
   "source": [
    "mean = np.average(rmse_randomforestCV - rmse_lassoCV)\n",
    "sd = (rmse_randomforestCV - rmse_lassoCV).std()\n",
    "print('평균: ', mean)\n",
    "tTest(rmse_randomforestCV, rmse_lassoCV)"
   ]
  },
  {
   "cell_type": "markdown",
   "metadata": {},
   "source": [
    "t_0.05,9 = 1.844 <br>\n",
    "t_0.025,9 = 2.262 <br><br>\n",
    "\n",
    "유의수준 0.025에서 귀무가설이 기각되지않는다. 따라서, random forest model과 Lasso linear regression model의 성능에는 차이가 없다."
   ]
  },
  {
   "cell_type": "markdown",
   "metadata": {},
   "source": [
    "**H0**: linear regression model의 rmse = Generalized additive model의 rmse<br>\n",
    "즉, 두 모델의 성능에 차이가 없다.<br><br>\n",
    "\n",
    "**H1**: 두 모델의 성능에 차이가 있다."
   ]
  },
  {
   "cell_type": "code",
   "execution_count": 85,
   "metadata": {},
   "outputs": [
    {
     "name": "stdout",
     "output_type": "stream",
     "text": [
      "평균:  -3.9901069401173865\n"
     ]
    },
    {
     "data": {
      "text/plain": [
       "-3.1784480286362053"
      ]
     },
     "execution_count": 85,
     "metadata": {},
     "output_type": "execute_result"
    }
   ],
   "source": [
    "mean = np.average(rmse_linearRegressionCV - rmse_gam)\n",
    "sd = (rmse_linearRegressionCV - rmse_gam).std()\n",
    "print('평균: ', mean)\n",
    "tTest(rmse_linearRegressionCV, rmse_gam)"
   ]
  },
  {
   "cell_type": "markdown",
   "metadata": {},
   "source": [
    "t_0.05,9 = 1.844 <br>\n",
    "t_0.025,9 = 2.262 <br><br>\n",
    "\n",
    "유의수준 0.05에서 귀무가설이 기각된다. 따라서, linear regression model과 Generalized additive model의 성능에는 차이가 있다. 평균값이 음수값이 나왔으므로 linear regression model의 rmse가 더 작아고 판단된다. 따라서 linear regression model의 성능이 더 좋다고 할 수 있다."
   ]
  },
  {
   "cell_type": "markdown",
   "metadata": {},
   "source": [
    "**H0**:  Random Forest model의 rmse = Generalized additive model의 rmse<br>\n",
    "즉, 두 모델의 성능에 차이가 없다.<br><br>\n",
    "**H1**: 두 모델의 성능에 차이가 있다."
   ]
  },
  {
   "cell_type": "code",
   "execution_count": 86,
   "metadata": {},
   "outputs": [
    {
     "name": "stdout",
     "output_type": "stream",
     "text": [
      "평균:  -3.806822173856163\n"
     ]
    },
    {
     "data": {
      "text/plain": [
       "-4.063632381568295"
      ]
     },
     "execution_count": 86,
     "metadata": {},
     "output_type": "execute_result"
    }
   ],
   "source": [
    "mean = np.average(rmse_randomforestCV - rmse_gam)\n",
    "sd = (rmse_randomforestCV - rmse_gam).std()\n",
    "print('평균: ', mean)\n",
    "tTest(rmse_randomforestCV, rmse_gam)"
   ]
  },
  {
   "cell_type": "markdown",
   "metadata": {},
   "source": [
    "t_0.05,9 = 1.844 <br>\n",
    "t_0.025,9 = 2.262 <br><br>\n",
    "\n",
    "유의수준 0.05에서 귀무가설이 기각된다. 따라서, Random Forest model과 Generalized additive model의 성능에는 차이가 있다. 평균값이 음수값이 나왔으므로 Random Forest model의 rmse가 더 작아고 판단된다. 따라서 Random Forest model의 성능이 더 좋다고 할 수 있다."
   ]
  },
  {
   "cell_type": "markdown",
   "metadata": {},
   "source": [
    "**H0**: Lasso linear regression model의 rmse = Generalized additive model의 rmse<br>\n",
    "즉, 두 모델의 성능에 차이가 없다.<br><br>\n",
    "**H1**: 두 모델의 성능에 차이가 있다."
   ]
  },
  {
   "cell_type": "code",
   "execution_count": 87,
   "metadata": {},
   "outputs": [
    {
     "name": "stdout",
     "output_type": "stream",
     "text": [
      "평균:  3.8298094357112262\n"
     ]
    },
    {
     "data": {
      "text/plain": [
       "3.9482284686579256"
      ]
     },
     "execution_count": 87,
     "metadata": {},
     "output_type": "execute_result"
    }
   ],
   "source": [
    "mean = np.average(rmse_gam - rmse_lassoCV)\n",
    "sd = (rmse_gam - rmse_lassoCV).std()\n",
    "print('평균: ', mean)\n",
    "tTest(rmse_gam, rmse_lassoCV)"
   ]
  },
  {
   "cell_type": "markdown",
   "metadata": {},
   "source": [
    "t_0.05,9 = 1.844 <br>\n",
    "t_0.025,9 = 2.262 <br><br>\n",
    "\n",
    "유의수준 0.05에서 귀무가설이 기각된다. 따라서, Lasso linear regression model과 Generalized additive model의 성능에는 차이가 있다. 평균값이 양수값이 나왔으므로 Lasso linear regression model의 rmse가 더 작아고 판단된다. 따라서 Lasso linear regression model의 성능이 더 좋다고 할 수 있다."
   ]
  },
  {
   "cell_type": "markdown",
   "metadata": {},
   "source": [
    "결론적으로, GAM은 다른 3개의 모델에 비해 성능이 떨어진다. 다른 3개의 모델의 성능은 차이가 있지 않으므로 모델의 해석력이 좋은 linear regression model을 사용하고자 한다."
   ]
  },
  {
   "cell_type": "markdown",
   "metadata": {},
   "source": [
    "## Testing"
   ]
  },
  {
   "cell_type": "code",
   "execution_count": 88,
   "metadata": {},
   "outputs": [],
   "source": [
    "model_lr.fit(X_train, y_train)\n",
    "y_pred = model_lr.predict(X_test) # y_pred: test set을 넣어서 얻은 예측 값"
   ]
  },
  {
   "cell_type": "code",
   "execution_count": 89,
   "metadata": {},
   "outputs": [
    {
     "data": {
      "image/png": "[encoded data removed]",
      "text/plain": [
       "<Figure size 864x432 with 1 Axes>"
      ]
     },
     "metadata": {
      "needs_background": "light"
     },
     "output_type": "display_data"
    }
   ],
   "source": [
    "# test set에 대한 실제값과 예측 값의 추세 확인\n",
    "plt.scatter(y_test, y_pred, alpha=0.4)\n",
    "plt.xlabel(\"true y\")\n",
    "plt.ylabel(\"y hat\")\n",
    "plt.title(\"MULTIPLE LINEAR REGRESSION\")\n",
    "plt.show()"
   ]
  },
  {
   "cell_type": "markdown",
   "metadata": {},
   "source": [
    "* model evaluating"
   ]
  },
  {
   "cell_type": "code",
   "execution_count": 91,
   "metadata": {},
   "outputs": [
    {
     "name": "stdout",
     "output_type": "stream",
     "text": [
      "R square:  0.8609017007708861\n",
      "training RMSE:  2.9946372185436747\n",
      "test RMSE:  6.202571153747571\n",
      "training MAE:  2.1255126622072256\n",
      "test MAE:  3.66351954830178\n"
     ]
    }
   ],
   "source": [
    "from sklearn.metrics import mean_squared_error, mean_absolute_error\n",
    "print(\"R square: \", model_lr.score(X_train, y_train))\n",
    "print(\"training RMSE: \", np.sqrt(mean_squared_error(y_train, model_lr.predict(X_train))))\n",
    "print(\"test RMSE: \", np.sqrt(mean_squared_error(y_test, y_pred)))\n",
    "print(\"training MAE: \", mean_absolute_error(y_train, model_lr.predict(X_train)))\n",
    "print(\"test MAE: \", mean_absolute_error(y_test, y_pred))"
   ]
  },
  {
   "cell_type": "markdown",
   "metadata": {},
   "source": [
    "## Step5. Visulization\n",
    "### weekly record 예측하기(weekly CCSI)"
   ]
  },
  {
   "cell_type": "code",
   "execution_count": 46,
   "metadata": {},
   "outputs": [],
   "source": [
    "X = scaler.transform(predictors.loc[:, ['keyword1', 'keyword2', 'keyword3', 'keyword4', 'keyword5', 'google', 'naver']])"
   ]
  },
  {
   "cell_type": "code",
   "execution_count": 47,
   "metadata": {},
   "outputs": [],
   "source": [
    "# weekly 레코드들을 예측모델에 집어넣어, 각 레코드에 대한 예측값 얻음\n",
    "pred_ccsi = model_lr.predict(X)"
   ]
  },
  {
   "cell_type": "code",
   "execution_count": 48,
   "metadata": {},
   "outputs": [
    {
     "data": {
      "text/html": [
       "<div>\n",
       "<style scoped>\n",
       "    .dataframe tbody tr th:only-of-type {\n",
       "        vertical-align: middle;\n",
       "    }\n",
       "\n",
       "    .dataframe tbody tr th {\n",
       "        vertical-align: top;\n",
       "    }\n",
       "\n",
       "    .dataframe thead th {\n",
       "        text-align: right;\n",
       "    }\n",
       "</style>\n",
       "<table border=\"1\" class=\"dataframe\">\n",
       "  <thead>\n",
       "    <tr style=\"text-align: right;\">\n",
       "      <th></th>\n",
       "      <th>year</th>\n",
       "      <th>month</th>\n",
       "      <th>day</th>\n",
       "      <th>keyword1</th>\n",
       "      <th>keyword2</th>\n",
       "      <th>keyword3</th>\n",
       "      <th>keyword4</th>\n",
       "      <th>keyword5</th>\n",
       "      <th>google</th>\n",
       "      <th>naver</th>\n",
       "      <th>id</th>\n",
       "      <th>ccsi</th>\n",
       "      <th>pred</th>\n",
       "    </tr>\n",
       "  </thead>\n",
       "  <tbody>\n",
       "    <tr>\n",
       "      <th>0</th>\n",
       "      <td>2016</td>\n",
       "      <td>1</td>\n",
       "      <td>4</td>\n",
       "      <td>825</td>\n",
       "      <td>419</td>\n",
       "      <td>437</td>\n",
       "      <td>588</td>\n",
       "      <td>168</td>\n",
       "      <td>53.0</td>\n",
       "      <td>26.05846</td>\n",
       "      <td>91</td>\n",
       "      <td>99.5</td>\n",
       "      <td>104.582075</td>\n",
       "    </tr>\n",
       "    <tr>\n",
       "      <th>1</th>\n",
       "      <td>2016</td>\n",
       "      <td>1</td>\n",
       "      <td>11</td>\n",
       "      <td>770</td>\n",
       "      <td>348</td>\n",
       "      <td>351</td>\n",
       "      <td>388</td>\n",
       "      <td>182</td>\n",
       "      <td>58.0</td>\n",
       "      <td>25.16599</td>\n",
       "      <td>91</td>\n",
       "      <td>99.5</td>\n",
       "      <td>101.609216</td>\n",
       "    </tr>\n",
       "    <tr>\n",
       "      <th>2</th>\n",
       "      <td>2016</td>\n",
       "      <td>1</td>\n",
       "      <td>18</td>\n",
       "      <td>918</td>\n",
       "      <td>422</td>\n",
       "      <td>441</td>\n",
       "      <td>363</td>\n",
       "      <td>147</td>\n",
       "      <td>74.0</td>\n",
       "      <td>27.38639</td>\n",
       "      <td>91</td>\n",
       "      <td>99.5</td>\n",
       "      <td>91.808544</td>\n",
       "    </tr>\n",
       "    <tr>\n",
       "      <th>3</th>\n",
       "      <td>2016</td>\n",
       "      <td>1</td>\n",
       "      <td>25</td>\n",
       "      <td>1067</td>\n",
       "      <td>425</td>\n",
       "      <td>567</td>\n",
       "      <td>393</td>\n",
       "      <td>148</td>\n",
       "      <td>59.0</td>\n",
       "      <td>24.72622</td>\n",
       "      <td>91</td>\n",
       "      <td>99.5</td>\n",
       "      <td>87.474411</td>\n",
       "    </tr>\n",
       "    <tr>\n",
       "      <th>4</th>\n",
       "      <td>2016</td>\n",
       "      <td>2</td>\n",
       "      <td>1</td>\n",
       "      <td>899</td>\n",
       "      <td>341</td>\n",
       "      <td>485</td>\n",
       "      <td>297</td>\n",
       "      <td>110</td>\n",
       "      <td>63.0</td>\n",
       "      <td>23.01888</td>\n",
       "      <td>92</td>\n",
       "      <td>97.2</td>\n",
       "      <td>90.506055</td>\n",
       "    </tr>\n",
       "  </tbody>\n",
       "</table>\n",
       "</div>"
      ],
      "text/plain": [
       "   year  month  day  keyword1  keyword2  keyword3  keyword4  keyword5  google  \\\n",
       "0  2016      1    4       825       419       437       588       168    53.0   \n",
       "1  2016      1   11       770       348       351       388       182    58.0   \n",
       "2  2016      1   18       918       422       441       363       147    74.0   \n",
       "3  2016      1   25      1067       425       567       393       148    59.0   \n",
       "4  2016      2    1       899       341       485       297       110    63.0   \n",
       "\n",
       "      naver  id  ccsi        pred  \n",
       "0  26.05846  91  99.5  104.582075  \n",
       "1  25.16599  91  99.5  101.609216  \n",
       "2  27.38639  91  99.5   91.808544  \n",
       "3  24.72622  91  99.5   87.474411  \n",
       "4  23.01888  92  97.2   90.506055  "
      ]
     },
     "execution_count": 48,
     "metadata": {},
     "output_type": "execute_result"
    }
   ],
   "source": [
    "# tmp = pd.merge(predictors, ccsi).drop(['id'], axis=1)\n",
    "tmp = pd.merge(predictors, ccsi)\n",
    "tmp['pred'] = pred_ccsi\n",
    "tmp.head()"
   ]
  },
  {
   "cell_type": "code",
   "execution_count": 49,
   "metadata": {},
   "outputs": [
    {
     "data": {
      "image/png": "[encoded data removed]",
      "text/plain": [
       "<Figure size 432x288 with 1 Axes>"
      ]
     },
     "metadata": {
      "needs_background": "light"
     },
     "output_type": "display_data"
    }
   ],
   "source": [
    "# true와 pred의 추세 확인\n",
    "plt.scatter(tmp['ccsi'], tmp['pred'], alpha=0.4)\n",
    "plt.xlabel(\"Actual CCSI\")\n",
    "plt.ylabel(\"Weekly Index(prediction)\")\n",
    "plt.title(\"MULTIPLE LINEAR REGRESSION\")\n",
    "plt.show()"
   ]
  },
  {
   "cell_type": "code",
   "execution_count": 50,
   "metadata": {},
   "outputs": [
    {
     "name": "stdout",
     "output_type": "stream",
     "text": [
      "RMSE about weekly CCSI:  4.907311204975716\n"
     ]
    }
   ],
   "source": [
    "# weekly별 단기지표 값에 대한 MSE\n",
    "print(\"RMSE about weekly CCSI: \", np.sqrt(mean_squared_error(tmp['ccsi'], tmp['pred'])))"
   ]
  },
  {
   "cell_type": "markdown",
   "metadata": {},
   "source": [
    "### visaulization\n",
    "* 시계열 그래프"
   ]
  },
  {
   "cell_type": "code",
   "execution_count": 51,
   "metadata": {},
   "outputs": [
    {
     "data": {
      "image/png": "[encoded data removed]",
      "text/plain": [
       "<Figure size 864x432 with 1 Axes>"
      ]
     },
     "metadata": {
      "needs_background": "light"
     },
     "output_type": "display_data"
    }
   ],
   "source": [
    "# 시계열 그래프를 그리기위해, 날짜 column 생성\n",
    "tmp['date'] = tmp[['year', 'month', 'day']].apply(lambda x: '.'.join(map(str, x)), axis=1)\n",
    "\n",
    "plt.rcParams[\"figure.figsize\"] = (12, 6)\n",
    "plt.plot(tmp['date'], tmp['ccsi'], color = 'red', label = 'ccsi')\n",
    "plt.plot(tmp['date'], tmp['pred'], color = 'blue', label = 'pred')\n",
    "plt.xlabel(\"date\")\n",
    "plt.ylabel(\"ccsi, pred\")\n",
    "ax = plt.subplot()\n",
    "ax.xaxis.set_major_locator(plt.MultipleLocator(10))\n",
    "for label in ax.xaxis.get_ticklabels() :\n",
    "    label.set_rotation(90)\n",
    "plt.title(\"MULTIPLE LINEAR REGRESSION\")\n",
    "plt.legend()\n",
    "plt.show()"
   ]
  },
  {
   "cell_type": "markdown",
   "metadata": {},
   "source": [
    "* moving avg 시계열 그래프"
   ]
  },
  {
   "cell_type": "code",
   "execution_count": 52,
   "metadata": {},
   "outputs": [
    {
     "data": {
      "image/png": "[encoded data removed]",
      "text/plain": [
       "<Figure size 864x432 with 1 Axes>"
      ]
     },
     "metadata": {
      "needs_background": "light"
     },
     "output_type": "display_data"
    }
   ],
   "source": [
    "rolling = pd.Series.rolling(tmp['pred'], window = 2, center = False).mean()\n",
    "\n",
    "plt.rcParams[\"figure.figsize\"] = (12, 6)\n",
    "plt.plot(tmp['date'], tmp['ccsi'], color = 'red', label = 'ccsi')\n",
    "rolling.plot(color = 'blue', label = 'weekly ccsi')\n",
    "plt.xlabel(\"date\")\n",
    "plt.ylabel(\"ccsi, pred\")\n",
    "ax = plt.subplot()\n",
    "ax.xaxis.set_major_locator(plt.MultipleLocator(10))\n",
    "for label in ax.xaxis.get_ticklabels() :\n",
    "    label.set_rotation(45)\n",
    "plt.title(\"MULTIPLE LINEAR REGRESSION(moving avg)\")\n",
    "plt.legend()\n",
    "plt.show()"
   ]
  },
  {
   "cell_type": "markdown",
   "metadata": {},
   "source": [
    "2주 간의 단기 지표들을 평균낸 값을 weekly CCSI로 활용하고자함. <br>\n",
    "시각화 결과, 주간 레코드에 대한 예측 결과를 바로 활용하는 것 보다 2주 간의 예측 결과 평균을 활용하는 것이 덜 들쑥날쑥하다."
   ]
  },
  {
   "cell_type": "markdown",
   "metadata": {},
   "source": [
    "## Step6. Develop weekly CCSI(주간 경기선행지수)"
   ]
  },
  {
   "cell_type": "code",
   "execution_count": 53,
   "metadata": {},
   "outputs": [
    {
     "data": {
      "text/html": [
       "<div>\n",
       "<style scoped>\n",
       "    .dataframe tbody tr th:only-of-type {\n",
       "        vertical-align: middle;\n",
       "    }\n",
       "\n",
       "    .dataframe tbody tr th {\n",
       "        vertical-align: top;\n",
       "    }\n",
       "\n",
       "    .dataframe thead th {\n",
       "        text-align: right;\n",
       "    }\n",
       "</style>\n",
       "<table border=\"1\" class=\"dataframe\">\n",
       "  <thead>\n",
       "    <tr style=\"text-align: right;\">\n",
       "      <th></th>\n",
       "      <th>year</th>\n",
       "      <th>month</th>\n",
       "      <th>day</th>\n",
       "      <th>keyword1</th>\n",
       "      <th>keyword2</th>\n",
       "      <th>keyword3</th>\n",
       "      <th>keyword4</th>\n",
       "      <th>keyword5</th>\n",
       "      <th>google</th>\n",
       "      <th>naver</th>\n",
       "      <th>id</th>\n",
       "      <th>ccsi</th>\n",
       "      <th>pred</th>\n",
       "      <th>date</th>\n",
       "      <th>weeklyCLI</th>\n",
       "    </tr>\n",
       "  </thead>\n",
       "  <tbody>\n",
       "    <tr>\n",
       "      <th>0</th>\n",
       "      <td>2016</td>\n",
       "      <td>1</td>\n",
       "      <td>4</td>\n",
       "      <td>825</td>\n",
       "      <td>419</td>\n",
       "      <td>437</td>\n",
       "      <td>588</td>\n",
       "      <td>168</td>\n",
       "      <td>53.0</td>\n",
       "      <td>26.05846</td>\n",
       "      <td>91</td>\n",
       "      <td>99.5</td>\n",
       "      <td>104.582075</td>\n",
       "      <td>2016.1.4</td>\n",
       "      <td>104.582075</td>\n",
       "    </tr>\n",
       "    <tr>\n",
       "      <th>1</th>\n",
       "      <td>2016</td>\n",
       "      <td>1</td>\n",
       "      <td>11</td>\n",
       "      <td>770</td>\n",
       "      <td>348</td>\n",
       "      <td>351</td>\n",
       "      <td>388</td>\n",
       "      <td>182</td>\n",
       "      <td>58.0</td>\n",
       "      <td>25.16599</td>\n",
       "      <td>91</td>\n",
       "      <td>99.5</td>\n",
       "      <td>101.609216</td>\n",
       "      <td>2016.1.11</td>\n",
       "      <td>103.095646</td>\n",
       "    </tr>\n",
       "    <tr>\n",
       "      <th>2</th>\n",
       "      <td>2016</td>\n",
       "      <td>1</td>\n",
       "      <td>18</td>\n",
       "      <td>918</td>\n",
       "      <td>422</td>\n",
       "      <td>441</td>\n",
       "      <td>363</td>\n",
       "      <td>147</td>\n",
       "      <td>74.0</td>\n",
       "      <td>27.38639</td>\n",
       "      <td>91</td>\n",
       "      <td>99.5</td>\n",
       "      <td>91.808544</td>\n",
       "      <td>2016.1.18</td>\n",
       "      <td>96.708880</td>\n",
       "    </tr>\n",
       "    <tr>\n",
       "      <th>3</th>\n",
       "      <td>2016</td>\n",
       "      <td>1</td>\n",
       "      <td>25</td>\n",
       "      <td>1067</td>\n",
       "      <td>425</td>\n",
       "      <td>567</td>\n",
       "      <td>393</td>\n",
       "      <td>148</td>\n",
       "      <td>59.0</td>\n",
       "      <td>24.72622</td>\n",
       "      <td>91</td>\n",
       "      <td>99.5</td>\n",
       "      <td>87.474411</td>\n",
       "      <td>2016.1.25</td>\n",
       "      <td>89.641478</td>\n",
       "    </tr>\n",
       "    <tr>\n",
       "      <th>4</th>\n",
       "      <td>2016</td>\n",
       "      <td>2</td>\n",
       "      <td>1</td>\n",
       "      <td>899</td>\n",
       "      <td>341</td>\n",
       "      <td>485</td>\n",
       "      <td>297</td>\n",
       "      <td>110</td>\n",
       "      <td>63.0</td>\n",
       "      <td>23.01888</td>\n",
       "      <td>92</td>\n",
       "      <td>97.2</td>\n",
       "      <td>90.506055</td>\n",
       "      <td>2016.2.1</td>\n",
       "      <td>88.990233</td>\n",
       "    </tr>\n",
       "    <tr>\n",
       "      <th>...</th>\n",
       "      <td>...</td>\n",
       "      <td>...</td>\n",
       "      <td>...</td>\n",
       "      <td>...</td>\n",
       "      <td>...</td>\n",
       "      <td>...</td>\n",
       "      <td>...</td>\n",
       "      <td>...</td>\n",
       "      <td>...</td>\n",
       "      <td>...</td>\n",
       "      <td>...</td>\n",
       "      <td>...</td>\n",
       "      <td>...</td>\n",
       "      <td>...</td>\n",
       "      <td>...</td>\n",
       "    </tr>\n",
       "    <tr>\n",
       "      <th>247</th>\n",
       "      <td>2020</td>\n",
       "      <td>9</td>\n",
       "      <td>28</td>\n",
       "      <td>489</td>\n",
       "      <td>90</td>\n",
       "      <td>114</td>\n",
       "      <td>27</td>\n",
       "      <td>78</td>\n",
       "      <td>63.0</td>\n",
       "      <td>25.29102</td>\n",
       "      <td>147</td>\n",
       "      <td>79.4</td>\n",
       "      <td>104.690243</td>\n",
       "      <td>2020.9.28</td>\n",
       "      <td>95.771175</td>\n",
       "    </tr>\n",
       "    <tr>\n",
       "      <th>248</th>\n",
       "      <td>2020</td>\n",
       "      <td>10</td>\n",
       "      <td>5</td>\n",
       "      <td>816</td>\n",
       "      <td>183</td>\n",
       "      <td>177</td>\n",
       "      <td>47</td>\n",
       "      <td>78</td>\n",
       "      <td>81.0</td>\n",
       "      <td>28.63240</td>\n",
       "      <td>148</td>\n",
       "      <td>91.6</td>\n",
       "      <td>93.363873</td>\n",
       "      <td>2020.10.5</td>\n",
       "      <td>99.027058</td>\n",
       "    </tr>\n",
       "    <tr>\n",
       "      <th>249</th>\n",
       "      <td>2020</td>\n",
       "      <td>10</td>\n",
       "      <td>12</td>\n",
       "      <td>857</td>\n",
       "      <td>199</td>\n",
       "      <td>176</td>\n",
       "      <td>55</td>\n",
       "      <td>91</td>\n",
       "      <td>82.0</td>\n",
       "      <td>26.85177</td>\n",
       "      <td>148</td>\n",
       "      <td>91.6</td>\n",
       "      <td>92.660043</td>\n",
       "      <td>2020.10.12</td>\n",
       "      <td>93.011958</td>\n",
       "    </tr>\n",
       "    <tr>\n",
       "      <th>250</th>\n",
       "      <td>2020</td>\n",
       "      <td>10</td>\n",
       "      <td>19</td>\n",
       "      <td>911</td>\n",
       "      <td>155</td>\n",
       "      <td>143</td>\n",
       "      <td>64</td>\n",
       "      <td>129</td>\n",
       "      <td>93.0</td>\n",
       "      <td>27.25273</td>\n",
       "      <td>148</td>\n",
       "      <td>91.6</td>\n",
       "      <td>90.940963</td>\n",
       "      <td>2020.10.19</td>\n",
       "      <td>91.800503</td>\n",
       "    </tr>\n",
       "    <tr>\n",
       "      <th>251</th>\n",
       "      <td>2020</td>\n",
       "      <td>10</td>\n",
       "      <td>26</td>\n",
       "      <td>915</td>\n",
       "      <td>187</td>\n",
       "      <td>167</td>\n",
       "      <td>72</td>\n",
       "      <td>110</td>\n",
       "      <td>90.0</td>\n",
       "      <td>30.24489</td>\n",
       "      <td>148</td>\n",
       "      <td>91.6</td>\n",
       "      <td>90.790128</td>\n",
       "      <td>2020.10.26</td>\n",
       "      <td>90.865545</td>\n",
       "    </tr>\n",
       "  </tbody>\n",
       "</table>\n",
       "<p>252 rows × 15 columns</p>\n",
       "</div>"
      ],
      "text/plain": [
       "     year  month  day  keyword1  keyword2  keyword3  keyword4  keyword5  \\\n",
       "0    2016      1    4       825       419       437       588       168   \n",
       "1    2016      1   11       770       348       351       388       182   \n",
       "2    2016      1   18       918       422       441       363       147   \n",
       "3    2016      1   25      1067       425       567       393       148   \n",
       "4    2016      2    1       899       341       485       297       110   \n",
       "..    ...    ...  ...       ...       ...       ...       ...       ...   \n",
       "247  2020      9   28       489        90       114        27        78   \n",
       "248  2020     10    5       816       183       177        47        78   \n",
       "249  2020     10   12       857       199       176        55        91   \n",
       "250  2020     10   19       911       155       143        64       129   \n",
       "251  2020     10   26       915       187       167        72       110   \n",
       "\n",
       "     google     naver   id  ccsi        pred        date   weeklyCLI  \n",
       "0      53.0  26.05846   91  99.5  104.582075    2016.1.4  104.582075  \n",
       "1      58.0  25.16599   91  99.5  101.609216   2016.1.11  103.095646  \n",
       "2      74.0  27.38639   91  99.5   91.808544   2016.1.18   96.708880  \n",
       "3      59.0  24.72622   91  99.5   87.474411   2016.1.25   89.641478  \n",
       "4      63.0  23.01888   92  97.2   90.506055    2016.2.1   88.990233  \n",
       "..      ...       ...  ...   ...         ...         ...         ...  \n",
       "247    63.0  25.29102  147  79.4  104.690243   2020.9.28   95.771175  \n",
       "248    81.0  28.63240  148  91.6   93.363873   2020.10.5   99.027058  \n",
       "249    82.0  26.85177  148  91.6   92.660043  2020.10.12   93.011958  \n",
       "250    93.0  27.25273  148  91.6   90.940963  2020.10.19   91.800503  \n",
       "251    90.0  30.24489  148  91.6   90.790128  2020.10.26   90.865545  \n",
       "\n",
       "[252 rows x 15 columns]"
      ]
     },
     "execution_count": 53,
     "metadata": {},
     "output_type": "execute_result"
    }
   ],
   "source": [
    "weekly_CLI = []\n",
    "for i in range(len(tmp)):\n",
    "    if i == 0 :\n",
    "        cli = tmp.pred.iloc[i]\n",
    "        weekly_CLI.append(cli)\n",
    "        continue\n",
    "    \n",
    "    cli = (tmp.pred.iloc[i-1] + tmp.pred.iloc[i]) / 2\n",
    "    weekly_CLI.append(cli)\n",
    "    \n",
    "tmp['weeklyCLI'] = weekly_CLI\n",
    "tmp"
   ]
  }
 ],
 "metadata": {
  "kernelspec": {
   "display_name": "Python 3",
   "language": "python",
   "name": "python3"
  },
  "language_info": {
   "codemirror_mode": {
    "name": "ipython",
    "version": 3
   },
   "file_extension": ".py",
   "mimetype": "text/x-python",
   "name": "python",
   "nbconvert_exporter": "python",
   "pygments_lexer": "ipython3",
   "version": "3.8.3"
  }
 },
 "nbformat": 4,
 "nbformat_minor": 2
}
