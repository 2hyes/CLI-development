{
 "metadata": {
  "language_info": {
   "codemirror_mode": {
    "name": "ipython",
    "version": 3
   },
   "file_extension": ".py",
   "mimetype": "text/x-python",
   "name": "python",
   "nbconvert_exporter": "python",
   "pygments_lexer": "ipython3",
   "version": "3.8.3-final"
  },
  "orig_nbformat": 2,
  "kernelspec": {
   "name": "Python 3.8.3 64-bit ('base': conda)",
   "display_name": "Python 3.8.3 64-bit ('base': conda)",
   "metadata": {
    "interpreter": {
     "hash": "e2f398e37327d85d07ec8caa0fdb6823cd969aad32d55c6321ee9404eea8cdac"
    }
   }
  }
 },
 "nbformat": 4,
 "nbformat_minor": 2,
 "cells": [
  {
   "cell_type": "code",
   "execution_count": 35,
   "metadata": {},
   "outputs": [],
   "source": [
    "from urllib.request import urlopen\n",
    "from bs4 import BeautifulSoup\n",
    "import pandas as pd\n",
    "import json\n",
    "import pymysql"
   ]
  },
  {
   "source": [
    "### 한국은행 OpenAPI 조회 서비스 사용 \n",
    "http://ecos.bok.or.kr/jsp/openapi/OpenApiController.jsp?t=main"
   ],
   "cell_type": "markdown",
   "metadata": {}
  },
  {
   "source": [
    "\"\"\"\n",
    "한국은행 openAPI를 활용하여\n",
    "경기동행지수 받아옴\n",
    "\"\"\"\n",
    "def getEcosAPI(API_KEY, code, max, start_month, end_month):\n",
    "    url = 'http://ecos.bok.or.kr/api/StatisticSearch/%s/json/kr/1/%s/%s/MM/%s/%s/?/?/?/' % (API_KEY, max, code, start_month, end_month)\n",
    "    result = urlopen(url)\n",
    "    html = result.read()\n",
    "    \n",
    "    return json.loads(html)\n"
   ],
   "cell_type": "code",
   "metadata": {},
   "execution_count": 45,
   "outputs": []
  },
  {
   "cell_type": "code",
   "execution_count": 51,
   "metadata": {},
   "outputs": [],
   "source": [
    "API_KEY = \"YOUR_API_KEY\"\n",
    "\n",
    "data = getEcosAPI(API_KEY, code = '085Y026', max = 100000, start_month = '200807', end_month = '202010')"
   ]
  },
  {
   "source": [
    "### 경기동행지수 순환변동치 구하기\n",
    "ITEM_CODE1 = 'I16D'"
   ],
   "cell_type": "markdown",
   "metadata": {}
  },
  {
   "cell_type": "code",
   "execution_count": 52,
   "metadata": {},
   "outputs": [],
   "source": [
    "data = data[\"StatisticSearch\"][\"row\"]\n",
    "produce = pd.DataFrame(data)"
   ]
  },
  {
   "cell_type": "code",
   "execution_count": 53,
   "metadata": {},
   "outputs": [
    {
     "output_type": "execute_result",
     "data": {
      "text/plain": [
       "    UNIT_NAME      STAT_NAME ITEM_CODE1 STAT_CODE ITEM_CODE2 ITEM_CODE3  \\\n",
       "584  2015=100  16.1.4 경기종합지수       I16D   085Y026                         \n",
       "585  2015=100  16.1.4 경기종합지수       I16D   085Y026                         \n",
       "586  2015=100  16.1.4 경기종합지수       I16D   085Y026                         \n",
       "587  2015=100  16.1.4 경기종합지수       I16D   085Y026                         \n",
       "588  2015=100  16.1.4 경기종합지수       I16D   085Y026                         \n",
       "..        ...            ...        ...       ...        ...        ...   \n",
       "725  2015=100  16.1.4 경기종합지수       I16D   085Y026                         \n",
       "726  2015=100  16.1.4 경기종합지수       I16D   085Y026                         \n",
       "727  2015=100  16.1.4 경기종합지수       I16D   085Y026                         \n",
       "728  2015=100  16.1.4 경기종합지수       I16D   085Y026                         \n",
       "729  2015=100  16.1.4 경기종합지수       I16D   085Y026                         \n",
       "\n",
       "    ITEM_NAME1 ITEM_NAME2 DATA_VALUE ITEM_NAME3    TIME  \n",
       "584  동행지수순환변동치                 100.9             200807  \n",
       "585  동행지수순환변동치                 100.8             200808  \n",
       "586  동행지수순환변동치                 100.8             200809  \n",
       "587  동행지수순환변동치                 100.5             200810  \n",
       "588  동행지수순환변동치                  99.7             200811  \n",
       "..         ...        ...        ...        ...     ...  \n",
       "725  동행지수순환변동치                  97.6             202004  \n",
       "726  동행지수순환변동치                  96.8             202005  \n",
       "727  동행지수순환변동치                    97             202006  \n",
       "728  동행지수순환변동치                  97.2             202007  \n",
       "729  동행지수순환변동치                  97.6             202008  \n",
       "\n",
       "[146 rows x 11 columns]"
      ],
      "text/html": "<div>\n<style scoped>\n    .dataframe tbody tr th:only-of-type {\n        vertical-align: middle;\n    }\n\n    .dataframe tbody tr th {\n        vertical-align: top;\n    }\n\n    .dataframe thead th {\n        text-align: right;\n    }\n</style>\n<table border=\"1\" class=\"dataframe\">\n  <thead>\n    <tr style=\"text-align: right;\">\n      <th></th>\n      <th>UNIT_NAME</th>\n      <th>STAT_NAME</th>\n      <th>ITEM_CODE1</th>\n      <th>STAT_CODE</th>\n      <th>ITEM_CODE2</th>\n      <th>ITEM_CODE3</th>\n      <th>ITEM_NAME1</th>\n      <th>ITEM_NAME2</th>\n      <th>DATA_VALUE</th>\n      <th>ITEM_NAME3</th>\n      <th>TIME</th>\n    </tr>\n  </thead>\n  <tbody>\n    <tr>\n      <th>584</th>\n      <td>2015=100</td>\n      <td>16.1.4 경기종합지수</td>\n      <td>I16D</td>\n      <td>085Y026</td>\n      <td></td>\n      <td></td>\n      <td>동행지수순환변동치</td>\n      <td></td>\n      <td>100.9</td>\n      <td></td>\n      <td>200807</td>\n    </tr>\n    <tr>\n      <th>585</th>\n      <td>2015=100</td>\n      <td>16.1.4 경기종합지수</td>\n      <td>I16D</td>\n      <td>085Y026</td>\n      <td></td>\n      <td></td>\n      <td>동행지수순환변동치</td>\n      <td></td>\n      <td>100.8</td>\n      <td></td>\n      <td>200808</td>\n    </tr>\n    <tr>\n      <th>586</th>\n      <td>2015=100</td>\n      <td>16.1.4 경기종합지수</td>\n      <td>I16D</td>\n      <td>085Y026</td>\n      <td></td>\n      <td></td>\n      <td>동행지수순환변동치</td>\n      <td></td>\n      <td>100.8</td>\n      <td></td>\n      <td>200809</td>\n    </tr>\n    <tr>\n      <th>587</th>\n      <td>2015=100</td>\n      <td>16.1.4 경기종합지수</td>\n      <td>I16D</td>\n      <td>085Y026</td>\n      <td></td>\n      <td></td>\n      <td>동행지수순환변동치</td>\n      <td></td>\n      <td>100.5</td>\n      <td></td>\n      <td>200810</td>\n    </tr>\n    <tr>\n      <th>588</th>\n      <td>2015=100</td>\n      <td>16.1.4 경기종합지수</td>\n      <td>I16D</td>\n      <td>085Y026</td>\n      <td></td>\n      <td></td>\n      <td>동행지수순환변동치</td>\n      <td></td>\n      <td>99.7</td>\n      <td></td>\n      <td>200811</td>\n    </tr>\n    <tr>\n      <th>...</th>\n      <td>...</td>\n      <td>...</td>\n      <td>...</td>\n      <td>...</td>\n      <td>...</td>\n      <td>...</td>\n      <td>...</td>\n      <td>...</td>\n      <td>...</td>\n      <td>...</td>\n      <td>...</td>\n    </tr>\n    <tr>\n      <th>725</th>\n      <td>2015=100</td>\n      <td>16.1.4 경기종합지수</td>\n      <td>I16D</td>\n      <td>085Y026</td>\n      <td></td>\n      <td></td>\n      <td>동행지수순환변동치</td>\n      <td></td>\n      <td>97.6</td>\n      <td></td>\n      <td>202004</td>\n    </tr>\n    <tr>\n      <th>726</th>\n      <td>2015=100</td>\n      <td>16.1.4 경기종합지수</td>\n      <td>I16D</td>\n      <td>085Y026</td>\n      <td></td>\n      <td></td>\n      <td>동행지수순환변동치</td>\n      <td></td>\n      <td>96.8</td>\n      <td></td>\n      <td>202005</td>\n    </tr>\n    <tr>\n      <th>727</th>\n      <td>2015=100</td>\n      <td>16.1.4 경기종합지수</td>\n      <td>I16D</td>\n      <td>085Y026</td>\n      <td></td>\n      <td></td>\n      <td>동행지수순환변동치</td>\n      <td></td>\n      <td>97</td>\n      <td></td>\n      <td>202006</td>\n    </tr>\n    <tr>\n      <th>728</th>\n      <td>2015=100</td>\n      <td>16.1.4 경기종합지수</td>\n      <td>I16D</td>\n      <td>085Y026</td>\n      <td></td>\n      <td></td>\n      <td>동행지수순환변동치</td>\n      <td></td>\n      <td>97.2</td>\n      <td></td>\n      <td>202007</td>\n    </tr>\n    <tr>\n      <th>729</th>\n      <td>2015=100</td>\n      <td>16.1.4 경기종합지수</td>\n      <td>I16D</td>\n      <td>085Y026</td>\n      <td></td>\n      <td></td>\n      <td>동행지수순환변동치</td>\n      <td></td>\n      <td>97.6</td>\n      <td></td>\n      <td>202008</td>\n    </tr>\n  </tbody>\n</table>\n<p>146 rows × 11 columns</p>\n</div>"
     },
     "metadata": {},
     "execution_count": 53
    }
   ],
   "source": [
    "cci = produce[produce['ITEM_CODE1'] == 'I16D']\n",
    "cci"
   ]
  },
  {
   "cell_type": "code",
   "execution_count": 54,
   "metadata": {},
   "outputs": [
    {
     "output_type": "execute_result",
     "data": {
      "text/plain": [
       "       TIME DATA_VALUE\n",
       "0    200807      100.9\n",
       "1    200808      100.8\n",
       "2    200809      100.8\n",
       "3    200810      100.5\n",
       "4    200811       99.7\n",
       "..      ...        ...\n",
       "141  202004       97.6\n",
       "142  202005       96.8\n",
       "143  202006         97\n",
       "144  202007       97.2\n",
       "145  202008       97.6\n",
       "\n",
       "[146 rows x 2 columns]"
      ],
      "text/html": "<div>\n<style scoped>\n    .dataframe tbody tr th:only-of-type {\n        vertical-align: middle;\n    }\n\n    .dataframe tbody tr th {\n        vertical-align: top;\n    }\n\n    .dataframe thead th {\n        text-align: right;\n    }\n</style>\n<table border=\"1\" class=\"dataframe\">\n  <thead>\n    <tr style=\"text-align: right;\">\n      <th></th>\n      <th>TIME</th>\n      <th>DATA_VALUE</th>\n    </tr>\n  </thead>\n  <tbody>\n    <tr>\n      <th>0</th>\n      <td>200807</td>\n      <td>100.9</td>\n    </tr>\n    <tr>\n      <th>1</th>\n      <td>200808</td>\n      <td>100.8</td>\n    </tr>\n    <tr>\n      <th>2</th>\n      <td>200809</td>\n      <td>100.8</td>\n    </tr>\n    <tr>\n      <th>3</th>\n      <td>200810</td>\n      <td>100.5</td>\n    </tr>\n    <tr>\n      <th>4</th>\n      <td>200811</td>\n      <td>99.7</td>\n    </tr>\n    <tr>\n      <th>...</th>\n      <td>...</td>\n      <td>...</td>\n    </tr>\n    <tr>\n      <th>141</th>\n      <td>202004</td>\n      <td>97.6</td>\n    </tr>\n    <tr>\n      <th>142</th>\n      <td>202005</td>\n      <td>96.8</td>\n    </tr>\n    <tr>\n      <th>143</th>\n      <td>202006</td>\n      <td>97</td>\n    </tr>\n    <tr>\n      <th>144</th>\n      <td>202007</td>\n      <td>97.2</td>\n    </tr>\n    <tr>\n      <th>145</th>\n      <td>202008</td>\n      <td>97.6</td>\n    </tr>\n  </tbody>\n</table>\n<p>146 rows × 2 columns</p>\n</div>"
     },
     "metadata": {},
     "execution_count": 54
    }
   ],
   "source": [
    "cci = cci.loc[:, ['TIME', 'DATA_VALUE']].reset_index(drop=True)\n",
    "cci"
   ]
  },
  {
   "source": [
    "### DB연동"
   ],
   "cell_type": "markdown",
   "metadata": {}
  },
  {
   "cell_type": "code",
   "execution_count": 67,
   "metadata": {},
   "outputs": [],
   "source": [
    "conn = pymysql.connect(host = \"127.0.0.1\", user = [USER], passwd = [PASSWORD], db = [DATABASE])\n",
    "cur = conn.cursor()"
   ]
  },
  {
   "source": [
    "### DB table 생성"
   ],
   "cell_type": "markdown",
   "metadata": {}
  },
  {
   "cell_type": "code",
   "execution_count": 68,
   "metadata": {},
   "outputs": [
    {
     "output_type": "execute_result",
     "data": {
      "text/plain": [
       "0"
      ]
     },
     "metadata": {},
     "execution_count": 68
    }
   ],
   "source": [
    "\"\"\"\n",
    "Coincident Composite Index 저장할 table 생성\n",
    "\"\"\"\n",
    "create_table_query = \"\"\"\n",
    "CREATE TABLE IF NOT EXISTS coincident_composite_index(\n",
    "    id BIGINT(7) NOT NULL AUTO_INCREMENT,\n",
    "    year bigint(4) NOT NULL,\n",
    "    month bigint(2) NOT NULL,\n",
    "    cci double,\n",
    "    primary key(id) )\n",
    "    charset=utf8mb4;\n",
    "\"\"\"\n",
    "cur.execute(create_table_query)\n",
    "# charset=utf8mb4; 유니코드 스트링 저장"
   ]
  },
  {
   "cell_type": "code",
   "execution_count": 69,
   "metadata": {},
   "outputs": [
    {
     "output_type": "execute_result",
     "data": {
      "text/plain": [
       "       0          1    2    3     4               5\n",
       "0     id  bigint(7)   NO  PRI  None  auto_increment\n",
       "1   year  bigint(4)   NO       None                \n",
       "2  month  bigint(2)   NO       None                \n",
       "3    cci     double  YES       None                "
      ],
      "text/html": "<div>\n<style scoped>\n    .dataframe tbody tr th:only-of-type {\n        vertical-align: middle;\n    }\n\n    .dataframe tbody tr th {\n        vertical-align: top;\n    }\n\n    .dataframe thead th {\n        text-align: right;\n    }\n</style>\n<table border=\"1\" class=\"dataframe\">\n  <thead>\n    <tr style=\"text-align: right;\">\n      <th></th>\n      <th>0</th>\n      <th>1</th>\n      <th>2</th>\n      <th>3</th>\n      <th>4</th>\n      <th>5</th>\n    </tr>\n  </thead>\n  <tbody>\n    <tr>\n      <th>0</th>\n      <td>id</td>\n      <td>bigint(7)</td>\n      <td>NO</td>\n      <td>PRI</td>\n      <td>None</td>\n      <td>auto_increment</td>\n    </tr>\n    <tr>\n      <th>1</th>\n      <td>year</td>\n      <td>bigint(4)</td>\n      <td>NO</td>\n      <td></td>\n      <td>None</td>\n      <td></td>\n    </tr>\n    <tr>\n      <th>2</th>\n      <td>month</td>\n      <td>bigint(2)</td>\n      <td>NO</td>\n      <td></td>\n      <td>None</td>\n      <td></td>\n    </tr>\n    <tr>\n      <th>3</th>\n      <td>cci</td>\n      <td>double</td>\n      <td>YES</td>\n      <td></td>\n      <td>None</td>\n      <td></td>\n    </tr>\n  </tbody>\n</table>\n</div>"
     },
     "metadata": {},
     "execution_count": 69
    }
   ],
   "source": [
    "cur.execute(\"desc coincident_composite_index\")\n",
    "table = cur.fetchall()\n",
    "pd.DataFrame(list(table))"
   ]
  },
  {
   "source": [
    "### CCI 월별로 저장"
   ],
   "cell_type": "markdown",
   "metadata": {}
  },
  {
   "cell_type": "code",
   "execution_count": 70,
   "metadata": {},
   "outputs": [],
   "source": [
    "\"\"\"\n",
    "날짜에서 year, month 추출\n",
    "\"\"\"\n",
    "def extract_year_and_month(period):\n",
    "    year = period[0:4]\n",
    "    month = period[4:6]\n",
    "    return year, month\n"
   ]
  },
  {
   "cell_type": "code",
   "execution_count": 74,
   "metadata": {},
   "outputs": [
    {
     "output_type": "stream",
     "name": "stdout",
     "text": [
      " \n    Insert into coincident_composite_index (year, month, cci) values (2008, 7, 100.900000) ;\n    \n \n    Insert into coincident_composite_index (year, month, cci) values (2008, 8, 100.800000) ;\n    \n \n    Insert into coincident_composite_index (year, month, cci) values (2008, 9, 100.800000) ;\n    \n \n    Insert into coincident_composite_index (year, month, cci) values (2008, 10, 100.500000) ;\n    \n \n    Insert into coincident_composite_index (year, month, cci) values (2008, 11, 99.700000) ;\n    \n \n    Insert into coincident_composite_index (year, month, cci) values (2008, 12, 98.500000) ;\n    \n \n    Insert into coincident_composite_index (year, month, cci) values (2009, 1, 97.800000) ;\n    \n \n    Insert into coincident_composite_index (year, month, cci) values (2009, 2, 97.700000) ;\n    \n \n    Insert into coincident_composite_index (year, month, cci) values (2009, 3, 97.700000) ;\n    \n \n    Insert into coincident_composite_index (year, month, cci) values (2009, 4, 97.900000) ;\n    \n \n    Insert into coincident_composite_index (year, month, cci) values (2009, 5, 97.900000) ;\n    \n \n    Insert into coincident_composite_index (year, month, cci) values (2009, 6, 98.500000) ;\n    \n \n    Insert into coincident_composite_index (year, month, cci) values (2009, 7, 98.700000) ;\n    \n \n    Insert into coincident_composite_index (year, month, cci) values (2009, 8, 98.800000) ;\n    \n \n    Insert into coincident_composite_index (year, month, cci) values (2009, 9, 98.800000) ;\n    \n \n    Insert into coincident_composite_index (year, month, cci) values (2009, 10, 99.100000) ;\n    \n \n    Insert into coincident_composite_index (year, month, cci) values (2009, 11, 99.300000) ;\n    \n \n    Insert into coincident_composite_index (year, month, cci) values (2009, 12, 99.200000) ;\n    \n \n    Insert into coincident_composite_index (year, month, cci) values (2010, 1, 99.300000) ;\n    \n \n    Insert into coincident_composite_index (year, month, cci) values (2010, 2, 99.700000) ;\n    \n \n    Insert into coincident_composite_index (year, month, cci) values (2010, 3, 100.000000) ;\n    \n \n    Insert into coincident_composite_index (year, month, cci) values (2010, 4, 100.300000) ;\n    \n \n    Insert into coincident_composite_index (year, month, cci) values (2010, 5, 100.700000) ;\n    \n \n    Insert into coincident_composite_index (year, month, cci) values (2010, 6, 100.800000) ;\n    \n \n    Insert into coincident_composite_index (year, month, cci) values (2010, 7, 101.000000) ;\n    \n \n    Insert into coincident_composite_index (year, month, cci) values (2010, 8, 100.600000) ;\n    \n \n    Insert into coincident_composite_index (year, month, cci) values (2010, 9, 100.200000) ;\n    \n \n    Insert into coincident_composite_index (year, month, cci) values (2010, 10, 99.800000) ;\n    \n \n    Insert into coincident_composite_index (year, month, cci) values (2010, 11, 99.800000) ;\n    \n \n    Insert into coincident_composite_index (year, month, cci) values (2010, 12, 99.900000) ;\n    \n \n    Insert into coincident_composite_index (year, month, cci) values (2011, 1, 100.700000) ;\n    \n \n    Insert into coincident_composite_index (year, month, cci) values (2011, 2, 100.600000) ;\n    \n \n    Insert into coincident_composite_index (year, month, cci) values (2011, 3, 100.700000) ;\n    \n \n    Insert into coincident_composite_index (year, month, cci) values (2011, 4, 100.400000) ;\n    \n \n    Insert into coincident_composite_index (year, month, cci) values (2011, 5, 100.700000) ;\n    \n \n    Insert into coincident_composite_index (year, month, cci) values (2011, 6, 101.000000) ;\n    \n \n    Insert into coincident_composite_index (year, month, cci) values (2011, 7, 101.100000) ;\n    \n \n    Insert into coincident_composite_index (year, month, cci) values (2011, 8, 101.200000) ;\n    \n \n    Insert into coincident_composite_index (year, month, cci) values (2011, 9, 100.800000) ;\n    \n \n    Insert into coincident_composite_index (year, month, cci) values (2011, 10, 100.900000) ;\n    \n \n    Insert into coincident_composite_index (year, month, cci) values (2011, 11, 100.500000) ;\n    \n \n    Insert into coincident_composite_index (year, month, cci) values (2011, 12, 100.500000) ;\n    \n \n    Insert into coincident_composite_index (year, month, cci) values (2012, 1, 100.300000) ;\n    \n \n    Insert into coincident_composite_index (year, month, cci) values (2012, 2, 100.600000) ;\n    \n \n    Insert into coincident_composite_index (year, month, cci) values (2012, 3, 100.600000) ;\n    \n \n    Insert into coincident_composite_index (year, month, cci) values (2012, 4, 100.600000) ;\n    \n \n    Insert into coincident_composite_index (year, month, cci) values (2012, 5, 100.600000) ;\n    \n \n    Insert into coincident_composite_index (year, month, cci) values (2012, 6, 100.600000) ;\n    \n \n    Insert into coincident_composite_index (year, month, cci) values (2012, 7, 100.800000) ;\n    \n \n    Insert into coincident_composite_index (year, month, cci) values (2012, 8, 100.300000) ;\n    \n \n    Insert into coincident_composite_index (year, month, cci) values (2012, 9, 100.200000) ;\n    \n \n    Insert into coincident_composite_index (year, month, cci) values (2012, 10, 99.900000) ;\n    \n \n    Insert into coincident_composite_index (year, month, cci) values (2012, 11, 100.000000) ;\n    \n \n    Insert into coincident_composite_index (year, month, cci) values (2012, 12, 100.000000) ;\n    \n \n    Insert into coincident_composite_index (year, month, cci) values (2013, 1, 99.900000) ;\n    \n \n    Insert into coincident_composite_index (year, month, cci) values (2013, 2, 99.900000) ;\n    \n \n    Insert into coincident_composite_index (year, month, cci) values (2013, 3, 99.700000) ;\n    \n \n    Insert into coincident_composite_index (year, month, cci) values (2013, 4, 99.800000) ;\n    \n \n    Insert into coincident_composite_index (year, month, cci) values (2013, 5, 99.800000) ;\n    \n \n    Insert into coincident_composite_index (year, month, cci) values (2013, 6, 100.000000) ;\n    \n \n    Insert into coincident_composite_index (year, month, cci) values (2013, 7, 99.900000) ;\n    \n \n    Insert into coincident_composite_index (year, month, cci) values (2013, 8, 99.900000) ;\n    \n \n    Insert into coincident_composite_index (year, month, cci) values (2013, 9, 99.800000) ;\n    \n \n    Insert into coincident_composite_index (year, month, cci) values (2013, 10, 100.000000) ;\n    \n \n    Insert into coincident_composite_index (year, month, cci) values (2013, 11, 100.000000) ;\n    \n \n    Insert into coincident_composite_index (year, month, cci) values (2013, 12, 100.100000) ;\n    \n \n    Insert into coincident_composite_index (year, month, cci) values (2014, 1, 100.300000) ;\n    \n \n    Insert into coincident_composite_index (year, month, cci) values (2014, 2, 100.400000) ;\n    \n \n    Insert into coincident_composite_index (year, month, cci) values (2014, 3, 100.600000) ;\n    \n \n    Insert into coincident_composite_index (year, month, cci) values (2014, 4, 100.400000) ;\n    \n \n    Insert into coincident_composite_index (year, month, cci) values (2014, 5, 100.200000) ;\n    \n \n    Insert into coincident_composite_index (year, month, cci) values (2014, 6, 100.100000) ;\n    \n \n    Insert into coincident_composite_index (year, month, cci) values (2014, 7, 100.200000) ;\n    \n \n    Insert into coincident_composite_index (year, month, cci) values (2014, 8, 100.300000) ;\n    \n \n    Insert into coincident_composite_index (year, month, cci) values (2014, 9, 100.100000) ;\n    \n \n    Insert into coincident_composite_index (year, month, cci) values (2014, 10, 99.800000) ;\n    \n \n    Insert into coincident_composite_index (year, month, cci) values (2014, 11, 99.600000) ;\n    \n \n    Insert into coincident_composite_index (year, month, cci) values (2014, 12, 99.900000) ;\n    \n \n    Insert into coincident_composite_index (year, month, cci) values (2015, 1, 99.900000) ;\n    \n \n    Insert into coincident_composite_index (year, month, cci) values (2015, 2, 100.300000) ;\n    \n \n    Insert into coincident_composite_index (year, month, cci) values (2015, 3, 100.100000) ;\n    \n \n    Insert into coincident_composite_index (year, month, cci) values (2015, 4, 100.200000) ;\n    \n \n    Insert into coincident_composite_index (year, month, cci) values (2015, 5, 99.800000) ;\n    \n \n    Insert into coincident_composite_index (year, month, cci) values (2015, 6, 99.700000) ;\n    \n \n    Insert into coincident_composite_index (year, month, cci) values (2015, 7, 99.600000) ;\n    \n \n    Insert into coincident_composite_index (year, month, cci) values (2015, 8, 100.000000) ;\n    \n \n    Insert into coincident_composite_index (year, month, cci) values (2015, 9, 100.500000) ;\n    \n \n    Insert into coincident_composite_index (year, month, cci) values (2015, 10, 100.900000) ;\n    \n \n    Insert into coincident_composite_index (year, month, cci) values (2015, 11, 100.700000) ;\n    \n \n    Insert into coincident_composite_index (year, month, cci) values (2015, 12, 100.700000) ;\n    \n \n    Insert into coincident_composite_index (year, month, cci) values (2016, 1, 100.400000) ;\n    \n \n    Insert into coincident_composite_index (year, month, cci) values (2016, 2, 100.300000) ;\n    \n \n    Insert into coincident_composite_index (year, month, cci) values (2016, 3, 100.100000) ;\n    \n \n    Insert into coincident_composite_index (year, month, cci) values (2016, 4, 100.100000) ;\n    \n \n    Insert into coincident_composite_index (year, month, cci) values (2016, 5, 100.300000) ;\n    \n \n    Insert into coincident_composite_index (year, month, cci) values (2016, 6, 100.600000) ;\n    \n \n    Insert into coincident_composite_index (year, month, cci) values (2016, 7, 100.800000) ;\n    \n \n    Insert into coincident_composite_index (year, month, cci) values (2016, 8, 100.900000) ;\n    \n \n    Insert into coincident_composite_index (year, month, cci) values (2016, 9, 100.700000) ;\n    \n \n    Insert into coincident_composite_index (year, month, cci) values (2016, 10, 100.500000) ;\n    \n \n    Insert into coincident_composite_index (year, month, cci) values (2016, 11, 100.600000) ;\n    \n \n    Insert into coincident_composite_index (year, month, cci) values (2016, 12, 100.800000) ;\n    \n \n    Insert into coincident_composite_index (year, month, cci) values (2017, 1, 101.200000) ;\n    \n \n    Insert into coincident_composite_index (year, month, cci) values (2017, 2, 101.200000) ;\n    \n \n    Insert into coincident_composite_index (year, month, cci) values (2017, 3, 101.400000) ;\n    \n \n    Insert into coincident_composite_index (year, month, cci) values (2017, 4, 101.400000) ;\n    \n \n    Insert into coincident_composite_index (year, month, cci) values (2017, 5, 101.500000) ;\n    \n \n    Insert into coincident_composite_index (year, month, cci) values (2017, 6, 101.400000) ;\n    \n \n    Insert into coincident_composite_index (year, month, cci) values (2017, 7, 101.400000) ;\n    \n \n    Insert into coincident_composite_index (year, month, cci) values (2017, 8, 101.300000) ;\n    \n \n    Insert into coincident_composite_index (year, month, cci) values (2017, 9, 101.500000) ;\n    \n \n    Insert into coincident_composite_index (year, month, cci) values (2017, 10, 101.400000) ;\n    \n \n    Insert into coincident_composite_index (year, month, cci) values (2017, 11, 101.400000) ;\n    \n \n    Insert into coincident_composite_index (year, month, cci) values (2017, 12, 101.100000) ;\n    \n \n    Insert into coincident_composite_index (year, month, cci) values (2018, 1, 101.100000) ;\n    \n \n    Insert into coincident_composite_index (year, month, cci) values (2018, 2, 101.300000) ;\n    \n \n    Insert into coincident_composite_index (year, month, cci) values (2018, 3, 101.400000) ;\n    \n \n    Insert into coincident_composite_index (year, month, cci) values (2018, 4, 101.400000) ;\n    \n \n    Insert into coincident_composite_index (year, month, cci) values (2018, 5, 101.300000) ;\n    \n \n    Insert into coincident_composite_index (year, month, cci) values (2018, 6, 101.200000) ;\n    \n \n    Insert into coincident_composite_index (year, month, cci) values (2018, 7, 101.100000) ;\n    \n \n    Insert into coincident_composite_index (year, month, cci) values (2018, 8, 101.000000) ;\n    \n \n    Insert into coincident_composite_index (year, month, cci) values (2018, 9, 100.700000) ;\n    \n \n    Insert into coincident_composite_index (year, month, cci) values (2018, 10, 100.700000) ;\n    \n \n    Insert into coincident_composite_index (year, month, cci) values (2018, 11, 100.500000) ;\n    \n \n    Insert into coincident_composite_index (year, month, cci) values (2018, 12, 100.400000) ;\n    \n \n    Insert into coincident_composite_index (year, month, cci) values (2019, 1, 100.400000) ;\n    \n \n    Insert into coincident_composite_index (year, month, cci) values (2019, 2, 100.000000) ;\n    \n \n    Insert into coincident_composite_index (year, month, cci) values (2019, 3, 99.900000) ;\n    \n \n    Insert into coincident_composite_index (year, month, cci) values (2019, 4, 99.900000) ;\n    \n \n    Insert into coincident_composite_index (year, month, cci) values (2019, 5, 100.100000) ;\n    \n \n    Insert into coincident_composite_index (year, month, cci) values (2019, 6, 100.100000) ;\n    \n \n    Insert into coincident_composite_index (year, month, cci) values (2019, 7, 100.000000) ;\n    \n \n    Insert into coincident_composite_index (year, month, cci) values (2019, 8, 100.200000) ;\n    \n \n    Insert into coincident_composite_index (year, month, cci) values (2019, 9, 100.200000) ;\n    \n \n    Insert into coincident_composite_index (year, month, cci) values (2019, 10, 100.200000) ;\n    \n \n    Insert into coincident_composite_index (year, month, cci) values (2019, 11, 100.100000) ;\n    \n \n    Insert into coincident_composite_index (year, month, cci) values (2019, 12, 100.500000) ;\n    \n \n    Insert into coincident_composite_index (year, month, cci) values (2020, 1, 100.700000) ;\n    \n \n    Insert into coincident_composite_index (year, month, cci) values (2020, 2, 100.100000) ;\n    \n \n    Insert into coincident_composite_index (year, month, cci) values (2020, 3, 99.000000) ;\n    \n \n    Insert into coincident_composite_index (year, month, cci) values (2020, 4, 97.600000) ;\n    \n \n    Insert into coincident_composite_index (year, month, cci) values (2020, 5, 96.800000) ;\n    \n \n    Insert into coincident_composite_index (year, month, cci) values (2020, 6, 97.000000) ;\n    \n \n    Insert into coincident_composite_index (year, month, cci) values (2020, 7, 97.200000) ;\n    \n \n    Insert into coincident_composite_index (year, month, cci) values (2020, 8, 97.600000) ;\n    \n"
     ]
    }
   ],
   "source": [
    "\"\"\"\n",
    "db table에 저장\n",
    "\"\"\"\n",
    "for i in range(len(cci)):\n",
    "    query = \"\"\" \n",
    "    Insert into coincident_composite_index (year, month, cci) values (%d, %d, %f) ;\n",
    "    \"\"\"\n",
    "    year, month = extract_year_and_month(cci.iloc[i].TIME)\n",
    "    coincident_value = cci.iloc[i].DATA_VALUE\n",
    "\n",
    "    mystring = (query % (int(year), int(month), float(coincident_value)))\n",
    "    print(mystring)\n",
    "    cur.execute(mystring)"
   ]
  },
  {
   "cell_type": "code",
   "execution_count": 75,
   "metadata": {},
   "outputs": [
    {
     "output_type": "execute_result",
     "data": {
      "text/plain": [
       "       0     1   2      3\n",
       "0      1  2008   7  100.9\n",
       "1      2  2008   8  100.8\n",
       "2      3  2008   9  100.8\n",
       "3      4  2008  10  100.5\n",
       "4      5  2008  11   99.7\n",
       "..   ...   ...  ..    ...\n",
       "141  142  2020   4   97.6\n",
       "142  143  2020   5   96.8\n",
       "143  144  2020   6   97.0\n",
       "144  145  2020   7   97.2\n",
       "145  146  2020   8   97.6\n",
       "\n",
       "[146 rows x 4 columns]"
      ],
      "text/html": "<div>\n<style scoped>\n    .dataframe tbody tr th:only-of-type {\n        vertical-align: middle;\n    }\n\n    .dataframe tbody tr th {\n        vertical-align: top;\n    }\n\n    .dataframe thead th {\n        text-align: right;\n    }\n</style>\n<table border=\"1\" class=\"dataframe\">\n  <thead>\n    <tr style=\"text-align: right;\">\n      <th></th>\n      <th>0</th>\n      <th>1</th>\n      <th>2</th>\n      <th>3</th>\n    </tr>\n  </thead>\n  <tbody>\n    <tr>\n      <th>0</th>\n      <td>1</td>\n      <td>2008</td>\n      <td>7</td>\n      <td>100.9</td>\n    </tr>\n    <tr>\n      <th>1</th>\n      <td>2</td>\n      <td>2008</td>\n      <td>8</td>\n      <td>100.8</td>\n    </tr>\n    <tr>\n      <th>2</th>\n      <td>3</td>\n      <td>2008</td>\n      <td>9</td>\n      <td>100.8</td>\n    </tr>\n    <tr>\n      <th>3</th>\n      <td>4</td>\n      <td>2008</td>\n      <td>10</td>\n      <td>100.5</td>\n    </tr>\n    <tr>\n      <th>4</th>\n      <td>5</td>\n      <td>2008</td>\n      <td>11</td>\n      <td>99.7</td>\n    </tr>\n    <tr>\n      <th>...</th>\n      <td>...</td>\n      <td>...</td>\n      <td>...</td>\n      <td>...</td>\n    </tr>\n    <tr>\n      <th>141</th>\n      <td>142</td>\n      <td>2020</td>\n      <td>4</td>\n      <td>97.6</td>\n    </tr>\n    <tr>\n      <th>142</th>\n      <td>143</td>\n      <td>2020</td>\n      <td>5</td>\n      <td>96.8</td>\n    </tr>\n    <tr>\n      <th>143</th>\n      <td>144</td>\n      <td>2020</td>\n      <td>6</td>\n      <td>97.0</td>\n    </tr>\n    <tr>\n      <th>144</th>\n      <td>145</td>\n      <td>2020</td>\n      <td>7</td>\n      <td>97.2</td>\n    </tr>\n    <tr>\n      <th>145</th>\n      <td>146</td>\n      <td>2020</td>\n      <td>8</td>\n      <td>97.6</td>\n    </tr>\n  </tbody>\n</table>\n<p>146 rows × 4 columns</p>\n</div>"
     },
     "metadata": {},
     "execution_count": 75
    }
   ],
   "source": [
    "# 확인\n",
    "query = \"\"\" \n",
    "select * from coincident_composite_index ;\n",
    "\"\"\"\n",
    "cur.execute(query)\n",
    "tmp = pd.DataFrame(list(cur.fetchall()))\n",
    "tmp"
   ]
  },
  {
   "cell_type": "code",
   "execution_count": 76,
   "metadata": {},
   "outputs": [],
   "source": [
    "conn.commit()\n",
    "cur.close()\n",
    "conn.close()"
   ]
  }
 ]
}