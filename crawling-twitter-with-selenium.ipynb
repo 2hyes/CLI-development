{
 "cells": [
  {
   "cell_type": "code",
   "execution_count": 10,
   "metadata": {},
   "outputs": [],
   "source": [
    "import selenium\n",
    "from selenium import webdriver\n",
    "from selenium.webdriver.common.keys import Keys\n",
    "from selenium.webdriver.common.by import By\n",
    "from selenium.webdriver.support.ui import WebDriverWait\n",
    "from selenium.webdriver.support import expected_conditions as EC\n",
    "from selenium.common.exceptions import TimeoutException\n",
    "from bs4 import BeautifulSoup\n",
    "import time\n",
    "import re\n",
    "import pandas as pd\n",
    "import datetime as dt"
   ]
  },
  {
   "cell_type": "markdown",
   "metadata": {},
   "source": [
    "## twitter automatic login\n",
    "- 환경: Windows 10\n",
    "- 목표 환경: Ubuntu (WSL)\n",
    "- 크롤링 코드 참고: https://jhnoru.tistory.com/59"
   ]
  },
  {
   "cell_type": "code",
   "execution_count": 13,
   "metadata": {},
   "outputs": [],
   "source": [
    "\"\"\"\n",
    "driver 가동\n",
    ": web browser는 chrome 사용\n",
    "\"\"\"\n",
    "def init_driver():\n",
    "\n",
    "    options = webdriver.ChromeOptions()\n",
    "    #options.add_argument(\"--headless\") \n",
    "    options.add_argument(\"--no-sandbox\") \n",
    "    options.add_argument(\"--disable-gpu\") \n",
    "    options.add_argument(\"window-size=1920x1080\") \n",
    "    options.add_argument(\"lang=ko_KR\")\n",
    "    options.add_argument(\"user-agent=Chrome/85.0.4183.121\")\n",
    "    \n",
    "    driver = webdriver.Chrome(options=options)\n",
    "    driver.wait = WebDriverWait(driver, 5)\n",
    "    \n",
    "    return driver\n",
    "\n",
    "\n",
    "def close_driver(driver):\n",
    "    \n",
    "    return"
   ]
  },
  {
   "cell_type": "code",
   "execution_count": 14,
   "metadata": {},
   "outputs": [],
   "source": [
    "\"\"\"\n",
    "크롬을 조작해서 트위터에 로그인\n",
    ": 개인 id 및 pw이용\n",
    "\"\"\"\n",
    "def twitter_login(driver, username, password):\n",
    "    driver.get(\"https://twitter.com/login\")\n",
    "    driver.implicitly_wait(3)\n",
    "    driver.maximize_window()\n",
    "    \n",
    "    username_field = driver.find_element_by_name(\"session[username_or_email]\")\n",
    "    password_field = driver.find_element_by_name(\"session[password]\")\n",
    "\n",
    "    username_field.send_keys(username)\n",
    "    driver.implicitly_wait(1)\n",
    "    password_field.send_keys(password)\n",
    "    driver.implicitly_wait(1)\n",
    "\n",
    "    driver.find_element_by_xpath('//*[@id=\"react-root\"]/div/div/div[2]/main/div/div/div[1]/form/div/div[3]/div/div/span/span').submit()\n"
   ]
  },
  {
   "cell_type": "markdown",
   "metadata": {},
   "source": [
    "자동 로그인까지 성공.   \n",
    "검색어 query로 크롤링 시도하고자함."
   ]
  },
  {
   "cell_type": "markdown",
   "metadata": {},
   "source": [
    "### 트위터 크롤링 연습"
   ]
  },
  {
   "cell_type": "code",
   "execution_count": 15,
   "metadata": {},
   "outputs": [],
   "source": [
    "def crawling(driver, start_year, start_month, start_day, until_year, until_month, until_day):\n",
    "    startdate = dt.date(year = start_year,month = start_month, day = start_day)\n",
    "    untildate = dt.date(year = until_year,month = until_month, day = until_day)\n",
    "    \n",
    "    # 검색어: 경제(추후 수정 필요)\n",
    "    TWITTER_URL = \"https://twitter.com/search?q=%EA%B2%BD%EC%A0%9C%20until%3A\" + str(untildate) + \"%20since%3A\"+ str(startdate) +\"%20-filter%3Alinks&src=typed_query\"\n",
    "\n",
    "    driver.maximize_window()\n",
    "    driver.get(TWITTER_URL)\n",
    "    \n",
    "    # 최신 탭 클릭\n",
    "    driver.find_element_by_xpath('/html/body/div/div/div/div[2]/main/div/div/div/div/div/div[1]/div[2]/nav/div/div[2]/div/div[2]/a').click()\n",
    "\n",
    "    print('The scroll is starting to move bottom')\n",
    "\n",
    "    # 페이지 스크롤을 끝날 때까지 계속 내림\n",
    "    last_height = driver.execute_script(\"return document.body.scrollHeight\")\n",
    "    while True:\n",
    "        driver.execute_script(\"window.scrollTo(0, document.body.scrollHeight)\")\n",
    "        time.sleep(1)\n",
    "        new_height = driver.execute_script(\"return document.body.scrollHeight\")\n",
    "        \n",
    "        if new_height == last_height:\n",
    "            # Wait to load page\n",
    "            time.sleep(1)\n",
    "            new_height = driver.execute_script(\"return document.body.scrollHeight\")\n",
    "            \n",
    "            if(new_height == last_height):\n",
    "                break\n",
    "\n",
    "        last_height = new_height\n",
    "    print('Arrived at the end of the page')\n",
    "    print('Start twitter crawling')\n",
    "    soup = BeautifulSoup(driver.page_source, 'html.parser')\n",
    "\n",
    "    # 날짜 저장된 태그: day\n",
    "    day = soup.find_all(\"a\", {\"class\": \"r-1re7ezh r-1loqt21 r-1q142lx r-1qd0xha r-a023e6 r-16dba41 r-ad9z0x r-bcqeeo r-3s2u2q r-qvutc0 css-4rbku5 css-18t94o4 css-901oao\"})\n",
    "    # 트윗 글 저장된 태그: tweets\n",
    "    tweets = soup.find_all(\"div\", {\"class\": \"css-901oao r-hkyrab r-1qd0xha r-a023e6 r-16dba41 r-ad9z0x r-bcqeeo r-bnwqim r-qvutc0\"})\n",
    "    return day, tweets"
   ]
  },
  {
   "cell_type": "code",
   "execution_count": 18,
   "metadata": {
    "tags": []
   },
   "outputs": [
    {
     "output_type": "stream",
     "name": "stdout",
     "text": "The scroll is starting to move bottom\nArrived at the end of the page\nStart twitter crawling\n"
    }
   ],
   "source": [
    "driver = init_driver()\n",
    "twitter_login(driver, 'twitter_user_id', 'twitter_user_password')\n",
    "\n",
    "day, tweets = crawling(driver, 2020, 9, 29, 2020, 9, 30)\n",
    "driver.quit()"
   ]
  },
  {
   "cell_type": "markdown",
   "metadata": {},
   "source": [
    "ISSUE    \n",
    "- 기술적 이슈: 전체 글이 긁어와지지않음. 더 분석해봐야할듯!    \n",
    "스크롤을 다 내려도, 해당 태그에 대한 검색이 한번에 되질 않음. \n",
    "- 키워드 조정"
   ]
  },
  {
   "cell_type": "code",
   "execution_count": 20,
   "metadata": {
    "tags": []
   },
   "outputs": [
    {
     "output_type": "stream",
     "name": "stdout",
     "text": "9월 29일\n9월 29일\n9월 29일\n9월 29일\n9월 29일\n9월 29일\n9월 29일\n9월 29일\n9월 29일\n9월 29일\n9월 29일\n9월 29일\n9월 29일\n9월 29일\n9월 29일\n"
    }
   ],
   "source": [
    "# 날짜 저장된 태그\n",
    "for d in day:\n",
    "    print(d.get_text())"
   ]
  },
  {
   "cell_type": "code",
   "execution_count": 22,
   "metadata": {
    "tags": []
   },
   "outputs": [
    {
     "output_type": "stream",
     "name": "stdout",
     "text": "기업인과 유명 인사 등 고소득층이 미국 50개 주 가운데 경제 규모 1위인 캘리포니아를 떠나고 있음. 주의회가 최근 최고 세율 인상을 추진하고 있는 데다 다른 주에 비해 높은 법인세와 촘촘한 규제에 고소득층이 등을 돌린 것임. 캘리포니아주 소득세 최고세율은 13.3%에 달함. #매세지200929\n\n한국정치 사회 경제\n재미없고 메이저리그\n유현진 김광현 최지만\n모두 퍼스트시즌 진출\n했는데 유현진 최 지만 선후배가 맞붙는 다네\n요 운명의 작난인가 누굴응원해 김광현팀 은 퍼스트진출했다면\n우승가능성이 많고 유럽축구 손홍민은 하 늘높은줄 모르고 날고 고 황희찬이도 파닥거 리고있다\n\n아메리카노 4잔 \n카페라떼 4잔(이미마심)\n몬스터1캔으로 \n어젯저녁 다섯시부터 오늘 밤 12시까지 버틸계획인데 아무래도 밤샘 경제적 손실이 너무 큼\n\nⓑ 계획경제체제(정부명령에의한 경제운용)\nⓑ-2. 생산수단의 국유화, 정부관료에의한 결정, 통제에 의한 자원배분\n한계: 경제적 유인의 부족으로 창의성과 활력 낮음, 잘못된 계획경제로 경제발전 저해\n\n국민들 스스로 본인들 안전 지키는걸 가장 먼저 내세워야하는것을 ..\n정부가 시진핑 방한 노리고 중국 눈치보고 경제와 국민안전 저울질 하던걸 나서서 쉴드치던 꼴이 뭐랄까....\n\n기억났다 그냥 개뻘소리로 경제때 님 반인줄 알고 낙서한 거 몰래 껴놓으려고 님 책상 찾았다는 말이었음\n\n[속보] 코로나19 어제 확진자 38명…국내 발생 23명\n\n다들 고셉 추리하고 있을때 난 상업경제 공부를 하지...\n\n저는 진짜 얀님이 제가 트위터를 접게되는 미지의 그날 전에 꼭 경제적 자유를 쟁취하게 되길 바랍니다. 그럴 자격이 있어요. 응원합니다. 우리모두 다같이 잘먹고 잘살아보세!\n\nㅇㄴ 뭔가 경제 전문이실 것 같은데요ㅋㅋㅋㅋㅋㅋㅋㅋ\n\n또한 신자유주의와 경제 위기의 가장 큰 희생자인 청년 세대, 무엇보다도 금융수탈 체제와 불안정 노동사회의 문제점에 대해 이미 자각했으나 정치적 집결지를 아직 찾지 못한 1000만 비정규불안정노동자들이야말로 좌파당의 진정한 출발점이다.\n\n박 대통령 “경제 살릴 수 있는 기회 국회에 묶여”\n\n[맛있는 경제] 우엉잡채\n\n생전연락 없던 애가 연락해서 한다는 말이 엄마 치료해달란거였음 따로 나가서 살고 있었단거고 돈이 없다는 말은 박회장쪽에서 경제적 지원 같은 것도 없었던 것 같은데 그럼 엄마랑 정말 각별한 사이 아니였을까 ? 분명 엄마랑 따로 연락을 계속 하고 있었을텐데 만약 죽었다면 그걸 몰랐을리가 없음\n\nㅋㅋㅋ정치 얘기하면 빨갱이 소리하는 울 앱도 방역 경제 좆망했다는 소리 안하는데 저 웜충색기 포함해서 워마드에서는 뭔 소리를 하는 거야 아니 ㅋㅋㅋㅋ주변에 사람 없나?\n\n"
    }
   ],
   "source": [
    "# 날짜 저장된 태그\n",
    "for t in tweets:\n",
    "    print(t.get_text())\n",
    "    print()"
   ]
  }
 ],
 "metadata": {
  "kernelspec": {
   "name": "Python 3.8.5 64-bit",
   "display_name": "Python 3.8.5 64-bit",
   "metadata": {
    "interpreter": {
     "hash": "bedcc662f9a039a32db907ceb9f5c533a6e6233c8656c177c8c508a47fdfb6cf"
    }
   }
  },
  "language_info": {
   "codemirror_mode": {
    "name": "ipython",
    "version": 3
   },
   "file_extension": ".py",
   "mimetype": "text/x-python",
   "name": "python",
   "nbconvert_exporter": "python",
   "pygments_lexer": "ipython3",
   "version": "3.8.5-final"
  }
 },
 "nbformat": 4,
 "nbformat_minor": 2
}