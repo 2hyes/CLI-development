{
 "metadata": {
  "language_info": {
   "codemirror_mode": {
    "name": "ipython",
    "version": 3
   },
   "file_extension": ".py",
   "mimetype": "text/x-python",
   "name": "python",
   "nbconvert_exporter": "python",
   "pygments_lexer": "ipython3",
   "version": "3.8.5-final"
  },
  "orig_nbformat": 2,
  "kernelspec": {
   "name": "Python 3.8.5 64-bit ('securityml': conda)",
   "display_name": "Python 3.8.5 64-bit ('securityml': conda)",
   "metadata": {
    "interpreter": {
     "hash": "bedcc662f9a039a32db907ceb9f5c533a6e6233c8656c177c8c508a47fdfb6cf"
    }
   }
  }
 },
 "nbformat": 4,
 "nbformat_minor": 2,
 "cells": [
  {
   "cell_type": "code",
   "execution_count": 1,
   "metadata": {},
   "outputs": [],
   "source": [
    "import selenium\n",
    "from selenium import webdriver\n",
    "from selenium.webdriver.common.keys import Keys\n",
    "from selenium.webdriver.common.by import By\n",
    "from selenium.webdriver.support.ui import WebDriverWait\n",
    "from selenium.webdriver.support import expected_conditions as EC\n",
    "from selenium.common.exceptions import TimeoutException\n",
    "from bs4 import BeautifulSoup as bs\n",
    "import time"
   ]
  },
  {
   "source": [
    "## twitter automatic login\n",
    "참고: https://jhnoru.tistory.com/59"
   ],
   "cell_type": "markdown",
   "metadata": {}
  },
  {
   "cell_type": "code",
   "execution_count": 3,
   "metadata": {},
   "outputs": [],
   "source": [
    "\"\"\"\n",
    "driver 가동\n",
    ": web browser는 chrome 사용\n",
    "\"\"\"\n",
    "def init_driver():\n",
    "    driver = webdriver.Chrome()\n",
    "    driver.wait = WebDriverWait(driver, 5)\n",
    "    \n",
    "    return driver\n",
    "\n",
    "\n",
    "def close_driver(driver):\n",
    "    \n",
    "    return"
   ]
  },
  {
   "cell_type": "code",
   "execution_count": 4,
   "metadata": {},
   "outputs": [],
   "source": [
    "\"\"\"\n",
    "크롬을 조작해서 트위터에 로그인\n",
    ": 개인 id 및 pw이용\n",
    "\"\"\"\n",
    "def twitter_login(driver, username, password):\n",
    "    driver.get(\"https://twitter.com/login\")\n",
    "    driver.implicitly_wait(3)\n",
    "    driver.maximize_window()\n",
    "    \n",
    "    username_field = driver.find_element_by_name(\"session[username_or_email]\")\n",
    "    password_field = driver.find_element_by_name(\"session[password]\")\n",
    "\n",
    "    username_field.send_keys(username)\n",
    "    driver.implicitly_wait(1)\n",
    "    password_field.send_keys(password)\n",
    "    driver.implicitly_wait(1)\n",
    "\n",
    "    driver.find_element_by_xpath('//*[@id=\"react-root\"]/div/div/div[2]/main/div/div/div[1]/form/div/div[3]/div/div/span/span').submit()\n"
   ]
  },
  {
   "cell_type": "code",
   "execution_count": 5,
   "metadata": {},
   "outputs": [],
   "source": [
    "#driver = webdriver.Chrome('C:/chromedriver_win32/chromedriver')\n",
    "driver = init_driver()\n",
    "twitter_login(driver, 'twitter_user_id', 'twitter_user_pw')\n",
    "driver.close()"
   ]
  },
  {
   "source": [
    "자동 로그인까지 성공.\\\n",
    "검색어 query로 크롤링 시도하고자함."
   ],
   "cell_type": "markdown",
   "metadata": {}
  },
  {
   "cell_type": "code",
   "execution_count": null,
   "metadata": {},
   "outputs": [],
   "source": []
  }
 ]
}